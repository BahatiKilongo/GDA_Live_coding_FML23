{
  "nbformat": 4,
  "nbformat_minor": 0,
  "metadata": {
    "colab": {
      "provenance": []
    },
    "kernelspec": {
      "name": "python3",
      "display_name": "Python 3"
    },
    "language_info": {
      "name": "python"
    }
  },
  "cells": [
    {
      "cell_type": "markdown",
      "source": [
        "# GDA Implementation.\n",
        "\n",
        "Implement the Gaussian Discriminant Analysis (GDA) learning algorithm following the steps as discussed in class.\n",
        "\n",
        "INSTRUCTION: Rename your notebook as: <br>\n",
        "`firstName_LastName_Live_coding_GDA.ipynb`.\n",
        "\n",
        "Notes: \n",
        "* Do not use any built-in functions to complete a task;\n",
        "* Do not import additional libraries."
      ],
      "metadata": {
        "id": "g17Z46tmw2oZ"
      }
    },
    {
      "cell_type": "code",
      "source": [
        "from google.colab import drive\n",
        "drive.mount('/content/drive')"
      ],
      "metadata": {
        "colab": {
          "base_uri": "https://localhost:8080/"
        },
        "id": "tziviWQ_g6Gp",
        "outputId": "5c87d8aa-9578-42ce-8344-c1c785828bff"
      },
      "execution_count": 114,
      "outputs": [
        {
          "output_type": "stream",
          "name": "stdout",
          "text": [
            "Drive already mounted at /content/drive; to attempt to forcibly remount, call drive.mount(\"/content/drive\", force_remount=True).\n"
          ]
        }
      ]
    },
    {
      "cell_type": "code",
      "execution_count": 115,
      "metadata": {
        "id": "aT5nlL-QTKwv"
      },
      "outputs": [],
      "source": [
        "import numpy as np\n",
        "import matplotlib.pyplot as plt\n",
        "from sklearn.datasets import make_classification"
      ]
    },
    {
      "cell_type": "code",
      "source": [
        "# Generate data\n",
        "def generate_data():\n",
        "  x, y = make_classification(n_samples= 1000, n_features=3, n_redundant=0, \n",
        "                           n_informative=3, random_state=1, \n",
        "                           n_clusters_per_class=1)\n",
        "  \n",
        "  return x,y\n",
        "\n",
        "x,y= generate_data() # get data\n",
        "print(x.shape, y.shape)"
      ],
      "metadata": {
        "colab": {
          "base_uri": "https://localhost:8080/"
        },
        "id": "_-lL4Yq9Tbzn",
        "outputId": "7c08009a-cb2e-4170-c233-53dd8ec14595"
      },
      "execution_count": 116,
      "outputs": [
        {
          "output_type": "stream",
          "name": "stdout",
          "text": [
            "(1000, 3) (1000,)\n"
          ]
        }
      ]
    },
    {
      "cell_type": "code",
      "source": [
        "def split_data(x,y, train_size= 0.8):\n",
        "    # shuffle the data to randomize the train/test split\n",
        "    N = x.shape[0]\n",
        "    idx= np.random.permutation(N)\n",
        "    x=x[idx]\n",
        "    y=y[idx]\n",
        "    x_train, y_train = x[:int(train_size*N)],y[:int(train_size*N)]\n",
        "    x_test, y_test = x[int(train_size*N):],y[int(train_size*N):]\n",
        "    return x_train, y_train, x_test, y_test\n"
      ],
      "metadata": {
        "id": "EUgiWLDhUAAK"
      },
      "execution_count": 117,
      "outputs": []
    },
    {
      "cell_type": "code",
      "source": [
        "X_train, y_train, X_test, y_test= split_data(x,y) # split your data into x_train, x_test, y_train, y_test\n",
        "print(X_train.shape, y_train.shape, X_test.shape, y_test.shape)"
      ],
      "metadata": {
        "colab": {
          "base_uri": "https://localhost:8080/"
        },
        "id": "Cr2Akm_A_FcJ",
        "outputId": "81b7f631-7545-4b7c-fa27-2cbd3c07aec3"
      },
      "execution_count": 118,
      "outputs": [
        {
          "output_type": "stream",
          "name": "stdout",
          "text": [
            "(800, 3) (800,) (200, 3) (200,)\n"
          ]
        }
      ]
    },
    {
      "cell_type": "code",
      "source": [
        "def covariance(x, mu):\n",
        "\n",
        "  # Easy way: cov= np.cov(x, rowvar=0) but do not use it. One can use it to assess his/her result.\n",
        "  cov_matrix = np.zeros((x.shape[1],x.shape[1]))\n",
        "  for i in range(x.shape[1]):\n",
        "    for j in range(x.shape[1]):\n",
        "      #for d in x:\n",
        "      cov_matrix[i,j]=np.sum((x[:,i]-mu[i])*(x[:,j]-mu[j]))/(x.shape[0]-1)\n",
        "  return cov_matrix      \n",
        "\n"
      ],
      "metadata": {
        "id": "FrJ7GfXBHNxD"
      },
      "execution_count": 119,
      "outputs": []
    },
    {
      "cell_type": "code",
      "source": [
        "np.cov(x,rowvar=0)"
      ],
      "metadata": {
        "colab": {
          "base_uri": "https://localhost:8080/"
        },
        "id": "H5kUbL_z0O_m",
        "outputId": "e80e3c46-28cf-47ab-be99-d12154c99eb6"
      },
      "execution_count": 120,
      "outputs": [
        {
          "output_type": "execute_result",
          "data": {
            "text/plain": [
              "array([[1.84495325, 0.02790646, 1.00137533],\n",
              "       [0.02790646, 1.00170721, 0.05539176],\n",
              "       [1.00137533, 0.05539176, 1.74832   ]])"
            ]
          },
          "metadata": {},
          "execution_count": 120
        }
      ]
    },
    {
      "cell_type": "code",
      "source": [
        "covariance(x, x.mean(0))"
      ],
      "metadata": {
        "colab": {
          "base_uri": "https://localhost:8080/"
        },
        "id": "I6C9ilutOB-U",
        "outputId": "acf0789b-f7fc-4aae-ffef-6d4bec8aa83b"
      },
      "execution_count": 121,
      "outputs": [
        {
          "output_type": "execute_result",
          "data": {
            "text/plain": [
              "array([[1.84495325, 0.02790646, 1.00137533],\n",
              "       [0.02790646, 1.00170721, 0.05539176],\n",
              "       [1.00137533, 0.05539176, 1.74832   ]])"
            ]
          },
          "metadata": {},
          "execution_count": 121
        }
      ]
    },
    {
      "cell_type": "code",
      "source": [
        "a= np.array([[1,3,8],[1,8,8]])\n",
        "i,j=enumerate(a)\n",
        "i\n"
      ],
      "metadata": {
        "colab": {
          "base_uri": "https://localhost:8080/"
        },
        "id": "NUHjoGTKr5xI",
        "outputId": "15ed4d8e-9bb4-402a-e555-19b2e1f19772"
      },
      "execution_count": 122,
      "outputs": [
        {
          "output_type": "execute_result",
          "data": {
            "text/plain": [
              "(0, array([1, 3, 8]))"
            ]
          },
          "metadata": {},
          "execution_count": 122
        }
      ]
    },
    {
      "cell_type": "code",
      "source": [
        "class GDA:\n",
        "  def __init__(self):\n",
        "    ## set mu, phi and sigma to None\n",
        "    self.mu = None\n",
        "    self.phi = None\n",
        "    self.sigma = None\n",
        "    \n",
        "  def fit(self,x,y):\n",
        "    k=len(np.unique(y)) # Number of class.\n",
        "    d=x.shape[1]  # Input dim\n",
        "    m= x.shape[0] # Number of examples.\n",
        "    \n",
        "    ## Initialize mu, phi and sigma\n",
        "    self.mu= np.zeros((k,d))  #: kxd, i.e., each row contains an individual class mu.\n",
        "    self.sigma= np.zeros((k,d,d))#: kxdxd, i.e., each row contains an individual class sigma.\n",
        "    self.phi= np.zeros(k) # k-dimension\n",
        "\n",
        "    ## START THE LEARNING: estimate mu, phi and sigma.\n",
        "\n",
        "    for cl in range(k):\n",
        "      self.phi[cl] = (np.sum(cl==y))/m\n",
        "      self.mu[cl] = np.mean(x[(cl==y)],axis=0)\n",
        "      self.sigma[cl] = covariance(x[(cl==y)], self.mu[cl])\n",
        "\n",
        "\n",
        "\n",
        "  def predict_proba(self,x):\n",
        "    # reshape or flatt x.\n",
        "    #x= x.reshape(x.shape[0],-1)\n",
        "    d= x.shape[1]\n",
        "    k_class= self.mu.shape[0] # Number of classes we have in our case it's k = 2\n",
        "    \n",
        "    ## START THE LEARNING: estimate mu, phi and sigma.\n",
        " \n",
        "    scores = np.zeros((x.shape[0],k_class))\n",
        "    for cl in range(k_class):\n",
        "      detsigma = np.linalg.det(self.sigma[cl])\n",
        "      invsigma = np.linalg.inv(self.sigma[cl])\n",
        "      for i in range(x.shape[0]):\n",
        "        C=1/(((2*np.pi)**(d/2))*(detsigma**0.5))\n",
        "        E = np.exp(-0.5*(x[i]-self.mu[cl]).T@invsigma@(x[i]-self.mu[cl]))\n",
        "        Q=self.phi[cl]\n",
        "        #B= Q**cl*(1-Q)**cl\n",
        "        scores[i,cl] = C*E*Q\n",
        "        #scores[i,cl] = (1/((2*np.pi)**d/2*(detsigma**1/2)))*np.exp((x[i]-self.mu[cl])@invsigma@(x[i]-self.mu[cl]))*self.phi[cl]\n",
        "    return scores\n",
        "\n",
        "\n",
        "  def predict(self,x):\n",
        "   proba =self.predict_proba(x)\n",
        "   y_pred =np.argmax(proba, axis=1)\n",
        "   return y_pred\n",
        "  \n",
        "  def accuracy(self, y, ypreds):\n",
        "    return np.mean(y==ypreds)*100\n",
        "    "
      ],
      "metadata": {
        "id": "1ocKLDAfceF0"
      },
      "execution_count": 133,
      "outputs": []
    },
    {
      "cell_type": "code",
      "source": [
        "model= GDA()\n",
        "model.fit(X_train,y_train)\n",
        "model.phi"
      ],
      "metadata": {
        "id": "l_qO0Yp1c3Is",
        "colab": {
          "base_uri": "https://localhost:8080/"
        },
        "outputId": "ee17097c-55e4-46d6-fc2f-9bced2a01a93"
      },
      "execution_count": 134,
      "outputs": [
        {
          "output_type": "execute_result",
          "data": {
            "text/plain": [
              "array([0.50125, 0.49875])"
            ]
          },
          "metadata": {},
          "execution_count": 134
        }
      ]
    },
    {
      "cell_type": "code",
      "source": [
        "yproba= model.predict_proba(X_test)\n",
        "yproba"
      ],
      "metadata": {
        "id": "NKY1eojY1l4e",
        "colab": {
          "base_uri": "https://localhost:8080/"
        },
        "outputId": "3f23c53e-1003-45cd-eb3f-501237be148e"
      },
      "execution_count": 135,
      "outputs": [
        {
          "output_type": "execute_result",
          "data": {
            "text/plain": [
              "array([[1.38115050e-001, 7.41690431e-005],\n",
              "       [1.71301760e-161, 4.01241864e-003],\n",
              "       [4.40657205e-002, 3.25208277e-006],\n",
              "       [3.37689221e-058, 3.81808117e-002],\n",
              "       [8.95686269e-002, 5.91308075e-008],\n",
              "       [1.12195883e-001, 3.80383165e-004],\n",
              "       [2.20968955e-077, 3.77336570e-002],\n",
              "       [7.23705879e-007, 1.93678629e-002],\n",
              "       [1.65099157e-012, 2.81056211e-002],\n",
              "       [3.59273450e-071, 1.36452173e-002],\n",
              "       [4.43673516e-048, 1.99382452e-002],\n",
              "       [1.04517317e-001, 9.13765826e-006],\n",
              "       [6.16159142e-002, 4.66789011e-004],\n",
              "       [2.24695850e-033, 2.70488829e-002],\n",
              "       [6.33040801e-002, 6.15694806e-004],\n",
              "       [2.16745671e-002, 8.03950490e-005],\n",
              "       [2.28941999e-002, 3.76731394e-009],\n",
              "       [6.04120123e-043, 3.14988501e-003],\n",
              "       [6.88520182e-003, 9.79432359e-003],\n",
              "       [1.54479867e-008, 2.86377852e-002],\n",
              "       [1.35525710e-024, 8.74460301e-003],\n",
              "       [1.44848206e-021, 1.07562715e-002],\n",
              "       [7.31293917e-002, 3.86017437e-010],\n",
              "       [9.76907586e-002, 7.68958036e-004],\n",
              "       [1.40133569e-020, 3.07976088e-002],\n",
              "       [5.53974763e-003, 4.86764282e-007],\n",
              "       [9.52603983e-014, 2.74085838e-002],\n",
              "       [2.54947963e-003, 1.89145363e-014],\n",
              "       [4.08208456e-002, 1.20916450e-004],\n",
              "       [2.80127534e-002, 1.28221305e-013],\n",
              "       [6.33259040e-002, 1.06767309e-002],\n",
              "       [1.40161123e-001, 1.36010149e-003],\n",
              "       [9.33322306e-002, 1.45520759e-004],\n",
              "       [3.76494668e-002, 2.31236628e-010],\n",
              "       [2.00480272e-015, 2.76299369e-002],\n",
              "       [3.92073011e-002, 1.82768813e-003],\n",
              "       [1.36489634e-001, 5.86485707e-006],\n",
              "       [1.26663307e-001, 4.09020636e-003],\n",
              "       [4.44912435e-002, 2.91117540e-003],\n",
              "       [5.13141766e-016, 1.47489666e-002],\n",
              "       [1.15075889e-003, 2.05616873e-004],\n",
              "       [4.08776632e-002, 8.62297736e-015],\n",
              "       [5.52124401e-009, 6.19035885e-004],\n",
              "       [2.88157529e-004, 2.03749228e-005],\n",
              "       [2.06612459e-032, 3.85770785e-002],\n",
              "       [1.32123968e-003, 9.88543218e-003],\n",
              "       [7.19811095e-023, 5.45322543e-002],\n",
              "       [2.56318032e-006, 9.53795729e-004],\n",
              "       [3.25913817e-022, 3.37160173e-002],\n",
              "       [5.92297342e-003, 1.65340748e-005],\n",
              "       [1.65524306e-041, 1.92829374e-002],\n",
              "       [1.04674657e-020, 5.36081617e-002],\n",
              "       [1.96014207e-002, 1.26843394e-004],\n",
              "       [1.48028495e-121, 6.39495777e-003],\n",
              "       [3.47048996e-031, 3.83922205e-002],\n",
              "       [9.28533470e-002, 2.44713184e-006],\n",
              "       [1.67034529e-002, 1.06355659e-012],\n",
              "       [3.36600653e-002, 4.38832142e-007],\n",
              "       [3.75141666e-002, 6.60929102e-004],\n",
              "       [7.03045871e-036, 6.05699211e-002],\n",
              "       [7.53682630e-002, 9.60696941e-004],\n",
              "       [2.09774079e-002, 1.22324424e-005],\n",
              "       [1.45027400e-018, 2.78100776e-002],\n",
              "       [5.41535029e-101, 1.59590136e-002],\n",
              "       [2.14169131e-073, 2.37285547e-002],\n",
              "       [5.95158692e-008, 3.68711705e-002],\n",
              "       [1.47062669e-024, 4.87085354e-002],\n",
              "       [1.36838874e-133, 9.98927250e-003],\n",
              "       [2.52047874e-004, 4.59296482e-003],\n",
              "       [6.67096890e-002, 8.45041884e-010],\n",
              "       [4.22686281e-077, 1.40665199e-002],\n",
              "       [4.82115950e-002, 2.91522150e-004],\n",
              "       [1.35660013e-001, 1.67979709e-004],\n",
              "       [8.02281021e-082, 2.61409608e-002],\n",
              "       [4.48663422e-002, 2.51873417e-013],\n",
              "       [5.48904789e-002, 2.01939884e-003],\n",
              "       [2.46561854e-014, 3.08101233e-002],\n",
              "       [3.54174944e-002, 1.26064184e-013],\n",
              "       [5.91629434e-003, 1.06936948e-014],\n",
              "       [4.27030349e-095, 2.23529411e-002],\n",
              "       [8.06268668e-002, 1.15983709e-003],\n",
              "       [6.10402063e-002, 1.21509325e-004],\n",
              "       [3.83660187e-036, 1.32293065e-002],\n",
              "       [1.06585074e-015, 4.67738084e-002],\n",
              "       [1.22253908e-001, 5.05468793e-003],\n",
              "       [8.99821831e-015, 1.39740656e-003],\n",
              "       [6.46276936e-028, 4.80735034e-002],\n",
              "       [1.95337796e-027, 5.29684345e-002],\n",
              "       [1.00356978e-001, 2.21697373e-003],\n",
              "       [9.62958659e-002, 1.56679411e-003],\n",
              "       [8.23866134e-002, 7.70092664e-004],\n",
              "       [2.62446786e-056, 5.34906420e-002],\n",
              "       [2.32355348e-093, 2.17888451e-002],\n",
              "       [1.92156120e-028, 1.60935617e-002],\n",
              "       [2.65541728e-002, 2.47290856e-004],\n",
              "       [3.91953383e-015, 3.46418938e-002],\n",
              "       [3.88133870e-008, 2.06928377e-002],\n",
              "       [8.79915918e-003, 6.36716001e-007],\n",
              "       [2.35313464e-084, 1.50031881e-002],\n",
              "       [1.91085932e-060, 3.55795975e-002],\n",
              "       [2.53802889e-136, 6.66801422e-003],\n",
              "       [5.37625482e-035, 5.56767288e-002],\n",
              "       [2.69121254e-002, 2.86818391e-016],\n",
              "       [3.27851078e-024, 3.76701477e-002],\n",
              "       [6.83454985e-002, 1.63669518e-004],\n",
              "       [2.04324491e-020, 9.99844298e-003],\n",
              "       [6.75232188e-002, 1.27245973e-006],\n",
              "       [1.27482419e-001, 5.96316897e-006],\n",
              "       [3.85865623e-123, 9.86270372e-003],\n",
              "       [7.23987570e-037, 3.71950522e-002],\n",
              "       [6.13642315e-098, 3.52681959e-003],\n",
              "       [2.47074726e-002, 1.35711895e-002],\n",
              "       [6.52571139e-056, 2.24735366e-002],\n",
              "       [2.63016044e-002, 8.53980549e-010],\n",
              "       [1.28843034e-001, 3.98359457e-003],\n",
              "       [1.42282470e-001, 9.19706780e-005],\n",
              "       [7.90281505e-002, 4.21920145e-004],\n",
              "       [1.35029987e-018, 1.18425069e-002],\n",
              "       [6.03766749e-002, 4.48261810e-008],\n",
              "       [5.83368232e-002, 1.07643360e-004],\n",
              "       [1.98275748e-017, 5.20725586e-002],\n",
              "       [8.83520510e-002, 1.77308485e-005],\n",
              "       [4.26942918e-036, 2.54402293e-002],\n",
              "       [3.45581347e-002, 2.51202348e-005],\n",
              "       [1.85867364e-113, 1.67152251e-002],\n",
              "       [7.03218154e-037, 4.06259846e-002],\n",
              "       [1.57817309e-026, 4.96869755e-002],\n",
              "       [6.45292417e-002, 8.07477586e-007],\n",
              "       [1.69881053e-009, 1.62346393e-002],\n",
              "       [3.81816506e-003, 2.21258388e-004],\n",
              "       [6.73373670e-039, 5.94215361e-002],\n",
              "       [1.48888719e-043, 2.29119083e-002],\n",
              "       [1.38902514e-048, 4.93786005e-002],\n",
              "       [1.77384035e-011, 2.34389848e-003],\n",
              "       [5.26373067e-049, 5.91788981e-003],\n",
              "       [1.16754748e-001, 2.41156103e-004],\n",
              "       [2.34553192e-002, 3.84988315e-005],\n",
              "       [6.13956149e-017, 3.66778433e-002],\n",
              "       [7.77276611e-002, 7.16881082e-008],\n",
              "       [3.47436356e-040, 3.93238538e-002],\n",
              "       [7.68843131e-003, 7.92656545e-003],\n",
              "       [8.85052769e-002, 3.63867632e-006],\n",
              "       [4.10435088e-002, 5.37528026e-005],\n",
              "       [1.88836376e-015, 5.11332703e-002],\n",
              "       [4.53952205e-002, 2.17142293e-004],\n",
              "       [2.55534322e-035, 1.13590877e-002],\n",
              "       [9.40924438e-079, 2.55657926e-002],\n",
              "       [2.07325936e-230, 7.50732151e-004],\n",
              "       [7.56860217e-108, 1.14583205e-002],\n",
              "       [2.99812098e-002, 3.85825542e-008],\n",
              "       [3.08159731e-002, 1.08836525e-004],\n",
              "       [2.92223663e-113, 1.25070681e-002],\n",
              "       [1.09515528e-002, 9.01553089e-006],\n",
              "       [4.41573780e-027, 2.03674724e-002],\n",
              "       [3.18178023e-005, 3.39156585e-003],\n",
              "       [8.45220074e-006, 3.17482700e-002],\n",
              "       [8.77228067e-003, 2.18915069e-002],\n",
              "       [5.98077673e-003, 1.42483473e-003],\n",
              "       [2.18495196e-003, 2.35264503e-005],\n",
              "       [1.28196098e-006, 1.25282764e-002],\n",
              "       [2.40553847e-002, 2.64726758e-006],\n",
              "       [5.86415678e-002, 8.90819181e-007],\n",
              "       [5.31356161e-047, 2.65486521e-002],\n",
              "       [3.41768232e-005, 4.33295180e-003],\n",
              "       [1.80792381e-013, 4.00159727e-002],\n",
              "       [4.32190002e-002, 8.70487732e-003],\n",
              "       [4.96833812e-094, 5.13159455e-003],\n",
              "       [2.53182095e-017, 1.15494211e-002],\n",
              "       [9.61727700e-002, 4.72848436e-003],\n",
              "       [5.25212501e-002, 1.23216518e-008],\n",
              "       [1.60530068e-002, 1.07712476e-006],\n",
              "       [8.27440627e-013, 3.35764193e-003],\n",
              "       [9.08053446e-002, 5.77200717e-003],\n",
              "       [1.29270301e-002, 1.37874898e-008],\n",
              "       [3.75394013e-020, 4.08305956e-002],\n",
              "       [6.21085455e-002, 7.60050842e-004],\n",
              "       [1.18269546e-001, 3.66609447e-003],\n",
              "       [8.98485356e-003, 7.52221740e-020],\n",
              "       [1.45996374e-189, 1.89666632e-003],\n",
              "       [6.50507799e-011, 5.89778663e-004],\n",
              "       [2.80767216e-065, 7.32043062e-003],\n",
              "       [3.13899758e-002, 1.34698497e-006],\n",
              "       [1.22377134e-001, 3.81800685e-003],\n",
              "       [9.36085724e-002, 3.99520422e-004],\n",
              "       [9.88944977e-002, 1.71653628e-005],\n",
              "       [1.08792646e-002, 1.22560935e-002],\n",
              "       [1.08919273e-070, 3.34413290e-002],\n",
              "       [1.37601698e-002, 2.29662794e-003],\n",
              "       [8.20675548e-002, 2.31788962e-006],\n",
              "       [1.21654369e-093, 1.11179366e-002],\n",
              "       [4.12175611e-131, 1.31383448e-002],\n",
              "       [1.55777054e-038, 3.86912921e-002],\n",
              "       [1.23126125e-001, 5.24936471e-006],\n",
              "       [5.84118167e-009, 1.21398943e-002],\n",
              "       [5.95891980e-084, 3.02042836e-002],\n",
              "       [1.24093826e-002, 6.21553471e-004],\n",
              "       [8.32291271e-021, 5.55463857e-002],\n",
              "       [4.30846710e-006, 7.62206442e-003],\n",
              "       [2.14087509e-003, 1.62433826e-002],\n",
              "       [5.49784569e-002, 3.90834347e-003]])"
            ]
          },
          "metadata": {},
          "execution_count": 135
        }
      ]
    },
    {
      "cell_type": "code",
      "source": [
        "ypreds= model.predict(X_test)\n",
        "ypreds\n"
      ],
      "metadata": {
        "id": "D4clV6PK1UJK",
        "colab": {
          "base_uri": "https://localhost:8080/"
        },
        "outputId": "d2cb3bc6-1497-4f4c-a7dd-bf0135d3c0e1"
      },
      "execution_count": 136,
      "outputs": [
        {
          "output_type": "execute_result",
          "data": {
            "text/plain": [
              "array([0, 1, 0, 1, 0, 0, 1, 1, 1, 1, 1, 0, 0, 1, 0, 0, 0, 1, 1, 1, 1, 1,\n",
              "       0, 0, 1, 0, 1, 0, 0, 0, 0, 0, 0, 0, 1, 0, 0, 0, 0, 1, 0, 0, 1, 0,\n",
              "       1, 1, 1, 1, 1, 0, 1, 1, 0, 1, 1, 0, 0, 0, 0, 1, 0, 0, 1, 1, 1, 1,\n",
              "       1, 1, 1, 0, 1, 0, 0, 1, 0, 0, 1, 0, 0, 1, 0, 0, 1, 1, 0, 1, 1, 1,\n",
              "       0, 0, 0, 1, 1, 1, 0, 1, 1, 0, 1, 1, 1, 1, 0, 1, 0, 1, 0, 0, 1, 1,\n",
              "       1, 0, 1, 0, 0, 0, 0, 1, 0, 0, 1, 0, 1, 0, 1, 1, 1, 0, 1, 0, 1, 1,\n",
              "       1, 1, 1, 0, 0, 1, 0, 1, 1, 0, 0, 1, 0, 1, 1, 1, 1, 0, 0, 1, 0, 1,\n",
              "       1, 1, 1, 0, 0, 1, 0, 0, 1, 1, 1, 0, 1, 1, 0, 0, 0, 1, 0, 0, 1, 0,\n",
              "       0, 0, 1, 1, 1, 0, 0, 0, 0, 1, 1, 0, 0, 1, 1, 1, 0, 1, 1, 0, 1, 1,\n",
              "       1, 0])"
            ]
          },
          "metadata": {},
          "execution_count": 136
        }
      ]
    },
    {
      "cell_type": "code",
      "source": [
        "model.accuracy(y_test, ypreds)"
      ],
      "metadata": {
        "id": "QgG1xPUg1ULw",
        "colab": {
          "base_uri": "https://localhost:8080/"
        },
        "outputId": "15ac410d-d0e2-44f1-83af-dfbb103433eb"
      },
      "execution_count": 137,
      "outputs": [
        {
          "output_type": "execute_result",
          "data": {
            "text/plain": [
              "97.0"
            ]
          },
          "metadata": {},
          "execution_count": 137
        }
      ]
    },
    {
      "cell_type": "code",
      "source": [],
      "metadata": {
        "id": "OpXYY-yj1UOj"
      },
      "execution_count": 127,
      "outputs": []
    },
    {
      "cell_type": "code",
      "source": [],
      "metadata": {
        "id": "8cvRcUO2rtKo"
      },
      "execution_count": 127,
      "outputs": []
    }
  ]
}