{
  "nbformat": 4,
  "nbformat_minor": 0,
  "metadata": {
    "colab": {
      "provenance": []
    },
    "kernelspec": {
      "name": "python3",
      "display_name": "Python 3"
    },
    "language_info": {
      "name": "python"
    }
  },
  "cells": [
    {
      "cell_type": "markdown",
      "source": [
        "# GDA Implementation.\n",
        "\n",
        "Implement the Gaussian Discriminant Analysis (GDA) learning algorithm following the steps as discussed in class.\n",
        "\n",
        "INSTRUCTION: Rename your notebook as: <br>\n",
        "`firstName_LastName_Live_coding_GDA.ipynb`.\n",
        "\n",
        "Notes: \n",
        "* Do not use any built-in functions to complete a task;\n",
        "* Do not import additional libraries."
      ],
      "metadata": {
        "id": "g17Z46tmw2oZ"
      }
    },
    {
      "cell_type": "code",
      "execution_count": 1,
      "metadata": {
        "id": "aT5nlL-QTKwv"
      },
      "outputs": [],
      "source": [
        "import numpy as np\n",
        "import matplotlib.pyplot as plt\n",
        "from sklearn.datasets import make_classification"
      ]
    },
    {
      "cell_type": "code",
      "source": [
        "# Generate data\n",
        "def generate_data():\n",
        "  x, y = make_classification(n_samples= 1000, n_features=3, n_redundant=0, \n",
        "                           n_informative=3, random_state=1, \n",
        "                           n_clusters_per_class=1)\n",
        "  \n",
        "  return x,y\n",
        "\n",
        "x,y= generate_data() # get data\n",
        "print(x.shape, y.shape)"
      ],
      "metadata": {
        "colab": {
          "base_uri": "https://localhost:8080/"
        },
        "id": "_-lL4Yq9Tbzn",
        "outputId": "90ab56ea-0c86-453c-fc56-e58bc21ce7b4"
      },
      "execution_count": 128,
      "outputs": [
        {
          "output_type": "stream",
          "name": "stdout",
          "text": [
            "(1000, 3) (1000,)\n"
          ]
        }
      ]
    },
    {
      "cell_type": "code",
      "source": [
        "def split_data(x,y, train_size= 0.8):\n",
        "    # shuffle the data to randomize the train/test split\n",
        "\n",
        "    np.random.seed(0)\n",
        "    n=int(len(x)*train_size)\n",
        "    indices=np.arange(len(x))\n",
        "    np.random.shuffle(indices)\n",
        "    train_idx=indices[:n]\n",
        "    test_idx=indices[n:]\n",
        "    X_train, y_train=x[train_idx],y[train_idx]\n",
        "    X_test, y_test=x[test_idx],y[test_idx]\n",
        "\n",
        "    return X_train ,X_test,y_train,y_test\n",
        " \n",
        "    pass\n"
      ],
      "metadata": {
        "id": "EUgiWLDhUAAK"
      },
      "execution_count": 129,
      "outputs": []
    },
    {
      "cell_type": "code",
      "source": [
        "X_train, X_test, y_train, y_test= split_data(x,y,train_size=0.8) # split your data into x_train, x_test, y_train, y_test\n",
        "print(X_train.shape, y_train.shape, X_test.shape, y_test.shape)"
      ],
      "metadata": {
        "colab": {
          "base_uri": "https://localhost:8080/"
        },
        "id": "Cr2Akm_A_FcJ",
        "outputId": "3b1a2aac-54ea-4dcc-b59f-573abed4ca61"
      },
      "execution_count": 130,
      "outputs": [
        {
          "output_type": "stream",
          "name": "stdout",
          "text": [
            "(800, 3) (800,) (200, 3) (200,)\n"
          ]
        }
      ]
    },
    {
      "cell_type": "code",
      "source": [
        "def covariance(x, mu):\n",
        "\n",
        "  N=x.shape[0]\n",
        "  X_=x.shape[1]\n",
        "  __cov=np.zeros((X_,X_))\n",
        "\n",
        "  for i in range(X_):\n",
        "    for j in range(X_):\n",
        "        var = 0\n",
        "        for d in x:\n",
        "            var += ((d[i] - mu[i]) * (d[j] - mu[j]))/(N-1)\n",
        "            __cov[i][j]=var\n",
        "  \n",
        "  #print('cov', __cov)\n",
        "  return __cov\n",
        "\n",
        "  # Easy way: cov= np.cov(x, rowvar=0) but do not use it. One can use it to assess his/her result.\n",
        "  pass"
      ],
      "metadata": {
        "id": "FrJ7GfXBHNxD"
      },
      "execution_count": 118,
      "outputs": []
    },
    {
      "cell_type": "code",
      "source": [
        "np.cov(x,rowvar= False)"
      ],
      "metadata": {
        "colab": {
          "base_uri": "https://localhost:8080/"
        },
        "id": "vrc8XsiZzx1j",
        "outputId": "64a590c4-0332-45e9-8d89-02043998ef64"
      },
      "execution_count": 119,
      "outputs": [
        {
          "output_type": "execute_result",
          "data": {
            "text/plain": [
              "array([[1.84495325, 0.02790646, 1.00137533],\n",
              "       [0.02790646, 1.00170721, 0.05539176],\n",
              "       [1.00137533, 0.05539176, 1.74832   ]])"
            ]
          },
          "metadata": {},
          "execution_count": 119
        }
      ]
    },
    {
      "cell_type": "code",
      "source": [
        "covariance(x,x.mean(0))"
      ],
      "metadata": {
        "colab": {
          "base_uri": "https://localhost:8080/"
        },
        "id": "fuDd7Vyszd-1",
        "outputId": "367ea778-3088-41ec-8734-758e2638d45e"
      },
      "execution_count": 120,
      "outputs": [
        {
          "output_type": "execute_result",
          "data": {
            "text/plain": [
              "array([[1.84495325, 0.02790646, 1.00137533],\n",
              "       [0.02790646, 1.00170721, 0.05539176],\n",
              "       [1.00137533, 0.05539176, 1.74832   ]])"
            ]
          },
          "metadata": {},
          "execution_count": 120
        }
      ]
    },
    {
      "cell_type": "code",
      "source": [
        "def mu(x,k):\n",
        "  d=x.shape[0]\n",
        "  mu=np.zeros((k,d))\n",
        "  return mu"
      ],
      "metadata": {
        "id": "eaJhcCdY5ed7"
      },
      "execution_count": 46,
      "outputs": []
    },
    {
      "cell_type": "code",
      "source": [
        "def phi(y,k):\n",
        "  p=np.zeros(k)\n"
      ],
      "metadata": {
        "id": "aeIQAe7c7Fx7"
      },
      "execution_count": 47,
      "outputs": []
    },
    {
      "cell_type": "code",
      "source": [
        "# for i,xi in enumerate(x):\n",
        "#   print(xi)"
      ],
      "metadata": {
        "id": "Izy7jhe7irNm"
      },
      "execution_count": null,
      "outputs": []
    },
    {
      "cell_type": "code",
      "source": [
        "class GDA:\n",
        "  def __init__(self):\n",
        "    self.mu=None\n",
        "    self.sigma=None\n",
        "    self.phi=None\n",
        "    ## set mu, phi and sigma to None\n",
        "    \n",
        "  def fit(self,x,y):\n",
        "    k= len(np.unique(y))# Number of class.\n",
        "    d=x.shape[1]  # input dim\n",
        "    m= x.shape[0] # Number of examples.\n",
        "    \n",
        "    ## Initialize mu, phi and sigma\n",
        "    self.mu= np.zeros((k,d))#: kxd, i.e., each row contains an individual class mu.\n",
        "    self.sigma= np.zeros((k,d,d))#: kxdxd, i.e., each row contains an individual class sigma.\n",
        "    self.phi= np.zeros(k)#phi(k)# d-dimension\n",
        "\n",
        "    for lab in range(k):\n",
        "      self.phi[lab]=np.sum(lab==y)/m\n",
        "      self.mu[lab]=np.mean(x[lab==y],axis=0)\n",
        "      self.sigma[lab]= covariance(x[lab==y],self.mu[lab])\n",
        "\n",
        "    ## START THE LEARNING: estimate mu, phi and sigma.\n",
        "\n",
        "\n",
        "  def predict_proba(self,x):\n",
        "   \n",
        "    # reshape or flatt x.\n",
        "    #x= x.reshape(-1,1)\n",
        "    d= x.shape[1]\n",
        "    k_class= len(np.unique(y)) # Number of classes we have in our case it's k = 2\n",
        "    # xx=np.linalg.det(self.sigma[k_class])**0.5\n",
        "    \n",
        "    # y_pred=np.exp(_x)/(2*np.pi)**d/2 @ xx\n",
        "\n",
        "    cov_det= 0\n",
        "    cov_inv= 0\n",
        "    scores=np.zeros((x.shape[0],self.mu.shape[0]))\n",
        "\n",
        "    # p=self.phi[0]\n",
        "    # p_=self.phi[1]\n",
        "\n",
        "    for lab in range(k_class):\n",
        "\n",
        "      cov_det= np.linalg.det(self.sigma[lab])\n",
        "      cov_inv= np.linalg.inv(self.sigma[lab])\n",
        "      \n",
        "\n",
        "      for xi in range(x.shape[0]):\n",
        "        v1=np.subtract(x[xi],self.mu[lab])\n",
        "        v2=(2*np.pi)**((d/2)  * ((cov_det)**0.5))\n",
        "        v3=(v1 )@ cov_inv @ (v1.T)\n",
        "        # z=np.exp((x[xi].reshape(1,-1)-self.mu[lab].reshape(1,-1))@ cov_inv @ ((x[xi].reshape(1,-1)-self.mu[lab].reshape(1,-1)).T))/((2*np.pi)**d/2 * cov_det**0.5)\n",
        "        z=(np.exp(-0.5*v3)) / v2\n",
        "\n",
        "        scores[xi,lab]=np.log(z) + np.log(self.phi[lab])\n",
        "\n",
        "\n",
        "        \n",
        "\n",
        "    return scores\n",
        "    ## START THE LEARNING: estimate mu, phi and sigma.\n",
        "\n",
        "  def predict(self,x):\n",
        "    pred=self.predict_proba(x)\n",
        "    return np.argmax(pred,axis=1)\n",
        "\n",
        "    \n",
        "    # pass\n",
        "  \n",
        "  def accuracy(self, y, ypreds):\n",
        "    acc = np.mean(y==ypreds)*100\n",
        "    return acc\n",
        "    # pass"
      ],
      "metadata": {
        "id": "1ocKLDAfceF0"
      },
      "execution_count": 235,
      "outputs": []
    },
    {
      "cell_type": "code",
      "source": [
        "y_train.shape ,X_train.shape"
      ],
      "metadata": {
        "colab": {
          "base_uri": "https://localhost:8080/"
        },
        "id": "ZkVchcD_JF8x",
        "outputId": "c6516288-89e3-49a7-b6d1-2a5ee9d2a18e"
      },
      "execution_count": 236,
      "outputs": [
        {
          "output_type": "execute_result",
          "data": {
            "text/plain": [
              "((800,), (800, 3))"
            ]
          },
          "metadata": {},
          "execution_count": 236
        }
      ]
    },
    {
      "cell_type": "code",
      "source": [
        "model= GDA()\n",
        "model.fit(X_train,y_train)"
      ],
      "metadata": {
        "id": "l_qO0Yp1c3Is"
      },
      "execution_count": 237,
      "outputs": []
    },
    {
      "cell_type": "code",
      "source": [
        "yproba= model.predict_proba(X_test)\n",
        "yproba"
      ],
      "metadata": {
        "id": "NKY1eojY1l4e"
      },
      "execution_count": null,
      "outputs": []
    },
    {
      "cell_type": "code",
      "source": [
        "ypreds= model.predict(X_test)\n",
        "ypreds\n"
      ],
      "metadata": {
        "id": "D4clV6PK1UJK",
        "colab": {
          "base_uri": "https://localhost:8080/"
        },
        "outputId": "357e72f6-e69b-4b61-a2dc-23fa7e77679d"
      },
      "execution_count": 239,
      "outputs": [
        {
          "output_type": "execute_result",
          "data": {
            "text/plain": [
              "array([1, 1, 0, 1, 1, 1, 0, 1, 0, 1, 1, 1, 1, 1, 0, 1, 1, 1, 1, 1, 1, 0,\n",
              "       1, 1, 0, 1, 1, 0, 1, 0, 0, 1, 1, 1, 1, 0, 1, 1, 1, 1, 1, 0, 0, 1,\n",
              "       0, 0, 0, 0, 1, 0, 0, 0, 1, 0, 1, 0, 0, 1, 0, 0, 1, 0, 0, 0, 1, 0,\n",
              "       1, 1, 0, 0, 0, 0, 0, 1, 1, 1, 0, 0, 1, 0, 1, 1, 0, 0, 1, 1, 1, 1,\n",
              "       0, 1, 1, 1, 1, 0, 0, 0, 0, 0, 1, 0, 1, 0, 1, 0, 1, 0, 1, 0, 0, 1,\n",
              "       1, 1, 1, 1, 1, 0, 1, 0, 0, 1, 0, 0, 0, 1, 1, 1, 0, 1, 0, 1, 1, 1,\n",
              "       0, 0, 0, 1, 1, 0, 1, 1, 1, 1, 0, 1, 1, 1, 1, 1, 1, 1, 0, 1, 1, 1,\n",
              "       0, 1, 1, 1, 0, 0, 0, 0, 1, 0, 0, 0, 0, 0, 0, 1, 0, 1, 0, 0, 0, 1,\n",
              "       1, 0, 1, 1, 1, 0, 0, 1, 1, 1, 1, 1, 0, 0, 0, 1, 0, 1, 1, 0, 1, 1,\n",
              "       1, 0])"
            ]
          },
          "metadata": {},
          "execution_count": 239
        }
      ]
    },
    {
      "cell_type": "code",
      "source": [
        "model.accuracy(y_test, ypreds)"
      ],
      "metadata": {
        "id": "QgG1xPUg1ULw",
        "colab": {
          "base_uri": "https://localhost:8080/"
        },
        "outputId": "2136f652-09b2-4fb9-b3a2-81999e55225b"
      },
      "execution_count": 240,
      "outputs": [
        {
          "output_type": "execute_result",
          "data": {
            "text/plain": [
              "98.0"
            ]
          },
          "metadata": {},
          "execution_count": 240
        }
      ]
    },
    {
      "cell_type": "code",
      "source": [],
      "metadata": {
        "id": "OpXYY-yj1UOj"
      },
      "execution_count": null,
      "outputs": []
    },
    {
      "cell_type": "code",
      "source": [],
      "metadata": {
        "id": "8cvRcUO2rtKo"
      },
      "execution_count": null,
      "outputs": []
    }
  ]
}