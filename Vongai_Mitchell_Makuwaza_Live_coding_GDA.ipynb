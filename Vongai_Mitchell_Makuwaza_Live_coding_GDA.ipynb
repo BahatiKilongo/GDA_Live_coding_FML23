{
  "nbformat": 4,
  "nbformat_minor": 0,
  "metadata": {
    "colab": {
      "provenance": []
    },
    "kernelspec": {
      "name": "python3",
      "display_name": "Python 3"
    },
    "language_info": {
      "name": "python"
    }
  },
  "cells": [
    {
      "cell_type": "markdown",
      "source": [
        "# GDA Implementation.\n",
        "\n",
        "Implement the Gaussian Discriminant Analysis (GDA) learning algorithm following the steps as discussed in class.\n",
        "\n",
        "INSTRUCTION: Rename your notebook as: <br>\n",
        "`firstName_LastName_Live_coding_GDA.ipynb`.\n",
        "\n",
        "Notes: \n",
        "* Do not use any built-in functions to complete a task;\n",
        "* Do not import additional libraries."
      ],
      "metadata": {
        "id": "g17Z46tmw2oZ"
      }
    },
    {
      "cell_type": "code",
      "execution_count": 317,
      "metadata": {
        "id": "aT5nlL-QTKwv"
      },
      "outputs": [],
      "source": [
        "import numpy as np\n",
        "import matplotlib.pyplot as plt\n",
        "from sklearn.datasets import make_classification"
      ]
    },
    {
      "cell_type": "code",
      "source": [
        "# Generate data\n",
        "def generate_data():\n",
        "  x, y = make_classification(n_samples= 1000, n_features=3, n_redundant=0, \n",
        "                           n_informative=3, random_state=1, \n",
        "                           n_clusters_per_class=1)\n",
        "  \n",
        "  return x,y\n",
        "\n",
        "x,y= generate_data() # get data\n",
        "print(x.shape, y.shape)"
      ],
      "metadata": {
        "colab": {
          "base_uri": "https://localhost:8080/"
        },
        "id": "_-lL4Yq9Tbzn",
        "outputId": "a4134e75-4c1a-47fb-ae88-6219356286b7"
      },
      "execution_count": 318,
      "outputs": [
        {
          "output_type": "stream",
          "name": "stdout",
          "text": [
            "(1000, 3) (1000,)\n"
          ]
        }
      ]
    },
    {
      "cell_type": "code",
      "source": [
        "def stackXY(x, y):\n",
        "  return np.hstack((x,y))"
      ],
      "metadata": {
        "id": "jO2pxOX8wizt"
      },
      "execution_count": 319,
      "outputs": []
    },
    {
      "cell_type": "code",
      "source": [
        "vo = np.array([[2,2,2],[1,1,1], [0,0,0]])\n",
        "yo = np.array([[7],[8], [9]])\n",
        "von = stackXY(vo,yo)\n",
        "von"
      ],
      "metadata": {
        "colab": {
          "base_uri": "https://localhost:8080/"
        },
        "id": "d5u6-80xw40Y",
        "outputId": "18424790-8e11-4158-c437-75c5392ca32f"
      },
      "execution_count": null,
      "outputs": [
        {
          "output_type": "execute_result",
          "data": {
            "text/plain": [
              "array([[2, 2, 2, 7],\n",
              "       [1, 1, 1, 8],\n",
              "       [0, 0, 0, 9]])"
            ]
          },
          "metadata": {},
          "execution_count": 13
        }
      ]
    },
    {
      "cell_type": "code",
      "source": [
        "n,_ = vo.shape\n",
        "perm_index = np.random.permutation(n)\n",
        "von = von[perm_index]\n",
        "von"
      ],
      "metadata": {
        "colab": {
          "base_uri": "https://localhost:8080/"
        },
        "id": "r3l0OVhNyje_",
        "outputId": "4c9f076d-7996-4e02-b05a-dc6ec1dfff5f"
      },
      "execution_count": null,
      "outputs": [
        {
          "output_type": "execute_result",
          "data": {
            "text/plain": [
              "array([[1, 1, 1, 8],\n",
              "       [2, 2, 2, 7],\n",
              "       [0, 0, 0, 9]])"
            ]
          },
          "metadata": {},
          "execution_count": 20
        }
      ]
    },
    {
      "cell_type": "code",
      "source": [
        "classes = len(np.unique(y))\n",
        "classes"
      ],
      "metadata": {
        "colab": {
          "base_uri": "https://localhost:8080/"
        },
        "id": "l6-c2ypX9lRZ",
        "outputId": "bc3c839b-1cfc-47da-bf82-929fe1718c90"
      },
      "execution_count": 320,
      "outputs": [
        {
          "output_type": "execute_result",
          "data": {
            "text/plain": [
              "2"
            ]
          },
          "metadata": {},
          "execution_count": 320
        }
      ]
    },
    {
      "cell_type": "code",
      "source": [
        "def split_data(x,y, train_size= 0.8):\n",
        "    # shuffle the data to randomize the train/test split\n",
        "    n,_ = x.shape\n",
        "    data = stackXY(x, y)\n",
        "\n",
        "    perm_index = np.random.permutation(n)\n",
        "    data = data[perm_index]\n",
        "\n",
        "    xtrain, ytrain = data[0:round(len(data)*train_size),0:-1], data[0:round(len(data)*train_size),-1]\n",
        "    xtest, ytest = data[round(len(data)*train_size):,0:-1], data[round(len(data)*train_size):,-1]\n",
        "    \n",
        "    return xtrain, xtest, ytrain, ytest"
      ],
      "metadata": {
        "id": "EUgiWLDhUAAK"
      },
      "execution_count": 321,
      "outputs": []
    },
    {
      "cell_type": "code",
      "source": [
        "X_train, X_test, y_train, y_test= split_data(x,y.reshape(-1,1)) # split your data into x_train, x_test, y_train, y_test\n",
        "print(X_train.shape, y_train.shape, X_test.shape, y_test.shape)"
      ],
      "metadata": {
        "colab": {
          "base_uri": "https://localhost:8080/"
        },
        "id": "Cr2Akm_A_FcJ",
        "outputId": "5b02ea91-20e3-4676-bc0c-477907cb962e"
      },
      "execution_count": 322,
      "outputs": [
        {
          "output_type": "stream",
          "name": "stdout",
          "text": [
            "(800, 3) (800,) (200, 3) (200,)\n"
          ]
        }
      ]
    },
    {
      "cell_type": "code",
      "source": [
        "np.cov(x,rowvar=0)"
      ],
      "metadata": {
        "colab": {
          "base_uri": "https://localhost:8080/"
        },
        "id": "goXYky5E7kqI",
        "outputId": "29aee2a6-5e79-44cb-a75a-4cba9b294040"
      },
      "execution_count": 293,
      "outputs": [
        {
          "output_type": "execute_result",
          "data": {
            "text/plain": [
              "array([[1.84495325, 0.02790646, 1.00137533],\n",
              "       [0.02790646, 1.00170721, 0.05539176],\n",
              "       [1.00137533, 0.05539176, 1.74832   ]])"
            ]
          },
          "metadata": {},
          "execution_count": 293
        }
      ]
    },
    {
      "cell_type": "code",
      "source": [
        "def covariance(x, mu):\n",
        "  n, d = x.shape\n",
        "  sigma = np.zeros((d,d))\n",
        "  # Easy way: cov= np.cov(x, rowvar=0) but do not use it. One can use it to assess his/her result.\n",
        "\n",
        "  for i in range(d):\n",
        "    #each i here has same mu\n",
        "    for j in range(d):   #looking at columns\n",
        "\n",
        "      sigma[i,j] = (1/(n- 1)) * np.sum((x.T[i] - mu[i]) @ (x.T[j] - mu[j]).T)\n",
        "     \n",
        "      #(x[j] - mu) @ (x[j] - mu).T\n",
        "  return sigma"
      ],
      "metadata": {
        "id": "FrJ7GfXBHNxD"
      },
      "execution_count": 323,
      "outputs": []
    },
    {
      "cell_type": "code",
      "source": [
        "covariance(x, np.mean(x, axis=0))\n"
      ],
      "metadata": {
        "colab": {
          "base_uri": "https://localhost:8080/"
        },
        "id": "f-edTwO_Hm4v",
        "outputId": "0c4ca389-9ad0-446a-936c-df01f8dd39fd"
      },
      "execution_count": 141,
      "outputs": [
        {
          "output_type": "execute_result",
          "data": {
            "text/plain": [
              "array([[1.84495325, 0.02790646, 1.00137533],\n",
              "       [0.02790646, 1.00170721, 0.05539176],\n",
              "       [1.00137533, 0.05539176, 1.74832   ]])"
            ]
          },
          "metadata": {},
          "execution_count": 141
        }
      ]
    },
    {
      "cell_type": "code",
      "source": [
        "covariance(x, mu=x.mean(0))"
      ],
      "metadata": {
        "colab": {
          "base_uri": "https://localhost:8080/"
        },
        "id": "e1Ybjw5_HcQC",
        "outputId": "c40ccbbd-3284-4b73-ae58-4ded55257766"
      },
      "execution_count": 142,
      "outputs": [
        {
          "output_type": "execute_result",
          "data": {
            "text/plain": [
              "array([[1.84495325, 0.02790646, 1.00137533],\n",
              "       [0.02790646, 1.00170721, 0.05539176],\n",
              "       [1.00137533, 0.05539176, 1.74832   ]])"
            ]
          },
          "metadata": {},
          "execution_count": 142
        }
      ]
    },
    {
      "cell_type": "code",
      "source": [
        "for a_class in range(3):\n",
        "  ans = np.mean(1 == 1)\n",
        "ans"
      ],
      "metadata": {
        "colab": {
          "base_uri": "https://localhost:8080/"
        },
        "id": "RFP6oUcVNbvi",
        "outputId": "e70d6b7e-4330-4aeb-f2b3-e34e11aab756"
      },
      "execution_count": 145,
      "outputs": [
        {
          "output_type": "execute_result",
          "data": {
            "text/plain": [
              "1.0"
            ]
          },
          "metadata": {},
          "execution_count": 145
        }
      ]
    },
    {
      "cell_type": "code",
      "source": [
        "class GDA:\n",
        "  def __init__(self):\n",
        "    ## set mu, phi and sigma to None\n",
        "    self.phi  = None\n",
        "    self.mu = None\n",
        "    self.sigma = None\n",
        "    \n",
        "  def fit(self,x,y):\n",
        "    k=len(np.unique(y)) # Number of class.\n",
        "    d=x.shape[1]  # input dim\n",
        "    m= x.shape[0] # Number of examples.\n",
        "    \n",
        "    ## Initialize mu, phi and sigma\n",
        "    self.mu = np.zeros((k,d))\n",
        "    self.sigma = np.zeros((k,d,d))\n",
        "    self.phi = np.zeros((k,1))\n",
        "\n",
        "\n",
        "    ## START THE LEARNING: estimate mu, phi and sigma.\n",
        "\n",
        "    for a_class in range(k):\n",
        "      \n",
        "      my_idx = (y == a_class)\n",
        "\n",
        "      #self.mu[a_class]= (np.sum(x[my_idx, :].T, axis=0)) / np.sum(my_idx) #: kxd, i.e., each row contains an individual class mu.\n",
        "\n",
        "      #self.mu[a_class] = np.sum((my_idx @ x.T), axis = 0) / np.sum(my_idx, axis = 0)\n",
        "\n",
        "      self.sigma[a_class] = covariance(x, self.mu[a_class])  #: kxdxd, i.e., each row contains an individual class sigma.\n",
        "\n",
        "      self.phi[a_class] = np.mean(my_idx)     # k-dimension\n",
        "\n",
        "    \n",
        "\n",
        "      for col_element in range(d):\n",
        "\n",
        "        self.mu[a_class, col_element] = np.sum((x[my_idx].T)[col_element]) / x[my_idx].shape[0]\n",
        "\n",
        "    return self.sigma, self.mu, self.phi\n",
        "\n",
        "\n",
        "  def predict_proba(self,x):\n",
        "    # reshape or flatt x.\n",
        "    #x= x.reshape(-1,1)\n",
        "    d= x.shape[1]\n",
        "    k_class= len(np.unique(y)) # Number of classes we have in our case it's k = 2\n",
        "    \n",
        "    ## START THE LEARNING: estimate mu, phi and sigma.\n",
        "    #probability = np.zeros((x.shape[0], k_class))\n",
        "    logprobability = np.zeros((x.shape[0], k_class))\n",
        "    \n",
        "    for i in range(k_class):\n",
        "\n",
        "      #exp = -0.5* ( x-self.mu[0] ) @ (self.sigma[0]) @ (x - self.mu[0]).T\n",
        "\n",
        "      xy = 1/(((2*np.pi)**(d/2)) * np.sqrt(np.linalg.det(self.sigma[i])))\n",
        "\n",
        "      for j in range(x.shape[0]):\n",
        "\n",
        "        #probability[j, i] = xy * np.exp((-0.5 * (x[j] -self.mu[i]) @ (self.sigma[i]) @ (x[j] - self.mu[i]).T)) * self.phi[i]\n",
        "        \n",
        "        logprobability[j,i] =  np.log( xy * np.exp((-0.5 * (x[j] -self.mu[i]) @ (self.sigma[i]) @ (x[j] - self.mu[i]).T)) ) + np.log( self.phi[i])\n",
        "\n",
        "    return logprobability\n",
        "\n",
        "  def predict(self,x):\n",
        "    score = self.predict_proba(x)\n",
        "    ypreds = []\n",
        "    \n",
        "    for i in range(x.shape[0]):\n",
        "      y_pred = np.argmax(score[i])\n",
        "\n",
        "      ypreds.append(y_pred)\n",
        "\n",
        "    return np.array(ypreds)\n",
        "  \n",
        "  def accuracy(self, y, ypreds):\n",
        "    return (np.mean(y == ypreds)) * 100"
      ],
      "metadata": {
        "id": "1ocKLDAfceF0"
      },
      "execution_count": 324,
      "outputs": []
    },
    {
      "cell_type": "code",
      "source": [
        "model= GDA()\n",
        "model.fit(X_train,y_train)"
      ],
      "metadata": {
        "id": "l_qO0Yp1c3Is",
        "colab": {
          "base_uri": "https://localhost:8080/"
        },
        "outputId": "7020b0f6-6125-4280-eb46-8448dc127504"
      },
      "execution_count": 325,
      "outputs": [
        {
          "output_type": "execute_result",
          "data": {
            "text/plain": [
              "(array([[[1.81762859e+00, 5.49151664e-04, 9.88389668e-01],\n",
              "         [5.49151664e-04, 1.99393769e+00, 9.41535353e-02],\n",
              "         [9.88389668e-01, 9.41535353e-02, 1.73476916e+00]],\n",
              " \n",
              "        [[1.81762859e+00, 5.49151664e-04, 9.88389668e-01],\n",
              "         [5.49151664e-04, 1.99393769e+00, 9.41535353e-02],\n",
              "         [9.88389668e-01, 9.41535353e-02, 1.73476916e+00]]]),\n",
              " array([[ 0.97181311,  1.03390531,  1.00108928],\n",
              "        [-0.9924146 ,  0.96881627, -0.90762424]]),\n",
              " array([[0.495],\n",
              "        [0.505]]))"
            ]
          },
          "metadata": {},
          "execution_count": 325
        }
      ]
    },
    {
      "cell_type": "code",
      "source": [
        "yproba= model.predict_proba(X_test)\n",
        "yproba"
      ],
      "metadata": {
        "id": "NKY1eojY1l4e",
        "colab": {
          "base_uri": "https://localhost:8080/"
        },
        "outputId": "c7ef679b-8cde-442f-81ba-266a9c4f7fdf"
      },
      "execution_count": 326,
      "outputs": [
        {
          "output_type": "execute_result",
          "data": {
            "text/plain": [
              "array([[ -5.79964884, -24.1715064 ],\n",
              "       [-47.41516987, -15.71449222],\n",
              "       [-20.17727789,  -5.02392596],\n",
              "       [ -8.5616509 ,  -6.08028294],\n",
              "       [-18.02559027,  -4.5386666 ],\n",
              "       [-14.21850626,  -4.55575777],\n",
              "       [ -9.36109166, -19.33681083],\n",
              "       [-20.13981503,  -5.78456406],\n",
              "       [ -7.92680528, -24.06397605],\n",
              "       [ -4.4906488 , -14.26116913],\n",
              "       [ -9.74800158, -16.29644415],\n",
              "       [ -5.11030882, -10.76364429],\n",
              "       [-11.26669302, -22.7617307 ],\n",
              "       [ -5.38575295,  -9.49002743],\n",
              "       [ -7.03709077,  -8.22273228],\n",
              "       [-24.24597775,  -6.17210087],\n",
              "       [ -7.21707863, -26.78570767],\n",
              "       [ -4.46808039, -17.05362883],\n",
              "       [ -8.084071  ,  -8.2851529 ],\n",
              "       [ -6.38870582, -17.97575692],\n",
              "       [-12.24510428,  -4.74674952],\n",
              "       [-16.75456338,  -5.1122326 ],\n",
              "       [-11.96124963,  -4.73061026],\n",
              "       [-14.60401176,  -4.7004875 ],\n",
              "       [ -7.05477519, -26.89495434],\n",
              "       [ -9.48761502,  -5.44936146],\n",
              "       [ -4.76063463, -16.86947968],\n",
              "       [ -6.33311609,  -8.56482429],\n",
              "       [ -9.03518149,  -5.58547634],\n",
              "       [-10.32848319,  -4.98943589],\n",
              "       [ -6.76129237, -22.01382401],\n",
              "       [ -5.91931456, -20.48585175],\n",
              "       [-16.26595369,  -4.68936467],\n",
              "       [ -6.18197149, -10.37924927],\n",
              "       [-24.33754011,  -6.156262  ],\n",
              "       [ -9.87150576,  -5.34255019],\n",
              "       [ -4.88768254, -15.80033539],\n",
              "       [ -4.23186828, -14.41113092],\n",
              "       [-22.43808364,  -5.69831739],\n",
              "       [ -4.71038509, -18.37534898],\n",
              "       [ -6.44809917, -11.8059208 ],\n",
              "       [ -4.43124031, -16.49308903],\n",
              "       [ -4.70357799, -17.12297153],\n",
              "       [-19.67286138,  -5.35981054],\n",
              "       [ -5.30573102, -19.51396513],\n",
              "       [ -4.45507305, -15.89384286],\n",
              "       [-22.8797097 ,  -5.9024535 ],\n",
              "       [-11.11732259,  -4.52821527],\n",
              "       [ -8.8400169 , -13.39148599],\n",
              "       [-16.43776716,  -4.30745181],\n",
              "       [ -6.31187459, -13.8438252 ],\n",
              "       [ -9.69334158,  -5.17088543],\n",
              "       [-18.00445129,  -4.82958516],\n",
              "       [ -4.64695313, -12.16621389],\n",
              "       [ -4.26584935, -15.52365405],\n",
              "       [-31.25333091,  -8.62879848],\n",
              "       [ -6.69167337,  -7.86972039],\n",
              "       [-16.84526565,  -4.54379393],\n",
              "       [-16.16175986,  -5.82032084],\n",
              "       [ -4.37930459, -14.46114285],\n",
              "       [ -9.91022374, -11.85039851],\n",
              "       [ -5.64172808, -14.04168728],\n",
              "       [ -9.66983718,  -5.5815983 ],\n",
              "       [-18.09191144,  -4.46641697],\n",
              "       [-37.84000966, -11.32103808],\n",
              "       [ -6.47239417, -24.86432129],\n",
              "       [ -8.73637886,  -9.78596862],\n",
              "       [ -4.66901853, -15.81314476],\n",
              "       [-18.24422551,  -6.70735216],\n",
              "       [-11.79915919, -30.46707817],\n",
              "       [-15.68920827,  -8.36964006],\n",
              "       [-24.59481495, -25.91762085],\n",
              "       [ -6.02989728, -18.62086112],\n",
              "       [ -4.95663287, -13.79302117],\n",
              "       [-10.91112611,  -4.63823894],\n",
              "       [ -4.94365283, -19.59783271],\n",
              "       [-15.8397061 ,  -5.03165361],\n",
              "       [-13.72531474,  -4.46950549],\n",
              "       [ -8.0018886 , -19.06243282],\n",
              "       [ -4.34050191, -16.46885846],\n",
              "       [ -5.63296484, -12.21026866],\n",
              "       [ -5.11185686, -16.04885743],\n",
              "       [-43.50145149, -13.91106803],\n",
              "       [ -4.41582232, -17.07141574],\n",
              "       [ -4.51713825, -12.73814265],\n",
              "       [ -4.95570886, -19.19703237],\n",
              "       [ -6.24689811, -23.91000763],\n",
              "       [ -4.4960883 , -12.47681481],\n",
              "       [-14.0493332 ,  -5.04432322],\n",
              "       [ -6.73845764, -20.25690977],\n",
              "       [-24.29506972,  -6.09572407],\n",
              "       [ -4.53276069, -18.289986  ],\n",
              "       [ -6.51638234, -14.42232903],\n",
              "       [ -7.86560685,  -7.57629104],\n",
              "       [ -4.45268005, -13.5639929 ],\n",
              "       [ -4.21251275, -13.69982428],\n",
              "       [ -5.74400685, -22.28974922],\n",
              "       [-12.32030922,  -4.60658595],\n",
              "       [ -6.08062491, -14.96177728],\n",
              "       [ -4.70539274, -18.0614223 ],\n",
              "       [-16.37811154,  -4.42747213],\n",
              "       [ -4.33720748, -16.1584826 ],\n",
              "       [-18.12072358,  -4.82734706],\n",
              "       [ -9.33967229, -24.4002764 ],\n",
              "       [-18.45292626,  -5.26679595],\n",
              "       [ -5.60094572, -22.06197275],\n",
              "       [ -6.64342203, -12.27889804],\n",
              "       [ -9.94363317,  -5.85701575],\n",
              "       [-33.29136588,  -9.28000247],\n",
              "       [-10.92729717,  -4.69178904],\n",
              "       [-10.81489837,  -4.90580183],\n",
              "       [ -6.63489379, -22.20016903],\n",
              "       [ -9.79848782,  -5.01847126],\n",
              "       [ -9.31561005,  -5.69435713],\n",
              "       [ -8.43611628,  -7.25883395],\n",
              "       [ -4.47942164, -15.45488094],\n",
              "       [ -4.43078108, -17.62945281],\n",
              "       [-19.80753301,  -4.74989898],\n",
              "       [ -5.0523036 , -18.60417779],\n",
              "       [ -7.34783307, -24.41220275],\n",
              "       [-17.3219562 ,  -4.36028729],\n",
              "       [ -4.38249614, -17.02331149],\n",
              "       [ -4.75652602, -15.38624953],\n",
              "       [ -5.23084138, -13.25718731],\n",
              "       [ -5.040027  , -10.10099844],\n",
              "       [-19.29050585, -37.25759599],\n",
              "       [-16.66745157,  -4.80103463],\n",
              "       [-10.47154434, -21.24362921],\n",
              "       [-17.79229263,  -5.82736492],\n",
              "       [ -4.86912821, -20.09204001],\n",
              "       [-10.93021935, -20.11124523],\n",
              "       [ -4.90382939, -20.19682277],\n",
              "       [-24.67221897,  -6.70267945],\n",
              "       [-24.08109199,  -5.95196644],\n",
              "       [-24.90372602,  -6.85085693],\n",
              "       [ -5.65374974, -13.94536581],\n",
              "       [ -6.52720149, -14.38875355],\n",
              "       [ -8.98720199,  -6.44686762],\n",
              "       [-27.27392629,  -6.8251194 ],\n",
              "       [ -8.24802556, -27.73078545],\n",
              "       [ -7.16694318, -27.69962843],\n",
              "       [-15.4757707 ,  -5.72863679],\n",
              "       [ -5.34520137, -15.9417848 ],\n",
              "       [ -5.25920533, -13.78211409],\n",
              "       [-37.53928049, -11.1393411 ],\n",
              "       [ -5.50286971, -17.88098629],\n",
              "       [ -5.6994508 , -15.09819376],\n",
              "       [ -9.74669867,  -5.08599   ],\n",
              "       [ -6.81723085, -24.72056421],\n",
              "       [-17.82323548,  -5.39622562],\n",
              "       [-24.81623606,  -7.21638675],\n",
              "       [-19.24309495,  -5.36490751],\n",
              "       [ -6.09834156, -19.40223843],\n",
              "       [ -6.26343112,  -7.68974351],\n",
              "       [-19.28533737, -10.45744089],\n",
              "       [-22.31586365,  -5.28317704],\n",
              "       [ -6.54618746, -16.56394017],\n",
              "       [ -6.72505543, -11.89481173],\n",
              "       [-30.71119914,  -8.26493409],\n",
              "       [-12.68645835,  -4.88357691],\n",
              "       [-11.91173537, -21.45853144],\n",
              "       [ -4.70222756, -17.98974873],\n",
              "       [ -4.30218026, -15.18756031],\n",
              "       [ -4.43854496, -17.64001696],\n",
              "       [-11.66440908,  -4.44691302],\n",
              "       [ -4.3319802 , -15.36790939],\n",
              "       [ -6.05860682, -19.92915386],\n",
              "       [ -5.95295048, -17.47793327],\n",
              "       [-27.94736643,  -7.5297907 ],\n",
              "       [ -4.79205652, -13.26554533],\n",
              "       [-12.43773625,  -5.80558102],\n",
              "       [-17.87882863,  -4.45476879],\n",
              "       [-14.25868125, -18.78178525],\n",
              "       [-16.24433207, -23.3121095 ],\n",
              "       [ -4.25857116, -13.06094566],\n",
              "       [-11.86348465,  -7.77726406],\n",
              "       [-42.42797169, -13.1603873 ],\n",
              "       [-19.39433471,  -5.29761616],\n",
              "       [-20.11501026,  -6.23037737],\n",
              "       [-24.86138883,  -6.38305454],\n",
              "       [-20.1267779 ,  -6.64187867],\n",
              "       [-38.75591293, -11.45283146],\n",
              "       [-32.19392077,  -8.53989164],\n",
              "       [ -7.12479453, -11.56946188],\n",
              "       [-28.57634512,  -7.7791437 ],\n",
              "       [-21.96074707,  -6.10871502],\n",
              "       [-10.003373  ,  -5.20934862],\n",
              "       [ -4.47246404, -11.97278796],\n",
              "       [-17.22033621,  -4.57873625],\n",
              "       [ -7.54295924, -14.49872942],\n",
              "       [-12.78877735, -30.71698699],\n",
              "       [-13.1051586 ,  -5.15069539],\n",
              "       [-24.66436053,  -6.76925357],\n",
              "       [-18.79826052,  -4.55477672],\n",
              "       [-31.38138073,  -8.66013366],\n",
              "       [-17.32873396,  -4.33959938],\n",
              "       [ -9.60998579, -10.73839002],\n",
              "       [-10.2472565 ,  -6.43825167],\n",
              "       [ -6.30277256,  -8.08562135],\n",
              "       [-14.34473977,  -5.06452338]])"
            ]
          },
          "metadata": {},
          "execution_count": 326
        }
      ]
    },
    {
      "cell_type": "code",
      "source": [
        "ypreds= model.predict(X_test)\n",
        "ypreds\n"
      ],
      "metadata": {
        "id": "D4clV6PK1UJK",
        "colab": {
          "base_uri": "https://localhost:8080/"
        },
        "outputId": "54fb38d0-c19a-4c49-b348-a401ff65912a"
      },
      "execution_count": 327,
      "outputs": [
        {
          "output_type": "execute_result",
          "data": {
            "text/plain": [
              "array([0, 1, 1, 1, 1, 1, 0, 1, 0, 0, 0, 0, 0, 0, 0, 1, 0, 0, 0, 0, 1, 1,\n",
              "       1, 1, 0, 1, 0, 0, 1, 1, 0, 0, 1, 0, 1, 1, 0, 0, 1, 0, 0, 0, 0, 1,\n",
              "       0, 0, 1, 1, 0, 1, 0, 1, 1, 0, 0, 1, 0, 1, 1, 0, 0, 0, 1, 1, 1, 0,\n",
              "       0, 0, 1, 0, 1, 0, 0, 0, 1, 0, 1, 1, 0, 0, 0, 0, 1, 0, 0, 0, 0, 0,\n",
              "       1, 0, 1, 0, 0, 1, 0, 0, 0, 1, 0, 0, 1, 0, 1, 0, 1, 0, 0, 1, 1, 1,\n",
              "       1, 0, 1, 1, 1, 0, 0, 1, 0, 0, 1, 0, 0, 0, 0, 0, 1, 0, 1, 0, 0, 0,\n",
              "       1, 1, 1, 0, 0, 1, 1, 0, 0, 1, 0, 0, 1, 0, 0, 1, 0, 1, 1, 1, 0, 0,\n",
              "       1, 1, 0, 0, 1, 1, 0, 0, 0, 0, 1, 0, 0, 0, 1, 0, 1, 1, 0, 0, 0, 1,\n",
              "       1, 1, 1, 1, 1, 1, 1, 0, 1, 1, 1, 0, 1, 0, 0, 1, 1, 1, 1, 1, 0, 1,\n",
              "       0, 1])"
            ]
          },
          "metadata": {},
          "execution_count": 327
        }
      ]
    },
    {
      "cell_type": "code",
      "source": [
        "model.accuracy(y_test, ypreds)"
      ],
      "metadata": {
        "id": "QgG1xPUg1ULw",
        "colab": {
          "base_uri": "https://localhost:8080/"
        },
        "outputId": "4838b51d-f65f-4ae8-cdb1-b3a2782bec1b"
      },
      "execution_count": 328,
      "outputs": [
        {
          "output_type": "execute_result",
          "data": {
            "text/plain": [
              "96.0"
            ]
          },
          "metadata": {},
          "execution_count": 328
        }
      ]
    },
    {
      "cell_type": "code",
      "source": [],
      "metadata": {
        "id": "OpXYY-yj1UOj"
      },
      "execution_count": null,
      "outputs": []
    },
    {
      "cell_type": "code",
      "source": [],
      "metadata": {
        "id": "8cvRcUO2rtKo"
      },
      "execution_count": null,
      "outputs": []
    }
  ]
}