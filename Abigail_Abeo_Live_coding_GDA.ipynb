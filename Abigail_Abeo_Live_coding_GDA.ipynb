{
  "nbformat": 4,
  "nbformat_minor": 0,
  "metadata": {
    "colab": {
      "provenance": []
    },
    "kernelspec": {
      "name": "python3",
      "display_name": "Python 3"
    },
    "language_info": {
      "name": "python"
    }
  },
  "cells": [
    {
      "cell_type": "markdown",
      "source": [
        "# GDA Implementation.\n",
        "\n",
        "Implement the Gaussian Discriminant Analysis (GDA) learning algorithm following the steps as discussed in class.\n",
        "\n",
        "INSTRUCTION: Rename your notebook as: <br>\n",
        "`firstName_LastName_Live_coding_GDA.ipynb`.\n",
        "\n",
        "Notes: \n",
        "* Do not use any built-in functions to complete a task;\n",
        "* Do not import additional libraries."
      ],
      "metadata": {
        "id": "g17Z46tmw2oZ"
      }
    },
    {
      "cell_type": "code",
      "execution_count": 1,
      "metadata": {
        "id": "aT5nlL-QTKwv"
      },
      "outputs": [],
      "source": [
        "import numpy as np\n",
        "import matplotlib.pyplot as plt\n",
        "from sklearn.datasets import make_classification"
      ]
    },
    {
      "cell_type": "code",
      "source": [
        "# Generate data\n",
        "def generate_data():\n",
        "  x, y = make_classification(n_samples= 1000, n_features=3, n_redundant=0, \n",
        "                           n_informative=3, random_state=1, \n",
        "                           n_clusters_per_class=1)\n",
        "  \n",
        "  return x,y\n",
        "\n",
        "x,y= generate_data()\n",
        "print(x.shape, y.shape)"
      ],
      "metadata": {
        "colab": {
          "base_uri": "https://localhost:8080/"
        },
        "id": "_-lL4Yq9Tbzn",
        "outputId": "f234e23b-28c6-4a3f-ea97-405a99410c0f"
      },
      "execution_count": 2,
      "outputs": [
        {
          "output_type": "stream",
          "name": "stdout",
          "text": [
            "(1000, 3) (1000,)\n"
          ]
        }
      ]
    },
    {
      "cell_type": "code",
      "source": [
        "def split_data(x,y, train_size= 0.8):\n",
        "    # shuffle the data to randomize the train/test split\n",
        "    \n",
        "    # stack the data\n",
        "    if y.ndim == 1:\n",
        "      y = y.reshape(-1,1)\n",
        "    data = np.hstack((x,y))\n",
        "\n",
        "    # shuffle the dataset\n",
        "    np.random.shuffle(data)\n",
        "\n",
        "    n = x.shape[0]\n",
        "\n",
        "    # split the data\n",
        "    x_train, y_train = data[0 : round(n*train_size), :-1], data[0 : round(n*train_size), -1]\n",
        "    x_test, y_test  =  data[round(n*train_size) : , :-1],  data[round(n*train_size) : , -1]\n",
        "\n",
        "    return x_train, x_test, y_train, y_test"
      ],
      "metadata": {
        "id": "EUgiWLDhUAAK"
      },
      "execution_count": 3,
      "outputs": []
    },
    {
      "cell_type": "code",
      "source": [
        "X_train, X_test, y_train, y_test= split_data(x,y, train_size= 0.8) # split your data into x_train, x_test, y_train, y_test\n",
        "print(X_train.shape, y_train.shape, X_test.shape, y_test.shape)"
      ],
      "metadata": {
        "colab": {
          "base_uri": "https://localhost:8080/"
        },
        "id": "Cr2Akm_A_FcJ",
        "outputId": "f21a247c-99ed-4ea8-982f-02e856a9934f"
      },
      "execution_count": 4,
      "outputs": [
        {
          "output_type": "stream",
          "name": "stdout",
          "text": [
            "(800, 3) (800,) (200, 3) (200,)\n"
          ]
        }
      ]
    },
    {
      "cell_type": "code",
      "source": [
        "def covariance(x, mu):\n",
        "\n",
        "  # Easy way: cov= np.cov(x, rowvar=0) but do not use it. One can use it to assess his/her result.\n",
        "  num_rows, num_cols = x.shape\n",
        "  covariance_matrix = np.zeros((num_cols, num_cols))\n",
        "\n",
        "  for i in range(num_cols):\n",
        "    for j in range(num_cols):\n",
        "\n",
        "      covariance_matrix[i][j] = (1/(num_rows-1))* np.sum((x.T[i] - mu[i]) @ (x.T[j] - mu[j]).T)\n",
        "  \n",
        "  \n",
        "  return covariance_matrix\n"
      ],
      "metadata": {
        "id": "FrJ7GfXBHNxD"
      },
      "execution_count": 5,
      "outputs": []
    },
    {
      "cell_type": "code",
      "source": [
        "class GDA:\n",
        "  def __init__(self):\n",
        "    ## set mu, phi and sigma to None\n",
        "    self.mu = None\n",
        "    self.phi = None\n",
        "    self.sigma = None\n",
        "    \n",
        "  def fit(self,x,y):\n",
        "\n",
        "    k = len(np.unique(y)) # Number of class.\n",
        "    d = x.shape[1]  # input dim\n",
        "    m = x.shape[0] # Number of examples.\n",
        "    diff_classes = np.unique(y)\n",
        "    \n",
        "    ## Initialize mu, phi and sigma\n",
        "    self.mu = np.zeros((k,d))\n",
        "    self.phi = np.zeros((k,1))\n",
        "    self.sigma = np.zeros((k,d,d))\n",
        "\n",
        "    # for lab in range(k):\n",
        "      \n",
        "    #   self.phi[lab] = np.sum(lab == y)/m # k-dimension\n",
        "\n",
        "\n",
        "    #   self.mu = np.mean(x[lab == y], axis = 0)#: kxd, i.e., each row contains an individual class mu.\n",
        "    #   self.sigma[lab] = covariance()  #: kxdxd, i.e., each row contains an individual class sigma.\n",
        "\n",
        "    ## START THE LEARNING: estimate mu, phi and sigma.\n",
        "\n",
        "    for i, item in enumerate(diff_classes):\n",
        "      bool_item = [(y == item)]\n",
        "\n",
        "      self.phi[i] = len(y[bool_item])/m\n",
        "\n",
        "      for j in range(d):\n",
        "        self.mu[i,j] = np.sum((x[bool_item].T)[j])/x[bool_item].shape[0]\n",
        "\n",
        "      self.sigma[i] = covariance(x, self.mu[i])\n",
        "\n",
        "\n",
        "  def predict_proba(self,x):\n",
        "    # reshape or flatt x.\n",
        "    #x \n",
        "    d = x.shape[1]\n",
        "    k_class = self.mu.shape[0]  # Number of classes we have in our case it's k = 2\n",
        "    \n",
        "    ## START THE LEARNING: estimate mu, phi and sigma.\n",
        "\n",
        "    log_y_probas = np.zeros((x.shape[0], k_class))\n",
        "\n",
        "    for k in range(k_class):\n",
        "      det = np.linalg.det(self.sigma[k])\n",
        "      inverse = np.linalg.inv(self.sigma[k])\n",
        "\n",
        "      for row in range(x.shape[0]):\n",
        "        #y_probas[row, k] = ( 1 / ((2*np.pi)**(d/2)) * ((det)**0.5) ) * np.exp( (-0.5) * (x[row] - self.mu[k]).T @ inverse @ (x[row] - self.mu[k]) ) * self.phi[k]\n",
        "        log_y_probas[row, k] = np.log(( 1 / ((2*np.pi)**(d/2)) * ((det)**0.5) ) * np.exp( (-0.5) * (x[row] - self.mu[k]).T @ inverse @ (x[row] - self.mu[k]) ) )  + np.log( self.phi[k])\n",
        "                               \n",
        "    return log_y_probas\n",
        "\n",
        "\n",
        "  def predict(self,x):\n",
        "    y_pred = np.zeros(x.shape[0])\n",
        "\n",
        "    for i in range(y_pred.shape[0]):\n",
        "      y_pred[i] = np.argmax(self.predict_proba(x)[i])\n",
        "\n",
        "    return y_pred\n",
        "  \n",
        "  def accuracy(self, y, ypreds):\n",
        "    acc = np.mean(y == ypreds)*100\n",
        "    \n",
        "    return acc"
      ],
      "metadata": {
        "id": "1ocKLDAfceF0"
      },
      "execution_count": 6,
      "outputs": []
    },
    {
      "cell_type": "code",
      "source": [
        "model= GDA()\n",
        "model.fit(X_train,y_train)"
      ],
      "metadata": {
        "id": "l_qO0Yp1c3Is",
        "colab": {
          "base_uri": "https://localhost:8080/"
        },
        "outputId": "ea8407e9-64e4-4827-c3b1-a4ab2df38ad3"
      },
      "execution_count": 7,
      "outputs": [
        {
          "output_type": "stream",
          "name": "stderr",
          "text": [
            "<ipython-input-6-548f7bc1e76a>:33: FutureWarning: Using a non-tuple sequence for multidimensional indexing is deprecated; use `arr[tuple(seq)]` instead of `arr[seq]`. In the future this will be interpreted as an array index, `arr[np.array(seq)]`, which will result either in an error or a different result.\n",
            "  self.phi[i] = len(y[bool_item])/m\n",
            "<ipython-input-6-548f7bc1e76a>:36: FutureWarning: Using a non-tuple sequence for multidimensional indexing is deprecated; use `arr[tuple(seq)]` instead of `arr[seq]`. In the future this will be interpreted as an array index, `arr[np.array(seq)]`, which will result either in an error or a different result.\n",
            "  self.mu[i,j] = np.sum((x[bool_item].T)[j])/x[bool_item].shape[0]\n"
          ]
        }
      ]
    },
    {
      "cell_type": "code",
      "source": [
        "yproba= model.predict_proba(X_test)\n",
        "yproba"
      ],
      "metadata": {
        "id": "NKY1eojY1l4e",
        "colab": {
          "base_uri": "https://localhost:8080/"
        },
        "outputId": "abce0a3f-45f5-422b-cc86-2ba1e534f7b9"
      },
      "execution_count": 8,
      "outputs": [
        {
          "output_type": "execute_result",
          "data": {
            "text/plain": [
              "array([[ -4.48346246,  -3.62323111],\n",
              "       [ -4.1754734 ,  -5.05032693],\n",
              "       [-10.89684335,  -8.77582176],\n",
              "       [ -3.90162244,  -3.00782902],\n",
              "       [ -3.48402705,  -4.71350077],\n",
              "       [ -4.22783531,  -5.13019001],\n",
              "       [ -3.72279318,  -4.52835331],\n",
              "       [ -3.40902591,  -4.7812414 ],\n",
              "       [ -3.83922415,  -3.58857503],\n",
              "       [ -3.15258126,  -3.01587987],\n",
              "       [ -5.49233906,  -4.06037284],\n",
              "       [ -4.91618898,  -3.15038196],\n",
              "       [ -4.55850336,  -3.45661375],\n",
              "       [ -6.18157508,  -4.83612004],\n",
              "       [ -5.16070285,  -6.33916817],\n",
              "       [ -4.11380779,  -5.50625639],\n",
              "       [ -2.844148  ,  -3.77967766],\n",
              "       [ -3.25972043,  -3.44729532],\n",
              "       [ -4.6560945 ,  -3.70570389],\n",
              "       [ -3.27177335,  -2.87845454],\n",
              "       [ -3.5770731 ,  -4.25635429],\n",
              "       [ -2.9018006 ,  -3.98368071],\n",
              "       [ -6.16643634,  -3.9792671 ],\n",
              "       [ -4.94051075,  -3.58248874],\n",
              "       [ -5.1402838 ,  -4.02255656],\n",
              "       [ -3.04429773,  -3.4979234 ],\n",
              "       [ -3.04169623,  -3.5363051 ],\n",
              "       [ -4.27093838,  -2.97182791],\n",
              "       [ -3.47772875,  -4.74149838],\n",
              "       [ -2.83473682,  -3.86865208],\n",
              "       [ -6.16343237,  -4.73062048],\n",
              "       [ -3.6372769 ,  -3.51495472],\n",
              "       [ -3.39651879,  -4.63651117],\n",
              "       [ -3.56455405,  -3.92532444],\n",
              "       [ -6.31513696,  -6.7501246 ],\n",
              "       [ -3.21647734,  -3.80333099],\n",
              "       [ -3.04315426,  -4.00185188],\n",
              "       [ -3.94856884,  -3.24804689],\n",
              "       [ -3.66393046,  -4.05266823],\n",
              "       [ -2.96579998,  -3.43790928],\n",
              "       [ -2.94122315,  -3.87282318],\n",
              "       [ -3.29740021,  -4.13813828],\n",
              "       [ -3.29093133,  -3.40249073],\n",
              "       [ -4.38714812,  -3.24659018],\n",
              "       [ -3.41204768,  -4.46977601],\n",
              "       [ -4.67587646,  -6.18696304],\n",
              "       [ -7.47078973,  -6.73136309],\n",
              "       [ -4.40380988,  -3.15868212],\n",
              "       [ -4.18745481,  -3.21406789],\n",
              "       [ -3.48362498,  -3.2811637 ],\n",
              "       [ -5.84832272,  -4.76046212],\n",
              "       [ -2.84129403,  -3.70438943],\n",
              "       [ -3.18571084,  -3.1759417 ],\n",
              "       [ -4.14837456,  -2.99564698],\n",
              "       [ -8.52314366,  -9.08575924],\n",
              "       [ -4.40342432,  -5.37750733],\n",
              "       [ -3.7466124 ,  -4.87458285],\n",
              "       [ -3.75948007,  -4.09397631],\n",
              "       [ -3.08044449,  -3.94612369],\n",
              "       [ -3.16945448,  -4.02945811],\n",
              "       [ -4.61690985,  -3.03167522],\n",
              "       [ -7.45539947,  -5.50383569],\n",
              "       [ -4.49979323,  -3.91226602],\n",
              "       [ -4.64790658,  -4.33560078],\n",
              "       [ -3.99289568,  -3.07872581],\n",
              "       [ -3.25796633,  -3.02302481],\n",
              "       [ -3.93343749,  -2.81931546],\n",
              "       [ -3.65384123,  -4.51717676],\n",
              "       [ -3.99559863,  -3.05220184],\n",
              "       [ -3.6273902 ,  -3.31173518],\n",
              "       [ -4.01878911,  -5.35555635],\n",
              "       [ -3.72519182,  -4.55526137],\n",
              "       [ -6.56108729,  -5.76459128],\n",
              "       [ -3.52153983,  -3.14632439],\n",
              "       [ -4.18511197,  -5.82425864],\n",
              "       [ -6.79307799,  -6.93954378],\n",
              "       [ -5.22686606,  -4.49755567],\n",
              "       [ -3.95016726,  -3.23068477],\n",
              "       [ -3.96101065,  -4.79296514],\n",
              "       [ -4.71959362,  -3.55530008],\n",
              "       [ -4.25834719,  -3.24665022],\n",
              "       [ -6.28497714,  -7.86187558],\n",
              "       [ -4.74497007,  -3.4199374 ],\n",
              "       [ -4.45447473,  -3.11900952],\n",
              "       [ -5.05315979,  -6.51320133],\n",
              "       [ -6.45250696,  -5.24449846],\n",
              "       [ -4.20370529,  -3.01574402],\n",
              "       [ -6.82399732,  -4.70657969],\n",
              "       [ -4.33006704,  -4.63273962],\n",
              "       [ -5.92499667,  -3.8287263 ],\n",
              "       [ -3.81347483,  -2.80112227],\n",
              "       [ -3.27926766,  -4.26041291],\n",
              "       [ -3.09988944,  -4.30422086],\n",
              "       [ -3.35687217,  -3.03155998],\n",
              "       [ -3.92551319,  -4.678979  ],\n",
              "       [ -3.8424876 ,  -2.83935765],\n",
              "       [ -4.23485685,  -3.26969702],\n",
              "       [ -3.11893215,  -4.12105735],\n",
              "       [ -3.17638636,  -3.85955037],\n",
              "       [ -3.05733147,  -3.21013978],\n",
              "       [ -3.08554451,  -3.96539033],\n",
              "       [ -3.24984839,  -3.17699997],\n",
              "       [ -3.69883009,  -4.40232918],\n",
              "       [ -3.04645986,  -3.61848759],\n",
              "       [ -5.05159033,  -3.42138787],\n",
              "       [ -3.04287689,  -4.02488653],\n",
              "       [ -2.86877024,  -3.76284903],\n",
              "       [ -4.21449476,  -4.37452479],\n",
              "       [ -3.99374701,  -4.52367797],\n",
              "       [ -3.09360324,  -4.16974385],\n",
              "       [ -4.17791244,  -5.3657024 ],\n",
              "       [ -4.70260136,  -6.00695385],\n",
              "       [ -4.41165761,  -3.41979597],\n",
              "       [ -3.66254204,  -3.79105527],\n",
              "       [ -3.48196141,  -2.83249939],\n",
              "       [ -4.57839517,  -3.04511909],\n",
              "       [ -3.56242044,  -4.65715053],\n",
              "       [ -4.45757016,  -5.53864227],\n",
              "       [ -3.66513885,  -5.03885096],\n",
              "       [ -5.44750348,  -4.48784407],\n",
              "       [ -3.80239274,  -5.02414093],\n",
              "       [ -6.10145794,  -4.29936707],\n",
              "       [ -2.88383519,  -3.79134649],\n",
              "       [ -3.20858585,  -3.35893628],\n",
              "       [ -3.25861848,  -3.74813064],\n",
              "       [ -3.28843951,  -3.02644899],\n",
              "       [ -3.01372194,  -4.4541476 ],\n",
              "       [ -3.35639143,  -4.60931089],\n",
              "       [ -3.6716172 ,  -4.88901913],\n",
              "       [ -4.66774724,  -3.57401024],\n",
              "       [ -3.63589564,  -4.89789047],\n",
              "       [ -4.06649017,  -4.85216728],\n",
              "       [ -3.65432498,  -3.26322121],\n",
              "       [ -4.08311209,  -3.37579399],\n",
              "       [ -6.04558346,  -5.25093604],\n",
              "       [ -3.4939821 ,  -3.03756775],\n",
              "       [ -3.08864449,  -3.30700086],\n",
              "       [ -4.11602016,  -3.65519245],\n",
              "       [ -4.3358937 ,  -3.52559509],\n",
              "       [ -4.45090156,  -3.15283408],\n",
              "       [ -4.4011049 ,  -5.70502141],\n",
              "       [ -3.12348674,  -2.92788647],\n",
              "       [ -7.48424565,  -4.58243899],\n",
              "       [ -3.09571724,  -3.9483163 ],\n",
              "       [ -3.62615423,  -4.2363689 ],\n",
              "       [ -3.23062669,  -4.09292175],\n",
              "       [ -3.53654931,  -2.84184214],\n",
              "       [ -3.85153753,  -4.66248891],\n",
              "       [ -4.02870366,  -3.22262979],\n",
              "       [ -4.23720269,  -3.04896836],\n",
              "       [ -5.42204216,  -7.52162649],\n",
              "       [ -3.90057191,  -5.43889042],\n",
              "       [ -3.32235769,  -4.18115379],\n",
              "       [ -3.03692823,  -4.2346018 ],\n",
              "       [ -2.91377528,  -3.36790162],\n",
              "       [ -4.13882956,  -3.23405124],\n",
              "       [ -5.23037373,  -3.87708056],\n",
              "       [ -4.73182376,  -3.89294303],\n",
              "       [ -3.42332879,  -4.55803809],\n",
              "       [ -3.16528046,  -4.1551863 ],\n",
              "       [ -5.00627147,  -3.57485087],\n",
              "       [ -3.70773908,  -2.87207564],\n",
              "       [ -4.74221643,  -3.81621236],\n",
              "       [ -2.83087107,  -3.65833254],\n",
              "       [ -3.67899695,  -4.1127653 ],\n",
              "       [ -5.83314758,  -4.69484283],\n",
              "       [ -5.20349892,  -5.34657309],\n",
              "       [ -3.39054786,  -3.82454937],\n",
              "       [ -4.63871523,  -5.11269279],\n",
              "       [ -4.59157509,  -5.34631817],\n",
              "       [ -3.84020234,  -4.87797333],\n",
              "       [ -4.29302899,  -4.64930576],\n",
              "       [ -2.96905802,  -4.02228482],\n",
              "       [ -3.85084427,  -2.91513712],\n",
              "       [ -5.33829201,  -3.39662738],\n",
              "       [ -3.90067942,  -3.2023201 ],\n",
              "       [ -3.31657608,  -3.13530618],\n",
              "       [ -3.06250275,  -3.75029861],\n",
              "       [ -4.47863838,  -3.04039087],\n",
              "       [ -4.220368  ,  -5.38130281],\n",
              "       [ -5.1326661 ,  -3.28446189],\n",
              "       [ -6.31441033,  -7.07820322],\n",
              "       [ -7.0336755 ,  -5.04070288],\n",
              "       [ -4.23004409,  -3.45633198],\n",
              "       [ -3.83923346,  -4.48454065],\n",
              "       [ -3.9445809 ,  -3.18878973],\n",
              "       [ -6.17335961,  -4.07437608],\n",
              "       [ -5.55309964,  -4.24250069],\n",
              "       [ -3.57652422,  -4.90017306],\n",
              "       [ -4.86786198,  -3.88137759],\n",
              "       [ -6.2706134 ,  -6.73670776],\n",
              "       [ -2.80162428,  -3.66625577],\n",
              "       [ -5.01073109,  -3.79018403],\n",
              "       [ -5.01327179,  -3.76668597],\n",
              "       [ -3.09596155,  -3.77318339],\n",
              "       [ -5.22407904,  -5.78626746],\n",
              "       [ -3.77082567,  -4.97398156],\n",
              "       [ -3.03907952,  -3.77993226],\n",
              "       [ -4.38419629,  -3.91011185],\n",
              "       [ -4.14324417,  -2.89782076]])"
            ]
          },
          "metadata": {},
          "execution_count": 8
        }
      ]
    },
    {
      "cell_type": "code",
      "source": [
        "ypreds= model.predict(X_test)\n",
        "ypreds\n"
      ],
      "metadata": {
        "id": "D4clV6PK1UJK",
        "colab": {
          "base_uri": "https://localhost:8080/"
        },
        "outputId": "eaef3832-445c-41a3-c34a-fad556809182"
      },
      "execution_count": 9,
      "outputs": [
        {
          "output_type": "execute_result",
          "data": {
            "text/plain": [
              "array([1., 0., 1., 1., 0., 0., 0., 0., 1., 1., 1., 1., 1., 1., 0., 0., 0.,\n",
              "       0., 1., 1., 0., 0., 1., 1., 1., 0., 0., 1., 0., 0., 1., 1., 0., 0.,\n",
              "       0., 0., 0., 1., 0., 0., 0., 0., 0., 1., 0., 0., 1., 1., 1., 1., 1.,\n",
              "       0., 1., 1., 0., 0., 0., 0., 0., 0., 1., 1., 1., 1., 1., 1., 1., 0.,\n",
              "       1., 1., 0., 0., 1., 1., 0., 0., 1., 1., 0., 1., 1., 0., 1., 1., 0.,\n",
              "       1., 1., 1., 0., 1., 1., 0., 0., 1., 0., 1., 1., 0., 0., 0., 0., 1.,\n",
              "       0., 0., 1., 0., 0., 0., 0., 0., 0., 0., 1., 0., 1., 1., 0., 0., 0.,\n",
              "       1., 0., 1., 0., 0., 0., 1., 0., 0., 0., 1., 0., 0., 1., 1., 1., 1.,\n",
              "       0., 1., 1., 1., 0., 1., 1., 0., 0., 0., 1., 0., 1., 1., 0., 0., 0.,\n",
              "       0., 0., 1., 1., 1., 0., 0., 1., 1., 1., 0., 0., 1., 0., 0., 0., 0.,\n",
              "       0., 0., 0., 1., 1., 1., 1., 0., 1., 0., 1., 0., 1., 1., 0., 1., 1.,\n",
              "       1., 0., 1., 0., 0., 1., 1., 0., 0., 0., 0., 1., 1.])"
            ]
          },
          "metadata": {},
          "execution_count": 9
        }
      ]
    },
    {
      "cell_type": "code",
      "source": [
        "model.accuracy(y_test, ypreds)"
      ],
      "metadata": {
        "id": "QgG1xPUg1ULw",
        "colab": {
          "base_uri": "https://localhost:8080/"
        },
        "outputId": "b7bf26b8-c99a-4ba0-e7ef-cc0cf76b3f27"
      },
      "execution_count": 10,
      "outputs": [
        {
          "output_type": "execute_result",
          "data": {
            "text/plain": [
              "95.0"
            ]
          },
          "metadata": {},
          "execution_count": 10
        }
      ]
    }
  ]
}