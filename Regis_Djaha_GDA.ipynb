{
 "cells": [
  {
   "cell_type": "markdown",
   "metadata": {
    "id": "g17Z46tmw2oZ"
   },
   "source": [
    "# GDA Implementation.\n",
    "\n",
    "Implement the Gaussian Discriminant Analysis (GDA) learning algorithm following the steps as discussed in class.\n",
    "\n",
    "INSTRUCTION: Rename your notebook as: <br>\n",
    "`firstName_LastName_Live_coding_GDA.ipynb`.\n",
    "\n",
    "Notes: \n",
    "* Do not use any built-in functions to complete a task;\n",
    "* Do not import additional libraries."
   ]
  },
  {
   "cell_type": "code",
   "execution_count": 111,
   "metadata": {
    "id": "aT5nlL-QTKwv"
   },
   "outputs": [],
   "source": [
    "import numpy as np\n",
    "import matplotlib.pyplot as plt\n",
    "from sklearn.datasets import make_classification"
   ]
  },
  {
   "cell_type": "code",
   "execution_count": 112,
   "metadata": {
    "colab": {
     "base_uri": "https://localhost:8080/"
    },
    "id": "_-lL4Yq9Tbzn",
    "outputId": "30937363-7f7e-4360-e123-b4cdb1ebe441"
   },
   "outputs": [
    {
     "name": "stdout",
     "output_type": "stream",
     "text": [
      "(1000, 3) (1000,)\n"
     ]
    }
   ],
   "source": [
    "# Generate data\n",
    "def generate_data():\n",
    "  x, y = make_classification(n_samples= 1000, n_features=3, n_redundant=0, \n",
    "                           n_informative=3, random_state=1, \n",
    "                           n_clusters_per_class=1)\n",
    "  \n",
    "  return x,y\n",
    "\n",
    "x,y= generate_data() # get data\n",
    "print(x.shape, y.shape)"
   ]
  },
  {
   "cell_type": "code",
   "execution_count": 113,
   "metadata": {
    "id": "EUgiWLDhUAAK"
   },
   "outputs": [],
   "source": [
    "def split_data(x,y, train_size= 0.8):\n",
    "    # shuffle the data to randomize the train/test split\n",
    "    indices = np.random.permutation(len(y))\n",
    "    \n",
    "    # Split the shuffled indices into training and testing sets\n",
    "    train_indices = indices[:int(train_size*len(y))]\n",
    "    test_indices = indices[int(train_size*len(y)):]\n",
    "    \n",
    "    # Use the shuffled indices to extract the corresponding data\n",
    "    x_train, x_test = x[train_indices], x[test_indices]\n",
    "    y_train, y_test = y[train_indices], y[test_indices]\n",
    "    return x_train, x_test, y_train, y_test"
   ]
  },
  {
   "cell_type": "code",
   "execution_count": 114,
   "metadata": {},
   "outputs": [
    {
     "name": "stdout",
     "output_type": "stream",
     "text": [
      "(800, 3) (800,) (200, 3) (200,)\n"
     ]
    }
   ],
   "source": [
    "X_train, X_test, y_train, y_test= split_data(x, y, train_size=0.8)# split your data into x_train, x_test, y_train, y_test\n",
    "print(X_train.shape, y_train.shape, X_test.shape, y_test.shape)"
   ]
  },
  {
   "cell_type": "code",
   "execution_count": 115,
   "metadata": {},
   "outputs": [],
   "source": [
    "def covariance(x, mu):\n",
    "    d = x.shape[1]\n",
    "    mu=np.mean(x,axis=0)\n",
    "    cov = np.zeros((d, d))\n",
    "    for i in range(d):\n",
    "        for j in range(d):\n",
    "            cov[i, j] = np.sum((x[:,i] - mu[i]) * (x[:,j] - mu[j])) / (len(x) - 1)\n",
    "    return cov"
   ]
  },
  {
   "cell_type": "code",
   "execution_count": 116,
   "metadata": {},
   "outputs": [
    {
     "name": "stdout",
     "output_type": "stream",
     "text": [
      "[-0.01298493  0.99925415  0.02975341]\n"
     ]
    }
   ],
   "source": [
    "print(np.mean(x,axis=0))"
   ]
  },
  {
   "cell_type": "code",
   "execution_count": 117,
   "metadata": {},
   "outputs": [
    {
     "data": {
      "text/plain": [
       "array([[1.84495325, 0.02790646, 1.00137533],\n",
       "       [0.02790646, 1.00170721, 0.05539176],\n",
       "       [1.00137533, 0.05539176, 1.74832   ]])"
      ]
     },
     "execution_count": 117,
     "metadata": {},
     "output_type": "execute_result"
    }
   ],
   "source": [
    "mu=np.mean(x,axis=0)\n",
    "covariance(x, mu)"
   ]
  },
  {
   "cell_type": "code",
   "execution_count": 118,
   "metadata": {},
   "outputs": [
    {
     "data": {
      "text/plain": [
       "array([[1.84495325, 0.02790646, 1.00137533],\n",
       "       [0.02790646, 1.00170721, 0.05539176],\n",
       "       [1.00137533, 0.05539176, 1.74832   ]])"
      ]
     },
     "execution_count": 118,
     "metadata": {},
     "output_type": "execute_result"
    }
   ],
   "source": [
    "np.cov(x,rowvar=0)"
   ]
  },
  {
   "cell_type": "code",
   "execution_count": 119,
   "metadata": {
    "id": "1ocKLDAfceF0"
   },
   "outputs": [],
   "source": [
    "class GDA:\n",
    "  def __init__(self):\n",
    "    ## set mu, phi and sigma to None\n",
    "    self.mu=None\n",
    "    self.phi=None\n",
    "    self.sigma=None\n",
    "    \n",
    "  def fit(self,x,y):\n",
    "    k=2 #np.unique(y).size  # Number of class.\n",
    "    d=x.shape[1] # input dim\n",
    "    m= x.shape[0]# Number of examples.\n",
    "    \n",
    "    ## Initialize mu, phi and sigma\n",
    "    self.mu= np.zeros((k,d))#: kxd, i.e., each row contains an individual class mu.\n",
    "    self.sigma= np.zeros((k,d,d))#: kxdxd, i.e., each row contains an individual class sigma.\n",
    "    self.phi= np.zeros((k))# d-dimension\n",
    "\n",
    "    ## START THE LEARNING: estimate mu, phi and sigma.\n",
    "    for lab in range(k):\n",
    "        \n",
    "        self.phi[lab] = np.sum(lab==y)/m \n",
    "        self.mu[lab] = np.mean(x[lab==y], axis=0)\n",
    "        self.sigma[lab] = covariance(x[lab==y], self.mu[lab])\n",
    "    return self.phi,self.mu, self.sigma\n",
    "            \n",
    "            \n",
    "\n",
    "  def predict_proba(self,x):\n",
    "    # reshape or flatt x.\n",
    "    #x= x.reshape(-1, self.mu.shape[1])\n",
    "    #x=x.reshape(-1,1)\n",
    "    #x=self.mu.shape[0]\n",
    "    d= x.shape[0]\n",
    "    #k_class = self.mu.shape[0] \n",
    "    k_class= self.mu.shape[0]  # Number of classes we have in our case it's k = 2\n",
    "    probabilities = np.zeros((d, k_class))\n",
    "    det_cov = []\n",
    "    inv_cov = []\n",
    "    \n",
    "    ## START THE LEARNING: estimate mu, phi and sigma.\n",
    "    for lab in range(k_class):\n",
    "        det_cov= np.linalg.det(self.sigma[lab])\n",
    "        inv_cov=np.linalg.inv(self.sigma[lab])\n",
    "        for j in range(x.shape[0]):\n",
    "            first_term=1/((2*np.pi)**(d/2)*(det_cov**0.5))\n",
    "            #first_term=((1/(((2*np.pi)**(d/2))*(det_cov**0.5)))\n",
    "            exponential=-0.5*((x[j]-self.mu[lab]).T)@(inv_cov)@(x[j]-self.mu[lab])\n",
    "            second_term=np.exp(exponential)\n",
    "            probabilities[j, lab] = first_term*second_term*self.phi[lab]\n",
    "    return probabilities\n",
    "\n",
    "  def predict(self,x):\n",
    "    predict=self.predict_proba(x)\n",
    "    \n",
    "    y = np.argmax(predict,axis = 1)\n",
    "    #Predict = np.argmax(self.predict_proba(x))\n",
    "    return y\n",
    "    \n",
    "  \n",
    "  def accuracy(self, y, ypreds):\n",
    "#     ypred = self.predict(y)\n",
    "    result = np.mean(y == ypreds)\n",
    "    return result * 100 "
   ]
  },
  {
   "cell_type": "code",
   "execution_count": null,
   "metadata": {},
   "outputs": [],
   "source": []
  },
  {
   "cell_type": "code",
   "execution_count": null,
   "metadata": {},
   "outputs": [],
   "source": []
  },
  {
   "cell_type": "code",
   "execution_count": null,
   "metadata": {},
   "outputs": [],
   "source": []
  },
  {
   "cell_type": "code",
   "execution_count": 120,
   "metadata": {
    "id": "l_qO0Yp1c3Is"
   },
   "outputs": [
    {
     "data": {
      "text/plain": [
       "(array([0.50625, 0.49375]),\n",
       " array([[ 0.97158398,  1.04184047,  1.00013347],\n",
       "        [-1.01066815,  0.97276821, -0.93414824]]),\n",
       " array([[[ 0.91041516, -0.37996505, -0.05881342],\n",
       "         [-0.37996505,  1.64272683,  0.09266468],\n",
       "         [-0.05881342,  0.09266468,  0.03710057]],\n",
       " \n",
       "        [[ 0.83187797,  0.34838457,  0.16597655],\n",
       "         [ 0.34838457,  0.36286157, -0.07449524],\n",
       "         [ 0.16597655, -0.07449524,  1.58301942]]]))"
      ]
     },
     "execution_count": 120,
     "metadata": {},
     "output_type": "execute_result"
    }
   ],
   "source": [
    "model= GDA()\n",
    "model.fit(X_train,y_train)"
   ]
  },
  {
   "cell_type": "code",
   "execution_count": 121,
   "metadata": {
    "id": "NKY1eojY1l4e"
   },
   "outputs": [
    {
     "data": {
      "text/plain": [
       "array([[8.54640805e-151, 8.05798495e-081],\n",
       "       [3.76266333e-210, 1.45416664e-081],\n",
       "       [8.38430948e-081, 2.46456295e-085],\n",
       "       [1.36693302e-080, 3.51599754e-086],\n",
       "       [2.60536747e-094, 2.71093425e-081],\n",
       "       [3.43738189e-185, 5.30029558e-081],\n",
       "       [2.48273213e-104, 8.90787342e-081],\n",
       "       [3.23279711e-080, 5.13036960e-082],\n",
       "       [5.10526019e-087, 8.31190460e-081],\n",
       "       [5.55913864e-117, 8.93840224e-081],\n",
       "       [6.00518694e-081, 2.31149987e-082],\n",
       "       [4.91468279e-082, 5.08489011e-081],\n",
       "       [2.29852102e-200, 3.65085163e-081],\n",
       "       [1.96167133e-080, 1.02778847e-082],\n",
       "       [3.22550180e-080, 1.55557474e-081],\n",
       "       [1.71957362e-115, 9.49515755e-081],\n",
       "       [3.21605387e-136, 1.17665077e-080],\n",
       "       [1.26319569e-241, 1.13914352e-081],\n",
       "       [8.42339648e-081, 2.08258779e-083],\n",
       "       [1.68033287e-080, 9.69116161e-084],\n",
       "       [7.87651818e-142, 6.29431462e-081],\n",
       "       [9.93470831e-082, 9.54897868e-086],\n",
       "       [1.37410895e-083, 6.86389857e-081],\n",
       "       [1.42693538e-080, 1.31679141e-086],\n",
       "       [3.92760566e-205, 3.01493306e-081],\n",
       "       [4.04333543e-081, 5.69674389e-082],\n",
       "       [2.98679940e-080, 1.82807190e-084],\n",
       "       [1.28548471e-081, 3.24103431e-082],\n",
       "       [3.42152701e-160, 3.43892162e-081],\n",
       "       [1.10414866e-080, 8.47809595e-083],\n",
       "       [8.59025856e-081, 3.33535335e-085],\n",
       "       [3.22259801e-086, 8.79534042e-081],\n",
       "       [2.28955714e-080, 1.51360096e-083],\n",
       "       [4.89047188e-081, 5.60227018e-084],\n",
       "       [9.16947924e-118, 2.77708795e-081],\n",
       "       [2.68453940e-080, 9.50282025e-083],\n",
       "       [1.40134407e-080, 1.45119398e-082],\n",
       "       [4.87688932e-082, 6.31046442e-099],\n",
       "       [3.12858599e-096, 7.32722929e-082],\n",
       "       [8.22025648e-179, 3.56925389e-081],\n",
       "       [5.98788864e-081, 1.38242552e-091],\n",
       "       [1.12138993e-083, 9.64886285e-082],\n",
       "       [3.33712492e-080, 5.38926207e-083],\n",
       "       [3.08829214e-080, 3.50208201e-082],\n",
       "       [1.05615739e-091, 1.09066945e-080],\n",
       "       [4.68770925e-105, 1.09722946e-080],\n",
       "       [1.76916162e-080, 4.37996420e-083],\n",
       "       [1.30983198e-084, 7.93583411e-081],\n",
       "       [1.60310785e-080, 8.29509769e-088],\n",
       "       [5.42716101e-083, 1.56423667e-082],\n",
       "       [9.01459258e-133, 1.24780978e-080],\n",
       "       [2.36287080e-080, 2.12283046e-084],\n",
       "       [2.47697788e-107, 4.27258864e-081],\n",
       "       [1.43335856e-100, 1.28505177e-080],\n",
       "       [4.76452427e-133, 4.86940231e-082],\n",
       "       [6.15861128e-081, 4.60624898e-082],\n",
       "       [4.99061946e-093, 8.01170902e-081],\n",
       "       [1.22739018e-087, 3.66945920e-081],\n",
       "       [9.70735457e-085, 3.26236667e-082],\n",
       "       [1.43490060e-134, 7.55059000e-081],\n",
       "       [3.11319335e-080, 1.80138984e-082],\n",
       "       [1.33160883e-081, 3.09856701e-084],\n",
       "       [4.73835120e-082, 1.05148436e-102],\n",
       "       [7.42464246e-182, 2.54505446e-081],\n",
       "       [5.63917170e-137, 3.59284075e-081],\n",
       "       [8.24768587e-122, 9.93315017e-081],\n",
       "       [2.68935441e-081, 1.32388917e-096],\n",
       "       [6.08717392e-081, 3.00167984e-086],\n",
       "       [3.18225545e-080, 1.52701699e-084],\n",
       "       [1.04127267e-168, 4.94225428e-081],\n",
       "       [1.76316673e-127, 5.39262298e-081],\n",
       "       [7.88580625e-084, 7.78196306e-082],\n",
       "       [1.51285416e-080, 1.02865193e-082],\n",
       "       [1.50770815e-080, 1.16401004e-082],\n",
       "       [2.88358164e-080, 3.86723541e-082],\n",
       "       [6.08192755e-183, 2.65974348e-081],\n",
       "       [2.42043286e-089, 5.08913574e-081],\n",
       "       [1.32726301e-080, 1.47169698e-090],\n",
       "       [9.88981090e-105, 1.02436478e-080],\n",
       "       [2.40788166e-080, 5.72817555e-082],\n",
       "       [3.42017363e-080, 2.76671364e-083],\n",
       "       [7.51885380e-108, 3.47688917e-081],\n",
       "       [2.81925017e-086, 8.55154356e-081],\n",
       "       [2.97925970e-080, 3.39527735e-082],\n",
       "       [1.85729261e-080, 1.43375436e-081],\n",
       "       [9.94502739e-081, 2.94876468e-084],\n",
       "       [2.94556205e-124, 5.49165675e-081],\n",
       "       [3.54338385e-113, 3.65771964e-081],\n",
       "       [7.79510415e-083, 4.48160045e-081],\n",
       "       [2.40889386e-080, 5.83507070e-082],\n",
       "       [1.11130707e-080, 1.11822169e-088],\n",
       "       [1.39534276e-088, 6.19379082e-081],\n",
       "       [1.07371316e-082, 1.43801702e-081],\n",
       "       [1.12305975e-080, 6.06063346e-083],\n",
       "       [1.95937663e-131, 3.24593757e-081],\n",
       "       [9.64147729e-081, 2.52119628e-083],\n",
       "       [3.31427024e-126, 1.26624955e-080],\n",
       "       [9.21553354e-082, 1.67802993e-084],\n",
       "       [1.39555025e-168, 6.99393979e-081],\n",
       "       [6.36182591e-081, 2.61892317e-088],\n",
       "       [2.86625349e-096, 6.42118665e-081],\n",
       "       [2.69510196e-080, 8.89503420e-082],\n",
       "       [1.85829608e-080, 7.41782091e-083],\n",
       "       [6.84082515e-240, 2.83300171e-082],\n",
       "       [2.91739588e-080, 9.52965981e-082],\n",
       "       [2.94989106e-081, 8.59524716e-085],\n",
       "       [5.10011773e-091, 8.73813570e-082],\n",
       "       [1.06023527e-080, 4.67459306e-083],\n",
       "       [3.02546546e-102, 5.19712523e-081],\n",
       "       [1.51197745e-165, 2.33955369e-081],\n",
       "       [4.99224924e-125, 4.64712539e-081],\n",
       "       [4.37886998e-083, 1.68310376e-081],\n",
       "       [2.97224704e-080, 8.72585009e-082],\n",
       "       [3.78651267e-081, 3.78722145e-083],\n",
       "       [6.25227622e-135, 1.69734473e-081],\n",
       "       [4.88652328e-081, 1.82372967e-084],\n",
       "       [5.61635740e-084, 6.23167543e-081],\n",
       "       [1.82654179e-105, 1.13104104e-080],\n",
       "       [5.14969751e-093, 8.00800182e-081],\n",
       "       [1.26468536e-081, 1.05008966e-088],\n",
       "       [5.83554409e-103, 3.01788838e-081],\n",
       "       [2.79763437e-134, 1.26081617e-080],\n",
       "       [1.00718149e-080, 1.30976227e-090],\n",
       "       [1.29996612e-177, 4.81476500e-081],\n",
       "       [1.01419830e-080, 4.03944646e-082],\n",
       "       [5.81323427e-093, 8.03012959e-081],\n",
       "       [7.02711537e-116, 8.64026036e-081],\n",
       "       [1.67604894e-155, 3.32381972e-081],\n",
       "       [1.03382048e-120, 5.30005904e-081],\n",
       "       [2.46901141e-080, 1.05151357e-083],\n",
       "       [5.36238701e-085, 3.13430405e-081],\n",
       "       [6.36187476e-081, 6.05266297e-087],\n",
       "       [6.93236709e-081, 3.92395397e-088],\n",
       "       [3.49506984e-081, 7.31754379e-091],\n",
       "       [3.97951181e-082, 3.75803429e-111],\n",
       "       [1.61027292e-158, 1.05516822e-081],\n",
       "       [2.88063170e-080, 1.52860213e-081],\n",
       "       [2.22449237e-080, 1.68777731e-086],\n",
       "       [2.26226962e-080, 1.45466320e-086],\n",
       "       [1.51773277e-080, 5.04855012e-087],\n",
       "       [1.73124681e-081, 5.74360884e-083],\n",
       "       [1.55200357e-081, 7.61104160e-086],\n",
       "       [7.10447810e-139, 4.91250296e-081],\n",
       "       [5.08442484e-155, 7.10817308e-081],\n",
       "       [4.05830912e-133, 9.58054453e-081],\n",
       "       [1.23747979e-090, 6.77192598e-081],\n",
       "       [3.57972518e-080, 7.45861186e-082],\n",
       "       [1.50957747e-080, 4.44873522e-082],\n",
       "       [1.83687763e-151, 8.70126896e-081],\n",
       "       [9.89161646e-082, 1.32407600e-081],\n",
       "       [1.25695104e-159, 7.15586684e-081],\n",
       "       [9.59336072e-081, 3.92704713e-088],\n",
       "       [5.05021285e-113, 1.42061986e-080],\n",
       "       [2.09161310e-132, 5.60360902e-081],\n",
       "       [1.56622347e-188, 3.78831938e-081],\n",
       "       [3.55639290e-148, 5.14838939e-081],\n",
       "       [2.27062678e-084, 7.82119909e-082],\n",
       "       [1.48373483e-080, 1.43510389e-082],\n",
       "       [3.63751476e-081, 1.39250233e-083],\n",
       "       [1.94735465e-094, 6.11242114e-081],\n",
       "       [1.11184155e-118, 4.47754908e-081],\n",
       "       [1.39300778e-111, 8.23709045e-081],\n",
       "       [1.44571830e-080, 8.93624381e-088],\n",
       "       [2.18524664e-080, 6.84993586e-083],\n",
       "       [1.48373762e-091, 6.77797564e-081],\n",
       "       [8.27358938e-141, 8.01608423e-081],\n",
       "       [4.44664454e-181, 3.70192691e-081],\n",
       "       [1.08357941e-082, 3.01641066e-081],\n",
       "       [2.00040194e-080, 4.49654500e-082],\n",
       "       [1.11472756e-107, 1.01586879e-080],\n",
       "       [1.07463874e-080, 2.84002127e-083],\n",
       "       [1.00656506e-080, 1.05528350e-083],\n",
       "       [2.23039609e-080, 7.09818897e-083],\n",
       "       [9.65705916e-093, 8.79790051e-081],\n",
       "       [8.47619645e-081, 1.12107787e-083],\n",
       "       [1.91140385e-082, 3.30522340e-081],\n",
       "       [3.97872201e-104, 4.94867944e-081],\n",
       "       [1.13070500e-187, 2.77816321e-081],\n",
       "       [1.68785092e-094, 1.41361274e-081],\n",
       "       [2.46782917e-080, 4.57192185e-084],\n",
       "       [2.44229664e-117, 1.06628716e-080],\n",
       "       [3.38075371e-081, 1.83032191e-085],\n",
       "       [1.34235652e-080, 4.11522176e-082],\n",
       "       [4.27890425e-106, 1.20790339e-080],\n",
       "       [5.03728706e-081, 3.48317121e-083],\n",
       "       [5.79456591e-083, 4.42738556e-081],\n",
       "       [3.45983246e-080, 1.69696879e-082],\n",
       "       [1.40548284e-080, 2.52999660e-081],\n",
       "       [5.74139303e-081, 8.38262588e-089],\n",
       "       [1.54884102e-089, 1.41854125e-082],\n",
       "       [2.73869705e-080, 8.52769864e-085],\n",
       "       [1.51606301e-087, 6.61507340e-081],\n",
       "       [8.69905936e-228, 7.09890957e-082],\n",
       "       [4.45096761e-119, 8.13356461e-081],\n",
       "       [6.65536183e-112, 7.72336935e-082],\n",
       "       [5.40690828e-084, 8.52089982e-082],\n",
       "       [8.19554829e-081, 1.41126616e-082],\n",
       "       [6.83859903e-081, 2.99328789e-082],\n",
       "       [4.03242793e-081, 4.38836378e-084],\n",
       "       [3.31547226e-081, 1.00914994e-090]])"
      ]
     },
     "execution_count": 121,
     "metadata": {},
     "output_type": "execute_result"
    }
   ],
   "source": [
    "yproba= model.predict_proba(X_test)\n",
    "yproba"
   ]
  },
  {
   "cell_type": "code",
   "execution_count": 122,
   "metadata": {
    "id": "D4clV6PK1UJK"
   },
   "outputs": [
    {
     "data": {
      "text/plain": [
       "array([1, 1, 0, 0, 1, 1, 1, 0, 1, 1, 0, 1, 1, 0, 0, 1, 1, 1, 0, 0, 1, 0,\n",
       "       1, 0, 1, 0, 0, 0, 1, 0, 0, 1, 0, 0, 1, 0, 0, 0, 1, 1, 0, 1, 0, 0,\n",
       "       1, 1, 0, 1, 0, 1, 1, 0, 1, 1, 1, 0, 1, 1, 1, 1, 0, 0, 0, 1, 1, 1,\n",
       "       0, 0, 0, 1, 1, 1, 0, 0, 0, 1, 1, 0, 1, 0, 0, 1, 1, 0, 0, 0, 1, 1,\n",
       "       1, 0, 0, 1, 1, 0, 1, 0, 1, 0, 1, 0, 1, 0, 0, 1, 0, 0, 1, 0, 1, 1,\n",
       "       1, 1, 0, 0, 1, 0, 1, 1, 1, 0, 1, 1, 0, 1, 0, 1, 1, 1, 1, 0, 1, 0,\n",
       "       0, 0, 0, 1, 0, 0, 0, 0, 0, 0, 1, 1, 1, 1, 0, 0, 1, 1, 1, 0, 1, 1,\n",
       "       1, 1, 1, 0, 0, 1, 1, 1, 0, 0, 1, 1, 1, 1, 0, 1, 0, 0, 0, 1, 0, 1,\n",
       "       1, 1, 1, 0, 1, 0, 0, 1, 0, 1, 0, 0, 0, 1, 0, 1, 1, 1, 1, 1, 0, 0,\n",
       "       0, 0])"
      ]
     },
     "execution_count": 122,
     "metadata": {},
     "output_type": "execute_result"
    }
   ],
   "source": [
    "ypreds= model.predict(X_test)\n",
    "ypreds\n"
   ]
  },
  {
   "cell_type": "code",
   "execution_count": 130,
   "metadata": {
    "id": "QgG1xPUg1ULw"
   },
   "outputs": [
    {
     "data": {
      "text/plain": [
       "97.5"
      ]
     },
     "execution_count": 130,
     "metadata": {},
     "output_type": "execute_result"
    }
   ],
   "source": [
    "model.accuracy(y_test, ypreds)"
   ]
  },
  {
   "cell_type": "code",
   "execution_count": null,
   "metadata": {
    "id": "OpXYY-yj1UOj"
   },
   "outputs": [],
   "source": []
  },
  {
   "cell_type": "code",
   "execution_count": null,
   "metadata": {},
   "outputs": [],
   "source": []
  }
 ],
 "metadata": {
  "colab": {
   "provenance": []
  },
  "kernelspec": {
   "display_name": "Python 3 (ipykernel)",
   "language": "python",
   "name": "python3"
  },
  "language_info": {
   "codemirror_mode": {
    "name": "ipython",
    "version": 3
   },
   "file_extension": ".py",
   "mimetype": "text/x-python",
   "name": "python",
   "nbconvert_exporter": "python",
   "pygments_lexer": "ipython3",
   "version": "3.9.13"
  }
 },
 "nbformat": 4,
 "nbformat_minor": 1
}
