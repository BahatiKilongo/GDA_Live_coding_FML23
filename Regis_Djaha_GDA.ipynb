{
 "cells": [
  {
   "cell_type": "markdown",
   "metadata": {
    "id": "g17Z46tmw2oZ"
   },
   "source": [
    "# GDA Implementation.\n",
    "\n",
    "Implement the Gaussian Discriminant Analysis (GDA) learning algorithm following the steps as discussed in class.\n",
    "\n",
    "INSTRUCTION: Rename your notebook as: <br>\n",
    "`firstName_LastName_Live_coding_GDA.ipynb`.\n",
    "\n",
    "Notes: \n",
    "* Do not use any built-in functions to complete a task;\n",
    "* Do not import additional libraries."
   ]
  },
  {
   "cell_type": "code",
   "execution_count": 18,
   "metadata": {
    "id": "aT5nlL-QTKwv"
   },
   "outputs": [],
   "source": [
    "import numpy as np\n",
    "import matplotlib.pyplot as plt\n",
    "from sklearn.datasets import make_classification"
   ]
  },
  {
   "cell_type": "code",
   "execution_count": 19,
   "metadata": {
    "colab": {
     "base_uri": "https://localhost:8080/"
    },
    "id": "_-lL4Yq9Tbzn",
    "outputId": "30937363-7f7e-4360-e123-b4cdb1ebe441"
   },
   "outputs": [
    {
     "name": "stdout",
     "output_type": "stream",
     "text": [
      "(1000, 3) (1000,)\n"
     ]
    }
   ],
   "source": [
    "# Generate data\n",
    "def generate_data():\n",
    "  x, y = make_classification(n_samples= 1000, n_features=3, n_redundant=0, \n",
    "                           n_informative=3, random_state=1, \n",
    "                           n_clusters_per_class=1)\n",
    "  \n",
    "  return x,y\n",
    "\n",
    "x,y= generate_data() # get data\n",
    "print(x.shape, y.shape)"
   ]
  },
  {
   "cell_type": "code",
   "execution_count": 20,
   "metadata": {
    "id": "EUgiWLDhUAAK"
   },
   "outputs": [],
   "source": [
    "def split_data(x,y, train_size= 0.8):\n",
    "    # shuffle the data to randomize the train/test split\n",
    "    indices = np.random.permutation(len(y))\n",
    "    \n",
    "    # Split the shuffled indices into training and testing sets\n",
    "    train_indices = indices[:int(train_size*len(y))]\n",
    "    test_indices = indices[int(train_size*len(y)):]\n",
    "    \n",
    "    # Use the shuffled indices to extract the corresponding data\n",
    "    x_train, x_test = x[train_indices], x[test_indices]\n",
    "    y_train, y_test = y[train_indices], y[test_indices]\n",
    "    return x_train, x_test, y_train, y_test"
   ]
  },
  {
   "cell_type": "code",
   "execution_count": 21,
   "metadata": {},
   "outputs": [
    {
     "name": "stdout",
     "output_type": "stream",
     "text": [
      "(800, 3) (800,) (200, 3) (200,)\n"
     ]
    }
   ],
   "source": [
    "X_train, X_test, y_train, y_test= split_data(x, y, train_size=0.8)# split your data into x_train, x_test, y_train, y_test\n",
    "print(X_train.shape, y_train.shape, X_test.shape, y_test.shape)"
   ]
  },
  {
   "cell_type": "code",
   "execution_count": 22,
   "metadata": {},
   "outputs": [],
   "source": [
    "def covariance(x, mu):\n",
    "    d = x.shape[1]\n",
    "    mu=np.mean(x,axis=0)\n",
    "    cov = np.zeros((d, d))\n",
    "    for i in range(d):\n",
    "        for j in range(d):\n",
    "            cov[i, j] = np.sum((x[:,i] - mu[i]) * (x[:,j] - mu[j])) / (len(x) - 1)\n",
    "    return cov"
   ]
  },
  {
   "cell_type": "code",
   "execution_count": 23,
   "metadata": {},
   "outputs": [
    {
     "name": "stdout",
     "output_type": "stream",
     "text": [
      "[-0.01298493  0.99925415  0.02975341]\n"
     ]
    }
   ],
   "source": [
    "print(np.mean(x,axis=0))"
   ]
  },
  {
   "cell_type": "code",
   "execution_count": 24,
   "metadata": {},
   "outputs": [
    {
     "data": {
      "text/plain": [
       "array([[1.84495325, 0.02790646, 1.00137533],\n",
       "       [0.02790646, 1.00170721, 0.05539176],\n",
       "       [1.00137533, 0.05539176, 1.74832   ]])"
      ]
     },
     "execution_count": 24,
     "metadata": {},
     "output_type": "execute_result"
    }
   ],
   "source": [
    "mu=np.mean(x,axis=0)\n",
    "covariance(x, mu)"
   ]
  },
  {
   "cell_type": "code",
   "execution_count": 25,
   "metadata": {},
   "outputs": [
    {
     "data": {
      "text/plain": [
       "array([[1.84495325, 0.02790646, 1.00137533],\n",
       "       [0.02790646, 1.00170721, 0.05539176],\n",
       "       [1.00137533, 0.05539176, 1.74832   ]])"
      ]
     },
     "execution_count": 25,
     "metadata": {},
     "output_type": "execute_result"
    }
   ],
   "source": [
    "np.cov(x,rowvar=0)"
   ]
  },
  {
   "cell_type": "code",
   "execution_count": 26,
   "metadata": {
    "id": "1ocKLDAfceF0"
   },
   "outputs": [],
   "source": [
    "class GDA:\n",
    "  def __init__(self):\n",
    "    ## set mu, phi and sigma to None\n",
    "    self.mu=None\n",
    "    self.phi=None\n",
    "    self.sigma=None\n",
    "    \n",
    "  def fit(self,x,y):\n",
    "    k=2 #np.unique(y).size  # Number of class.\n",
    "    d=x.shape[1] # input dim\n",
    "    m= x.shape[0]# Number of examples.\n",
    "    \n",
    "    ## Initialize mu, phi and sigma\n",
    "    self.mu= np.zeros((k,d))#: kxd, i.e., each row contains an individual class mu.\n",
    "    self.sigma= np.zeros((k,d,d))#: kxdxd, i.e., each row contains an individual class sigma.\n",
    "    self.phi= np.zeros((k))# d-dimension\n",
    "\n",
    "    ## START THE LEARNING: estimate mu, phi and sigma.\n",
    "    for lab in range(k):\n",
    "        \n",
    "        self.phi[lab] = np.sum(lab==y)/m \n",
    "        self.mu[lab] = np.mean(x[lab==y], axis=0)\n",
    "        self.sigma[lab] = covariance(x[lab==y], self.mu[lab])\n",
    "    return self.phi,self.mu, self.sigma\n",
    "            \n",
    "            \n",
    "\n",
    "  def predict_proba(self,x):\n",
    "    # reshape or flatt x.\n",
    "    #x= x.reshape(-1, self.mu.shape[1])\n",
    "    #x=x.reshape(-1,1)\n",
    "    #x=self.mu.shape[0]\n",
    "    d= x.shape[0]\n",
    "    #k_class = self.mu.shape[0] \n",
    "    k_class= self.mu.shape[0]  # Number of classes we have in our case it's k = 2\n",
    "    probabilities = np.zeros((d, k_class))\n",
    "    \n",
    "    ## START THE LEARNING: estimate mu, phi and sigma.\n",
    "    for lab in range(k_class):\n",
    "        det_cov= np.linalg.det(self.sigma[lab])\n",
    "        inv_cov=np.linalg.inv(self.sigma[lab])\n",
    "        for j in range(x.shape[0]):\n",
    "            first_term=1/((2*np.pi)**(d/2)*(det_cov**0.5))\n",
    "            #first_term=((1/(((2*np.pi)**(d/2))*(det_cov**0.5)))\n",
    "            exponential=-0.5*((x[j]-self.mu[lab]).T)@(inv_cov)@(x[j]-self.mu[lab])\n",
    "            second_term=np.exp(exponential)\n",
    "            probabilities[j, lab] = first_term*second_term*self.phi[lab]\n",
    "    return probabilities\n",
    "\n",
    "  def predict(self,x):\n",
    "    predict=self.predict_proba(x)\n",
    "    \n",
    "    y = np.argmax(predict,axis = 1)\n",
    "    #Predict = np.argmax(self.predict_proba(x))\n",
    "    return y\n",
    "    \n",
    "  \n",
    "  def accuracy(self, y, ypreds):\n",
    "    ypred = self.predict(y)\n",
    "    result = np.mean(ypred == ypreds)\n",
    "    return result * 100 "
   ]
  },
  {
   "cell_type": "code",
   "execution_count": 27,
   "metadata": {
    "id": "l_qO0Yp1c3Is"
   },
   "outputs": [
    {
     "data": {
      "text/plain": [
       "(array([0.48625, 0.51375]),\n",
       " array([[ 0.95351593,  1.08279465,  1.00647428],\n",
       "        [-1.00852009,  0.95000511, -0.96940467]]),\n",
       " array([[[ 0.8833787 , -0.35895027, -0.05927973],\n",
       "         [-0.35895027,  1.74795885,  0.10243629],\n",
       "         [-0.05927973,  0.10243629,  0.03800151]],\n",
       " \n",
       "        [[ 0.82756154,  0.33795434,  0.14443228],\n",
       "         [ 0.33795434,  0.3544237 , -0.06028125],\n",
       "         [ 0.14443228, -0.06028125,  1.63577278]]]))"
      ]
     },
     "execution_count": 27,
     "metadata": {},
     "output_type": "execute_result"
    }
   ],
   "source": [
    "model= GDA()\n",
    "model.fit(X_train,y_train)"
   ]
  },
  {
   "cell_type": "code",
   "execution_count": 28,
   "metadata": {
    "id": "NKY1eojY1l4e"
   },
   "outputs": [
    {
     "data": {
      "text/plain": [
       "array([[7.38627506e-081, 1.02846675e-083],\n",
       "       [3.12922214e-082, 2.31363438e-082],\n",
       "       [1.65690429e-080, 4.66650070e-086],\n",
       "       [1.78865136e-081, 1.43146791e-090],\n",
       "       [1.52637158e-113, 3.12990897e-081],\n",
       "       [1.55241893e-110, 1.47304241e-080],\n",
       "       [1.14969763e-080, 2.78683256e-083],\n",
       "       [3.01298951e-081, 3.15431759e-084],\n",
       "       [1.67275050e-205, 3.53856746e-081],\n",
       "       [1.37339640e-080, 1.38405131e-089],\n",
       "       [9.24173071e-107, 1.00128015e-080],\n",
       "       [1.67389531e-081, 4.80992590e-089],\n",
       "       [1.70705027e-080, 2.66269494e-082],\n",
       "       [1.47916469e-147, 3.84495004e-081],\n",
       "       [3.02644674e-081, 1.78582923e-082],\n",
       "       [2.35373762e-080, 1.39970217e-082],\n",
       "       [3.73980723e-137, 8.45121556e-081],\n",
       "       [1.52390564e-092, 6.60723389e-081],\n",
       "       [5.68728343e-086, 7.90612459e-081],\n",
       "       [4.84928231e-081, 2.51137114e-087],\n",
       "       [2.23849876e-095, 8.73481650e-081],\n",
       "       [2.12139496e-080, 1.42197489e-082],\n",
       "       [1.40276516e-094, 1.42878846e-081],\n",
       "       [7.68172770e-081, 3.33174542e-085],\n",
       "       [1.11842232e-080, 4.90942402e-087],\n",
       "       [1.51210208e-126, 1.36267727e-080],\n",
       "       [1.78227293e-146, 8.21555775e-081],\n",
       "       [2.16894043e-105, 5.90819698e-081],\n",
       "       [9.57723363e-081, 8.41069213e-086],\n",
       "       [1.17338423e-154, 6.26430230e-081],\n",
       "       [5.78851669e-081, 8.33735187e-088],\n",
       "       [2.26364122e-080, 1.22193317e-083],\n",
       "       [2.20231769e-125, 2.64556143e-081],\n",
       "       [2.21138168e-104, 4.92786898e-081],\n",
       "       [8.78557342e-148, 4.87949416e-081],\n",
       "       [1.26541838e-090, 1.00739856e-080],\n",
       "       [2.60370572e-080, 1.67691056e-081],\n",
       "       [5.33992468e-081, 1.05337491e-089],\n",
       "       [4.48011343e-141, 8.52704544e-081],\n",
       "       [3.61369172e-105, 1.25003323e-080],\n",
       "       [8.92433833e-082, 1.38129730e-081],\n",
       "       [4.79972954e-098, 9.70434888e-081],\n",
       "       [1.96884798e-081, 1.42075339e-083],\n",
       "       [1.39065610e-080, 2.09712321e-081],\n",
       "       [4.72411212e-100, 1.02203706e-080],\n",
       "       [9.32879878e-081, 6.75132144e-087],\n",
       "       [1.05769222e-104, 1.20635161e-080],\n",
       "       [2.01761412e-080, 7.27971048e-083],\n",
       "       [7.17754281e-081, 2.32318520e-091],\n",
       "       [1.30875995e-131, 3.74527568e-081],\n",
       "       [7.26576010e-096, 1.26220892e-080],\n",
       "       [1.17248959e-081, 2.22121602e-092],\n",
       "       [8.53273260e-198, 2.49863790e-081],\n",
       "       [1.00265864e-080, 2.14767006e-083],\n",
       "       [5.00985647e-081, 4.13958891e-087],\n",
       "       [1.82483822e-126, 1.28928661e-080],\n",
       "       [3.81883653e-302, 2.32834873e-082],\n",
       "       [3.52886987e-082, 5.45228674e-083],\n",
       "       [2.69408712e-080, 6.38136058e-082],\n",
       "       [2.04806597e-080, 8.57193837e-083],\n",
       "       [3.09626878e-080, 2.46901568e-083],\n",
       "       [1.33196074e-128, 4.90754075e-081],\n",
       "       [5.88624613e-081, 3.24017468e-091],\n",
       "       [1.80606163e-092, 7.15952931e-081],\n",
       "       [4.55310403e-082, 7.10171719e-102],\n",
       "       [9.44712892e-081, 1.47260176e-081],\n",
       "       [1.27762383e-080, 2.49917050e-081],\n",
       "       [3.32209734e-081, 1.01738458e-085],\n",
       "       [1.83686660e-081, 3.79756894e-083],\n",
       "       [1.79300911e-087, 9.13336068e-081],\n",
       "       [1.11944642e-080, 2.00183670e-081],\n",
       "       [2.31196454e-080, 5.45411370e-084],\n",
       "       [3.01360484e-113, 1.43868964e-080],\n",
       "       [7.57527325e-087, 6.89037421e-081],\n",
       "       [1.80510200e-098, 7.46298748e-081],\n",
       "       [1.23147848e-080, 5.31534096e-086],\n",
       "       [2.30485016e-081, 1.48334771e-099],\n",
       "       [2.51722904e-084, 7.85820844e-082],\n",
       "       [5.38831915e-095, 9.08426963e-081],\n",
       "       [4.50719611e-100, 2.33998277e-081],\n",
       "       [9.90489921e-172, 2.19749728e-081],\n",
       "       [2.72512841e-081, 9.38321491e-085],\n",
       "       [5.53389735e-106, 3.05327092e-081],\n",
       "       [5.01389336e-110, 1.38194665e-080],\n",
       "       [1.36108023e-113, 5.74162190e-081],\n",
       "       [3.13403918e-080, 5.95079814e-083],\n",
       "       [1.26356895e-089, 1.38340828e-081],\n",
       "       [3.77434692e-142, 6.12290924e-081],\n",
       "       [2.51783713e-080, 4.79599303e-083],\n",
       "       [3.95716352e-081, 4.19855966e-084],\n",
       "       [1.71280118e-080, 3.18349202e-081],\n",
       "       [1.41364887e-114, 1.47300014e-081],\n",
       "       [2.90175725e-080, 5.61532914e-082],\n",
       "       [1.10543911e-080, 4.47235693e-082],\n",
       "       [6.27077664e-083, 1.19920200e-081],\n",
       "       [9.36437920e-131, 1.09061176e-080],\n",
       "       [1.06947254e-084, 7.99152932e-081],\n",
       "       [2.80987017e-080, 9.54134734e-082],\n",
       "       [1.31848324e-080, 4.34775534e-090],\n",
       "       [4.21421363e-114, 8.61196618e-081],\n",
       "       [6.32103592e-087, 6.96298880e-082],\n",
       "       [1.09382789e-080, 9.07391034e-087],\n",
       "       [1.16599574e-080, 7.70377726e-083],\n",
       "       [7.68800552e-081, 6.92179384e-084],\n",
       "       [3.00678382e-081, 1.41333190e-098],\n",
       "       [5.09454765e-081, 1.09188146e-081],\n",
       "       [9.27642318e-084, 5.07778871e-081],\n",
       "       [5.61688163e-081, 9.38387375e-087],\n",
       "       [1.58642521e-131, 1.23358448e-080],\n",
       "       [6.94878911e-108, 9.34536365e-081],\n",
       "       [2.46734557e-087, 4.65527340e-083],\n",
       "       [2.36677997e-081, 5.19810644e-081],\n",
       "       [6.61340468e-118, 3.39250632e-081],\n",
       "       [1.01893977e-081, 4.83656797e-081],\n",
       "       [1.20151869e-105, 2.96573667e-081],\n",
       "       [2.80225282e-080, 3.61687283e-082],\n",
       "       [2.61542998e-081, 8.32925312e-083],\n",
       "       [3.19057683e-080, 3.09320970e-083],\n",
       "       [7.66524694e-130, 2.14200860e-081],\n",
       "       [1.29622833e-080, 7.32628467e-083],\n",
       "       [1.50559464e-080, 1.44527421e-082],\n",
       "       [2.69816755e-080, 4.00981369e-082],\n",
       "       [7.00909712e-107, 5.14881691e-081],\n",
       "       [1.89779467e-080, 2.57352045e-081],\n",
       "       [1.47349011e-080, 3.64115805e-085],\n",
       "       [2.57376156e-081, 7.92931723e-086],\n",
       "       [2.93525973e-080, 1.92425541e-082],\n",
       "       [2.59203098e-080, 5.39304309e-085],\n",
       "       [1.16633451e-080, 2.33426585e-081],\n",
       "       [3.51046963e-080, 9.21582458e-083],\n",
       "       [3.01077253e-250, 6.45282806e-082],\n",
       "       [3.36673784e-119, 6.42361184e-081],\n",
       "       [1.33777232e-080, 1.05524409e-087],\n",
       "       [3.67241465e-121, 1.37144370e-080],\n",
       "       [3.78123436e-117, 6.08360714e-081],\n",
       "       [5.38116829e-108, 3.60485121e-081],\n",
       "       [2.63638702e-080, 5.54458186e-082],\n",
       "       [3.10465412e-139, 9.20262200e-081],\n",
       "       [2.57232206e-080, 8.89468772e-082],\n",
       "       [3.81803694e-081, 5.79077785e-083],\n",
       "       [9.28630087e-081, 2.19652887e-090],\n",
       "       [3.26140508e-080, 6.41668842e-083],\n",
       "       [5.26960659e-091, 9.47214411e-081],\n",
       "       [4.49891184e-081, 6.13381472e-085],\n",
       "       [3.33893811e-234, 1.80869456e-081],\n",
       "       [1.48164316e-080, 1.47250307e-082],\n",
       "       [1.76233190e-098, 8.86461603e-081],\n",
       "       [4.88116373e-100, 1.30041028e-080],\n",
       "       [1.02288609e-104, 4.83901557e-081],\n",
       "       [2.37141059e-080, 1.14502014e-081],\n",
       "       [3.22741348e-080, 1.75538234e-082],\n",
       "       [4.25209864e-081, 4.78715341e-093],\n",
       "       [1.07330924e-083, 9.75605192e-082],\n",
       "       [6.63595963e-081, 6.32581653e-086],\n",
       "       [6.89857184e-081, 3.70554229e-088],\n",
       "       [2.37277565e-165, 2.00346360e-081],\n",
       "       [5.62890484e-104, 1.13260059e-080],\n",
       "       [2.85317455e-080, 8.31625685e-085],\n",
       "       [7.45733787e-087, 8.82098390e-081],\n",
       "       [6.47179905e-119, 4.33400920e-081],\n",
       "       [2.67351134e-081, 7.55648831e-085],\n",
       "       [3.39864677e-098, 1.15312270e-080],\n",
       "       [1.15742557e-080, 5.89572697e-087],\n",
       "       [1.39130512e-080, 1.49320201e-087],\n",
       "       [1.88228776e-081, 1.01431062e-090],\n",
       "       [5.96622291e-129, 5.45716667e-081],\n",
       "       [1.30962971e-080, 1.26866646e-083],\n",
       "       [6.44156083e-082, 6.76144165e-082],\n",
       "       [9.90128558e-133, 5.24693026e-081],\n",
       "       [2.08712218e-080, 3.91255919e-085],\n",
       "       [2.22296950e-080, 1.75508623e-082],\n",
       "       [1.45485981e-080, 2.01956209e-083],\n",
       "       [1.99735695e-081, 2.74846132e-084],\n",
       "       [9.52460903e-081, 3.67857741e-082],\n",
       "       [6.53262991e-081, 4.22947324e-088],\n",
       "       [2.92532985e-080, 1.93874349e-084],\n",
       "       [7.78303829e-100, 9.66562060e-081],\n",
       "       [2.10057735e-080, 1.34069954e-082],\n",
       "       [6.20557133e-162, 2.93287931e-081],\n",
       "       [1.64828974e-080, 2.36267805e-083],\n",
       "       [1.37375879e-080, 1.75768654e-082],\n",
       "       [6.55075193e-108, 1.01417853e-080],\n",
       "       [2.92771882e-080, 7.62594406e-082],\n",
       "       [2.34946820e-080, 2.34405197e-081],\n",
       "       [2.55574009e-080, 7.71658589e-082],\n",
       "       [1.92431828e-096, 6.49896151e-081],\n",
       "       [8.91509013e-081, 3.71083166e-084],\n",
       "       [1.52687991e-082, 3.81471115e-081],\n",
       "       [1.42926914e-080, 1.36736647e-087],\n",
       "       [2.36210995e-080, 3.72355906e-084],\n",
       "       [8.80868348e-081, 2.80897587e-085],\n",
       "       [4.51211492e-100, 4.24983019e-081],\n",
       "       [3.21058683e-098, 7.10546569e-081],\n",
       "       [2.77499760e-080, 2.33293431e-084],\n",
       "       [2.34372561e-080, 6.19209579e-083],\n",
       "       [1.43031780e-092, 8.38067533e-081],\n",
       "       [5.35737776e-086, 1.63427748e-081],\n",
       "       [2.09656095e-080, 6.48110731e-083],\n",
       "       [1.95386307e-080, 1.00474691e-082],\n",
       "       [1.23033265e-131, 1.21873508e-080]])"
      ]
     },
     "execution_count": 28,
     "metadata": {},
     "output_type": "execute_result"
    }
   ],
   "source": [
    "yproba= model.predict_proba(X_test)\n",
    "yproba"
   ]
  },
  {
   "cell_type": "code",
   "execution_count": 29,
   "metadata": {
    "id": "D4clV6PK1UJK"
   },
   "outputs": [
    {
     "data": {
      "text/plain": [
       "array([0, 0, 0, 0, 1, 1, 0, 0, 1, 0, 1, 0, 0, 1, 0, 0, 1, 1, 1, 0, 1, 0,\n",
       "       1, 0, 0, 1, 1, 1, 0, 1, 0, 0, 1, 1, 1, 1, 0, 0, 1, 1, 1, 1, 0, 0,\n",
       "       1, 0, 1, 0, 0, 1, 1, 0, 1, 0, 0, 1, 1, 0, 0, 0, 0, 1, 0, 1, 0, 0,\n",
       "       0, 0, 0, 1, 0, 0, 1, 1, 1, 0, 0, 1, 1, 1, 1, 0, 1, 1, 1, 0, 1, 1,\n",
       "       0, 0, 0, 1, 0, 0, 1, 1, 1, 0, 0, 1, 1, 0, 0, 0, 0, 0, 1, 0, 1, 1,\n",
       "       1, 1, 1, 1, 1, 0, 0, 0, 1, 0, 0, 0, 1, 0, 0, 0, 0, 0, 0, 0, 1, 1,\n",
       "       0, 1, 1, 1, 0, 1, 0, 0, 0, 0, 1, 0, 1, 0, 1, 1, 1, 0, 0, 0, 1, 0,\n",
       "       0, 1, 1, 0, 1, 1, 0, 1, 0, 0, 0, 1, 0, 1, 1, 0, 0, 0, 0, 0, 0, 0,\n",
       "       1, 0, 1, 0, 0, 1, 0, 0, 0, 1, 0, 1, 0, 0, 0, 1, 1, 0, 0, 1, 1, 0,\n",
       "       0, 1])"
      ]
     },
     "execution_count": 29,
     "metadata": {},
     "output_type": "execute_result"
    }
   ],
   "source": [
    "ypreds= model.predict(X_test)\n",
    "ypreds\n"
   ]
  },
  {
   "cell_type": "code",
   "execution_count": 30,
   "metadata": {
    "id": "QgG1xPUg1ULw"
   },
   "outputs": [
    {
     "data": {
      "text/plain": [
       "2.5"
      ]
     },
     "execution_count": 30,
     "metadata": {},
     "output_type": "execute_result"
    }
   ],
   "source": [
    "model.accuracy(y_test, ypreds)"
   ]
  },
  {
   "cell_type": "code",
   "execution_count": null,
   "metadata": {
    "id": "OpXYY-yj1UOj"
   },
   "outputs": [],
   "source": []
  },
  {
   "cell_type": "code",
   "execution_count": null,
   "metadata": {
    "id": "8cvRcUO2rtKo"
   },
   "outputs": [],
   "source": []
  }
 ],
 "metadata": {
  "colab": {
   "provenance": []
  },
  "kernelspec": {
   "display_name": "Python 3 (ipykernel)",
   "language": "python",
   "name": "python3"
  },
  "language_info": {
   "codemirror_mode": {
    "name": "ipython",
    "version": 3
   },
   "file_extension": ".py",
   "mimetype": "text/x-python",
   "name": "python",
   "nbconvert_exporter": "python",
   "pygments_lexer": "ipython3",
   "version": "3.9.13"
  }
 },
 "nbformat": 4,
 "nbformat_minor": 1
}
