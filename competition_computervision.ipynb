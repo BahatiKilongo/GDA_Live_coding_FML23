{
  "metadata": {
    "kernelspec": {
      "language": "python",
      "display_name": "Python 3",
      "name": "python3"
    },
    "language_info": {
      "name": "python",
      "version": "3.10.10",
      "mimetype": "text/x-python",
      "codemirror_mode": {
        "name": "ipython",
        "version": 3
      },
      "pygments_lexer": "ipython3",
      "nbconvert_exporter": "python",
      "file_extension": ".py"
    },
    "colab": {
      "provenance": [],
      "include_colab_link": true
    }
  },
  "nbformat_minor": 0,
  "nbformat": 4,
  "cells": [
    {
      "cell_type": "markdown",
      "metadata": {
        "id": "view-in-github",
        "colab_type": "text"
      },
      "source": [
        "<a href=\"https://colab.research.google.com/github/BahatiKilongo/GDA_Live_coding_FML23/blob/main/competition_computervision.ipynb\" target=\"_parent\"><img src=\"https://colab.research.google.com/assets/colab-badge.svg\" alt=\"Open In Colab\"/></a>"
      ]
    },
    {
      "cell_type": "markdown",
      "source": [
        "### Start Runing"
      ],
      "metadata": {
        "id": "VnSuOOSz_erJ"
      }
    },
    {
      "cell_type": "code",
      "source": [
        "#Imports\n",
        "import os\n",
        "import sys\n",
        "import glob\n",
        "import torch\n",
        "import torchvision\n",
        "\n",
        "import numpy    as np\n",
        "import datetime as dt\n",
        "import torch.nn as nn\n",
        "import torch.nn.functional as F\n",
        "import matplotlib.pyplot   as plt\n",
        "\n",
        "from PIL               import Image\n",
        "from torch.utils.data  import Dataset\n",
        "from torch.autograd    import Variable\n",
        "from torch.optim       import lr_scheduler\n",
        "\n",
        "from torch.utils.data  import Dataset, DataLoader\n",
        "from torch.utils.data.sampler import SubsetRandomSampler\n",
        "from torchvision       import transforms, datasets, models\n",
        "from os                import listdir, makedirs, getcwd, remove\n",
        "from os.path           import isfile, join, abspath, exists, isdir, expanduser\n",
        "\n",
        "%matplotlib inline"
      ],
      "metadata": {
        "execution": {
          "iopub.status.busy": "2023-05-21T10:48:41.759738Z",
          "iopub.execute_input": "2023-05-21T10:48:41.760116Z",
          "iopub.status.idle": "2023-05-21T10:48:45.396631Z",
          "shell.execute_reply.started": "2023-05-21T10:48:41.760084Z",
          "shell.execute_reply": "2023-05-21T10:48:45.395678Z"
        },
        "trusted": true,
        "id": "eHWLGeRP_erM"
      },
      "execution_count": null,
      "outputs": []
    },
    {
      "cell_type": "code",
      "source": [
        "data_path = \"/kaggle/input/ammi-2023-convnets\"\n",
        "train_path = join(data_path, \"train/train\")\n",
        "test_path = join(data_path,\"test/test\")\n",
        "extraimage_path = join(data_path, \"extraimages/extraimages\")"
      ],
      "metadata": {
        "execution": {
          "iopub.status.busy": "2023-05-21T10:48:45.398392Z",
          "iopub.execute_input": "2023-05-21T10:48:45.398976Z",
          "iopub.status.idle": "2023-05-21T10:48:45.404076Z",
          "shell.execute_reply.started": "2023-05-21T10:48:45.398943Z",
          "shell.execute_reply": "2023-05-21T10:48:45.402968Z"
        },
        "trusted": true,
        "id": "Hu1K9ZrI_erN"
      },
      "execution_count": null,
      "outputs": []
    },
    {
      "cell_type": "code",
      "source": [
        "# Transformations for both the training and testing data\n",
        "mean = [0.485, 0.456, 0.406]\n",
        "std = [0.229, 0.224, 0.225]\n",
        "\n",
        "# Training data transformations\n",
        "train_transforms = transforms.Compose(    \n",
        "    [\n",
        "    transforms.RandomRotation(45),\n",
        "    transforms.RandomResizedCrop(512),\n",
        "    transforms.RandomHorizontalFlip(0.2),\n",
        "    transforms.ToTensor(),\n",
        "    transforms.Normalize(mean=mean, std=std),\n",
        "    transforms.RandomErasing(0.3)\n",
        "])\n",
        "\n",
        "# Testing data transformations\n",
        "test_transforms = transforms.Compose([\n",
        "    transforms.Resize(512),\n",
        "    transforms.CenterCrop(512),\n",
        "    transforms.ToTensor(),\n",
        "    transforms.Normalize(mean=mean, std=std)\n",
        "])\n"
      ],
      "metadata": {
        "execution": {
          "iopub.status.busy": "2023-05-21T10:48:50.094314Z",
          "iopub.execute_input": "2023-05-21T10:48:50.094691Z",
          "iopub.status.idle": "2023-05-21T10:48:50.102254Z",
          "shell.execute_reply.started": "2023-05-21T10:48:50.094661Z",
          "shell.execute_reply": "2023-05-21T10:48:50.101352Z"
        },
        "trusted": true,
        "id": "Jz-Gn20D_erO"
      },
      "execution_count": null,
      "outputs": []
    },
    {
      "cell_type": "code",
      "source": [
        "class CassavaDataset(Dataset):\n",
        "    def __init__(self, path, transform=None):\n",
        "        self.classes = os.listdir(path)\n",
        "        self.path = [f\"{path}/{className}\" for className in self.classes]\n",
        "        self.file_list = [glob.glob(f\"{x}/*\") for x in self.path]\n",
        "        self.transform = transform\n",
        "\n",
        "        files = []\n",
        "        for i, className in enumerate(self.classes):\n",
        "            for fileName in self.file_list[i]:\n",
        "                files.append([i, className, fileName])\n",
        "        self.file_list = files\n",
        "        files = None\n",
        "\n",
        "    def __len__(self):\n",
        "        return len(self.file_list)\n",
        "\n",
        "    def __getitem__(self, idx):\n",
        "        fileName = self.file_list[idx][2]\n",
        "        classCategory = self.file_list[idx][0]\n",
        "        im = Image.open(fileName)\n",
        "        if self.transform:\n",
        "            im = self.transform(im)\n",
        "\n",
        "        return im, classCategory\n"
      ],
      "metadata": {
        "execution": {
          "iopub.status.busy": "2023-05-21T10:48:52.049980Z",
          "iopub.execute_input": "2023-05-21T10:48:52.050341Z",
          "iopub.status.idle": "2023-05-21T10:48:52.063185Z",
          "shell.execute_reply.started": "2023-05-21T10:48:52.050310Z",
          "shell.execute_reply": "2023-05-21T10:48:52.062226Z"
        },
        "trusted": true,
        "id": "kcVFrl1I_erO"
      },
      "execution_count": null,
      "outputs": []
    },
    {
      "cell_type": "code",
      "source": [
        "train_data = CassavaDataset(train_path, transform=train_transforms)\n",
        "test_data = CassavaDataset(test_path, transform=test_transforms)"
      ],
      "metadata": {
        "execution": {
          "iopub.status.busy": "2023-05-21T10:48:55.394338Z",
          "iopub.execute_input": "2023-05-21T10:48:55.395121Z",
          "iopub.status.idle": "2023-05-21T10:48:55.793022Z",
          "shell.execute_reply.started": "2023-05-21T10:48:55.395087Z",
          "shell.execute_reply": "2023-05-21T10:48:55.791806Z"
        },
        "trusted": true,
        "id": "AYnzlvcb_erP"
      },
      "execution_count": null,
      "outputs": []
    },
    {
      "cell_type": "code",
      "source": [
        "validation_split = .2\n",
        "shuffle_dataset = True\n",
        "random_seed= 42\n",
        "\n",
        "# Creating data indices for training and validation splits:\n",
        "dataset_size = len(train_data)\n",
        "indices = list(range(dataset_size))\n",
        "split = int(np.floor(validation_split * dataset_size))\n",
        "\n",
        "if shuffle_dataset :\n",
        "    np.random.seed(random_seed)\n",
        "    np.random.shuffle(indices)\n",
        "\n",
        "train_indices, val_indices = indices[split:], indices[:split]"
      ],
      "metadata": {
        "execution": {
          "iopub.status.busy": "2023-05-21T10:49:06.310923Z",
          "iopub.execute_input": "2023-05-21T10:49:06.311286Z",
          "iopub.status.idle": "2023-05-21T10:49:06.317796Z",
          "shell.execute_reply.started": "2023-05-21T10:49:06.311257Z",
          "shell.execute_reply": "2023-05-21T10:49:06.316833Z"
        },
        "trusted": true,
        "id": "LmFcX8n1_erP"
      },
      "execution_count": null,
      "outputs": []
    },
    {
      "cell_type": "code",
      "source": [
        "# Creating PT data samplers and loaders:\n",
        "train_sampler = SubsetRandomSampler(train_indices)\n",
        "valid_sampler = SubsetRandomSampler(val_indices)\n",
        "\n",
        "\n",
        "train_loader = torch.utils.data.DataLoader(train_data, batch_size=8,\n",
        "                                             sampler=train_sampler)\n",
        "valid_loader = torch.utils.data.DataLoader(train_data, batch_size=8,\n",
        "                                             sampler=valid_sampler)\n",
        "test_loader = torch.utils.data.DataLoader(test_data, batch_size=8)"
      ],
      "metadata": {
        "execution": {
          "iopub.status.busy": "2023-05-21T10:49:08.784247Z",
          "iopub.execute_input": "2023-05-21T10:49:08.784916Z",
          "iopub.status.idle": "2023-05-21T10:49:08.791957Z",
          "shell.execute_reply.started": "2023-05-21T10:49:08.784861Z",
          "shell.execute_reply": "2023-05-21T10:49:08.791023Z"
        },
        "trusted": true,
        "id": "Q_TgsKti_erP"
      },
      "execution_count": null,
      "outputs": []
    },
    {
      "cell_type": "markdown",
      "source": [
        "### Rensnet 50"
      ],
      "metadata": {
        "id": "UTkK3bUP_erQ"
      }
    },
    {
      "cell_type": "code",
      "source": [
        "import torch.nn as nn\n",
        "import torchvision.models as models\n",
        "import torch.nn.utils.prune as prune\n",
        "\n",
        "class Classifier(nn.Module):\n",
        "    def __init__(self, num_classes):\n",
        "        super(Classifier, self).__init__()\n",
        "        self.num_classes = num_classes\n",
        "        self.model = models.resnet50(pretrained=False)\n",
        "        \n",
        "        # Apply quantization to the model\n",
        "        self.model = torch.quantization.quantize_dynamic(\n",
        "            self.model, {nn.Conv2d, nn.Linear}, dtype=torch.qint8\n",
        "        )\n",
        "        \n",
        "        # Prune the model to remove unimportant connections\n",
        "        self.model = self.prune_model(self.model)\n",
        "        \n",
        "        num_ftrs = self.model.fc.in_features\n",
        "        self.model.fc = nn.Linear(num_ftrs, num_classes)\n",
        "\n",
        "    def forward(self, input):\n",
        "        return self.model(input)\n",
        "    \n",
        "    def prune_model(self, model):\n",
        "        parameters_to_prune = []\n",
        "        for module in model.modules():\n",
        "            if isinstance(module, nn.Conv2d) or isinstance(module, nn.Linear):\n",
        "                parameters_to_prune.append((module, 'weight'))\n",
        "        prune.global_unstructured(\n",
        "            parameters_to_prune,\n",
        "            pruning_method=prune.L1Unstructured,\n",
        "            amount=0.5\n",
        "        )\n",
        "        return model"
      ],
      "metadata": {
        "execution": {
          "iopub.status.busy": "2023-05-21T10:49:11.390188Z",
          "iopub.execute_input": "2023-05-21T10:49:11.390605Z",
          "iopub.status.idle": "2023-05-21T10:49:11.404344Z",
          "shell.execute_reply.started": "2023-05-21T10:49:11.390555Z",
          "shell.execute_reply": "2023-05-21T10:49:11.403338Z"
        },
        "trusted": true,
        "id": "HOoY9wbq_erQ"
      },
      "execution_count": null,
      "outputs": []
    },
    {
      "cell_type": "markdown",
      "source": [
        "### Efficient Net"
      ],
      "metadata": {
        "id": "sZR_7zgf_erR"
      }
    },
    {
      "cell_type": "code",
      "source": [
        "!pip install efficientnet_pytorch"
      ],
      "metadata": {
        "execution": {
          "iopub.status.busy": "2023-05-21T10:49:13.179797Z",
          "iopub.execute_input": "2023-05-21T10:49:13.180156Z",
          "iopub.status.idle": "2023-05-21T10:49:27.300655Z",
          "shell.execute_reply.started": "2023-05-21T10:49:13.180126Z",
          "shell.execute_reply": "2023-05-21T10:49:27.299495Z"
        },
        "trusted": true,
        "id": "Pyy49vaj_erR",
        "outputId": "10d18fad-b79b-4184-f48a-4f79c369a986"
      },
      "execution_count": null,
      "outputs": [
        {
          "name": "stdout",
          "text": "Collecting efficientnet_pytorch\n  Downloading efficientnet_pytorch-0.7.1.tar.gz (21 kB)\n  Preparing metadata (setup.py) ... \u001b[?25ldone\n\u001b[?25hRequirement already satisfied: torch in /opt/conda/lib/python3.10/site-packages (from efficientnet_pytorch) (2.0.0)\nRequirement already satisfied: sympy in /opt/conda/lib/python3.10/site-packages (from torch->efficientnet_pytorch) (1.11.1)\nRequirement already satisfied: jinja2 in /opt/conda/lib/python3.10/site-packages (from torch->efficientnet_pytorch) (3.1.2)\nRequirement already satisfied: typing-extensions in /opt/conda/lib/python3.10/site-packages (from torch->efficientnet_pytorch) (4.5.0)\nRequirement already satisfied: networkx in /opt/conda/lib/python3.10/site-packages (from torch->efficientnet_pytorch) (3.1)\nRequirement already satisfied: filelock in /opt/conda/lib/python3.10/site-packages (from torch->efficientnet_pytorch) (3.11.0)\nRequirement already satisfied: MarkupSafe>=2.0 in /opt/conda/lib/python3.10/site-packages (from jinja2->torch->efficientnet_pytorch) (2.1.2)\nRequirement already satisfied: mpmath>=0.19 in /opt/conda/lib/python3.10/site-packages (from sympy->torch->efficientnet_pytorch) (1.3.0)\nBuilding wheels for collected packages: efficientnet_pytorch\n  Building wheel for efficientnet_pytorch (setup.py) ... \u001b[?25ldone\n\u001b[?25h  Created wheel for efficientnet_pytorch: filename=efficientnet_pytorch-0.7.1-py3-none-any.whl size=16446 sha256=a97cc804b3dca1e827550f8ff9c4f428dfe96b46f2c674d9366342afc2f52324\n  Stored in directory: /root/.cache/pip/wheels/03/3f/e9/911b1bc46869644912bda90a56bcf7b960f20b5187feea3baf\nSuccessfully built efficientnet_pytorch\nInstalling collected packages: efficientnet_pytorch\nSuccessfully installed efficientnet_pytorch-0.7.1\n\u001b[33mWARNING: Running pip as the 'root' user can result in broken permissions and conflicting behaviour with the system package manager. It is recommended to use a virtual environment instead: https://pip.pypa.io/warnings/venv\u001b[0m\u001b[33m\n\u001b[0m",
          "output_type": "stream"
        }
      ]
    },
    {
      "cell_type": "code",
      "source": [
        "import torch.nn as nn\n",
        "from efficientnet_pytorch import EfficientNet\n",
        "\n",
        "class Classifier(nn.Module):\n",
        "    def __init__(self, num_classes):\n",
        "        super(Classifier, self).__init__()\n",
        "        self.num_classes = num_classes\n",
        "        \n",
        "        # Load the pretrained EfficientNet model\n",
        "        self.model = EfficientNet.from_pretrained('efficientnet-b0')\n",
        "        \n",
        "        # Replace the classifier head with a new one\n",
        "        num_ftrs = self.model._fc.in_features\n",
        "        self.model._fc = nn.Linear(num_ftrs, num_classes)\n",
        "\n",
        "    def forward(self, input):\n",
        "        return self.model(input)"
      ],
      "metadata": {
        "execution": {
          "iopub.status.busy": "2023-05-21T10:49:35.800446Z",
          "iopub.execute_input": "2023-05-21T10:49:35.801529Z",
          "iopub.status.idle": "2023-05-21T10:49:35.815195Z",
          "shell.execute_reply.started": "2023-05-21T10:49:35.801475Z",
          "shell.execute_reply": "2023-05-21T10:49:35.814352Z"
        },
        "trusted": true,
        "id": "yZwZjq2w_erS"
      },
      "execution_count": null,
      "outputs": []
    },
    {
      "cell_type": "code",
      "source": [
        "model = Classifier(5)\n",
        "# criterion = torch.nn.CrossEntropyLoss()\n",
        "# #optimizer = torch.optim.Adam(model.parameters(), lr=1e-2)\n",
        "# optimizer = torch.optim.Adam(model.parameters(), lr=0.01)"
      ],
      "metadata": {
        "execution": {
          "iopub.status.busy": "2023-05-21T10:49:40.165134Z",
          "iopub.execute_input": "2023-05-21T10:49:40.165880Z",
          "iopub.status.idle": "2023-05-21T10:49:40.862959Z",
          "shell.execute_reply.started": "2023-05-21T10:49:40.165826Z",
          "shell.execute_reply": "2023-05-21T10:49:40.862054Z"
        },
        "trusted": true,
        "id": "GZYRrImd_erS",
        "outputId": "1e751a62-eeaf-4bbf-896a-48340bbde4de"
      },
      "execution_count": null,
      "outputs": [
        {
          "name": "stderr",
          "text": "Downloading: \"https://github.com/lukemelas/EfficientNet-PyTorch/releases/download/1.0/efficientnet-b0-355c32eb.pth\" to /root/.cache/torch/hub/checkpoints/efficientnet-b0-355c32eb.pth\n100%|██████████| 20.4M/20.4M [00:00<00:00, 170MB/s]\n",
          "output_type": "stream"
        },
        {
          "name": "stdout",
          "text": "Loaded pretrained weights for efficientnet-b0\n",
          "output_type": "stream"
        }
      ]
    },
    {
      "cell_type": "code",
      "source": [
        "criterion = nn.CrossEntropyLoss()\n",
        "\n",
        "# Define the optimizer\n",
        "optimizer = torch.optim.SGD(model.parameters(), lr=1e-2)\n",
        "\n",
        "# Define the number of epochs\n",
        "#num_epochs = 10\n",
        "\n",
        "# Move the model and criterion to the appropriate device\n",
        "device = torch.device(\"cuda\" if torch.cuda.is_available() else \"cpu\")\n",
        "model.to(device)\n",
        "criterion.to(device)"
      ],
      "metadata": {
        "execution": {
          "iopub.status.busy": "2023-05-21T10:49:47.590074Z",
          "iopub.execute_input": "2023-05-21T10:49:47.590439Z",
          "iopub.status.idle": "2023-05-21T10:49:50.623869Z",
          "shell.execute_reply.started": "2023-05-21T10:49:47.590409Z",
          "shell.execute_reply": "2023-05-21T10:49:50.622919Z"
        },
        "trusted": true,
        "id": "nwFEkoJK_erS",
        "outputId": "1a18dbe8-2ffc-4858-b630-28c6ac45fbfa"
      },
      "execution_count": null,
      "outputs": [
        {
          "execution_count": 12,
          "output_type": "execute_result",
          "data": {
            "text/plain": "CrossEntropyLoss()"
          },
          "metadata": {}
        }
      ]
    },
    {
      "cell_type": "code",
      "source": [
        "# def train(model, criterion, data_loader, optimizer, num_epochs):\n",
        "#     \"\"\"Simple training loop for a PyTorch model.\"\"\" \n",
        "    \n",
        "#     # Make sure model is in training mode.\n",
        "#     model.train()\n",
        "    \n",
        "#     # Move model to the device (CPU or GPU).\n",
        "#     model.to(device)\n",
        "    \n",
        "#     # Exponential moving average of the loss.\n",
        "#     ema_loss = None\n",
        "\n",
        "#     print('----- Training Loop -----')\n",
        "#     # Loop over epochs.\n",
        "#     for epoch in range(num_epochs):\n",
        "        \n",
        "#       # Loop over data.\n",
        "#       for batch_idx, (features, target) in enumerate(data_loader):\n",
        "            \n",
        "#           # Forward pass.\n",
        "#         output = model(features.to(device))\n",
        "#         loss = criterion(output.to(device), target.to(device))\n",
        "\n",
        "#           # Backward pass.\n",
        "#         optimizer.zero_grad()\n",
        "#         loss.backward()\n",
        "#         optimizer.step()\n",
        "\n",
        "#       # NOTE: It is important to call .item() on the loss before summing.\n",
        "#         if ema_loss is None:\n",
        "#             ema_loss = loss.item()\n",
        "#         else:\n",
        "#             ema_loss += (loss.item() - ema_loss) * 0.01 \n",
        "\n",
        "#       # Print out progress the end of epoch.\n",
        "#       print('Epoch: {} \\tLoss: {:.6f}'.format(epoch, ema_loss),)"
      ],
      "metadata": {
        "execution": {
          "iopub.status.busy": "2023-05-21T10:49:50.625597Z",
          "iopub.execute_input": "2023-05-21T10:49:50.626545Z",
          "iopub.status.idle": "2023-05-21T10:49:50.633968Z",
          "shell.execute_reply.started": "2023-05-21T10:49:50.626507Z",
          "shell.execute_reply": "2023-05-21T10:49:50.632015Z"
        },
        "trusted": true,
        "id": "73HXIqeq_erT"
      },
      "execution_count": null,
      "outputs": []
    },
    {
      "cell_type": "code",
      "source": [
        "import matplotlib.pyplot as plt\n",
        "\n",
        "def train(model, criterion, data_loader, optimizer, num_epochs):\n",
        "    \"\"\"Simple training loop for a PyTorch model.\"\"\" \n",
        "    \n",
        "    # Make sure model is in training mode.\n",
        "    model.train()\n",
        "    \n",
        "    # Move model to the device (CPU or GPU).\n",
        "    model.to(device)\n",
        "    \n",
        "    # Exponential moving average of the loss.\n",
        "    ema_loss = None\n",
        "    \n",
        "    # List to store the losses for each epoch.\n",
        "    losses = []\n",
        "\n",
        "    print('----- Training Loop -----')\n",
        "    # Loop over epochs.\n",
        "    for epoch in range(num_epochs):\n",
        "        \n",
        "        # Loop over data.\n",
        "        for batch_idx, (features, target) in enumerate(data_loader):\n",
        "            \n",
        "            # Forward pass.\n",
        "            output = model(features.to(device))\n",
        "            loss = criterion(output.to(device), target.to(device))\n",
        "\n",
        "            # Backward pass.\n",
        "            optimizer.zero_grad()\n",
        "            loss.backward()\n",
        "            optimizer.step()\n",
        "\n",
        "            # Update exponential moving average of the loss.\n",
        "            if ema_loss is None:\n",
        "                ema_loss = loss.item()\n",
        "            else:\n",
        "                ema_loss += (loss.item() - ema_loss) * 0.01\n",
        "\n",
        "        # Print out progress at the end of epoch.\n",
        "        print('Epoch: {} \\tLoss: {:.6f}'.format(epoch, ema_loss))\n",
        "\n",
        "        # Append the current epoch's loss to the list.\n",
        "        losses.append(ema_loss)\n",
        "#         return losses\n",
        "    # Plot the losses.\n",
        "    plt.plot(losses)\n",
        "    plt.xlabel('Epoch')\n",
        "    plt.ylabel('Loss')\n",
        "    plt.title('Training Loss')\n",
        "    plt.show()\n"
      ],
      "metadata": {
        "execution": {
          "iopub.status.busy": "2023-05-21T10:55:46.586431Z",
          "iopub.execute_input": "2023-05-21T10:55:46.587319Z",
          "iopub.status.idle": "2023-05-21T10:55:46.598693Z",
          "shell.execute_reply.started": "2023-05-21T10:55:46.587274Z",
          "shell.execute_reply": "2023-05-21T10:55:46.596157Z"
        },
        "trusted": true,
        "id": "LcbnROeF_erT"
      },
      "execution_count": null,
      "outputs": []
    },
    {
      "cell_type": "markdown",
      "source": [
        "### Traing with K-fold"
      ],
      "metadata": {
        "id": "gCh0wlO2_erT"
      }
    },
    {
      "cell_type": "code",
      "source": [
        "# import torch\n",
        "# import torch.nn as nn\n",
        "# import torch.optim as optim\n",
        "# import matplotlib.pyplot as plt\n",
        "# from sklearn.model_selection import KFold\n",
        "# from efficientnet_pytorch import EfficientNet\n",
        "\n",
        "# def train(model, criterion, data_loader, optimizer, num_epochs):\n",
        "#     \"\"\"Training loop with cross-validation for a PyTorch model.\"\"\" \n",
        "\n",
        "#     # Move model to the device (CPU or GPU).\n",
        "#     model.to(device)\n",
        "    \n",
        "#     # Exponential moving average of the loss.\n",
        "#     ema_loss = None\n",
        "\n",
        "#     print('----- Training Loop -----')\n",
        "    \n",
        "#     # Define the number of folds for cross-validation.\n",
        "#     num_folds = 5\n",
        "    \n",
        "#     # Split the dataset into folds.\n",
        "#     kfold = KFold(n_splits=num_folds)\n",
        "    \n",
        "#     # Initialize lists to store losses for plotting.\n",
        "#     train_losses = []\n",
        "#     val_losses = []\n",
        "    \n",
        "#     # Loop over epochs.\n",
        "#     for epoch in range(num_epochs):\n",
        "        \n",
        "#         # Perform cross-validation within each epoch.\n",
        "#         for fold, (train_indices, val_indices) in enumerate(kfold.split(data_loader.dataset)):\n",
        "#             # Create data loaders for the training and validation sets.\n",
        "#             train_loader = torch.utils.data.DataLoader(data_loader.dataset, batch_size=data_loader.batch_size, sampler=torch.utils.data.SubsetRandomSampler(train_indices))\n",
        "#             val_loader = torch.utils.data.DataLoader(data_loader.dataset, batch_size=data_loader.batch_size, sampler=torch.utils.data.SubsetRandomSampler(val_indices))\n",
        "            \n",
        "#             print('Epoch: {}, Fold: {}'.format(epoch, fold))\n",
        "            \n",
        "#             # Create a new instance of the model for each fold.\n",
        "#             model = Classifier(num_classes=model.num_classes)\n",
        "            \n",
        "#             # Move the new model instance to the device.\n",
        "#             model.to(device)\n",
        "            \n",
        "#             # Set the model to training mode.\n",
        "#             model.train()\n",
        "            \n",
        "#             # Initialize the optimizer for each fold.\n",
        "#             optimizer = optim.Adam(model.parameters())\n",
        "            \n",
        "#             # Loop over data in the training set.\n",
        "#             for batch_idx, (features, target) in enumerate(train_loader):\n",
        "#                 # Move the features and target to the device.\n",
        "#                 features = features.to(device)\n",
        "#                 target = target.to(device)\n",
        "                \n",
        "#                 # Forward pass.\n",
        "#                 output = model(features)\n",
        "#                 loss = criterion(output, target)\n",
        "\n",
        "#                 # Backward pass.\n",
        "#                 optimizer.zero_grad()\n",
        "#                 loss.backward()\n",
        "#                 optimizer.step()\n",
        "\n",
        "#                 # Update the exponential moving average of the loss.\n",
        "#                 if ema_loss is None:\n",
        "#                     ema_loss = loss.item()\n",
        "#                 else:\n",
        "#                     ema_loss += (loss.item() - ema_loss) * 0.01 \n",
        "            \n",
        "#             # Calculate the validation loss.\n",
        "#             val_loss = 0.0\n",
        "#             num_val_batches = 0\n",
        "            \n",
        "#             # Set the model to evaluation mode.\n",
        "#             model.eval()\n",
        "            \n",
        "#             # Loop over data in the validation set.\n",
        "#             with torch.no_grad():\n",
        "#                 for val_batch_idx, (val_features, val_target) in enumerate(val_loader):\n",
        "#                     # Move the validation features and target to the device.\n",
        "#                     val_features = val_features.to(device)\n",
        "#                     val_target = val_target.to(device)\n",
        "                    \n",
        "#                     val_output = model(val_features)\n",
        "#                     val_loss += criterion(val_output, val_target).item()\n",
        "#                     num_val_batches += 1\n",
        "            \n",
        "#             # Compute the average validation loss.\n",
        "#             val_loss /= num_val_batches\n",
        "            \n",
        "#             # Set the model back to training mode.\n",
        "#             model.train()\n",
        "            \n",
        "#             # Store the losses for plotting.\n",
        "#             train_losses.append(ema_loss)\n",
        "#             val_losses.append(val_loss)\n",
        "            \n",
        "#             # Print out the training and validation losses.\n",
        "# #             print('Epoch: {} \\tFold: {} \\tTrain Loss: {:.6f}\n",
        "#             # Print out the training and validation losses.\n",
        "#             print('Epoch: {} \\tFold: {} \\tTrain Loss: {:.6f} \\tVal Loss: {:.6f}'.format(epoch, fold, ema_loss, val_loss))\n",
        "\n",
        "\n",
        "#     # Plot the loss curves.\n",
        "#     plt.plot(train_losses, label='Train Loss')\n",
        "#     plt.plot(val_losses, label='Val Loss')\n",
        "#     plt.xlabel('Epoch')\n",
        "#     plt.ylabel('Loss')\n",
        "#     plt.legend()\n",
        "#     plt.show()\n"
      ],
      "metadata": {
        "execution": {
          "iopub.status.busy": "2023-05-21T10:50:06.264955Z",
          "iopub.execute_input": "2023-05-21T10:50:06.265592Z",
          "iopub.status.idle": "2023-05-21T10:50:06.273726Z",
          "shell.execute_reply.started": "2023-05-21T10:50:06.265559Z",
          "shell.execute_reply": "2023-05-21T10:50:06.272675Z"
        },
        "trusted": true,
        "id": "-vVLT67F_erU"
      },
      "execution_count": null,
      "outputs": []
    },
    {
      "cell_type": "code",
      "source": [
        "def test(model, data_loader):\n",
        "    \"\"\"Measures the accuracy of a model on a data set.\"\"\" \n",
        "    # Make sure the model is in evaluation mode.\n",
        "    model.eval()\n",
        "    correct = 0\n",
        "    print('----- Model Evaluation -----')\n",
        "    # We do not need to maintain intermediate activations while testing.\n",
        "    with torch.no_grad():\n",
        "        \n",
        "        # Loop over test data.\n",
        "        for features, target in data_loader:\n",
        "          \n",
        "            # Forward pass.\n",
        "            output = model(features.to(device))\n",
        "            \n",
        "            # Get the label corresponding to the highest predicted probability.\n",
        "            pred = output.argmax(dim=1, keepdim=True)\n",
        "            \n",
        "            # Count number of correct predictions.\n",
        "            correct += pred.cpu().eq(target.view_as(pred)).sum().item()\n",
        "    # Print test accuracy.\n",
        "    percent = 100. * correct / len(valid_sampler)\n",
        "    print(f'Test accuracy: {correct} / {len(valid_sampler)} ({percent:.0f}%)')\n",
        "    torch.save(model.state_dict(), 'model.ckpt')\n",
        "    return percent"
      ],
      "metadata": {
        "execution": {
          "iopub.status.busy": "2023-05-21T10:50:07.319389Z",
          "iopub.execute_input": "2023-05-21T10:50:07.319763Z",
          "iopub.status.idle": "2023-05-21T10:50:07.329313Z",
          "shell.execute_reply.started": "2023-05-21T10:50:07.319733Z",
          "shell.execute_reply": "2023-05-21T10:50:07.328391Z"
        },
        "trusted": true,
        "id": "QheDTuxR_erU"
      },
      "execution_count": null,
      "outputs": []
    },
    {
      "cell_type": "markdown",
      "source": [
        "### test with losses"
      ],
      "metadata": {
        "id": "Opc5w6V0_erV"
      }
    },
    {
      "cell_type": "code",
      "source": [
        "# import torch\n",
        "\n",
        "# def test(model, data_loader):\n",
        "#     \"\"\"Measures the accuracy and losses of a model on a data set.\"\"\" \n",
        "#     # Make sure the model is in evaluation mode.\n",
        "    \n",
        "#     model.eval()\n",
        "#     correct = 0\n",
        "#     total_loss = 0.0\n",
        "#     print('----- Model Evaluation -----')\n",
        "#     # We do not need to maintain intermediate activations while testing.\n",
        "#     with torch.no_grad():\n",
        "#         # Loop over test data.\n",
        "#         for features, target in data_loader:\n",
        "#             # Forward pass.\n",
        "#             output = model(features.to(device))\n",
        "#             loss_fn=criterion(output, target)\n",
        "#             # Calculate the loss.\n",
        "#             loss = loss_fn(output, target.to(device))\n",
        "            \n",
        "#             # Accumulate the total loss.\n",
        "#             total_loss += loss.item() * features.size(0)\n",
        "            \n",
        "#             # Get the label corresponding to the highest predicted probability.\n",
        "#             pred = output.argmax(dim=1, keepdim=True)\n",
        "            \n",
        "#             # Count number of correct predictions.\n",
        "#             correct += pred.cpu().eq(target.view_as(pred)).sum().item()\n",
        "    \n",
        "#     # Calculate the average loss.\n",
        "#     avg_loss = total_loss / len(data_loader.dataset)\n",
        "    \n",
        "#     # Print test accuracy and loss.\n",
        "#     percent = 100. * correct / len(data_loader.dataset)\n",
        "#     print(f'Test accuracy: {correct} / {len(data_loader.dataset)} ({percent:.0f}%)')\n",
        "#     print(f'Average loss: {avg_loss:.4f}')\n",
        "    \n",
        "#     torch.save(model.state_dict(), 'model.ckpt')\n",
        "    \n",
        "#     return percent, avg_loss\n"
      ],
      "metadata": {
        "execution": {
          "iopub.status.busy": "2023-05-21T10:50:09.744842Z",
          "iopub.execute_input": "2023-05-21T10:50:09.745215Z",
          "iopub.status.idle": "2023-05-21T10:50:09.751432Z",
          "shell.execute_reply.started": "2023-05-21T10:50:09.745186Z",
          "shell.execute_reply": "2023-05-21T10:50:09.750125Z"
        },
        "trusted": true,
        "id": "vTzOR_na_erV"
      },
      "execution_count": null,
      "outputs": []
    },
    {
      "cell_type": "code",
      "source": [
        "# num_epochs = 10\n",
        "# losses=train(model, criterion, train_loader, optimizer, num_epochs=num_epochs)\n",
        "# percent, avg_loss=test(model, valid_loader)"
      ],
      "metadata": {
        "execution": {
          "iopub.status.busy": "2023-05-21T10:50:11.131782Z",
          "iopub.execute_input": "2023-05-21T10:50:11.132420Z",
          "iopub.status.idle": "2023-05-21T10:50:11.137405Z",
          "shell.execute_reply.started": "2023-05-21T10:50:11.132375Z",
          "shell.execute_reply": "2023-05-21T10:50:11.136357Z"
        },
        "trusted": true,
        "id": "lI6Yg7ek_erW"
      },
      "execution_count": null,
      "outputs": []
    },
    {
      "cell_type": "code",
      "source": [
        "num_epochs = 12\n",
        "train(model, criterion, train_loader, optimizer, num_epochs=num_epochs)\n",
        "test(model, valid_loader)"
      ],
      "metadata": {
        "execution": {
          "iopub.status.busy": "2023-05-21T10:55:52.476218Z",
          "iopub.execute_input": "2023-05-21T10:55:52.476605Z",
          "iopub.status.idle": "2023-05-21T11:26:10.744003Z",
          "shell.execute_reply.started": "2023-05-21T10:55:52.476574Z",
          "shell.execute_reply": "2023-05-21T11:26:10.743004Z"
        },
        "trusted": true,
        "id": "OVmJBdY-_erW",
        "outputId": "68054eea-dccb-46f3-be49-a6dde7ae6bab"
      },
      "execution_count": null,
      "outputs": [
        {
          "name": "stdout",
          "text": "----- Training Loop -----\nEpoch: 0 \tLoss: 0.653557\nEpoch: 1 \tLoss: 0.595908\nEpoch: 2 \tLoss: 0.614920\nEpoch: 3 \tLoss: 0.538007\nEpoch: 4 \tLoss: 0.527225\nEpoch: 5 \tLoss: 0.480270\nEpoch: 6 \tLoss: 0.500837\nEpoch: 7 \tLoss: 0.423419\nEpoch: 8 \tLoss: 0.431046\nEpoch: 9 \tLoss: 0.447668\nEpoch: 10 \tLoss: 0.423716\nEpoch: 11 \tLoss: 0.417353\n",
          "output_type": "stream"
        },
        {
          "output_type": "display_data",
          "data": {
            "text/plain": "<Figure size 640x480 with 1 Axes>",
            "image/png": "[encoded data removed]"
          },
          "metadata": {}
        },
        {
          "name": "stdout",
          "text": "----- Model Evaluation -----\nTest accuracy: 1020 / 1131 (90%)\n",
          "output_type": "stream"
        },
        {
          "execution_count": 24,
          "output_type": "execute_result",
          "data": {
            "text/plain": "90.18567639257294"
          },
          "metadata": {}
        }
      ]
    },
    {
      "cell_type": "code",
      "source": [
        "# print(percent)"
      ],
      "metadata": {
        "id": "Q-2EJJoI_erW"
      },
      "execution_count": null,
      "outputs": []
    },
    {
      "cell_type": "code",
      "source": [
        "# # Plot the losses.\n",
        "# plt.plot(losses)\n",
        "# plt.plot(avg_loss)\n",
        "# plt.xlabel('Epoch')\n",
        "# plt.ylabel('Loss')\n",
        "# plt.title('Training Loss')\n",
        "# plt.show()\n"
      ],
      "metadata": {
        "execution": {
          "iopub.status.busy": "2023-05-20T20:59:47.051784Z",
          "iopub.execute_input": "2023-05-20T20:59:47.052454Z",
          "iopub.status.idle": "2023-05-20T20:59:47.082181Z",
          "shell.execute_reply.started": "2023-05-20T20:59:47.052419Z",
          "shell.execute_reply": "2023-05-20T20:59:47.080959Z"
        },
        "trusted": true,
        "id": "VjfZVd5P_erX",
        "outputId": "64f9793b-971b-4684-80aa-b412ff4b653f"
      },
      "execution_count": null,
      "outputs": [
        {
          "traceback": [
            "\u001b[0;31m---------------------------------------------------------------------------\u001b[0m",
            "\u001b[0;31mNameError\u001b[0m                                 Traceback (most recent call last)",
            "Cell \u001b[0;32mIn[49], line 2\u001b[0m\n\u001b[1;32m      1\u001b[0m \u001b[38;5;66;03m# Plot the losses.\u001b[39;00m\n\u001b[0;32m----> 2\u001b[0m plt\u001b[38;5;241m.\u001b[39mplot(\u001b[43mlosses\u001b[49m)\n\u001b[1;32m      4\u001b[0m plt\u001b[38;5;241m.\u001b[39mxlabel(\u001b[38;5;124m'\u001b[39m\u001b[38;5;124mEpoch\u001b[39m\u001b[38;5;124m'\u001b[39m)\n\u001b[1;32m      5\u001b[0m plt\u001b[38;5;241m.\u001b[39mylabel(\u001b[38;5;124m'\u001b[39m\u001b[38;5;124mLoss\u001b[39m\u001b[38;5;124m'\u001b[39m)\n",
            "\u001b[0;31mNameError\u001b[0m: name 'losses' is not defined"
          ],
          "ename": "NameError",
          "evalue": "name 'losses' is not defined",
          "output_type": "error"
        }
      ]
    },
    {
      "cell_type": "code",
      "source": [
        "\n",
        "#     # Plot the loss curves.\n",
        "#     plt.plot(train_losses, label='Train Loss')\n",
        "#     plt.plot(val_losses, label='Val Loss')\n",
        "#     plt.xlabel('Epoch')\n",
        "#     plt.ylabel('Loss')\n",
        "#     plt.legend()\n",
        "#     plt.show()"
      ],
      "metadata": {
        "id": "w-zUlAYw_erX"
      },
      "execution_count": null,
      "outputs": []
    },
    {
      "cell_type": "code",
      "source": [
        "# import torch\n",
        "# import torchvision.models as models\n",
        "# import torchvision.transforms as transforms\n",
        "# from PIL import Image\n",
        "\n",
        "# class ResNextModel(torch.nn.Module):\n",
        "#     def __init__(self):\n",
        "#         super(ResNextModel, self).__init__()\n",
        "#         self.model = models.resnext50_32x4d(pretrained=True)\n",
        "#         self.model.eval()\n",
        "        \n",
        "#     def forward(self, x):\n",
        "#         with torch.no_grad():\n",
        "#             output = self.model(x)\n",
        "#         return output\n",
        "\n",
        "# class ViTModel(torch.nn.Module):\n",
        "#     def __init__(self):\n",
        "#         super(ViTModel, self).__init__()\n",
        "#         self.model = torch.hub.load('facebookresearch/deit:main', 'deit_base_patch16_224', pretrained=True)\n",
        "#         self.model.eval()\n",
        "        \n",
        "#     def forward(self, x):\n",
        "#         with torch.no_grad():\n",
        "#             output = self.model(x)\n",
        "#         return output\n",
        "\n",
        "# class EfficientNetModel(torch.nn.Module):\n",
        "#     def __init__(self):\n",
        "#         super(EfficientNetModel, self).__init__()\n",
        "#         self.model = torch.hub.load('rwightman/gen-efficientnet-pytorch', 'tf_efficientnet_b4_ns', pretrained=True)\n",
        "#         self.model.eval()\n",
        "        \n",
        "#     def forward(self, x):\n",
        "#         with torch.no_grad():\n",
        "#             output = self.model(x)\n",
        "#         return output\n",
        "\n",
        "# class MobileNetModel(torch.nn.Module):\n",
        "#     def __init__(self):\n",
        "#         super(MobileNetModel, self).__init__()\n",
        "#         self.model = models.mobilenet_v3_large(pretrained=True)\n",
        "#         self.model.eval()\n",
        "        \n",
        "#     def forward(self, x):\n",
        "#         with torch.no_grad():\n",
        "#             output = self.model(x)\n",
        "#         return output\n",
        "\n",
        "# # Load and preprocess the image\n",
        "# image_path = 'path_to_your_image.jpg'\n",
        "# image = Image.open(image_path).convert('RGB')\n",
        "# transform = transforms.Compose([\n",
        "#     transforms.Resize(224),\n",
        "#     transforms.ToTensor(),\n",
        "#     transforms.Normalize(mean=[0.485, 0.456, 0.406], std=[0.229, 0.224, 0.225])\n",
        "# ])\n",
        "# input_tensor = transform(image)\n",
        "# input_batch = input_tensor.unsqueeze(0)\n",
        "\n",
        "# # Create instances of the models\n",
        "# resnext_model = ResNextModel()\n",
        "# vit_model = ViTModel()\n",
        "# efficientnet_model = EfficientNetModel()\n",
        "# mobilenet_model = MobileNetModel()\n",
        "\n",
        "# # Pass the input through both models and get the outputs\n",
        "# resnext_output = resnext_model(input_batch)\n",
        "# vit_output = vit_model(input_batch)\n",
        "# efficientnet_output = efficientnet_model(input_batch)\n",
        "# mobilenet_output = mobilenet_model(input_batch)\n",
        "\n",
        "# # Calculate the mean of the outputs\n",
        "# mean_output = (resnext_output + vit_output) / 2\n",
        "\n",
        "# # Calculate the sum of the EfficientNet and MobileNet outputs\n",
        "# sum_output = efficientnet_output + mobilenet_output\n",
        "\n",
        "# # Apply argmax to obtain the final predictions\n",
        "# mean_predictions = torch.argmax(mean_output, dim=1)\n",
        "# sum_predictions = torch.argmax(sum_output, dim=1)\n",
        "\n",
        "# print(\"Mean Predictions:\", mean_predictions)\n",
        "# print(\"Sum Predictions:\", sum_predictions)\n"
      ],
      "metadata": {
        "execution": {
          "iopub.status.busy": "2023-05-20T19:38:39.384729Z",
          "iopub.execute_input": "2023-05-20T19:38:39.385091Z",
          "iopub.status.idle": "2023-05-20T19:38:39.733861Z",
          "shell.execute_reply.started": "2023-05-20T19:38:39.385062Z",
          "shell.execute_reply": "2023-05-20T19:38:39.732515Z"
        },
        "trusted": true,
        "id": "j6nKoiqe_erX",
        "outputId": "9657659f-ba2f-4bb9-fb46-833d2e74d596"
      },
      "execution_count": null,
      "outputs": [
        {
          "traceback": [
            "\u001b[0;31m---------------------------------------------------------------------------\u001b[0m",
            "\u001b[0;31mFileNotFoundError\u001b[0m                         Traceback (most recent call last)",
            "Cell \u001b[0;32mIn[26], line 52\u001b[0m\n\u001b[1;32m     50\u001b[0m \u001b[38;5;66;03m# Load and preprocess the image\u001b[39;00m\n\u001b[1;32m     51\u001b[0m image_path \u001b[38;5;241m=\u001b[39m \u001b[38;5;124m'\u001b[39m\u001b[38;5;124mpath_to_your_image.jpg\u001b[39m\u001b[38;5;124m'\u001b[39m\n\u001b[0;32m---> 52\u001b[0m image \u001b[38;5;241m=\u001b[39m \u001b[43mImage\u001b[49m\u001b[38;5;241;43m.\u001b[39;49m\u001b[43mopen\u001b[49m\u001b[43m(\u001b[49m\u001b[43mimage_path\u001b[49m\u001b[43m)\u001b[49m\u001b[38;5;241m.\u001b[39mconvert(\u001b[38;5;124m'\u001b[39m\u001b[38;5;124mRGB\u001b[39m\u001b[38;5;124m'\u001b[39m)\n\u001b[1;32m     53\u001b[0m transform \u001b[38;5;241m=\u001b[39m transforms\u001b[38;5;241m.\u001b[39mCompose([\n\u001b[1;32m     54\u001b[0m     transforms\u001b[38;5;241m.\u001b[39mResize(\u001b[38;5;241m224\u001b[39m),\n\u001b[1;32m     55\u001b[0m     transforms\u001b[38;5;241m.\u001b[39mToTensor(),\n\u001b[1;32m     56\u001b[0m     transforms\u001b[38;5;241m.\u001b[39mNormalize(mean\u001b[38;5;241m=\u001b[39m[\u001b[38;5;241m0.485\u001b[39m, \u001b[38;5;241m0.456\u001b[39m, \u001b[38;5;241m0.406\u001b[39m], std\u001b[38;5;241m=\u001b[39m[\u001b[38;5;241m0.229\u001b[39m, \u001b[38;5;241m0.224\u001b[39m, \u001b[38;5;241m0.225\u001b[39m])\n\u001b[1;32m     57\u001b[0m ])\n\u001b[1;32m     58\u001b[0m input_tensor \u001b[38;5;241m=\u001b[39m transform(image)\n",
            "File \u001b[0;32m/opt/conda/lib/python3.10/site-packages/PIL/Image.py:3236\u001b[0m, in \u001b[0;36mopen\u001b[0;34m(fp, mode, formats)\u001b[0m\n\u001b[1;32m   3233\u001b[0m     filename \u001b[38;5;241m=\u001b[39m fp\n\u001b[1;32m   3235\u001b[0m \u001b[38;5;28;01mif\u001b[39;00m filename:\n\u001b[0;32m-> 3236\u001b[0m     fp \u001b[38;5;241m=\u001b[39m \u001b[43mbuiltins\u001b[49m\u001b[38;5;241;43m.\u001b[39;49m\u001b[43mopen\u001b[49m\u001b[43m(\u001b[49m\u001b[43mfilename\u001b[49m\u001b[43m,\u001b[49m\u001b[43m \u001b[49m\u001b[38;5;124;43m\"\u001b[39;49m\u001b[38;5;124;43mrb\u001b[39;49m\u001b[38;5;124;43m\"\u001b[39;49m\u001b[43m)\u001b[49m\n\u001b[1;32m   3237\u001b[0m     exclusive_fp \u001b[38;5;241m=\u001b[39m \u001b[38;5;28;01mTrue\u001b[39;00m\n\u001b[1;32m   3239\u001b[0m \u001b[38;5;28;01mtry\u001b[39;00m:\n",
            "\u001b[0;31mFileNotFoundError\u001b[0m: [Errno 2] No such file or directory: 'path_to_your_image.jpg'"
          ],
          "ename": "FileNotFoundError",
          "evalue": "[Errno 2] No such file or directory: 'path_to_your_image.jpg'",
          "output_type": "error"
        }
      ]
    },
    {
      "cell_type": "code",
      "source": [
        "import numpy as np\n",
        "\n",
        "def predict(model, test_loader):\n",
        "    \"\"\"Measures the accuracy of a model on a data set.\"\"\" \n",
        "    # Make sure the model is in evaluation mode.\n",
        "    model.eval()\n",
        "    correct = 0\n",
        "    predictions = []\n",
        "    #print('----- Model Evaluation -----')\n",
        "    # We do not need to maintain intermediate activations while testing.\n",
        "    with torch.no_grad():\n",
        "        \n",
        "        # Loop over test data.\n",
        "        for features, target in test_loader:\n",
        "            model.to(device)\n",
        "          \n",
        "            # Forward pass.\n",
        "            output = model(features.to(device))\n",
        "            \n",
        "            # Get the label corresponding to the highest predicted probability.\n",
        "            pred = output.argmax(dim=1, keepdim=True)\n",
        "            predictions.extend(pred.cpu().data.numpy())\n",
        "    return predictions"
      ],
      "metadata": {
        "execution": {
          "iopub.status.busy": "2023-05-21T11:28:19.990931Z",
          "iopub.execute_input": "2023-05-21T11:28:19.991409Z",
          "iopub.status.idle": "2023-05-21T11:28:20.005816Z",
          "shell.execute_reply.started": "2023-05-21T11:28:19.991361Z",
          "shell.execute_reply": "2023-05-21T11:28:20.004891Z"
        },
        "trusted": true,
        "id": "qj8hCF-4_erY"
      },
      "execution_count": null,
      "outputs": []
    },
    {
      "cell_type": "code",
      "source": [
        "preds = predict(model, test_loader)"
      ],
      "metadata": {
        "execution": {
          "iopub.status.busy": "2023-05-21T11:28:21.284689Z",
          "iopub.execute_input": "2023-05-21T11:28:21.285050Z",
          "iopub.status.idle": "2023-05-21T11:29:48.723092Z",
          "shell.execute_reply.started": "2023-05-21T11:28:21.285021Z",
          "shell.execute_reply": "2023-05-21T11:29:48.722097Z"
        },
        "trusted": true,
        "id": "P8ZxlIoG_erY"
      },
      "execution_count": null,
      "outputs": []
    },
    {
      "cell_type": "code",
      "source": [
        "name = [test_data.file_list[i][-1].split('/')[-1] for i in range(len(test_data.file_list)) ]"
      ],
      "metadata": {
        "execution": {
          "iopub.status.busy": "2023-05-21T11:30:10.779921Z",
          "iopub.execute_input": "2023-05-21T11:30:10.780284Z",
          "iopub.status.idle": "2023-05-21T11:30:10.789327Z",
          "shell.execute_reply.started": "2023-05-21T11:30:10.780254Z",
          "shell.execute_reply": "2023-05-21T11:30:10.788309Z"
        },
        "trusted": true,
        "id": "-JknNjTx_erY"
      },
      "execution_count": null,
      "outputs": []
    },
    {
      "cell_type": "code",
      "source": [
        "import pandas as pd\n",
        "sample = pd.read_csv('/kaggle/input/ammi-2023-convnets/sample_submission_file.csv')\n",
        "sample['Id'] = name"
      ],
      "metadata": {
        "execution": {
          "iopub.status.busy": "2023-05-21T11:30:12.914577Z",
          "iopub.execute_input": "2023-05-21T11:30:12.915265Z",
          "iopub.status.idle": "2023-05-21T11:30:12.940041Z",
          "shell.execute_reply.started": "2023-05-21T11:30:12.915230Z",
          "shell.execute_reply": "2023-05-21T11:30:12.939158Z"
        },
        "trusted": true,
        "id": "la0WTtU8_erY"
      },
      "execution_count": null,
      "outputs": []
    },
    {
      "cell_type": "code",
      "source": [
        "mapping = {0: 'cmd', 1: 'cbb', 2: 'cbsd', 3: 'healthy', 4: 'cgm'}\n",
        "new_preds = [mapping[int(pred)] for pred in preds]\n",
        "sample['Category'] = new_preds\n",
        "sample.to_csv('submission_whith_90.csv', index=False)\n",
        "sample.head()"
      ],
      "metadata": {
        "execution": {
          "iopub.status.busy": "2023-05-21T11:30:20.914350Z",
          "iopub.execute_input": "2023-05-21T11:30:20.914731Z",
          "iopub.status.idle": "2023-05-21T11:30:20.943473Z",
          "shell.execute_reply.started": "2023-05-21T11:30:20.914702Z",
          "shell.execute_reply": "2023-05-21T11:30:20.942586Z"
        },
        "trusted": true,
        "id": "cFpia8XY_erZ",
        "outputId": "b4bc1d66-a2ef-4079-dac9-c660d9e6e06c"
      },
      "execution_count": null,
      "outputs": [
        {
          "execution_count": 29,
          "output_type": "execute_result",
          "data": {
            "text/plain": "  Category                 Id\n0      cgm  test-img-1448.jpg\n1      cmd   test-img-768.jpg\n2      cmd  test-img-3481.jpg\n3      cmd  test-img-1475.jpg\n4      cgm  test-img-2498.jpg",
            "text/html": "<div>\n<style scoped>\n    .dataframe tbody tr th:only-of-type {\n        vertical-align: middle;\n    }\n\n    .dataframe tbody tr th {\n        vertical-align: top;\n    }\n\n    .dataframe thead th {\n        text-align: right;\n    }\n</style>\n<table border=\"1\" class=\"dataframe\">\n  <thead>\n    <tr style=\"text-align: right;\">\n      <th></th>\n      <th>Category</th>\n      <th>Id</th>\n    </tr>\n  </thead>\n  <tbody>\n    <tr>\n      <th>0</th>\n      <td>cgm</td>\n      <td>test-img-1448.jpg</td>\n    </tr>\n    <tr>\n      <th>1</th>\n      <td>cmd</td>\n      <td>test-img-768.jpg</td>\n    </tr>\n    <tr>\n      <th>2</th>\n      <td>cmd</td>\n      <td>test-img-3481.jpg</td>\n    </tr>\n    <tr>\n      <th>3</th>\n      <td>cmd</td>\n      <td>test-img-1475.jpg</td>\n    </tr>\n    <tr>\n      <th>4</th>\n      <td>cgm</td>\n      <td>test-img-2498.jpg</td>\n    </tr>\n  </tbody>\n</table>\n</div>"
          },
          "metadata": {}
        }
      ]
    },
    {
      "cell_type": "code",
      "source": [],
      "metadata": {
        "id": "eDMvKu2R_erZ"
      },
      "execution_count": null,
      "outputs": []
    }
  ]
}