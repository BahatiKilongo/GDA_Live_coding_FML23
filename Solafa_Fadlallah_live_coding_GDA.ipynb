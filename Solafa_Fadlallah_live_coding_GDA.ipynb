{
  "nbformat": 4,
  "nbformat_minor": 0,
  "metadata": {
    "colab": {
      "provenance": []
    },
    "kernelspec": {
      "name": "python3",
      "display_name": "Python 3"
    },
    "language_info": {
      "name": "python"
    }
  },
  "cells": [
    {
      "cell_type": "markdown",
      "source": [
        "# GDA Implementation.\n",
        "\n",
        "Implement the Gaussian Discriminant Analysis (GDA) learning algorithm following the steps as discussed in class.\n",
        "\n",
        "INSTRUCTION: Rename your notebook as: <br>\n",
        "`firstName_LastName_Live_coding_GDA.ipynb`.\n",
        "\n",
        "Notes: \n",
        "* Do not use any built-in functions to complete a task;\n",
        "* Do not import additional libraries."
      ],
      "metadata": {
        "id": "g17Z46tmw2oZ"
      }
    },
    {
      "cell_type": "code",
      "execution_count": 121,
      "metadata": {
        "id": "aT5nlL-QTKwv"
      },
      "outputs": [],
      "source": [
        "import numpy as np\n",
        "import matplotlib.pyplot as plt\n",
        "from sklearn.datasets import make_classification"
      ]
    },
    {
      "cell_type": "code",
      "source": [
        "# Generate data\n",
        "def generate_data():\n",
        "  x, y = make_classification(n_samples= 1000, n_features=3, n_redundant=0, \n",
        "                           n_informative=3, random_state=1, \n",
        "                           n_clusters_per_class=1)\n",
        "  \n",
        "  return x,y\n",
        "\n",
        "x,y= generate_data()\n",
        "print(x.shape, y.shape)"
      ],
      "metadata": {
        "colab": {
          "base_uri": "https://localhost:8080/"
        },
        "id": "_-lL4Yq9Tbzn",
        "outputId": "2684d9ce-43d5-48eb-e5b0-c8705f0485d1"
      },
      "execution_count": 122,
      "outputs": [
        {
          "output_type": "stream",
          "name": "stdout",
          "text": [
            "(1000, 3) (1000,)\n"
          ]
        }
      ]
    },
    {
      "cell_type": "code",
      "source": [
        "# To check the number of classes:\n",
        "\n",
        "np.unique(y)\n",
        "\n",
        "# Outcome: array([0, 1]), which means that we have two classes: 0 and 1"
      ],
      "metadata": {
        "colab": {
          "base_uri": "https://localhost:8080/"
        },
        "id": "hwfmvYhY5AF0",
        "outputId": "9628e429-0325-4a31-bd6f-dabf61857709"
      },
      "execution_count": 123,
      "outputs": [
        {
          "output_type": "execute_result",
          "data": {
            "text/plain": [
              "array([0, 1])"
            ]
          },
          "metadata": {},
          "execution_count": 123
        }
      ]
    },
    {
      "cell_type": "code",
      "source": [
        "def split_data(x,y, train_size= 0.8):\n",
        "    # shuffle the data to randomize the train/test split\n",
        "    n = x.shape[0]\n",
        "    m = int(n*train_size)\n",
        "    idx = np.arange(n)\n",
        "    \n",
        "    np.random.shuffle(idx)\n",
        "    x1 = x[idx]\n",
        "    y1 = y[idx]\n",
        "\n",
        "    x_train = x1[:m]\n",
        "    y_train = y1[:m]\n",
        "    x_test = x1[m:]\n",
        "    y_test = y1[m:]\n",
        "\n",
        "    return x_train, x_test, y_train, y_test\n"
      ],
      "metadata": {
        "id": "EUgiWLDhUAAK"
      },
      "execution_count": 124,
      "outputs": []
    },
    {
      "cell_type": "code",
      "source": [
        "X_train, X_test, y_train, y_test= split_data(x,y, train_size= 0.8) # split your data into x_train, x_test, y_train, y_test\n",
        "print(X_train.shape, y_train.shape, X_test.shape, y_test.shape)"
      ],
      "metadata": {
        "colab": {
          "base_uri": "https://localhost:8080/"
        },
        "id": "Cr2Akm_A_FcJ",
        "outputId": "c92cb005-dd54-4b6d-8f77-91e3f882c801"
      },
      "execution_count": 125,
      "outputs": [
        {
          "output_type": "stream",
          "name": "stdout",
          "text": [
            "(800, 3) (800,) (200, 3) (200,)\n"
          ]
        }
      ]
    },
    {
      "cell_type": "code",
      "source": [
        "def covariance(x, mu):\n",
        "  \n",
        "  # Remember, the covariance matrix is symmetric!\n",
        "\n",
        "  N,D = x.shape\n",
        "  cov_mat = np.zeros((D,D)) #initializing the covariane matrix\n",
        "  for i in range (D):\n",
        "    for j in range (D):\n",
        "      cov_mat[i,j] = np.sum((x[:, i] - mu[i]) * (x[:, j] - mu[j])) / (N - 1)\n",
        "  return cov_mat\n",
        "\n",
        "  # Easy way: cov= np.cov(x, rowvar=0) but do not use it. One can use it to assess his/her result.\n",
        "  \n",
        "  "
      ],
      "metadata": {
        "id": "FrJ7GfXBHNxD"
      },
      "execution_count": 126,
      "outputs": []
    },
    {
      "cell_type": "code",
      "source": [
        "# To check the covariance funcion : \n",
        "# We check the results obtained from the ecovarinace function with the results obtained from np.cov(x,rowvar = 0)\n",
        "covariance_x = covariance(x, x.mean(0))\n",
        "covariance_x "
      ],
      "metadata": {
        "colab": {
          "base_uri": "https://localhost:8080/"
        },
        "id": "Egu6vHKy0OrN",
        "outputId": "bc3b044c-0edb-4ab2-e308-b3df7a6ed0f1"
      },
      "execution_count": 127,
      "outputs": [
        {
          "output_type": "execute_result",
          "data": {
            "text/plain": [
              "array([[1.84495325, 0.02790646, 1.00137533],\n",
              "       [0.02790646, 1.00170721, 0.05539176],\n",
              "       [1.00137533, 0.05539176, 1.74832   ]])"
            ]
          },
          "metadata": {},
          "execution_count": 127
        }
      ]
    },
    {
      "cell_type": "code",
      "source": [
        "cov_x=np.cov(x, rowvar=0)\n",
        "cov_x\n"
      ],
      "metadata": {
        "colab": {
          "base_uri": "https://localhost:8080/"
        },
        "id": "gOp7wfEb1P2U",
        "outputId": "5559ce87-f6dc-453c-dcdd-24a626534bf7"
      },
      "execution_count": 128,
      "outputs": [
        {
          "output_type": "execute_result",
          "data": {
            "text/plain": [
              "array([[1.84495325, 0.02790646, 1.00137533],\n",
              "       [0.02790646, 1.00170721, 0.05539176],\n",
              "       [1.00137533, 0.05539176, 1.74832   ]])"
            ]
          },
          "metadata": {},
          "execution_count": 128
        }
      ]
    },
    {
      "cell_type": "code",
      "source": [
        "# The results are identical!  :)"
      ],
      "metadata": {
        "id": "JKm0AjbC3hiy"
      },
      "execution_count": 129,
      "outputs": []
    },
    {
      "cell_type": "code",
      "source": [
        "class GDA:\n",
        "  def __init__(self):\n",
        "    ## set mu, phi and sigma to None\n",
        "    self.mu = None\n",
        "    self.phi = None\n",
        "    self.sigma = None\n",
        "\n",
        "  def fit(self,x,y):\n",
        "    k = len(np.unique(y)) # Number of class.\n",
        "    d = x.shape[1]  # input dim\n",
        "    m = x.shape[0] # Number of examples.\n",
        "    \n",
        "    ## Initialize mu, phi and sigma\n",
        "    self.mu= np.zeros((k,d))#: kxd, i.e., each row contains an individual class mu.\n",
        "    self.sigma= np.zeros((k,d,d))#: kxdxd, i.e., each row contains an individual class sigma.\n",
        "    self.phi= np.zeros(k)# k-dimension\n",
        "\n",
        "    ## START THE LEARNING: estimate mu, phi and sigma.\n",
        "    for label in range(k):\n",
        "      boo_lean = (label==y)\n",
        "      self.phi[label] = np.sum(boo_lean)/m\n",
        "      self.mu[label] = np.mean(x[boo_lean], axis=0)\n",
        "      self.sigma[label] = covariance(x[boo_lean], self.mu[label])\n",
        "\n",
        "\n",
        "  def predict_proba(self,x):\n",
        "    # reshape or flatt x.\n",
        "    d = x.shape[1]\n",
        "\n",
        "    k_class= self.mu.shape[0] # Number of classes we have in our case it's k = 2\n",
        "\n",
        "    ## START THE LEARNING: estimate mu, phi and sigma.\n",
        "    prob = np.zeros((x.shape[0],k_class))\n",
        "    for lab in range(k_class):\n",
        "      for i in range(x.shape[0]):\n",
        "        p_y = self.phi[lab]\n",
        "\n",
        "        prob[i,lab]=1/((2*np.pi)**(d/2)*np.linalg.det(self.sigma[lab])**0.5)*np.exp(-0.5*(x[i]-self.mu[lab]).T@np.linalg.inv(self.sigma[lab])@(x[i]-self.mu[lab]))*p_y\n",
        "        \n",
        "    return prob\n",
        "\n",
        "  def predict(self,x):\n",
        "    proba_ = self.predict_proba(x)\n",
        "    y_predict = np.argmax(proba_, axis=1)\n",
        "    return y_predict\n",
        "  \n",
        "  def accuracy(self, y, ypreds):\n",
        "    return (np.mean(y==ypreds)*100)"
      ],
      "metadata": {
        "id": "1ocKLDAfceF0"
      },
      "execution_count": 130,
      "outputs": []
    },
    {
      "cell_type": "code",
      "source": [],
      "metadata": {
        "id": "j-3WfuhPBj5K"
      },
      "execution_count": null,
      "outputs": []
    },
    {
      "cell_type": "code",
      "source": [
        "model= GDA()\n",
        "model.fit(X_train,y_train)\n",
        "model.sigma"
      ],
      "metadata": {
        "id": "l_qO0Yp1c3Is",
        "colab": {
          "base_uri": "https://localhost:8080/"
        },
        "outputId": "10008814-55ab-41a0-d7d6-5714d74f698f"
      },
      "execution_count": 131,
      "outputs": [
        {
          "output_type": "execute_result",
          "data": {
            "text/plain": [
              "array([[[ 0.86658507, -0.36399935, -0.0563417 ],\n",
              "        [-0.36399935,  1.73369787,  0.10004051],\n",
              "        [-0.0563417 ,  0.10004051,  0.03888383]],\n",
              "\n",
              "       [[ 0.80170472,  0.36519938,  0.10254372],\n",
              "        [ 0.36519938,  0.34185052, -0.06574212],\n",
              "        [ 0.10254372, -0.06574212,  1.58288571]]])"
            ]
          },
          "metadata": {},
          "execution_count": 131
        }
      ]
    },
    {
      "cell_type": "code",
      "source": [
        "yproba= model.predict_proba(X_test)\n",
        "yproba"
      ],
      "metadata": {
        "id": "NKY1eojY1l4e",
        "colab": {
          "base_uri": "https://localhost:8080/"
        },
        "outputId": "8f5f4197-82cb-4643-9d74-334e0a21f7f3"
      },
      "execution_count": 132,
      "outputs": [
        {
          "output_type": "execute_result",
          "data": {
            "text/plain": [
              "array([[6.95153922e-005, 4.96819640e-003],\n",
              "       [7.44155967e-002, 3.32280264e-003],\n",
              "       [2.86835340e-022, 6.06898624e-002],\n",
              "       [4.55898676e-002, 1.20629550e-003],\n",
              "       [7.13260411e-032, 3.57794480e-002],\n",
              "       [1.07067857e-001, 4.35974086e-006],\n",
              "       [5.70637700e-013, 4.05417512e-002],\n",
              "       [7.45963415e-034, 3.16852834e-002],\n",
              "       [5.26583338e-026, 5.28834831e-002],\n",
              "       [5.92080154e-002, 4.74215981e-005],\n",
              "       [2.01030950e-005, 1.13260260e-003],\n",
              "       [5.71904756e-002, 3.54252734e-012],\n",
              "       [7.06995984e-003, 8.77731075e-003],\n",
              "       [3.65473726e-034, 3.98251222e-002],\n",
              "       [6.72229489e-002, 5.85636271e-005],\n",
              "       [4.10027810e-002, 2.02154051e-011],\n",
              "       [1.45231830e-025, 4.98449696e-002],\n",
              "       [7.31272830e-002, 5.10955435e-009],\n",
              "       [2.75751233e-023, 3.72284924e-002],\n",
              "       [2.56990782e-004, 2.17547739e-002],\n",
              "       [9.78986152e-021, 1.18246653e-002],\n",
              "       [3.74039443e-048, 7.13301926e-003],\n",
              "       [4.05023331e-002, 1.17483149e-005],\n",
              "       [5.06827651e-002, 2.57904498e-006],\n",
              "       [6.49095177e-052, 2.23352048e-002],\n",
              "       [1.51101189e-001, 1.34162197e-004],\n",
              "       [1.62214233e-002, 4.95646164e-007],\n",
              "       [4.13999975e-003, 2.26595169e-002],\n",
              "       [1.98469948e-014, 5.67061918e-002],\n",
              "       [9.74246048e-012, 2.68661802e-002],\n",
              "       [1.33997707e-001, 1.13557640e-003],\n",
              "       [9.53368015e-002, 2.69342352e-004],\n",
              "       [1.42562450e-001, 5.94465575e-004],\n",
              "       [4.78274971e-051, 3.98457942e-004],\n",
              "       [4.13904730e-023, 2.27377978e-002],\n",
              "       [2.28004199e-002, 2.60213269e-003],\n",
              "       [2.11220819e-002, 4.78916929e-018],\n",
              "       [1.35986701e-002, 1.05205377e-013],\n",
              "       [5.53473191e-003, 1.56837263e-007],\n",
              "       [4.79057044e-089, 1.92453720e-002],\n",
              "       [9.95876117e-002, 1.57840340e-003],\n",
              "       [3.16074201e-095, 2.35723439e-002],\n",
              "       [1.20261770e-010, 4.98803961e-003],\n",
              "       [2.90729898e-002, 8.56416459e-007],\n",
              "       [9.10102609e-002, 2.04520157e-010],\n",
              "       [1.48373309e-025, 4.71647405e-002],\n",
              "       [7.01614480e-019, 3.23768060e-002],\n",
              "       [6.44496766e-024, 1.75456887e-002],\n",
              "       [1.41531037e-001, 1.95527656e-003],\n",
              "       [1.07156014e-001, 4.76157385e-008],\n",
              "       [1.39093209e-013, 2.37635162e-002],\n",
              "       [2.31075304e-059, 2.70684653e-002],\n",
              "       [1.31878264e-001, 1.26437376e-005],\n",
              "       [3.83631154e-083, 8.08612187e-003],\n",
              "       [8.57144298e-063, 1.59874036e-002],\n",
              "       [3.57660296e-058, 2.10327775e-002],\n",
              "       [3.05863166e-002, 4.76836808e-005],\n",
              "       [2.18658316e-105, 1.94654513e-002],\n",
              "       [1.14118596e-002, 1.49408690e-026],\n",
              "       [1.93184277e-004, 4.75710579e-003],\n",
              "       [2.01656932e-002, 3.34646113e-009],\n",
              "       [1.40660069e-002, 1.16864428e-005],\n",
              "       [4.11194667e-003, 2.05791676e-002],\n",
              "       [6.03822984e-002, 3.87495970e-011],\n",
              "       [1.11447905e-053, 5.95546514e-002],\n",
              "       [1.45133827e-013, 3.18088511e-002],\n",
              "       [1.00527391e-001, 1.72166427e-003],\n",
              "       [7.59760572e-002, 2.64414353e-004],\n",
              "       [7.60674275e-002, 5.83875187e-003],\n",
              "       [7.36389876e-089, 3.15988520e-003],\n",
              "       [8.81089003e-002, 3.91431961e-007],\n",
              "       [2.49773013e-003, 9.32508241e-003],\n",
              "       [6.02774907e-002, 1.88957757e-003],\n",
              "       [3.19257802e-015, 1.78264460e-002],\n",
              "       [3.28563927e-002, 8.75793790e-007],\n",
              "       [9.28456624e-002, 1.32017370e-007],\n",
              "       [3.45526052e-003, 1.02323496e-012],\n",
              "       [2.05052251e-008, 1.19281468e-002],\n",
              "       [1.32487394e-068, 2.74021891e-002],\n",
              "       [8.17669061e-003, 8.91434926e-005],\n",
              "       [2.45281641e-002, 1.38762759e-006],\n",
              "       [8.30068612e-118, 2.12310099e-003],\n",
              "       [7.86787621e-086, 2.71709133e-003],\n",
              "       [1.40103219e-001, 3.19550185e-005],\n",
              "       [2.04864221e-002, 3.18775303e-006],\n",
              "       [1.08521043e-012, 3.54890733e-002],\n",
              "       [1.20835858e-016, 5.84754357e-002],\n",
              "       [4.36455766e-003, 2.19290228e-011],\n",
              "       [8.63688298e-155, 1.32992157e-003],\n",
              "       [3.03835832e-070, 2.36979225e-002],\n",
              "       [7.01310233e-003, 4.87090860e-016],\n",
              "       [2.16535413e-037, 4.85804113e-002],\n",
              "       [1.71567191e-052, 1.31564580e-003],\n",
              "       [2.48785622e-002, 6.16700124e-006],\n",
              "       [9.38549175e-038, 9.70889864e-003],\n",
              "       [6.92050699e-002, 1.63002719e-003],\n",
              "       [1.06725593e-096, 2.04188848e-002],\n",
              "       [3.11933504e-145, 4.92550051e-003],\n",
              "       [9.89368412e-002, 3.85693818e-006],\n",
              "       [3.34572621e-049, 5.90778057e-003],\n",
              "       [3.00837971e-002, 2.93570687e-005],\n",
              "       [6.73672267e-003, 1.13116130e-006],\n",
              "       [7.67964356e-002, 1.08548956e-008],\n",
              "       [1.32342583e-073, 2.93798070e-002],\n",
              "       [1.40707553e-001, 1.82909144e-003],\n",
              "       [5.37323751e-003, 4.78266006e-017],\n",
              "       [6.90546843e-002, 9.69415421e-003],\n",
              "       [2.11511917e-002, 3.22627221e-003],\n",
              "       [9.02931039e-002, 2.03193732e-004],\n",
              "       [2.22211449e-002, 2.55240108e-008],\n",
              "       [6.70113057e-023, 3.37022369e-002],\n",
              "       [2.14494325e-005, 2.95651734e-002],\n",
              "       [4.82958570e-004, 1.08677271e-002],\n",
              "       [5.45049408e-002, 1.69547665e-003],\n",
              "       [5.54213179e-036, 3.76804540e-002],\n",
              "       [1.44864825e-005, 4.47738225e-003],\n",
              "       [5.79258182e-003, 7.78310465e-020],\n",
              "       [1.39289528e-002, 3.18036446e-004],\n",
              "       [4.39729902e-019, 7.63968291e-003],\n",
              "       [6.23355848e-002, 3.28503950e-004],\n",
              "       [2.12345418e-017, 3.17785258e-003],\n",
              "       [1.23248665e-039, 4.62249718e-002],\n",
              "       [7.76908558e-013, 5.22844745e-002],\n",
              "       [2.54996990e-002, 4.70855896e-009],\n",
              "       [3.97295777e-002, 9.48086461e-003],\n",
              "       [4.83648142e-002, 2.32568704e-004],\n",
              "       [1.14374475e-004, 1.55535333e-002],\n",
              "       [1.69470100e-006, 2.05251077e-002],\n",
              "       [9.19292055e-003, 1.04049363e-007],\n",
              "       [3.49612894e-006, 1.30404931e-002],\n",
              "       [1.16818060e-001, 3.75739903e-003],\n",
              "       [1.26779486e-078, 3.30667852e-002],\n",
              "       [5.41468245e-002, 5.21756681e-014],\n",
              "       [3.13640369e-052, 5.93291074e-002],\n",
              "       [1.34996800e-079, 2.03856965e-002],\n",
              "       [1.16888662e-002, 3.22967992e-004],\n",
              "       [3.00384016e-047, 1.95127504e-002],\n",
              "       [4.75097014e-002, 4.07880813e-003],\n",
              "       [6.23309232e-049, 4.75598065e-002],\n",
              "       [2.15369436e-002, 2.12121909e-010],\n",
              "       [1.29233199e-001, 7.89271994e-007],\n",
              "       [3.86173326e-131, 5.09871811e-003],\n",
              "       [9.16795298e-002, 1.20690688e-006],\n",
              "       [5.12181350e-002, 3.01243134e-005],\n",
              "       [5.72760584e-002, 7.94845437e-004],\n",
              "       [7.26507077e-009, 3.20262446e-002],\n",
              "       [1.59431769e-003, 7.06825714e-003],\n",
              "       [5.98399747e-002, 5.12768697e-004],\n",
              "       [1.20838253e-086, 2.37432667e-002],\n",
              "       [2.52453399e-002, 1.84070940e-007],\n",
              "       [5.34892842e-003, 9.19985862e-004],\n",
              "       [2.55310349e-026, 1.08762309e-002],\n",
              "       [6.69994869e-003, 1.08560488e-002],\n",
              "       [9.54340865e-002, 6.39588744e-003],\n",
              "       [5.86062627e-002, 1.91680435e-009],\n",
              "       [1.31177708e-001, 1.06804883e-006],\n",
              "       [7.74751541e-002, 1.20215332e-003],\n",
              "       [1.40829341e-012, 4.41763177e-002],\n",
              "       [4.31245515e-069, 2.85392282e-002],\n",
              "       [1.26199767e-001, 2.44205196e-007],\n",
              "       [2.38457199e-002, 8.57168362e-005],\n",
              "       [9.63967814e-003, 2.39552044e-002],\n",
              "       [1.44450030e-002, 2.50033600e-009],\n",
              "       [6.89040536e-148, 8.50584789e-003],\n",
              "       [1.19872254e-001, 3.44872897e-003],\n",
              "       [4.75559983e-017, 3.14095228e-002],\n",
              "       [2.19698995e-003, 2.38021082e-002],\n",
              "       [9.90039308e-002, 1.10133152e-005],\n",
              "       [1.30360146e-001, 1.84327537e-003],\n",
              "       [1.06071989e-012, 1.85632753e-002],\n",
              "       [5.16551625e-048, 3.70068332e-004],\n",
              "       [1.23826665e-001, 7.60884736e-005],\n",
              "       [6.29033292e-046, 5.98808728e-002],\n",
              "       [4.57769404e-131, 9.38964079e-004],\n",
              "       [5.79849769e-048, 2.10974673e-002],\n",
              "       [3.30978022e-011, 6.08119694e-003],\n",
              "       [4.34369532e-002, 4.24889837e-013],\n",
              "       [7.93562449e-016, 3.67984391e-002],\n",
              "       [1.16755605e-001, 7.91956442e-004],\n",
              "       [6.05401804e-002, 3.80337785e-004],\n",
              "       [8.32751901e-002, 7.37971609e-003],\n",
              "       [6.10408462e-002, 5.59102348e-011],\n",
              "       [6.31248512e-002, 3.13018161e-004],\n",
              "       [3.08760610e-002, 6.48855215e-005],\n",
              "       [6.97206077e-007, 8.99274195e-003],\n",
              "       [9.89025895e-021, 3.64760148e-002],\n",
              "       [1.30296824e-156, 5.30814651e-003],\n",
              "       [1.17634087e-007, 2.17737666e-002],\n",
              "       [3.04222147e-006, 4.09460909e-002],\n",
              "       [1.67352084e-102, 2.43697971e-002],\n",
              "       [1.33970728e-022, 4.02892785e-002],\n",
              "       [1.55405812e-005, 3.62272124e-002],\n",
              "       [1.48068469e-001, 5.20241398e-005],\n",
              "       [5.49360107e-002, 1.74155218e-004],\n",
              "       [4.32934799e-065, 3.48897870e-002],\n",
              "       [1.72104718e-127, 1.04180210e-002],\n",
              "       [2.04806685e-112, 1.76282439e-002],\n",
              "       [5.95793036e-006, 2.43884480e-003],\n",
              "       [2.08766399e-007, 8.06836750e-003],\n",
              "       [2.47368870e-002, 1.53087723e-010]])"
            ]
          },
          "metadata": {},
          "execution_count": 132
        }
      ]
    },
    {
      "cell_type": "code",
      "source": [
        "ypreds= model.predict(X_test)\n",
        "ypreds\n"
      ],
      "metadata": {
        "id": "D4clV6PK1UJK",
        "colab": {
          "base_uri": "https://localhost:8080/"
        },
        "outputId": "f2ac3a85-8e4c-4fc9-c993-79d05b2d4ee7"
      },
      "execution_count": 133,
      "outputs": [
        {
          "output_type": "execute_result",
          "data": {
            "text/plain": [
              "array([1, 0, 1, 0, 1, 0, 1, 1, 1, 0, 1, 0, 1, 1, 0, 0, 1, 0, 1, 1, 1, 1,\n",
              "       0, 0, 1, 0, 0, 1, 1, 1, 0, 0, 0, 1, 1, 0, 0, 0, 0, 1, 0, 1, 1, 0,\n",
              "       0, 1, 1, 1, 0, 0, 1, 1, 0, 1, 1, 1, 0, 1, 0, 1, 0, 0, 1, 0, 1, 1,\n",
              "       0, 0, 0, 1, 0, 1, 0, 1, 0, 0, 0, 1, 1, 0, 0, 1, 1, 0, 0, 1, 1, 0,\n",
              "       1, 1, 0, 1, 1, 0, 1, 0, 1, 1, 0, 1, 0, 0, 0, 1, 0, 0, 0, 0, 0, 0,\n",
              "       1, 1, 1, 0, 1, 1, 0, 0, 1, 0, 1, 1, 1, 0, 0, 0, 1, 1, 0, 1, 0, 1,\n",
              "       0, 1, 1, 0, 1, 0, 1, 0, 0, 1, 0, 0, 0, 1, 1, 0, 1, 0, 0, 1, 1, 0,\n",
              "       0, 0, 0, 1, 1, 0, 0, 1, 0, 1, 0, 1, 1, 0, 0, 1, 1, 0, 1, 1, 1, 1,\n",
              "       0, 1, 0, 0, 0, 0, 0, 0, 1, 1, 1, 1, 1, 1, 1, 1, 0, 0, 1, 1, 1, 1,\n",
              "       1, 0])"
            ]
          },
          "metadata": {},
          "execution_count": 133
        }
      ]
    },
    {
      "cell_type": "code",
      "source": [
        "model.accuracy(y_test, ypreds)"
      ],
      "metadata": {
        "id": "QgG1xPUg1ULw",
        "colab": {
          "base_uri": "https://localhost:8080/"
        },
        "outputId": "a3e450d8-d94d-4172-d62c-af3f70e4a451"
      },
      "execution_count": 134,
      "outputs": [
        {
          "output_type": "execute_result",
          "data": {
            "text/plain": [
              "98.0"
            ]
          },
          "metadata": {},
          "execution_count": 134
        }
      ]
    }
  ]
}