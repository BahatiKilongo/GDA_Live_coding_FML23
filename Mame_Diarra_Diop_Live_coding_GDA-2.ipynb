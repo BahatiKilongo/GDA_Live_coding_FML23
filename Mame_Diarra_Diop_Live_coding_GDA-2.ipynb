{
  "nbformat": 4,
  "nbformat_minor": 0,
  "metadata": {
    "colab": {
      "provenance": []
    },
    "kernelspec": {
      "name": "python3",
      "display_name": "Python 3"
    },
    "language_info": {
      "name": "python"
    }
  },
  "cells": [
    {
      "cell_type": "markdown",
      "source": [
        "# GDA Implementation.\n",
        "\n",
        "Implement the Gaussian Discriminant Analysis (GDA) learning algorithm following the steps as discussed in class.\n",
        "\n",
        "INSTRUCTION: Rename your notebook as: <br>\n",
        "`firstName_LastName_Live_coding_GDA.ipynb`.\n",
        "\n",
        "Notes: \n",
        "* Do not use any built-in functions to complete a task;\n",
        "* Do not import additional libraries."
      ],
      "metadata": {
        "id": "g17Z46tmw2oZ"
      }
    },
    {
      "cell_type": "code",
      "execution_count": 1,
      "metadata": {
        "id": "aT5nlL-QTKwv"
      },
      "outputs": [],
      "source": [
        "import numpy as np\n",
        "import matplotlib.pyplot as plt\n",
        "from sklearn.datasets import make_classification"
      ]
    },
    {
      "cell_type": "code",
      "source": [
        "# Generate data\n",
        "def generate_data():\n",
        "  x, y = make_classification(n_samples= 1000, n_features=3, n_redundant=0, \n",
        "                           n_informative=3, random_state=1, \n",
        "                           n_clusters_per_class=1)\n",
        "  \n",
        "  return x,y\n",
        "\n",
        "x,y= generate_data()\n",
        "print(x.shape, y.shape)"
      ],
      "metadata": {
        "colab": {
          "base_uri": "https://localhost:8080/"
        },
        "id": "_-lL4Yq9Tbzn",
        "outputId": "2b9b61c1-041b-4d0e-dd8c-8a001df9046a"
      },
      "execution_count": 3,
      "outputs": [
        {
          "output_type": "stream",
          "name": "stdout",
          "text": [
            "(1000, 3) (1000,)\n"
          ]
        }
      ]
    },
    {
      "cell_type": "code",
      "source": [
        "def split_data(x,y, train_size= 0.8):\n",
        "    # shuffle the data to randomize the train/test split\n",
        "    indice = np.arange(x.shape[0])\n",
        "    np.random.permutation(indice)\n",
        "    x= x[indice]\n",
        "    y = y[indice]\n",
        "    num = int(train_size * x.shape[0])\n",
        "    x_train = x[:num]\n",
        "    y_train = y[:num]\n",
        "    x_test = x[num:]\n",
        "    y_test = y[num:]\n",
        "    return x_train, x_test, y_train, y_test\n"
      ],
      "metadata": {
        "id": "EUgiWLDhUAAK"
      },
      "execution_count": 114,
      "outputs": []
    },
    {
      "cell_type": "code",
      "source": [
        "x_train, x_test, y_train, y_test= split_data(x,y, train_size= 0.8) # split your data into x_train, x_test, y_train, y_test\n",
        "print(x_train.shape, y_train.shape, x_test.shape, y_test.shape)"
      ],
      "metadata": {
        "colab": {
          "base_uri": "https://localhost:8080/"
        },
        "id": "Cr2Akm_A_FcJ",
        "outputId": "dc39099e-677d-47c0-8312-810c99d8968f"
      },
      "execution_count": 173,
      "outputs": [
        {
          "output_type": "stream",
          "name": "stdout",
          "text": [
            "(800, 3) (800,) (200, 3) (200,)\n"
          ]
        }
      ]
    },
    {
      "cell_type": "code",
      "source": [
        "def covariance(x, mu):\n",
        "\n",
        "  # Easy way: cov= np.cov(x, rowvar=0) but do not use it. One can use it to assess his/her result.\n",
        "  N,d = x.shape\n",
        "  sigma = np.zeros((d,d))\n",
        "  K=mu.shape[0]\n",
        "  for k in range(K):\n",
        "    for i in range(d):\n",
        "      for j in range(d):\n",
        "        sigma[i,j] = 1/(N-1)*np.sum((x[:,i] - mu[i]) * (x[:,j] - mu[j])) \n",
        "  return sigma"
      ],
      "metadata": {
        "id": "FrJ7GfXBHNxD"
      },
      "execution_count": 188,
      "outputs": []
    },
    {
      "cell_type": "code",
      "source": [
        "covariance(x, x.mean(axis=0))"
      ],
      "metadata": {
        "colab": {
          "base_uri": "https://localhost:8080/"
        },
        "id": "tT3LmUrFb0ge",
        "outputId": "f27965bb-7c88-4d94-b2eb-b3dc70d9f8d9"
      },
      "execution_count": 189,
      "outputs": [
        {
          "output_type": "execute_result",
          "data": {
            "text/plain": [
              "array([[1.84495325, 0.02790646, 1.00137533],\n",
              "       [0.02790646, 1.00170721, 0.05539176],\n",
              "       [1.00137533, 0.05539176, 1.74832   ]])"
            ]
          },
          "metadata": {},
          "execution_count": 189
        }
      ]
    },
    {
      "cell_type": "code",
      "source": [
        "toy_x = np.random.randn(10,3)\n",
        "toy_mu = np.mean(toy_x, 0)\n",
        "print(toy_x.shape, toy_mu.shape)"
      ],
      "metadata": {
        "colab": {
          "base_uri": "https://localhost:8080/"
        },
        "id": "_AiKjzObGxiE",
        "outputId": "5917fb99-b65c-478c-ab37-ee15fe8ab865"
      },
      "execution_count": 69,
      "outputs": [
        {
          "output_type": "stream",
          "name": "stdout",
          "text": [
            "(10, 3) (3,)\n"
          ]
        }
      ]
    },
    {
      "cell_type": "code",
      "source": [
        "np.cov(toy_x, rowvar=0)"
      ],
      "metadata": {
        "colab": {
          "base_uri": "https://localhost:8080/"
        },
        "id": "ZzsPlAYqHbHo",
        "outputId": "800f9e5f-f299-4859-bfef-2955de8a36eb"
      },
      "execution_count": 176,
      "outputs": [
        {
          "output_type": "execute_result",
          "data": {
            "text/plain": [
              "array([[ 0.42578484,  0.16536629, -0.36401319],\n",
              "       [ 0.16536629,  1.97368177, -0.4074186 ],\n",
              "       [-0.36401319, -0.4074186 ,  2.10051637]])"
            ]
          },
          "metadata": {},
          "execution_count": 176
        }
      ]
    },
    {
      "cell_type": "code",
      "source": [
        "from numpy.core.fromnumeric import argmax\n",
        "from math import pi\n",
        "from numpy.random import Philox\n",
        "class GDA:\n",
        "  def __init__(self):\n",
        "    ## set mu, phi and sigma to None\n",
        "    self.mu = None\n",
        "    self.phi =None\n",
        "    self.sigma = None\n",
        "\n",
        "  def fit(self,x,y):\n",
        "    k=np.unique(y).shape[0] # Number of class.\n",
        "    d=x.shape[1]  # input dim\n",
        "    m=x.shape[0]  # Number of examples.\n",
        "    \n",
        "    ## Initialize mu, phi and sigma\n",
        "    self.mu= np.zeros((k,d))#: kxd, i.e., each row contains an individual class mu.\n",
        "    self.sigma= np.zeros((k,d,d))#: kxdxd, i.e., each row contains an individual class sigma.\n",
        "    self.phi= np.zeros(k)# d-dimension\n",
        "    for label in range(k):\n",
        "      self.phi[label] = np.sum(label == y)/x.shape[0]\n",
        "      #idx=np.where(y==label)\n",
        "      self.mu[label] = np.mean(x[label == y], axis=0)\n",
        "      self.sigma[label] = covariance(x[label == y], self.mu[label])\n",
        "\n",
        "    ## START THE LEARNING: estimate mu, phi and sigma.\n",
        "    \n",
        "\n",
        "\n",
        "\n",
        "\n",
        "  def predict_proba(self,x):\n",
        "    # reshape or flatt x.\n",
        "    #x= x.reshape[0]\n",
        "    d=x.shape[1]\n",
        "    k_class= self.mu.shape[0]# Number of classes we have in our case it's k = 2\n",
        "    print(x.shape[0])\n",
        "    ## START THE LEARNING: estimate mu, phi and sigma.\n",
        "    #mu = self.mu\n",
        "    #phi =self.phi\n",
        "    #sigma = self.sigma\n",
        "    pro = np.zeros((x.shape[0], k_class))\n",
        "    \n",
        "    for lab in range(k_class):\n",
        "      for i in range(x.shape[0]):\n",
        "        coeff = 1/((2*pi)**(d/2)) *(np.linalg.det(self.sigma[lab])**(1/2))\n",
        "        pro[i,lab] = coeff * np.exp(-(1/2)*(x[i] - self.mu[lab]).T@np.linalg.inv(self.sigma[lab])@(x[i] - self.mu[lab]))\n",
        "    return pro\n",
        "\n",
        "\n",
        "\n",
        "  def predict(self,x):\n",
        "    predict_proba = self.predict_proba(x)*self.phi\n",
        "    y_pred = np.argmax(predict_proba, axis = 1)\n",
        "    return y_pred\n",
        "  \n",
        "  def accuracy(self, y, ypreds):\n",
        "    accu = np.mean(y==ypreds)\n",
        "    return accu"
      ],
      "metadata": {
        "id": "1ocKLDAfceF0"
      },
      "execution_count": 274,
      "outputs": []
    },
    {
      "cell_type": "code",
      "source": [],
      "metadata": {
        "id": "gTO_Ve4S4nlf"
      },
      "execution_count": 274,
      "outputs": []
    },
    {
      "cell_type": "code",
      "source": [
        "model= GDA()\n",
        "model.fit(x_train,y_train)"
      ],
      "metadata": {
        "id": "l_qO0Yp1c3Is"
      },
      "execution_count": 275,
      "outputs": []
    },
    {
      "cell_type": "code",
      "source": [
        "model.mu"
      ],
      "metadata": {
        "colab": {
          "base_uri": "https://localhost:8080/"
        },
        "id": "3tGE2OlU53N4",
        "outputId": "3c09dbb2-9a74-4191-cf0e-438dce0dfa6c"
      },
      "execution_count": 276,
      "outputs": [
        {
          "output_type": "execute_result",
          "data": {
            "text/plain": [
              "array([[ 1.00201779,  1.00494482,  0.99548846],\n",
              "       [-1.01641736,  0.96824826, -0.90433708]])"
            ]
          },
          "metadata": {},
          "execution_count": 276
        }
      ]
    },
    {
      "cell_type": "code",
      "source": [
        "model.phi"
      ],
      "metadata": {
        "colab": {
          "base_uri": "https://localhost:8080/"
        },
        "id": "w4iDWxKC55si",
        "outputId": "6ebecd50-e141-4500-acd6-1f7c4df04086"
      },
      "execution_count": 277,
      "outputs": [
        {
          "output_type": "execute_result",
          "data": {
            "text/plain": [
              "array([0.495, 0.505])"
            ]
          },
          "metadata": {},
          "execution_count": 277
        }
      ]
    },
    {
      "cell_type": "code",
      "source": [
        "model.sigma"
      ],
      "metadata": {
        "colab": {
          "base_uri": "https://localhost:8080/"
        },
        "id": "hEZ0bORA58JW",
        "outputId": "1d7c7520-31c0-4518-dc13-4dacdb61a203"
      },
      "execution_count": 278,
      "outputs": [
        {
          "output_type": "execute_result",
          "data": {
            "text/plain": [
              "array([[[ 0.90164773, -0.43335029, -0.06500866],\n",
              "        [-0.43335029,  1.68747351,  0.10027055],\n",
              "        [-0.06500866,  0.10027055,  0.0384381 ]],\n",
              "\n",
              "       [[ 0.7647548 ,  0.35278165,  0.0911074 ],\n",
              "        [ 0.35278165,  0.34171233, -0.08598807],\n",
              "        [ 0.0911074 , -0.08598807,  1.62087217]]])"
            ]
          },
          "metadata": {},
          "execution_count": 278
        }
      ]
    },
    {
      "cell_type": "code",
      "source": [
        "yproba = model.predict_proba(x_test)\n",
        "yproba.shape"
      ],
      "metadata": {
        "id": "NKY1eojY1l4e",
        "colab": {
          "base_uri": "https://localhost:8080/"
        },
        "outputId": "adbc71d3-8790-417c-ad22-73d9b04a71e8"
      },
      "execution_count": 279,
      "outputs": [
        {
          "output_type": "stream",
          "name": "stdout",
          "text": [
            "200\n"
          ]
        },
        {
          "output_type": "execute_result",
          "data": {
            "text/plain": [
              "(200, 2)"
            ]
          },
          "metadata": {},
          "execution_count": 279
        }
      ]
    },
    {
      "cell_type": "code",
      "source": [
        "ypreds= model.predict(x_test)\n",
        "ypreds\n"
      ],
      "metadata": {
        "id": "D4clV6PK1UJK",
        "colab": {
          "base_uri": "https://localhost:8080/"
        },
        "outputId": "bee73fa2-53da-4774-b7e7-05093615cb21"
      },
      "execution_count": 280,
      "outputs": [
        {
          "output_type": "stream",
          "name": "stdout",
          "text": [
            "200\n"
          ]
        },
        {
          "output_type": "execute_result",
          "data": {
            "text/plain": [
              "array([0, 0, 0, 0, 1, 1, 0, 0, 0, 0, 1, 0, 1, 1, 1, 1, 0, 1, 1, 1, 0, 0,\n",
              "       1, 1, 0, 1, 0, 0, 0, 1, 0, 1, 0, 0, 0, 0, 0, 1, 1, 0, 0, 1, 1, 0,\n",
              "       0, 1, 0, 0, 1, 0, 0, 0, 0, 1, 1, 0, 1, 1, 0, 1, 0, 1, 1, 0, 0, 0,\n",
              "       1, 0, 1, 0, 1, 1, 1, 1, 1, 0, 1, 1, 0, 0, 1, 0, 1, 1, 0, 0, 1, 1,\n",
              "       0, 0, 0, 1, 1, 0, 1, 1, 1, 1, 1, 0, 1, 0, 1, 1, 0, 1, 1, 1, 0, 1,\n",
              "       0, 0, 1, 0, 1, 0, 0, 1, 0, 1, 1, 0, 1, 1, 0, 0, 0, 1, 0, 0, 1, 1,\n",
              "       0, 0, 0, 1, 1, 1, 1, 1, 1, 1, 0, 1, 1, 1, 0, 0, 1, 1, 0, 0, 0, 1,\n",
              "       1, 1, 0, 0, 0, 1, 1, 1, 0, 0, 0, 1, 0, 1, 0, 0, 0, 0, 1, 0, 0, 1,\n",
              "       1, 0, 1, 0, 0, 0, 1, 1, 1, 0, 0, 1, 1, 0, 0, 1, 1, 1, 0, 1, 0, 1,\n",
              "       1, 0])"
            ]
          },
          "metadata": {},
          "execution_count": 280
        }
      ]
    },
    {
      "cell_type": "code",
      "source": [
        "model.accuracy(y_test, ypreds)"
      ],
      "metadata": {
        "id": "QgG1xPUg1ULw",
        "colab": {
          "base_uri": "https://localhost:8080/"
        },
        "outputId": "96ea6cfa-c1de-4bae-98cd-9c4f8f4400f5"
      },
      "execution_count": 281,
      "outputs": [
        {
          "output_type": "execute_result",
          "data": {
            "text/plain": [
              "0.965"
            ]
          },
          "metadata": {},
          "execution_count": 281
        }
      ]
    },
    {
      "cell_type": "code",
      "source": [],
      "metadata": {
        "id": "OpXYY-yj1UOj"
      },
      "execution_count": null,
      "outputs": []
    },
    {
      "cell_type": "code",
      "source": [],
      "metadata": {
        "id": "8cvRcUO2rtKo"
      },
      "execution_count": null,
      "outputs": []
    }
  ]
}