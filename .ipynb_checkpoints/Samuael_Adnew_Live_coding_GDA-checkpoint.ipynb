{
 "cells": [
  {
   "cell_type": "markdown",
   "metadata": {
    "id": "g17Z46tmw2oZ"
   },
   "source": [
    "# GDA Implementation.\n",
    "\n",
    "Implement the Gaussian Discriminant Analysis (GDA) learning algorithm following the steps as discussed in class.\n",
    "\n",
    "INSTRUCTION: Rename your notebook as: <br>\n",
    "`firstName_LastName_Live_coding_GDA.ipynb`.\n",
    "\n",
    "Notes: \n",
    "* Do not use any built-in functions to complete a task;\n",
    "* Do not import additional libraries."
   ]
  },
  {
   "cell_type": "code",
   "execution_count": 249,
   "metadata": {
    "id": "aT5nlL-QTKwv"
   },
   "outputs": [],
   "source": [
    "import numpy as np\n",
    "import matplotlib.pyplot as plt\n",
    "from sklearn.datasets import make_classification"
   ]
  },
  {
   "cell_type": "code",
   "execution_count": 250,
   "metadata": {
    "colab": {
     "base_uri": "https://localhost:8080/"
    },
    "id": "_-lL4Yq9Tbzn",
    "outputId": "30937363-7f7e-4360-e123-b4cdb1ebe441"
   },
   "outputs": [],
   "source": [
    "# Generate data\n",
    "def generate_data():\n",
    "  x, y = make_classification(n_samples= 1000, n_features=3, n_redundant=0, \n",
    "                           n_informative=3, random_state=1, \n",
    "                           n_clusters_per_class=1)\n",
    "  \n",
    "  return x,y\n",
    "\n",
    "x,y= generate_data() # get data"
   ]
  },
  {
   "cell_type": "code",
   "execution_count": 24,
   "metadata": {
    "id": "EUgiWLDhUAAK"
   },
   "outputs": [],
   "source": [
    "def split_data(x,y, train_size= 0.8):\n",
    "    # shuffle the data to randomize the train/test split\n",
    "    n, m = x.shape\n",
    "    permutation = np.random.permutation(n)\n",
    "    x = x[permutation]\n",
    "    y=y[permutation]\n",
    "    split_position = int(n*train_size)\n",
    "    return x[:split_position], x[split_position:], y[:split_position], y[split_position:]"
   ]
  },
  {
   "cell_type": "code",
   "execution_count": 31,
   "metadata": {
    "colab": {
     "base_uri": "https://localhost:8080/"
    },
    "id": "Cr2Akm_A_FcJ",
    "outputId": "2b8f984d-f896-429f-8097-6fa9cba2d7dc"
   },
   "outputs": [
    {
     "name": "stdout",
     "output_type": "stream",
     "text": [
      "800\n"
     ]
    }
   ],
   "source": [
    "X_train, X_test, y_train, y_test= split_data(x, y) # split your data into x_train, x_test, y_train, y_test\n",
    "# print(X_train.shape, y_train.shape, X_test.shape, y_test.shape)\n",
    "# print(len(X_train.T[0])"
   ]
  },
  {
   "cell_type": "code",
   "execution_count": 27,
   "metadata": {
    "id": "FrJ7GfXBHNxD"
   },
   "outputs": [],
   "source": [
    "def covariance(x, mu):  # mu = 1x3 and x= nx3  for a single class | eg. y=0\n",
    "    return \n",
    "    # Easy way: cov= np.cov(x, rowvar=0) but do not use it. One can use it to assess his/her result.\n",
    "    pass"
   ]
  },
  {
   "cell_type": "code",
   "execution_count": 51,
   "metadata": {},
   "outputs": [],
   "source": [
    "# def covariance(x, mu):  # mu = 1x3 and x= nx3  for a single class | eg. y=0\n",
    "#     n, d = x.shape\n",
    "#     sigma = np.zeros((d,d))\n",
    "#     for di in range(d):\n",
    "#         for dx in range(d):\n",
    "#             vac = np.zeros(n)\n",
    "#             for i in range(n):\n",
    "#                 vac[i]= (x[i][di]-mu[di])*(x[i][dx]-mu[dx])\n",
    "#             sigma[di,dx]=np.mean(vac)\n",
    "#     return sigma"
   ]
  },
  {
   "cell_type": "code",
   "execution_count": 52,
   "metadata": {},
   "outputs": [
    {
     "data": {
      "text/plain": [
       "array([[1.84310829, 0.02787855, 1.00037396],\n",
       "       [0.02787855, 1.0007055 , 0.05533637],\n",
       "       [1.00037396, 0.05533637, 1.74657168]])"
      ]
     },
     "execution_count": 52,
     "metadata": {},
     "output_type": "execute_result"
    }
   ],
   "source": [
    "covariance(x, x.mean(0))"
   ]
  },
  {
   "cell_type": "code",
   "execution_count": 50,
   "metadata": {},
   "outputs": [
    {
     "data": {
      "text/plain": [
       "array([[1.84495325, 0.02790646, 1.00137533],\n",
       "       [0.02790646, 1.00170721, 0.05539176],\n",
       "       [1.00137533, 0.05539176, 1.74832   ]])"
      ]
     },
     "execution_count": 50,
     "metadata": {},
     "output_type": "execute_result"
    }
   ],
   "source": [
    "np.cov(x, rowvar= 0)"
   ]
  },
  {
   "cell_type": "code",
   "execution_count": null,
   "metadata": {},
   "outputs": [],
   "source": []
  },
  {
   "cell_type": "code",
   "execution_count": 251,
   "metadata": {
    "id": "1ocKLDAfceF0"
   },
   "outputs": [],
   "source": [
    "class GDA:\n",
    "  def __init__(self):\n",
    "    ## set mu, phi and sigma to None\n",
    "    self.mu = None\n",
    "    self.phi = None\n",
    "    self.sigma = None\n",
    "    \n",
    "    \n",
    "  def fit(self,x,y):\n",
    "    k=len(np.unique(y)) # Number of class.\n",
    "    m,d=x.shape  # input dim\n",
    "    # m= ... # Number of examples.\n",
    "    self.sigma = np.zeros((k, d, d))\n",
    "    ## Initialize mu, phi and sigma\n",
    "    self.mu,self.phi= self.calc_mus(x,y,k)#: kxd, i.e., each row contains an individual class mu.\n",
    "    for ki in range(k):\n",
    "        indexes = np.where(y==ki)\n",
    "        self.sigma[ki]= self.covariance(x[indexes], self.mu[ki])\n",
    "    #: kxdxd, i.e., each row contains an individual class sigma.\n",
    "#     , self.= self.cal_phis(x,y)# d-dimension\n",
    "    ## START THE LEARNING: estimate mu, phi and sigma.\n",
    "\n",
    "\n",
    "  def predict_proba(self,x):\n",
    "    n,d= x.shape\n",
    "    k_class= 2 # Number of classes we have in our case it's k = 2\n",
    "    vals = []\n",
    "    p = np.zeros((n,k_class))\n",
    "    for b in range(k_class):\n",
    "        for i in range(n):\n",
    "#             print(1/(2*np.pi)**(d/2)*np.sqrt(np.linalg.det(self.sigma[b])))\n",
    "            p[i,b]=(1/(2*np.pi)**(d/2)*np.sqrt(np.linalg.det(self.sigma[b])))*np.exp(-((x[i]-self.mu[b]).T@np.linalg.inv(self.sigma[b])@(x[i]-self.mu[b])))\n",
    "    return p\n",
    "    \n",
    "  def covariance(self, x, mu):  # mu = 1x3 and x= nx3  for a single class | eg. y=0\n",
    "    n, d = x.shape\n",
    "    sigma = np.zeros((d,d))\n",
    "    for di in range(d):\n",
    "        for dx in range(d):\n",
    "            vac = np.zeros(n)\n",
    "            for i in range(n):\n",
    "                vac[i]= (x[i][di]-mu[di])*(x[i][dx]-mu[dx])\n",
    "            sigma[di,dx]=np.mean(vac)\n",
    "    return sigma\n",
    "    # Easy way: cov= np.cov(x, rowvar=0) but do not use it. One can use it to assess his/her result.\n",
    "\n",
    "  def calc_mus(self,x, y, k):\n",
    "    n, d = x.shape\n",
    "    self.mu = np.zeros((k, d))\n",
    "    self.phi = np.zeros((k, d))\n",
    "    for i in range(k):\n",
    "        indexes = np.where(y==i)\n",
    "        x_transposed = x[indexes].T\n",
    "        for di in range(d):\n",
    "            self.mu[i, di]= np.mean(x_transposed[di])\n",
    "            self.phi[i,di] = np.sum(x_transposed[di])/len(x)\n",
    "    return self.mu, self.phi\n",
    "\n",
    "  def predict(self,x):\n",
    "    y_pred = self.predict_proba(x)\n",
    "    return y_pred.argmax(axis=1)\n",
    "  \n",
    "  def accuracy(self, y, ypreds):\n",
    "    return np.mean(np.where(y==ypreds,1,0))"
   ]
  },
  {
   "cell_type": "code",
   "execution_count": 252,
   "metadata": {
    "id": "l_qO0Yp1c3Is"
   },
   "outputs": [
    {
     "name": "stdout",
     "output_type": "stream",
     "text": [
      "0.975\n"
     ]
    }
   ],
   "source": [
    "model= GDA()\n",
    "model.calc_mus(x, y, 2)\n",
    "\n",
    "sigma = np.zeros((2, 3, 3))\n",
    "\n",
    "model.fit(X_train, y_train)\n",
    "# x_pred=model.predict_proba(X_test)\n",
    "ya= model.predict(X_test)\n",
    "acc=model.accuracy(ya, y_test)\n",
    "print(acc)"
   ]
  },
  {
   "cell_type": "code",
   "execution_count": 241,
   "metadata": {
    "id": "NKY1eojY1l4e"
   },
   "outputs": [
    {
     "data": {
      "text/plain": [
       "array([[1.24388630e-030, 6.36084727e-003],\n",
       "       [5.30732624e-005, 2.83002177e-015],\n",
       "       [5.77797892e-006, 2.26898068e-011],\n",
       "       [5.38376843e-003, 1.01836776e-004],\n",
       "       [1.53192920e-016, 1.96720787e-003],\n",
       "       [2.76340300e-072, 5.29588053e-003],\n",
       "       [9.47484472e-003, 4.09571588e-008],\n",
       "       [5.40025871e-023, 5.75293396e-005],\n",
       "       [3.87316094e-062, 1.10520525e-002],\n",
       "       [1.32240766e-117, 3.07336317e-003],\n",
       "       [4.77100384e-005, 1.25442362e-042],\n",
       "       [7.23396168e-032, 1.83479939e-003],\n",
       "       [7.50864355e-027, 3.55106898e-003],\n",
       "       [1.88823749e-003, 5.31616031e-005],\n",
       "       [2.94124141e-006, 1.00692760e-022],\n",
       "       [5.88596969e-004, 6.21835420e-016],\n",
       "       [1.38570994e-003, 1.31849138e-011],\n",
       "       [2.83013274e-053, 3.45970438e-003],\n",
       "       [2.72895857e-005, 7.40770985e-008],\n",
       "       [5.09954566e-015, 3.44595681e-004],\n",
       "       [1.09947049e-003, 8.73551010e-007],\n",
       "       [1.51037877e-006, 9.51027289e-040],\n",
       "       [3.26419758e-024, 1.85817089e-002],\n",
       "       [6.84631760e-055, 1.81681634e-002],\n",
       "       [1.17606234e-004, 1.20668036e-029],\n",
       "       [7.58209546e-070, 2.56510897e-002],\n",
       "       [1.38141001e-142, 1.49691641e-003],\n",
       "       [6.48870997e-003, 3.61186207e-004],\n",
       "       [1.35400535e-003, 1.58372065e-004],\n",
       "       [1.05785414e-040, 8.66381584e-004],\n",
       "       [2.89875853e-012, 1.50465461e-005],\n",
       "       [1.30809072e-243, 2.89240774e-003],\n",
       "       [1.28061389e-143, 3.38742758e-003],\n",
       "       [2.63491433e-005, 1.26271829e-007],\n",
       "       [5.72267721e-006, 4.35155038e-007],\n",
       "       [8.42566126e-006, 3.11572670e-018],\n",
       "       [3.57359615e-004, 2.78859410e-010],\n",
       "       [7.79457207e-080, 1.26133300e-002],\n",
       "       [3.89391813e-026, 1.90235104e-002],\n",
       "       [4.00136901e-003, 8.09746228e-004],\n",
       "       [8.05735804e-003, 3.53456154e-004],\n",
       "       [2.16997298e-003, 3.85265768e-008],\n",
       "       [4.33270156e-020, 9.15298033e-003],\n",
       "       [4.19466742e-003, 2.06863032e-010],\n",
       "       [6.35965245e-003, 2.65418348e-006],\n",
       "       [6.85572399e-005, 2.21059415e-015],\n",
       "       [3.14270588e-101, 7.91108987e-003],\n",
       "       [2.66549601e-008, 5.31447300e-005],\n",
       "       [9.42670073e-005, 2.15911061e-023],\n",
       "       [1.63605934e-038, 1.09680844e-002],\n",
       "       [4.63474056e-003, 6.60707256e-009],\n",
       "       [1.74561637e-003, 1.96389632e-006],\n",
       "       [6.03498807e-166, 2.04920460e-004],\n",
       "       [1.20391529e-029, 9.38332007e-003],\n",
       "       [4.44295591e-173, 1.21669531e-003],\n",
       "       [4.05531531e-003, 1.10312588e-006],\n",
       "       [2.51361348e-032, 3.44425683e-003],\n",
       "       [2.63599519e-003, 1.71772013e-007],\n",
       "       [1.40484870e-003, 6.48864670e-016],\n",
       "       [1.50806308e-005, 4.60512951e-010],\n",
       "       [4.27018536e-044, 2.14002258e-003],\n",
       "       [1.89013887e-003, 2.09504062e-006],\n",
       "       [8.29508077e-004, 1.08968200e-024],\n",
       "       [3.88037878e-006, 1.83704777e-012],\n",
       "       [5.09829471e-104, 2.76380039e-002],\n",
       "       [7.40372767e-050, 9.39382585e-003],\n",
       "       [6.48394265e-100, 3.23976761e-004],\n",
       "       [8.10084012e-070, 4.89880757e-003],\n",
       "       [6.33065900e-005, 6.58909073e-009],\n",
       "       [3.55841064e-243, 4.00862528e-004],\n",
       "       [2.96897159e-003, 3.91701616e-011],\n",
       "       [1.50269039e-006, 1.16193770e-026],\n",
       "       [1.39234758e-129, 1.05180257e-002],\n",
       "       [2.83871833e-003, 2.03227468e-006],\n",
       "       [2.45643098e-004, 1.13378586e-004],\n",
       "       [8.19429267e-003, 1.43601498e-005],\n",
       "       [2.05671054e-084, 9.48579278e-003],\n",
       "       [1.45037355e-050, 8.13162718e-004],\n",
       "       [2.30538799e-025, 1.04702806e-002],\n",
       "       [8.15511041e-007, 9.80497078e-036],\n",
       "       [3.52682569e-003, 3.52787735e-005],\n",
       "       [7.41055272e-005, 3.55782689e-003],\n",
       "       [1.56849608e-053, 1.16500247e-002],\n",
       "       [5.83093009e-005, 3.48640662e-028],\n",
       "       [3.45684651e-085, 1.53091596e-002],\n",
       "       [1.06344454e-016, 7.45855241e-003],\n",
       "       [9.11784545e-008, 4.51346610e-041],\n",
       "       [5.33000255e-057, 1.07387026e-002],\n",
       "       [9.62362904e-017, 1.20719065e-002],\n",
       "       [8.31403667e-037, 6.60585223e-005],\n",
       "       [1.05062095e-003, 1.28513729e-022],\n",
       "       [9.66794002e-214, 2.86405093e-003],\n",
       "       [3.75506497e-003, 4.80183235e-007],\n",
       "       [4.80276048e-104, 1.73542468e-002],\n",
       "       [3.84213390e-172, 3.80665752e-003],\n",
       "       [2.63816743e-003, 9.82138890e-007],\n",
       "       [1.32463593e-007, 3.34919774e-003],\n",
       "       [2.67961739e-083, 2.84382227e-003],\n",
       "       [4.05548135e-003, 2.41425913e-006],\n",
       "       [1.18849673e-016, 1.48017108e-003],\n",
       "       [1.46314196e-003, 6.78022672e-007],\n",
       "       [5.09876727e-005, 1.45287721e-009],\n",
       "       [1.02188572e-042, 8.78696364e-005],\n",
       "       [1.68587093e-008, 3.26659259e-003],\n",
       "       [7.41246109e-003, 3.19603101e-010],\n",
       "       [5.19062769e-003, 1.75062751e-005],\n",
       "       [3.95326649e-003, 7.24258652e-007],\n",
       "       [2.34489966e-029, 1.15078702e-002],\n",
       "       [1.96739226e-003, 1.59768437e-007],\n",
       "       [3.80227436e-003, 2.83888986e-004],\n",
       "       [6.15709463e-003, 4.64895997e-005],\n",
       "       [1.14727765e-310, 1.15462556e-004],\n",
       "       [1.83024249e-005, 3.17373149e-040],\n",
       "       [9.04618986e-005, 1.83364681e-012],\n",
       "       [8.17674221e-153, 6.04054281e-004],\n",
       "       [7.56054810e-003, 2.79455241e-008],\n",
       "       [7.44463772e-003, 1.01545075e-004],\n",
       "       [7.59319041e-143, 2.31211253e-003],\n",
       "       [5.04110636e-004, 2.33618339e-010],\n",
       "       [7.04299762e-094, 5.98249224e-003],\n",
       "       [2.47948875e-004, 1.73128951e-003],\n",
       "       [2.37063522e-043, 1.50636175e-003],\n",
       "       [1.42597798e-003, 2.57715789e-012],\n",
       "       [6.04186607e-117, 5.34903895e-004],\n",
       "       [5.57472904e-003, 2.19779185e-012],\n",
       "       [3.52437341e-041, 2.20452963e-004],\n",
       "       [5.04014063e-003, 2.73362918e-009],\n",
       "       [6.09349483e-004, 1.75783420e-004],\n",
       "       [5.45803242e-095, 4.33816428e-003],\n",
       "       [3.06556236e-005, 6.86614316e-010],\n",
       "       [7.10473392e-019, 1.82319486e-003],\n",
       "       [2.31579172e-048, 1.14191472e-002],\n",
       "       [4.09901360e-112, 4.46044866e-003],\n",
       "       [3.56301296e-004, 1.12507829e-013],\n",
       "       [2.71362231e-080, 2.36805739e-003],\n",
       "       [8.77704994e-009, 3.25766331e-003],\n",
       "       [1.54519974e-023, 4.65683562e-004],\n",
       "       [3.49765866e-004, 2.61563997e-018],\n",
       "       [5.98388617e-005, 1.98545527e-011],\n",
       "       [1.94640405e-005, 4.05142029e-005],\n",
       "       [3.70855362e-004, 3.25334315e-010],\n",
       "       [2.78072281e-003, 1.73214108e-004],\n",
       "       [5.32567299e-004, 2.57528476e-025],\n",
       "       [6.69566233e-003, 1.57111095e-004],\n",
       "       [1.03219645e-043, 1.24740327e-002],\n",
       "       [1.75531132e-004, 2.62748375e-006],\n",
       "       [6.36510696e-184, 6.43119348e-006],\n",
       "       [7.30137316e-003, 2.45613081e-010],\n",
       "       [2.67623757e-003, 1.86501639e-006],\n",
       "       [2.31702690e-003, 6.61216697e-006],\n",
       "       [1.20370727e-004, 5.24714104e-011],\n",
       "       [5.76684163e-007, 5.24250512e-007],\n",
       "       [7.34280846e-006, 2.88987858e-004],\n",
       "       [3.60980031e-128, 6.24874148e-003],\n",
       "       [1.74772503e-196, 1.28922980e-004],\n",
       "       [9.94815561e-136, 2.39308731e-003],\n",
       "       [4.20145146e-024, 4.80726878e-004],\n",
       "       [3.50450276e-123, 1.88420959e-003],\n",
       "       [2.84089122e-040, 1.88940102e-002],\n",
       "       [1.18845533e-009, 2.23760404e-004],\n",
       "       [3.30547078e-005, 1.74136542e-013],\n",
       "       [1.12653455e-190, 4.57546825e-003],\n",
       "       [2.14516604e-003, 5.68939138e-012],\n",
       "       [2.96330961e-004, 1.52126919e-010],\n",
       "       [1.94126914e-093, 2.34980408e-002],\n",
       "       [1.80261889e-008, 2.62241805e-006],\n",
       "       [1.45044253e-073, 1.34034524e-002],\n",
       "       [7.50404570e-004, 5.10104137e-004],\n",
       "       [1.02096140e-064, 1.74898058e-003],\n",
       "       [2.39953345e-035, 7.73767321e-003],\n",
       "       [4.79975606e-004, 2.19908928e-014],\n",
       "       [4.60956468e-003, 2.34626574e-006],\n",
       "       [5.58568664e-258, 1.25156609e-003],\n",
       "       [9.51119791e-004, 1.63949573e-007],\n",
       "       [1.12380040e-004, 4.70262251e-017],\n",
       "       [1.07118476e-268, 1.18872543e-003],\n",
       "       [5.60467701e-054, 3.10457270e-003],\n",
       "       [2.22961259e-004, 3.83763834e-006],\n",
       "       [7.15378493e-003, 2.51125506e-010],\n",
       "       [3.90281286e-003, 5.14781528e-011],\n",
       "       [9.24824302e-031, 6.54755868e-004],\n",
       "       [2.05048026e-018, 6.38516028e-003],\n",
       "       [5.34431944e-041, 1.11790742e-002],\n",
       "       [3.72636431e-044, 2.58186174e-002],\n",
       "       [7.53878345e-027, 6.62358925e-003],\n",
       "       [9.24329413e-004, 9.23272454e-021],\n",
       "       [1.57094311e-004, 2.74264502e-010],\n",
       "       [2.92189802e-005, 1.36911639e-008],\n",
       "       [1.03644439e-015, 1.08100531e-002],\n",
       "       [5.50286482e-003, 1.66187386e-007],\n",
       "       [5.01567152e-040, 1.45754278e-002],\n",
       "       [1.25054930e-042, 7.75833248e-004],\n",
       "       [7.00094290e-015, 9.17212505e-003],\n",
       "       [1.95036536e-007, 1.71082196e-004],\n",
       "       [2.01232015e-003, 1.68653800e-006],\n",
       "       [1.01304884e-003, 4.63982789e-019],\n",
       "       [4.80508707e-003, 3.89814904e-005],\n",
       "       [2.63453711e-155, 1.32643222e-002],\n",
       "       [3.03568292e-004, 3.92395790e-008],\n",
       "       [5.06337453e-061, 1.72301623e-002]])"
      ]
     },
     "execution_count": 241,
     "metadata": {},
     "output_type": "execute_result"
    }
   ],
   "source": [
    "yproba= model.predict_proba(X_test)\n",
    "yproba"
   ]
  },
  {
   "cell_type": "code",
   "execution_count": 242,
   "metadata": {
    "id": "D4clV6PK1UJK"
   },
   "outputs": [
    {
     "data": {
      "text/plain": [
       "array([1, 0, 0, 0, 1, 1, 0, 1, 1, 1, 0, 1, 1, 0, 0, 0, 0, 1, 0, 1, 0, 0,\n",
       "       1, 1, 0, 1, 1, 0, 0, 1, 1, 1, 1, 0, 0, 0, 0, 1, 1, 0, 0, 0, 1, 0,\n",
       "       0, 0, 1, 1, 0, 1, 0, 0, 1, 1, 1, 0, 1, 0, 0, 0, 1, 0, 0, 0, 1, 1,\n",
       "       1, 1, 0, 1, 0, 0, 1, 0, 0, 0, 1, 1, 1, 0, 0, 1, 1, 0, 1, 1, 0, 1,\n",
       "       1, 1, 0, 1, 0, 1, 1, 0, 1, 1, 0, 1, 0, 0, 1, 1, 0, 0, 0, 1, 0, 0,\n",
       "       0, 1, 0, 0, 1, 0, 0, 1, 0, 1, 1, 1, 0, 1, 0, 1, 0, 0, 1, 0, 1, 1,\n",
       "       1, 0, 1, 1, 1, 0, 0, 1, 0, 0, 0, 0, 1, 0, 1, 0, 0, 0, 0, 0, 1, 1,\n",
       "       1, 1, 1, 1, 1, 1, 0, 1, 0, 0, 1, 1, 1, 0, 1, 1, 0, 0, 1, 0, 0, 1,\n",
       "       1, 0, 0, 0, 1, 1, 1, 1, 1, 0, 0, 0, 1, 0, 1, 1, 1, 1, 0, 0, 0, 1,\n",
       "       0, 1])"
      ]
     },
     "execution_count": 242,
     "metadata": {},
     "output_type": "execute_result"
    }
   ],
   "source": [
    "ypreds= model.predict(X_test)\n",
    "ypreds"
   ]
  },
  {
   "cell_type": "code",
   "execution_count": 243,
   "metadata": {
    "id": "QgG1xPUg1ULw"
   },
   "outputs": [
    {
     "data": {
      "text/plain": [
       "97.5"
      ]
     },
     "execution_count": 243,
     "metadata": {},
     "output_type": "execute_result"
    }
   ],
   "source": [
    "model.accuracy(y_test, ypreds)"
   ]
  },
  {
   "cell_type": "code",
   "execution_count": 244,
   "metadata": {
    "id": "OpXYY-yj1UOj"
   },
   "outputs": [
    {
     "name": "stdout",
     "output_type": "stream",
     "text": [
      "(array([0, 2, 3, 5]),)\n"
     ]
    }
   ],
   "source": [
    "a = np.array([1,0,1,1,0,1,0,0,0,0])\n",
    "print(np.where(a==1))"
   ]
  },
  {
   "cell_type": "code",
   "execution_count": null,
   "metadata": {
    "id": "8cvRcUO2rtKo"
   },
   "outputs": [],
   "source": []
  }
 ],
 "metadata": {
  "colab": {
   "provenance": []
  },
  "kernelspec": {
   "display_name": "Python 3 (ipykernel)",
   "language": "python",
   "name": "python3"
  },
  "language_info": {
   "codemirror_mode": {
    "name": "ipython",
    "version": 3
   },
   "file_extension": ".py",
   "mimetype": "text/x-python",
   "name": "python",
   "nbconvert_exporter": "python",
   "pygments_lexer": "ipython3",
   "version": "3.9.13"
  }
 },
 "nbformat": 4,
 "nbformat_minor": 1
}
