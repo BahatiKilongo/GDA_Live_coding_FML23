{
 "cells": [
  {
   "cell_type": "markdown",
   "metadata": {
    "id": "g17Z46tmw2oZ"
   },
   "source": [
    "# GDA Implementation.\n",
    "\n",
    "Implement the Gaussian Discriminant Analysis (GDA) learning algorithm following the steps as discussed in class.\n",
    "\n",
    "INSTRUCTION: Rename your notebook as: <br>\n",
    "`firstName_LastName_Live_coding_GDA.ipynb`.\n",
    "\n",
    "Notes: \n",
    "* Do not use any built-in functions to complete a task;\n",
    "* Do not import additional libraries."
   ]
  },
  {
   "cell_type": "code",
   "execution_count": 1,
   "metadata": {
    "id": "aT5nlL-QTKwv"
   },
   "outputs": [],
   "source": [
    "import numpy as np\n",
    "import matplotlib.pyplot as plt\n",
    "from sklearn.datasets import make_classification"
   ]
  },
  {
   "cell_type": "code",
   "execution_count": 2,
   "metadata": {
    "colab": {
     "base_uri": "https://localhost:8080/"
    },
    "id": "_-lL4Yq9Tbzn",
    "outputId": "30937363-7f7e-4360-e123-b4cdb1ebe441"
   },
   "outputs": [
    {
     "name": "stdout",
     "output_type": "stream",
     "text": [
      "(1000, 3) (1000,)\n"
     ]
    }
   ],
   "source": [
    "# Generate data\n",
    "def generate_data():\n",
    "  x, y = make_classification(n_samples= 1000, n_features=3, n_redundant=0, \n",
    "                           n_informative=3, random_state=1, \n",
    "                           n_clusters_per_class=1)\n",
    "  \n",
    "  return x,y\n",
    "\n",
    "x,y= generate_data() # get data\n",
    "print(x.shape, y.shape)"
   ]
  },
  {
   "cell_type": "code",
   "execution_count": 3,
   "metadata": {
    "id": "EUgiWLDhUAAK"
   },
   "outputs": [],
   "source": [
    "def split_data(x,y, train_size= 0.8):\n",
    "    # shuffle the data to randomize the train/test split\n",
    "    indices = np.random.permutation(len(y))\n",
    "    \n",
    "    # Split the shuffled indices into training and testing sets\n",
    "    train_indices = indices[:int(train_size*len(y))]\n",
    "    test_indices = indices[int(train_size*len(y)):]\n",
    "    \n",
    "    # Use the shuffled indices to extract the corresponding data\n",
    "    x_train, x_test = x[train_indices], x[test_indices]\n",
    "    y_train, y_test = y[train_indices], y[test_indices]\n",
    "    return x_train, x_test, y_train, y_test"
   ]
  },
  {
   "cell_type": "code",
   "execution_count": 4,
   "metadata": {},
   "outputs": [
    {
     "name": "stdout",
     "output_type": "stream",
     "text": [
      "(800, 3) (800,) (200, 3) (200,)\n"
     ]
    }
   ],
   "source": [
    "X_train, X_test, y_train, y_test= split_data(x, y, train_size=0.8)# split your data into x_train, x_test, y_train, y_test\n",
    "print(X_train.shape, y_train.shape, X_test.shape, y_test.shape)"
   ]
  },
  {
   "cell_type": "code",
   "execution_count": 5,
   "metadata": {},
   "outputs": [],
   "source": [
    "def covariance(x, mu):\n",
    "    d = x.shape[1]\n",
    "    mu=np.mean(x,axis=0)\n",
    "    cov = np.zeros((d, d))\n",
    "    for i in range(d):\n",
    "        for j in range(d):\n",
    "            cov[i, j] = np.sum((x[:,i] - mu[i]) * (x[:,j] - mu[j])) / (len(x) - 1)\n",
    "    return cov"
   ]
  },
  {
   "cell_type": "code",
   "execution_count": 6,
   "metadata": {},
   "outputs": [
    {
     "name": "stdout",
     "output_type": "stream",
     "text": [
      "[-0.01298493  0.99925415  0.02975341]\n"
     ]
    }
   ],
   "source": [
    "print(np.mean(x,axis=0))"
   ]
  },
  {
   "cell_type": "code",
   "execution_count": 7,
   "metadata": {},
   "outputs": [
    {
     "data": {
      "text/plain": [
       "array([[1.84495325, 0.02790646, 1.00137533],\n",
       "       [0.02790646, 1.00170721, 0.05539176],\n",
       "       [1.00137533, 0.05539176, 1.74832   ]])"
      ]
     },
     "execution_count": 7,
     "metadata": {},
     "output_type": "execute_result"
    }
   ],
   "source": [
    "mu=np.mean(x,axis=0)\n",
    "covariance(x, mu)"
   ]
  },
  {
   "cell_type": "code",
   "execution_count": 8,
   "metadata": {},
   "outputs": [
    {
     "data": {
      "text/plain": [
       "array([[1.84495325, 0.02790646, 1.00137533],\n",
       "       [0.02790646, 1.00170721, 0.05539176],\n",
       "       [1.00137533, 0.05539176, 1.74832   ]])"
      ]
     },
     "execution_count": 8,
     "metadata": {},
     "output_type": "execute_result"
    }
   ],
   "source": [
    "np.cov(x,rowvar=0)"
   ]
  },
  {
   "cell_type": "code",
   "execution_count": 92,
   "metadata": {
    "id": "1ocKLDAfceF0"
   },
   "outputs": [],
   "source": [
    "class GDA:\n",
    "  def __init__(self):\n",
    "    ## set mu, phi and sigma to None\n",
    "    self.mu=None\n",
    "    self.phi=None\n",
    "    self.sigma=None\n",
    "    \n",
    "  def fit(self,x,y):\n",
    "    k=2 #np.unique(y).size  # Number of class.\n",
    "    d=x.shape[1] # input dim\n",
    "    m= x.shape[0]# Number of examples.\n",
    "    \n",
    "    ## Initialize mu, phi and sigma\n",
    "    self.mu= np.zeros((k,d))#: kxd, i.e., each row contains an individual class mu.\n",
    "    self.sigma= np.zeros((k,d,d))#: kxdxd, i.e., each row contains an individual class sigma.\n",
    "    self.phi= np.zeros((k))# d-dimension\n",
    "\n",
    "    ## START THE LEARNING: estimate mu, phi and sigma.\n",
    "    for lab in range(k):\n",
    "        \n",
    "        self.phi[lab] = np.sum(lab==y)/m \n",
    "        self.mu[lab] = np.mean(x[lab==y], axis=0)\n",
    "        self.sigma[lab] = covariance(x[lab==y], self.mu[lab])\n",
    "    return self.phi,self.mu, self.sigma\n",
    "            \n",
    "            \n",
    "\n",
    "  def predict_proba(self,x):\n",
    "    # reshape or flatt x.\n",
    "    #x= x.reshape(-1, self.mu.shape[1])\n",
    "    #x=x.reshape(-1,1)\n",
    "    #x=self.mu.shape[0]\n",
    "    d= x.shape[0]\n",
    "    #k_class = self.mu.shape[0] \n",
    "    k_class= self.mu.shape[0]  # Number of classes we have in our case it's k = 2\n",
    "    probabilities = np.zeros((d, k_class))\n",
    "    det_cov = []\n",
    "    inv_cov = []\n",
    "    \n",
    "    ## START THE LEARNING: estimate mu, phi and sigma.\n",
    "    for lab in range(k_class):\n",
    "        det_cov= np.linalg.det(self.sigma[lab])\n",
    "        inv_cov=np.linalg.inv(self.sigma[lab])\n",
    "        for j in range(x.shape[0]):\n",
    "            first_term=1/((2*np.pi)**(d/2)*(det_cov**0.5))\n",
    "            #first_term=((1/(((2*np.pi)**(d/2))*(det_cov**0.5)))\n",
    "            exponential=-0.5*((x[j]-self.mu[lab]).T)@(inv_cov)@(x[j]-self.mu[lab])\n",
    "            second_term=np.exp(exponential)\n",
    "            probabilities[j, lab] = first_term*second_term*self.phi[lab]\n",
    "    return probabilities\n",
    "\n",
    "  def predict(self,x):\n",
    "    predict=self.predict_proba(x)\n",
    "    \n",
    "    y = np.argmax(predict,axis = 1)\n",
    "    #Predict = np.argmax(self.predict_proba(x))\n",
    "    return y\n",
    "    \n",
    "  \n",
    "  def accuracy(self, y, ypreds):\n",
    "#     ypred = self.predict(y)\n",
    "    result = np.mean(y == ypreds)\n",
    "    return result * 100 "
   ]
  },
  {
   "cell_type": "code",
   "execution_count": null,
   "metadata": {},
   "outputs": [],
   "source": []
  },
  {
   "cell_type": "code",
   "execution_count": null,
   "metadata": {},
   "outputs": [],
   "source": []
  },
  {
   "cell_type": "code",
   "execution_count": null,
   "metadata": {},
   "outputs": [],
   "source": []
  },
  {
   "cell_type": "code",
   "execution_count": 93,
   "metadata": {
    "id": "l_qO0Yp1c3Is"
   },
   "outputs": [
    {
     "data": {
      "text/plain": [
       "(array([0.50125, 0.49875]),\n",
       " array([[ 1.01936807,  1.04356161,  0.99498104],\n",
       "        [-1.00811323,  0.93916593, -0.91939854]]),\n",
       " array([[[ 0.87015779, -0.37838989, -0.06785117],\n",
       "         [-0.37838989,  1.72295945,  0.10301312],\n",
       "         [-0.06785117,  0.10301312,  0.03920941]],\n",
       " \n",
       "        [[ 0.77620597,  0.32351387,  0.11693447],\n",
       "         [ 0.32351387,  0.35071905, -0.08528769],\n",
       "         [ 0.11693447, -0.08528769,  1.61383949]]]))"
      ]
     },
     "execution_count": 93,
     "metadata": {},
     "output_type": "execute_result"
    }
   ],
   "source": [
    "model= GDA()\n",
    "model.fit(X_train,y_train)"
   ]
  },
  {
   "cell_type": "code",
   "execution_count": 94,
   "metadata": {
    "id": "NKY1eojY1l4e"
   },
   "outputs": [
    {
     "data": {
      "text/plain": [
       "array([[2.54517636e-080, 4.52252623e-083],\n",
       "       [5.16536665e-135, 5.61036378e-081],\n",
       "       [1.53891790e-080, 2.39868199e-085],\n",
       "       [1.01147144e-080, 3.27504614e-087],\n",
       "       [2.11581065e-173, 8.64640935e-082],\n",
       "       [1.80127544e-080, 1.31063287e-081],\n",
       "       [9.80017819e-189, 2.74145031e-081],\n",
       "       [2.32313853e-081, 5.26985762e-091],\n",
       "       [6.18580222e-091, 1.06073701e-080],\n",
       "       [1.79709629e-139, 1.03279320e-080],\n",
       "       [5.52930400e-081, 3.44728428e-081],\n",
       "       [1.98608249e-080, 1.55089942e-084],\n",
       "       [5.67814903e-081, 9.37375358e-087],\n",
       "       [1.02074656e-119, 1.01165307e-080],\n",
       "       [2.18757974e-097, 1.22920461e-080],\n",
       "       [6.16535231e-081, 3.33956881e-083],\n",
       "       [1.14424240e-105, 1.13336059e-080],\n",
       "       [4.15405204e-116, 3.31888625e-081],\n",
       "       [4.58805175e-081, 2.22688121e-084],\n",
       "       [1.53196224e-080, 2.90113232e-085],\n",
       "       [2.42852108e-155, 5.85429180e-081],\n",
       "       [2.90351503e-080, 3.34219955e-082],\n",
       "       [2.99240625e-080, 1.90791060e-084],\n",
       "       [7.26024915e-100, 2.18302883e-081],\n",
       "       [2.51926419e-083, 5.68696414e-081],\n",
       "       [2.22950610e-080, 1.44549857e-086],\n",
       "       [2.15416933e-080, 1.01641576e-082],\n",
       "       [5.60037516e-171, 2.05271483e-081],\n",
       "       [1.52090881e-080, 1.88317802e-088],\n",
       "       [1.67619697e-128, 4.82408227e-081],\n",
       "       [1.45542673e-081, 2.47941095e-081],\n",
       "       [2.01818993e-080, 1.70616905e-081],\n",
       "       [1.01951177e-080, 2.05934425e-083],\n",
       "       [1.09880153e-080, 2.81815545e-083],\n",
       "       [3.32557301e-087, 8.25070669e-081],\n",
       "       [3.16839559e-080, 2.67099161e-083],\n",
       "       [2.39102811e-080, 4.63002782e-084],\n",
       "       [1.37795196e-108, 4.83643535e-081],\n",
       "       [1.58058654e-080, 1.19206086e-082],\n",
       "       [6.67244910e-081, 2.27314090e-081],\n",
       "       [2.45756747e-091, 9.74297105e-081],\n",
       "       [9.69632873e-082, 2.89694085e-085],\n",
       "       [2.67259195e-080, 4.78378112e-082],\n",
       "       [3.35555836e-080, 2.56651141e-083],\n",
       "       [4.68056715e-081, 2.76604420e-083],\n",
       "       [7.52991488e-097, 1.33169180e-080],\n",
       "       [2.43770369e-126, 1.25834155e-080],\n",
       "       [3.13293192e-080, 8.64450187e-085],\n",
       "       [1.38865133e-098, 2.86951863e-081],\n",
       "       [1.69926358e-080, 3.85823393e-083],\n",
       "       [4.71239273e-103, 1.80402556e-081],\n",
       "       [2.59030740e-081, 2.43360364e-084],\n",
       "       [2.49211659e-215, 1.37032122e-081],\n",
       "       [3.44043599e-093, 7.68344302e-081],\n",
       "       [3.13650114e-097, 2.98390636e-082],\n",
       "       [2.31307610e-080, 1.83436936e-081],\n",
       "       [1.37111956e-080, 2.04686863e-081],\n",
       "       [2.74889866e-105, 1.15187127e-080],\n",
       "       [2.71373024e-080, 9.33023277e-085],\n",
       "       [5.85394400e-081, 3.92045419e-086],\n",
       "       [1.63828248e-080, 1.29701735e-081],\n",
       "       [2.40478882e-084, 9.27086532e-082],\n",
       "       [2.81486390e-084, 7.49714726e-082],\n",
       "       [9.03239008e-093, 2.90302785e-082],\n",
       "       [3.19691384e-175, 1.09894456e-081],\n",
       "       [5.93693226e-096, 7.95636906e-081],\n",
       "       [1.09913241e-080, 4.55615361e-082],\n",
       "       [1.49212056e-080, 1.12691598e-087],\n",
       "       [3.62413028e-247, 9.21437050e-082],\n",
       "       [3.64895687e-106, 8.44954583e-081],\n",
       "       [6.66629151e-081, 2.29668265e-084],\n",
       "       [1.53807052e-080, 8.36770500e-088],\n",
       "       [1.38669351e-080, 4.47410310e-082],\n",
       "       [4.52706741e-140, 5.90360356e-081],\n",
       "       [7.42364262e-081, 1.80184365e-083],\n",
       "       [1.19508340e-157, 6.26864144e-081],\n",
       "       [2.69039535e-081, 4.68839024e-100],\n",
       "       [7.36737963e-091, 8.38342391e-081],\n",
       "       [7.45901295e-084, 7.15526945e-081],\n",
       "       [5.91517500e-130, 7.21268683e-083],\n",
       "       [1.05531534e-129, 1.46750271e-081],\n",
       "       [2.76049897e-080, 1.87318944e-082],\n",
       "       [2.67068970e-206, 2.64028609e-081],\n",
       "       [3.10144925e-081, 8.71407719e-090],\n",
       "       [8.02024947e-081, 4.05917485e-081],\n",
       "       [8.30307487e-114, 1.68622875e-081],\n",
       "       [1.55764395e-102, 7.55635465e-081],\n",
       "       [2.02519261e-081, 5.31115695e-081],\n",
       "       [1.13764524e-136, 1.23346406e-080],\n",
       "       [1.91776994e-125, 8.31238469e-081],\n",
       "       [2.92304606e-080, 4.13002683e-083],\n",
       "       [9.14981549e-115, 7.72366265e-081],\n",
       "       [1.40964018e-080, 1.81355004e-090],\n",
       "       [3.21120524e-082, 1.43438322e-084],\n",
       "       [7.90966773e-082, 1.36064535e-081],\n",
       "       [2.87437539e-080, 1.90576770e-084],\n",
       "       [1.05164821e-151, 8.82616049e-081],\n",
       "       [4.20560932e-082, 4.28949907e-081],\n",
       "       [2.17240274e-080, 1.45550597e-084],\n",
       "       [3.25519739e-120, 1.04497043e-080],\n",
       "       [5.41074765e-116, 1.25482732e-080],\n",
       "       [5.74069578e-092, 4.53559338e-081],\n",
       "       [4.39101992e-081, 3.54527354e-084],\n",
       "       [2.17232598e-129, 1.11587002e-080],\n",
       "       [2.13942541e-081, 1.30623782e-088],\n",
       "       [9.62820650e-088, 9.56589839e-081],\n",
       "       [2.72146899e-108, 1.14180459e-080],\n",
       "       [1.21790941e-151, 8.03533821e-081],\n",
       "       [6.95300974e-081, 3.06000977e-088],\n",
       "       [3.17146375e-081, 1.71549451e-083],\n",
       "       [2.97647760e-117, 2.89594006e-081],\n",
       "       [5.13895012e-096, 1.29236196e-080],\n",
       "       [2.36342100e-080, 9.25003890e-083],\n",
       "       [5.23721159e-100, 2.37362783e-081],\n",
       "       [1.51299208e-080, 6.97502913e-089],\n",
       "       [1.23334038e-080, 5.41326136e-090],\n",
       "       [4.71608497e-244, 7.64924781e-082],\n",
       "       [1.01508437e-080, 1.14804740e-083],\n",
       "       [4.90811298e-081, 1.40549817e-087],\n",
       "       [4.05570356e-081, 3.31426304e-088],\n",
       "       [9.31140442e-082, 3.79753282e-084],\n",
       "       [4.87777148e-121, 8.98289436e-081],\n",
       "       [3.15807474e-206, 6.82630307e-082],\n",
       "       [2.09113546e-080, 6.65855518e-083],\n",
       "       [3.21821948e-089, 1.66211474e-082],\n",
       "       [7.54997540e-088, 1.52033214e-081],\n",
       "       [2.38360825e-080, 1.06261104e-081],\n",
       "       [7.66884061e-103, 5.56224230e-081],\n",
       "       [4.76855229e-081, 1.80480551e-082],\n",
       "       [1.59097784e-080, 7.65124996e-083],\n",
       "       [5.40883946e-120, 7.94725805e-081],\n",
       "       [9.39951100e-083, 5.02585484e-082],\n",
       "       [6.14152589e-217, 1.88939268e-082],\n",
       "       [7.35292964e-081, 5.92073321e-083],\n",
       "       [2.92060647e-080, 2.99403001e-082],\n",
       "       [3.31197856e-081, 9.81194121e-086],\n",
       "       [7.38139786e-081, 1.43559756e-082],\n",
       "       [2.02946421e-080, 1.16310575e-084],\n",
       "       [5.71760310e-240, 3.80320112e-082],\n",
       "       [1.65825462e-080, 1.40629399e-082],\n",
       "       [7.61647078e-099, 7.87634049e-081],\n",
       "       [1.70442133e-120, 1.00582218e-080],\n",
       "       [1.90704414e-106, 2.94246558e-081],\n",
       "       [3.88154666e-098, 6.90025880e-081],\n",
       "       [6.57645205e-082, 6.16701068e-082],\n",
       "       [3.83830915e-116, 9.12780649e-081],\n",
       "       [4.14099294e-087, 9.19537244e-081],\n",
       "       [2.53929423e-080, 3.03526376e-083],\n",
       "       [1.49226795e-080, 2.57645707e-083],\n",
       "       [2.58048042e-080, 3.37089503e-086],\n",
       "       [3.26668083e-095, 1.52669161e-081],\n",
       "       [2.61489822e-080, 3.47943358e-086],\n",
       "       [1.34040138e-096, 2.55596722e-081],\n",
       "       [1.19932677e-122, 9.76427236e-081],\n",
       "       [9.59091316e-081, 4.65483711e-087],\n",
       "       [1.34434950e-092, 8.38494521e-081],\n",
       "       [3.93225317e-132, 3.68361571e-081],\n",
       "       [1.60867924e-080, 2.34466105e-083],\n",
       "       [7.07631165e-094, 8.41768760e-081],\n",
       "       [6.12959650e-081, 1.29412222e-087],\n",
       "       [9.24672592e-135, 1.28711208e-080],\n",
       "       [7.14186049e-127, 1.35791665e-080],\n",
       "       [5.43155512e-218, 2.08858725e-081],\n",
       "       [1.33290081e-080, 2.53112507e-086],\n",
       "       [1.28702337e-080, 1.01079786e-083],\n",
       "       [1.25028423e-091, 1.15803347e-080],\n",
       "       [3.05380848e-081, 1.66324355e-082],\n",
       "       [1.86138089e-081, 4.04794655e-081],\n",
       "       [3.50828610e-099, 1.21311059e-081],\n",
       "       [2.39810190e-087, 2.70772038e-081],\n",
       "       [4.86262905e-158, 1.22669529e-081],\n",
       "       [7.38389526e-095, 8.56375175e-081],\n",
       "       [1.17666017e-114, 9.43498656e-081],\n",
       "       [2.99249006e-080, 7.94232433e-082],\n",
       "       [5.87960159e-081, 2.13256509e-082],\n",
       "       [8.93031420e-081, 1.78129023e-083],\n",
       "       [7.06604309e-094, 4.25308051e-081],\n",
       "       [2.86221098e-080, 5.49019800e-082],\n",
       "       [2.89638341e-196, 3.94517337e-081],\n",
       "       [1.11411236e-080, 1.03904054e-088],\n",
       "       [7.65975878e-110, 6.14688574e-083],\n",
       "       [2.39544106e-080, 2.48253607e-082],\n",
       "       [1.61460371e-080, 4.22434486e-088],\n",
       "       [8.60953939e-089, 8.19204289e-081],\n",
       "       [1.80626797e-113, 5.60748295e-081],\n",
       "       [3.20228701e-082, 4.62341819e-083],\n",
       "       [9.66508050e-081, 2.06526587e-081],\n",
       "       [8.93543429e-083, 1.39474200e-084],\n",
       "       [2.41288812e-131, 1.12918320e-080],\n",
       "       [1.06462147e-197, 2.39904606e-081],\n",
       "       [1.94085929e-086, 1.65945492e-081],\n",
       "       [1.44435391e-080, 2.12223078e-085],\n",
       "       [7.25209986e-169, 2.63519753e-081],\n",
       "       [2.77571708e-148, 6.96129246e-081],\n",
       "       [1.11588322e-080, 2.96602206e-083],\n",
       "       [2.29987072e-080, 8.52736026e-085],\n",
       "       [4.72188359e-124, 1.23724353e-080],\n",
       "       [1.65854865e-081, 7.40519984e-086],\n",
       "       [1.71405312e-241, 1.18694292e-081],\n",
       "       [7.77918371e-092, 9.64547244e-081]])"
      ]
     },
     "execution_count": 94,
     "metadata": {},
     "output_type": "execute_result"
    }
   ],
   "source": [
    "yproba= model.predict_proba(X_test)\n",
    "yproba"
   ]
  },
  {
   "cell_type": "code",
   "execution_count": 95,
   "metadata": {
    "id": "D4clV6PK1UJK"
   },
   "outputs": [
    {
     "data": {
      "text/plain": [
       "array([0, 1, 0, 0, 1, 0, 1, 0, 1, 1, 0, 0, 0, 1, 1, 0, 1, 1, 0, 0, 1, 0,\n",
       "       0, 1, 1, 0, 0, 1, 0, 1, 1, 0, 0, 0, 1, 0, 0, 1, 0, 0, 1, 0, 0, 0,\n",
       "       0, 1, 1, 0, 1, 0, 1, 0, 1, 1, 1, 0, 0, 1, 0, 0, 0, 1, 1, 1, 1, 1,\n",
       "       0, 0, 1, 1, 0, 0, 0, 1, 0, 1, 0, 1, 1, 1, 1, 0, 1, 0, 0, 1, 1, 1,\n",
       "       1, 1, 0, 1, 0, 0, 1, 0, 1, 1, 0, 1, 1, 1, 0, 1, 0, 1, 1, 1, 0, 0,\n",
       "       1, 1, 0, 1, 0, 0, 1, 0, 0, 0, 0, 1, 1, 0, 1, 1, 0, 1, 0, 0, 1, 1,\n",
       "       1, 0, 0, 0, 0, 0, 1, 0, 1, 1, 1, 1, 0, 1, 1, 0, 0, 0, 1, 0, 1, 1,\n",
       "       0, 1, 1, 0, 1, 0, 1, 1, 1, 0, 0, 1, 0, 1, 1, 1, 1, 1, 1, 0, 0, 0,\n",
       "       1, 0, 1, 0, 1, 0, 0, 1, 1, 0, 0, 0, 1, 1, 1, 0, 1, 1, 0, 0, 1, 0,\n",
       "       1, 1])"
      ]
     },
     "execution_count": 95,
     "metadata": {},
     "output_type": "execute_result"
    }
   ],
   "source": [
    "ypreds= model.predict(X_test)\n",
    "ypreds\n"
   ]
  },
  {
   "cell_type": "code",
   "execution_count": 96,
   "metadata": {
    "id": "QgG1xPUg1ULw"
   },
   "outputs": [
    {
     "data": {
      "text/plain": [
       "98.5"
      ]
     },
     "execution_count": 96,
     "metadata": {},
     "output_type": "execute_result"
    }
   ],
   "source": [
    "model.accuracy(y_test, ypreds)"
   ]
  },
  {
   "cell_type": "code",
   "execution_count": null,
   "metadata": {
    "id": "OpXYY-yj1UOj"
   },
   "outputs": [],
   "source": []
  },
  {
   "cell_type": "code",
   "execution_count": null,
   "metadata": {
    "id": "8cvRcUO2rtKo"
   },
   "outputs": [],
   "source": []
  }
 ],
 "metadata": {
  "colab": {
   "provenance": []
  },
  "kernelspec": {
   "display_name": "Python 3 (ipykernel)",
   "language": "python",
   "name": "python3"
  },
  "language_info": {
   "codemirror_mode": {
    "name": "ipython",
    "version": 3
   },
   "file_extension": ".py",
   "mimetype": "text/x-python",
   "name": "python",
   "nbconvert_exporter": "python",
   "pygments_lexer": "ipython3",
   "version": "3.9.13"
  }
 },
 "nbformat": 4,
 "nbformat_minor": 1
}
