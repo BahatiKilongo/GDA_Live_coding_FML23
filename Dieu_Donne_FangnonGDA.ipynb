{
  "nbformat": 4,
  "nbformat_minor": 0,
  "metadata": {
    "colab": {
      "provenance": []
    },
    "kernelspec": {
      "name": "python3",
      "display_name": "Python 3"
    },
    "language_info": {
      "name": "python"
    }
  },
  "cells": [
    {
      "cell_type": "markdown",
      "source": [
        "# GDA Implementation.\n",
        "\n",
        "Implement the Gaussian Discriminant Analysis (GDA) learning algorithm following the steps as discussed in class.\n",
        "\n",
        "INSTRUCTION: Rename your notebook as: <br>\n",
        "`firstName_LastName_Live_coding_GDA.ipynb`.\n",
        "\n",
        "Notes: \n",
        "* Do not use any built-in functions to complete a task;\n",
        "* Do not import additional libraries."
      ],
      "metadata": {
        "id": "g17Z46tmw2oZ"
      }
    },
    {
      "cell_type": "code",
      "execution_count": 8,
      "metadata": {
        "id": "aT5nlL-QTKwv"
      },
      "outputs": [],
      "source": [
        "import numpy as np\n",
        "import matplotlib.pyplot as plt\n",
        "from sklearn.datasets import make_classification"
      ]
    },
    {
      "cell_type": "code",
      "source": [
        "# Generate data\n",
        "def generate_data():\n",
        "  x, y = make_classification(n_samples= 1000, n_features=3, n_redundant=0, \n",
        "                           n_informative=3, random_state=1, \n",
        "                           n_clusters_per_class=1)\n",
        "  \n",
        "  return x,y\n",
        "\n",
        "x,y= generate_data() # get data\n",
        "print(x.shape, y.shape)"
      ],
      "metadata": {
        "colab": {
          "base_uri": "https://localhost:8080/"
        },
        "id": "_-lL4Yq9Tbzn",
        "outputId": "229c60d8-db7f-471d-de5d-c90a61f76eef"
      },
      "execution_count": 19,
      "outputs": [
        {
          "output_type": "stream",
          "name": "stdout",
          "text": [
            "(1000, 3) (1000,)\n"
          ]
        }
      ]
    },
    {
      "cell_type": "code",
      "source": [
        "def split_data(x,y, train_size= 0.8):\n",
        "\n",
        "    # shuffle the data to randomize the train/test split\n",
        "    np.random.seed(0) \n",
        "    n = int(len(x)*train_size)\n",
        "    indices = np.arange(len(x))\n",
        "    np.random.shuffle(indices)\n",
        "    train_idx = indices[: n]\n",
        "    test_idx = indices[n:]\n",
        "    X_train, y_train = x[train_idx], y[train_idx]\n",
        "    X_test, y_test = x[test_idx], y[test_idx]\n",
        "\n",
        "    return X_train, y_train, X_test, y_test\n",
        "    \n"
      ],
      "metadata": {
        "id": "EUgiWLDhUAAK"
      },
      "execution_count": 20,
      "outputs": []
    },
    {
      "cell_type": "code",
      "source": [
        "X_train, y_train, X_test, y_test= split_data(x,y, train_size= 0.8) # split your data into x_train, x_test, y_train, y_test\n",
        "print(X_train.shape, y_train.shape, X_test.shape, y_test.shape)"
      ],
      "metadata": {
        "colab": {
          "base_uri": "https://localhost:8080/"
        },
        "id": "1_vmFgYil8_C",
        "outputId": "b0d7caf9-fe2d-4cd3-826e-14c2a544304b"
      },
      "execution_count": 22,
      "outputs": [
        {
          "output_type": "stream",
          "name": "stdout",
          "text": [
            "(800, 3) (800,) (200, 3) (200,)\n"
          ]
        }
      ]
    },
    {
      "cell_type": "code",
      "source": [
        "def covariance(x, mu):\n",
        "\n",
        "  # Easy way: cov= np.cov(x, rowvar=0) but do not use it. One can use it to assess his/her result.\n",
        "  N = x.shape[1]\n",
        "  sigma = np.zeros((x.shape[1],x.shape[1]))\n",
        "  for i in range(N):\n",
        "    for j in range(N):\n",
        "      va1 = 0\n",
        "      for d in x:\n",
        "        va1 += (d[i] - mu[i])*(d[j] - mu[j])\n",
        "\n",
        "      va1 = va1/(len(x)-1)\n",
        "      sigma[i,j] = va1\n",
        "      \n",
        "  return sigma\n",
        "\n"
      ],
      "metadata": {
        "id": "FrJ7GfXBHNxD"
      },
      "execution_count": 56,
      "outputs": []
    },
    {
      "cell_type": "code",
      "source": [
        "covariance(X_train, X_train.mean(0))"
      ],
      "metadata": {
        "colab": {
          "base_uri": "https://localhost:8080/"
        },
        "id": "fy1kJbBG4Odj",
        "outputId": "44feed59-1f4e-4e24-ffe1-8c60a199ae09"
      },
      "execution_count": 57,
      "outputs": [
        {
          "output_type": "execute_result",
          "data": {
            "text/plain": [
              "array([[1.81780125, 0.00278495, 1.00021288],\n",
              "       [0.00278495, 0.98802231, 0.04507526],\n",
              "       [1.00021288, 0.04507526, 1.73006042]])"
            ]
          },
          "metadata": {},
          "execution_count": 57
        }
      ]
    },
    {
      "cell_type": "code",
      "source": [
        "np.cov(X_train, rowvar=0)"
      ],
      "metadata": {
        "colab": {
          "base_uri": "https://localhost:8080/"
        },
        "id": "N8iPi-C1470t",
        "outputId": "391de2d4-43d7-4c83-cce8-8843b9f7814f"
      },
      "execution_count": 58,
      "outputs": [
        {
          "output_type": "execute_result",
          "data": {
            "text/plain": [
              "array([[1.81780125, 0.00278495, 1.00021288],\n",
              "       [0.00278495, 0.98802231, 0.04507526],\n",
              "       [1.00021288, 0.04507526, 1.73006042]])"
            ]
          },
          "metadata": {},
          "execution_count": 58
        }
      ]
    },
    {
      "cell_type": "code",
      "source": [
        "class GDA:\n",
        "  def __init__(self):\n",
        "    ## set mu, phi and sigma to None\n",
        "    self.mu = None\n",
        "    self.phi = None\n",
        "    self.sigma = None\n",
        "    \n",
        "  def fit(self,x,y):\n",
        "    k = 2 # Number of class.\n",
        "    d = x.shape[1]  # input dim\n",
        "    m = x.shape[0] # Number of examples.\n",
        "    \n",
        "    ## Initialize mu, phi and sigma\n",
        "    self.mu= np.zeros((k, d))#: kxd, i.e., each row contains an individual class mu.\n",
        "    self.sigma= np.zeros((k,d,d))#: kxdxd, i.e., each row contains an individual class sigma.\n",
        "    self.phi= np.zeros((d))# d-dimension\n",
        "\n",
        "    ## START THE LEARNING: estimate mu, phi and sigma.\n",
        "\n",
        "    for god in range(k):\n",
        "      self.mu[god] = np.mean(x[god == y], axis = 0)\n",
        "      self.sigma[god] = covariance(x[god == y], self.mu[god])\n",
        "      self.phi[god] = np.sum(god == y)/m\n",
        "\n",
        "    return self.mu, self.sigma, self.phi\n",
        "\n",
        "\n",
        "\n",
        "  def predict_proba(self,x):\n",
        "    # reshape or flatt x.\n",
        "    #x = x.reshape(-x.shape[0],1)\n",
        "    d = x.shape[1] \n",
        "    k_class =  self.mu.shape[0] # Number of classes we have in our case it's k = 2\n",
        "    m = x.shape[0]\n",
        "\n",
        "    ## START THE LEARNING: estimate mu, phi and sigma.\n",
        "\n",
        "    score = np.zeros((x.shape[0], k_class))\n",
        "    det_cov = []\n",
        "    inv_cov = []\n",
        "    \n",
        "    for lab in range(k_class):\n",
        "      #det_cov = np.linalg.det(self.sigma[lab])\n",
        "      det_cov_ = np.linalg.det(self.sigma[lab])\n",
        "      inv_cov_ = np.linalg.inv(self.sigma[lab])\n",
        "      det_cov.append(det_cov_)\n",
        "      inv_cov.append(inv_cov_)\n",
        "      for i in range(m):\n",
        "        score[i, lab] = (1/((2*np.pi)**(d/2))*np.sqrt(det_cov[lab]))*np.exp((-1/2)*(x[i] - self.mu[lab]).T@inv_cov[lab]@(x[i] - self.mu[lab]))*self.phi[lab]\n",
        "\n",
        "    return score\n",
        "\n",
        "\n",
        "\n",
        "    \n",
        "  def predict(self,x):\n",
        "    prob = self.predict_proba(x)\n",
        "    return np.argmax(prob, axis = 1)\n",
        "    pass\n",
        "  \n",
        "  def accuracy(self, y, ypreds):\n",
        "    acc = np.mean(y==ypreds)*100\n",
        "    return acc\n",
        "    pass"
      ],
      "metadata": {
        "id": "1ocKLDAfceF0"
      },
      "execution_count": 146,
      "outputs": []
    },
    {
      "cell_type": "code",
      "source": [
        "model= GDA()\n",
        "model.fit(X_train,y_train)"
      ],
      "metadata": {
        "id": "l_qO0Yp1c3Is",
        "colab": {
          "base_uri": "https://localhost:8080/"
        },
        "outputId": "17167e0b-6d10-42a3-c285-e774e6f5db71"
      },
      "execution_count": 141,
      "outputs": [
        {
          "output_type": "execute_result",
          "data": {
            "text/plain": [
              "(array([[ 1.02275133,  1.04572584,  1.00413266],\n",
              "        [-0.98392793,  0.97138702, -0.92252973]]),\n",
              " array([[[ 0.84003779, -0.3843979 , -0.05412644],\n",
              "         [-0.3843979 ,  1.60593247,  0.08878339],\n",
              "         [-0.05412644,  0.08878339,  0.03571483]],\n",
              " \n",
              "        [[ 0.78132385,  0.32954533,  0.12345307],\n",
              "         [ 0.32954533,  0.34452814, -0.07353813],\n",
              "         [ 0.12345307, -0.07353813,  1.60018851]]]),\n",
              " array([0.51, 0.49, 0.  ]))"
            ]
          },
          "metadata": {},
          "execution_count": 141
        }
      ]
    },
    {
      "cell_type": "code",
      "source": [
        "model.sigma.ndim"
      ],
      "metadata": {
        "colab": {
          "base_uri": "https://localhost:8080/"
        },
        "id": "NInBI81GtLuZ",
        "outputId": "88e924b5-532d-4c83-cb99-eadfc4f32e81"
      },
      "execution_count": 142,
      "outputs": [
        {
          "output_type": "execute_result",
          "data": {
            "text/plain": [
              "3"
            ]
          },
          "metadata": {},
          "execution_count": 142
        }
      ]
    },
    {
      "cell_type": "code",
      "source": [
        "yproba= model.predict_proba(X_test)\n",
        "yproba"
      ],
      "metadata": {
        "id": "NKY1eojY1l4e",
        "colab": {
          "base_uri": "https://localhost:8080/"
        },
        "outputId": "1810501c-f80d-4be4-d649-5c681478211e"
      },
      "execution_count": 143,
      "outputs": [
        {
          "output_type": "execute_result",
          "data": {
            "text/plain": [
              "array([[4.06350563e-072, 1.39138624e-002],\n",
              "       [1.64246284e-022, 4.74345939e-003],\n",
              "       [4.45824366e-003, 6.04113838e-005],\n",
              "       [5.31903154e-094, 1.10056686e-002],\n",
              "       [6.87569032e-107, 7.93892204e-003],\n",
              "       [7.61917224e-055, 2.75817630e-002],\n",
              "       [6.19795361e-003, 3.66996712e-003],\n",
              "       [3.04717201e-014, 2.40376655e-002],\n",
              "       [9.27319382e-003, 2.51512780e-006],\n",
              "       [4.89007778e-006, 7.57722928e-003],\n",
              "       [4.78091154e-066, 2.93154839e-003],\n",
              "       [1.86026621e-017, 1.26779397e-002],\n",
              "       [6.64256051e-038, 2.76490588e-003],\n",
              "       [3.76235234e-018, 5.04965997e-003],\n",
              "       [8.88264481e-004, 4.62236654e-009],\n",
              "       [8.48567909e-072, 8.14672723e-003],\n",
              "       [1.41964243e-052, 1.41398535e-004],\n",
              "       [1.50702006e-058, 2.67246139e-002],\n",
              "       [1.02100594e-009, 6.70899387e-003],\n",
              "       [1.26466758e-062, 2.35403119e-002],\n",
              "       [5.36396249e-090, 4.18822945e-003],\n",
              "       [7.29714803e-003, 6.43646655e-004],\n",
              "       [3.87720142e-061, 1.78792721e-002],\n",
              "       [3.93833557e-029, 5.62048671e-003],\n",
              "       [4.80674984e-003, 8.15082796e-005],\n",
              "       [3.01543616e-059, 3.78487668e-003],\n",
              "       [2.39470016e-028, 2.66749825e-002],\n",
              "       [4.17723565e-003, 5.58777744e-007],\n",
              "       [1.48959100e-015, 1.23240168e-002],\n",
              "       [4.04067074e-003, 1.93464389e-003],\n",
              "       [2.86736165e-003, 2.82081536e-004],\n",
              "       [3.27490612e-189, 7.95101169e-004],\n",
              "       [7.93416492e-024, 2.75852941e-002],\n",
              "       [2.78699093e-040, 1.50765871e-002],\n",
              "       [1.55328866e-005, 2.54427453e-003],\n",
              "       [1.37420069e-004, 8.16730694e-006],\n",
              "       [1.28027686e-010, 8.90047941e-005],\n",
              "       [3.10117919e-031, 2.06995875e-002],\n",
              "       [1.91416443e-014, 2.03567297e-002],\n",
              "       [3.36956510e-061, 9.49199114e-003],\n",
              "       [7.54258677e-080, 1.42306754e-002],\n",
              "       [2.07254647e-003, 5.94144063e-004],\n",
              "       [2.47875997e-004, 1.10775755e-004],\n",
              "       [2.06005372e-094, 5.68242135e-003],\n",
              "       [4.02063908e-004, 1.32657682e-007],\n",
              "       [3.01981977e-004, 1.49466559e-010],\n",
              "       [2.13598876e-003, 2.83965470e-006],\n",
              "       [2.82048671e-003, 1.80302791e-005],\n",
              "       [5.77464484e-020, 4.56404716e-004],\n",
              "       [9.38693756e-003, 1.61550649e-003],\n",
              "       [1.38484950e-003, 2.12515853e-003],\n",
              "       [1.03819513e-002, 4.19054237e-006],\n",
              "       [5.43243150e-088, 1.57614382e-002],\n",
              "       [1.63794757e-003, 3.21239640e-005],\n",
              "       [1.10009444e-010, 7.61268153e-003],\n",
              "       [1.09091493e-002, 4.22752271e-005],\n",
              "       [2.16313318e-003, 3.21381103e-004],\n",
              "       [6.41844749e-007, 1.63788137e-002],\n",
              "       [2.80439397e-003, 3.70093560e-004],\n",
              "       [8.58054835e-003, 1.21038018e-004],\n",
              "       [1.55759667e-021, 5.03691513e-003],\n",
              "       [5.76765429e-003, 5.32441059e-003],\n",
              "       [6.15911500e-004, 1.61164778e-007],\n",
              "       [1.53424103e-003, 7.61579287e-011],\n",
              "       [5.46245731e-036, 5.60519446e-003],\n",
              "       [1.74739234e-003, 4.39013290e-010],\n",
              "       [3.38636399e-029, 2.03534344e-002],\n",
              "       [3.40309732e-028, 2.16445023e-002],\n",
              "       [4.60070398e-003, 1.84515879e-004],\n",
              "       [3.64834553e-004, 4.51482040e-015],\n",
              "       [5.36384420e-003, 7.13444743e-006],\n",
              "       [8.53743585e-003, 1.11313815e-004],\n",
              "       [4.89687625e-003, 1.62013795e-003],\n",
              "       [1.59271355e-013, 2.12866600e-002],\n",
              "       [1.76484025e-053, 2.22090600e-002],\n",
              "       [2.02956730e-079, 1.23143931e-002],\n",
              "       [1.87773145e-003, 3.98503791e-004],\n",
              "       [4.08005943e-003, 3.13098963e-004],\n",
              "       [2.61971568e-071, 1.55666984e-002],\n",
              "       [8.09076931e-003, 1.67636671e-003],\n",
              "       [4.01933938e-023, 5.92580731e-003],\n",
              "       [1.14940670e-019, 1.34839204e-003],\n",
              "       [9.74781606e-004, 5.91413554e-003],\n",
              "       [8.62537135e-004, 7.27657967e-013],\n",
              "       [1.91411257e-016, 2.59152802e-002],\n",
              "       [8.48711095e-075, 1.41321579e-002],\n",
              "       [3.68850643e-063, 2.12815642e-002],\n",
              "       [1.48934460e-027, 9.74569378e-003],\n",
              "       [1.60642108e-003, 8.99547803e-003],\n",
              "       [3.09227124e-012, 4.76450164e-004],\n",
              "       [3.02757130e-167, 7.04902906e-004],\n",
              "       [1.40741533e-005, 3.50498710e-003],\n",
              "       [1.93846451e-055, 2.51898800e-002],\n",
              "       [7.64616226e-005, 1.22066584e-016],\n",
              "       [8.85192737e-005, 3.30760783e-019],\n",
              "       [5.76214315e-003, 5.29747000e-004],\n",
              "       [9.11191059e-003, 1.70943598e-003],\n",
              "       [9.48376895e-004, 5.49902339e-013],\n",
              "       [8.54487036e-046, 1.99154606e-002],\n",
              "       [1.32541871e-003, 5.99026999e-007],\n",
              "       [3.44782596e-030, 2.35773802e-002],\n",
              "       [8.13740527e-004, 1.39706452e-006],\n",
              "       [1.35307832e-051, 1.01341039e-002],\n",
              "       [1.10071048e-003, 5.39994300e-007],\n",
              "       [5.15803877e-043, 1.60755197e-002],\n",
              "       [2.72088241e-003, 3.98494575e-005],\n",
              "       [2.75665619e-005, 5.45469057e-003],\n",
              "       [7.87280163e-004, 7.04227036e-007],\n",
              "       [7.08512090e-003, 2.22148101e-005],\n",
              "       [1.09112525e-096, 4.43113657e-003],\n",
              "       [3.46769776e-101, 7.42170073e-003],\n",
              "       [3.28027895e-010, 3.15393204e-004],\n",
              "       [1.61141973e-059, 8.74279985e-003],\n",
              "       [1.29431606e-037, 1.93980021e-002],\n",
              "       [4.51536453e-013, 2.21075508e-002],\n",
              "       [1.11079340e-002, 1.08877566e-003],\n",
              "       [2.89173463e-051, 1.53413770e-002],\n",
              "       [4.55341976e-003, 2.40614204e-004],\n",
              "       [7.28299643e-003, 1.54547312e-008],\n",
              "       [1.10761012e-007, 1.88404457e-002],\n",
              "       [8.44123569e-003, 1.79939228e-003],\n",
              "       [1.38580740e-003, 7.56218312e-006],\n",
              "       [5.99114481e-004, 3.87523176e-008],\n",
              "       [1.14167587e-159, 3.80382964e-003],\n",
              "       [6.43638164e-008, 9.40193037e-003],\n",
              "       [2.14155957e-007, 3.66278419e-003],\n",
              "       [5.61338808e-003, 2.86137097e-003],\n",
              "       [9.01713380e-193, 2.11085252e-004],\n",
              "       [5.91593323e-004, 4.46985405e-017],\n",
              "       [2.05243399e-033, 2.86209857e-002],\n",
              "       [2.82181496e-010, 1.95077525e-002],\n",
              "       [1.14558877e-004, 8.32483955e-003],\n",
              "       [2.34240318e-003, 3.09325434e-004],\n",
              "       [2.67057416e-003, 4.42120163e-015],\n",
              "       [2.67846088e-003, 3.69685436e-009],\n",
              "       [4.06544760e-041, 2.01046478e-002],\n",
              "       [1.67694377e-058, 1.45146912e-003],\n",
              "       [5.95744030e-003, 4.94678864e-008],\n",
              "       [8.62578772e-005, 3.40418206e-003],\n",
              "       [1.03503851e-011, 1.70041581e-003],\n",
              "       [5.56629839e-007, 1.65329687e-003],\n",
              "       [1.90619620e-012, 1.72728638e-002],\n",
              "       [2.60071462e-003, 2.05701208e-003],\n",
              "       [1.89000069e-035, 1.53677281e-003],\n",
              "       [7.46703744e-134, 7.19360417e-003],\n",
              "       [6.30798261e-004, 1.12253462e-002],\n",
              "       [7.72869772e-037, 6.48603560e-003],\n",
              "       [1.28067793e-004, 1.16486086e-002],\n",
              "       [3.21453427e-026, 6.01082553e-003],\n",
              "       [1.30001260e-005, 9.84831561e-003],\n",
              "       [3.56147670e-003, 1.39871598e-004],\n",
              "       [2.60422111e-004, 1.04732646e-002],\n",
              "       [3.49213439e-075, 1.32053842e-002],\n",
              "       [1.52590276e-019, 1.31232573e-002],\n",
              "       [1.07508229e-002, 7.11606328e-004],\n",
              "       [1.97861876e-146, 1.29708122e-003],\n",
              "       [1.67654457e-009, 7.41178092e-003],\n",
              "       [3.36883294e-021, 1.49441883e-002],\n",
              "       [5.80044245e-003, 1.38243100e-004],\n",
              "       [1.06788266e-002, 3.31827312e-005],\n",
              "       [8.44309333e-003, 3.18467927e-004],\n",
              "       [4.31678822e-004, 1.52802128e-021],\n",
              "       [3.65263548e-029, 7.99558955e-003],\n",
              "       [5.22841947e-003, 2.01626033e-005],\n",
              "       [1.80379761e-003, 1.31013353e-006],\n",
              "       [5.24288249e-003, 3.83867732e-010],\n",
              "       [2.17706788e-003, 2.36914963e-006],\n",
              "       [9.25997414e-003, 2.72758552e-003],\n",
              "       [4.22043039e-003, 1.45135494e-008],\n",
              "       [1.60235708e-031, 6.83919120e-003],\n",
              "       [3.50892806e-003, 6.58224288e-004],\n",
              "       [4.74734318e-064, 1.25034345e-002],\n",
              "       [1.28114569e-003, 2.45069077e-005],\n",
              "       [2.08015481e-004, 2.22712883e-011],\n",
              "       [3.51799840e-004, 5.08681143e-014],\n",
              "       [1.05944167e-035, 1.15553593e-002],\n",
              "       [6.83893506e-064, 7.11540956e-003],\n",
              "       [3.66621020e-004, 4.86737391e-004],\n",
              "       [5.56957097e-014, 1.72026320e-003],\n",
              "       [3.81243989e-034, 1.24039908e-002],\n",
              "       [2.44677727e-026, 4.72184465e-003],\n",
              "       [3.83369803e-005, 1.95463254e-022],\n",
              "       [2.98817644e-004, 1.86096402e-007],\n",
              "       [8.62828085e-036, 2.72627372e-002],\n",
              "       [1.99769035e-005, 1.17972176e-003],\n",
              "       [2.80365314e-026, 1.40217741e-002],\n",
              "       [6.63699108e-169, 2.45941729e-003],\n",
              "       [9.45819568e-071, 2.01121556e-002],\n",
              "       [6.60700310e-003, 1.13745934e-006],\n",
              "       [1.20164533e-003, 5.59426209e-006],\n",
              "       [1.76799962e-003, 9.09080437e-005],\n",
              "       [5.87772247e-078, 1.90734764e-002],\n",
              "       [3.09254101e-003, 7.96667640e-005],\n",
              "       [6.26239031e-041, 8.38547267e-003],\n",
              "       [6.42326740e-101, 2.05989543e-003],\n",
              "       [5.71143700e-003, 1.86187262e-004],\n",
              "       [1.94838887e-104, 7.59753613e-003],\n",
              "       [1.03048936e-025, 4.36324548e-003],\n",
              "       [2.90867698e-096, 6.24403617e-003],\n",
              "       [1.23509493e-004, 2.62365781e-025]])"
            ]
          },
          "metadata": {},
          "execution_count": 143
        }
      ]
    },
    {
      "cell_type": "code",
      "source": [
        "ypreds= model.predict(X_test)\n",
        "ypreds\n"
      ],
      "metadata": {
        "id": "D4clV6PK1UJK",
        "colab": {
          "base_uri": "https://localhost:8080/"
        },
        "outputId": "340e79bb-70db-4f8e-f193-f89e32fd7da6"
      },
      "execution_count": 144,
      "outputs": [
        {
          "output_type": "execute_result",
          "data": {
            "text/plain": [
              "array([1, 1, 0, 1, 1, 1, 0, 1, 0, 1, 1, 1, 1, 1, 0, 1, 1, 1, 1, 1, 1, 0,\n",
              "       1, 1, 0, 1, 1, 0, 1, 0, 0, 1, 1, 1, 1, 0, 1, 1, 1, 1, 1, 0, 0, 1,\n",
              "       0, 0, 0, 0, 1, 0, 1, 0, 1, 0, 1, 0, 0, 1, 0, 0, 1, 0, 0, 0, 1, 0,\n",
              "       1, 1, 0, 0, 0, 0, 0, 1, 1, 1, 0, 0, 1, 0, 1, 1, 1, 0, 1, 1, 1, 1,\n",
              "       1, 1, 1, 1, 1, 0, 0, 0, 0, 0, 1, 0, 1, 0, 1, 0, 1, 0, 1, 0, 0, 1,\n",
              "       1, 1, 1, 1, 1, 0, 1, 0, 0, 1, 0, 0, 0, 1, 1, 1, 0, 1, 0, 1, 1, 1,\n",
              "       0, 0, 0, 1, 1, 0, 1, 1, 1, 1, 0, 1, 1, 1, 1, 1, 1, 1, 0, 1, 1, 1,\n",
              "       0, 1, 1, 1, 0, 0, 0, 0, 1, 0, 0, 0, 0, 0, 0, 1, 0, 1, 0, 0, 0, 1,\n",
              "       1, 1, 1, 1, 1, 0, 0, 1, 1, 1, 1, 1, 0, 0, 0, 1, 0, 1, 1, 0, 1, 1,\n",
              "       1, 0])"
            ]
          },
          "metadata": {},
          "execution_count": 144
        }
      ]
    },
    {
      "cell_type": "code",
      "source": [
        "model.accuracy(y_test, ypreds)"
      ],
      "metadata": {
        "id": "QgG1xPUg1ULw",
        "colab": {
          "base_uri": "https://localhost:8080/"
        },
        "outputId": "cc34caa0-e6fa-472c-ad30-fcff26475212"
      },
      "execution_count": 145,
      "outputs": [
        {
          "output_type": "execute_result",
          "data": {
            "text/plain": [
              "96.0"
            ]
          },
          "metadata": {},
          "execution_count": 145
        }
      ]
    },
    {
      "cell_type": "code",
      "source": [],
      "metadata": {
        "id": "OpXYY-yj1UOj"
      },
      "execution_count": null,
      "outputs": []
    },
    {
      "cell_type": "code",
      "source": [],
      "metadata": {
        "id": "8cvRcUO2rtKo"
      },
      "execution_count": null,
      "outputs": []
    },
    {
      "cell_type": "code",
      "source": [],
      "metadata": {
        "id": "4Vfuq0ngrbML"
      },
      "execution_count": null,
      "outputs": []
    }
  ]
}