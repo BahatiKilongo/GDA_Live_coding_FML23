{
  "cells": [
    {
      "cell_type": "markdown",
      "metadata": {
        "id": "g17Z46tmw2oZ"
      },
      "source": [
        "# GDA Implementation.\n",
        "\n",
        "Implement the Gaussian Discriminant Analysis (GDA) learning algorithm following the steps as discussed in class.\n",
        "\n",
        "INSTRUCTION: Rename your notebook as: <br>\n",
        "`firstName_LastName_Live_coding_GDA.ipynb`.\n",
        "\n",
        "Notes: \n",
        "* Do not use any built-in functions to complete a task;\n",
        "* Do not import additional libraries."
      ]
    },
    {
      "cell_type": "code",
      "execution_count": 39,
      "metadata": {
        "id": "aT5nlL-QTKwv"
      },
      "outputs": [],
      "source": [
        "import numpy as np\n",
        "import matplotlib.pyplot as plt\n",
        "from sklearn.datasets import make_classification"
      ]
    },
    {
      "cell_type": "code",
      "execution_count": 40,
      "metadata": {
        "colab": {
          "base_uri": "https://localhost:8080/"
        },
        "id": "_-lL4Yq9Tbzn",
        "outputId": "f62f2927-7920-4cb3-e769-b3897abff703"
      },
      "outputs": [
        {
          "output_type": "stream",
          "name": "stdout",
          "text": [
            "(1000, 3) (1000,)\n"
          ]
        }
      ],
      "source": [
        "# Generate data\n",
        "def generate_data():\n",
        "  x, y = make_classification(n_samples= 1000, n_features=3, n_redundant=0, \n",
        "                           n_informative=3, random_state=1, \n",
        "                           n_clusters_per_class=1)\n",
        "  \n",
        "  return x,y\n",
        "\n",
        "x,y= generate_data() # get data\n",
        "print(x.shape, y.shape)"
      ]
    },
    {
      "cell_type": "code",
      "execution_count": 41,
      "metadata": {
        "colab": {
          "base_uri": "https://localhost:8080/"
        },
        "id": "AZ5KlnstoS8d",
        "outputId": "b3d63382-a137-4c05-dbb4-c5cbc04ba49c"
      },
      "outputs": [
        {
          "output_type": "execute_result",
          "data": {
            "text/plain": [
              "(1000, 1)"
            ]
          },
          "metadata": {},
          "execution_count": 41
        }
      ],
      "source": [
        "y=y.reshape(-1,1)\n",
        "y.shape"
      ]
    },
    {
      "cell_type": "code",
      "execution_count": 42,
      "metadata": {
        "id": "EUgiWLDhUAAK"
      },
      "outputs": [],
      "source": [
        "def split_data(x,y, train_size= 0.8):\n",
        "\n",
        "    # shuffle the data to randomize the train/test spliT\n",
        "  np.random.seed(0)\n",
        "  data=np.hstack((x,y))\n",
        "  data1=np.random.permutation(len(x))\n",
        "  data = data[data1]\n",
        "  var=len(x)*train_size\n",
        "  X_train,Y_train=data[:int(var), :-1], data[:int(var),-1]\n",
        "  X_test,Y_test=data[int(var):, : -1],data[int(var): , -1]\n",
        "\n",
        "  return X_train,Y_train,X_test,Y_test\n",
        "  \n",
        "\n"
      ]
    },
    {
      "cell_type": "code",
      "execution_count": 43,
      "metadata": {
        "colab": {
          "base_uri": "https://localhost:8080/"
        },
        "id": "Cr2Akm_A_FcJ",
        "outputId": "58d1768f-34c2-43bc-e5e8-e44d076a88d6"
      },
      "outputs": [
        {
          "output_type": "stream",
          "name": "stdout",
          "text": [
            "(800, 3) (800,) (200, 3) (200,)\n"
          ]
        }
      ],
      "source": [
        "X_train,y_train,X_test,y_test= split_data(x,y, train_size= 0.8) # split your data into x_train, x_test, y_train, y_test\n",
        "print(X_train.shape, y_train.shape, X_test.shape, y_test.shape)"
      ]
    },
    {
      "cell_type": "code",
      "execution_count": 44,
      "metadata": {
        "id": "FrJ7GfXBHNxD"
      },
      "outputs": [],
      "source": [
        "def covariance(x, mu):\n",
        "  N=x.shape[1]\n",
        "  \n",
        "  # Easy way: cov= np.cov(x, rowvar=0) but do not use it. One can use it to assess his/her result.\n",
        "  sigma=np.zeros((x.shape[1],x.shape[1]))\n",
        " \n",
        "  for i in range(N):\n",
        "    for j in range(N):\n",
        "      covariance=0\n",
        "      for d in x:\n",
        "        covariance+= (d[i]-mu[i])*(d[j]-mu[j])\n",
        "      sigma[i,j]=covariance/(len(x)-1)\n",
        "  return sigma\n",
        "      \n"
      ]
    },
    {
      "cell_type": "code",
      "execution_count": 45,
      "metadata": {
        "colab": {
          "base_uri": "https://localhost:8080/"
        },
        "id": "OJ84NgCN3AUe",
        "outputId": "90d5d7e6-fdf9-4196-e972-8bb9989de23a"
      },
      "outputs": [
        {
          "output_type": "execute_result",
          "data": {
            "text/plain": [
              "array([[1.81780125, 0.00278495, 1.00021288],\n",
              "       [0.00278495, 0.98802231, 0.04507526],\n",
              "       [1.00021288, 0.04507526, 1.73006042]])"
            ]
          },
          "metadata": {},
          "execution_count": 45
        }
      ],
      "source": [
        "a=covariance(X_train,X_train.mean(0))\n",
        "a"
      ]
    },
    {
      "cell_type": "code",
      "execution_count": 46,
      "metadata": {
        "colab": {
          "base_uri": "https://localhost:8080/"
        },
        "id": "Lzi3N-xH3xhw",
        "outputId": "d9258a1f-6831-43dc-a59a-d4e0232bd950"
      },
      "outputs": [
        {
          "output_type": "execute_result",
          "data": {
            "text/plain": [
              "array([[1.81780125, 0.00278495, 1.00021288],\n",
              "       [0.00278495, 0.98802231, 0.04507526],\n",
              "       [1.00021288, 0.04507526, 1.73006042]])"
            ]
          },
          "metadata": {},
          "execution_count": 46
        }
      ],
      "source": [
        "cov= np.cov(X_train, rowvar=0)\n",
        "cov"
      ]
    },
    {
      "cell_type": "code",
      "execution_count": 73,
      "metadata": {
        "id": "1ocKLDAfceF0"
      },
      "outputs": [],
      "source": [
        "from IPython.lib.display import YouTubeVideo\n",
        "class GDA:\n",
        "  def __init__(self):\n",
        "    ## set mu, phi and sigma to None\n",
        "    self.mu=None\n",
        "    self.phi=None\n",
        "    self.sigma=None\n",
        "    \n",
        "  def fit(self,x,y):\n",
        "    k=2 # Number of class.\n",
        "    d=x.shape[1]  # input dim\n",
        "    m= x.shape[0] # Number of examples.\n",
        "    \n",
        "    ## Initialize mu, phi and sigma\n",
        "    self.mu= np.zeros((k,d))#: kxd, i.e., each row contains an individual class mu.\n",
        "    self.sigma= np.zeros((k,d,d)) #: kxdxd, i.e., each row contains an individual class sigma.\n",
        "    self.phi= np.zeros((d))# d-dimension\n",
        "\n",
        "    ## START THE LEARNING: estimate mu, phi and sigma.\n",
        "\n",
        "    for phanie in range(k):\n",
        "      self.mu[phanie]=np.mean(x[phanie==y],axis=0)\n",
        "      self.phi[phanie]=np.sum(phanie == y)/m\n",
        "      self.sigma[phanie]=covariance((x[phanie==y]),self.mu[phanie])\n",
        "\n",
        "    return self.mu,self.sigma,self.phi\n",
        "\n",
        "\n",
        "\n",
        "\n",
        "\n",
        "  def predict_proba(self,x):\n",
        "    # reshape or flatt x.\n",
        "    #x=x.reshape(-x.shape[0],1)\n",
        "    d= x.shape[1]\n",
        "    k_class= self.mu.shape[0] # Number of classes we have in our case it's k = 2\n",
        "    m= x.shape[0]\n",
        "    \n",
        "    ## START THE LEARNING: estimate mu, phi and sigma.\n",
        "\n",
        "    det=[]\n",
        "    inv_det=[]\n",
        "    scores=np.zeros((x.shape[0],self.mu.shape[0]))\n",
        "\n",
        "    for lab in range(k_class):\n",
        "      a=np.linalg.det(self.sigma[lab])\n",
        "      det.append(a)\n",
        "      b=np.linalg.inv(self.sigma[lab])\n",
        "      inv_det.append(b)\n",
        "      for j in range(m):\n",
        "       scores[j, lab] = (1/((2*np.pi)**(d/2))*np.sqrt(det[lab]))*np.exp((-1/2)*(x[j] - self.mu[lab]).T@inv_det[lab]@(x[j] - self.mu[lab]))*self.phi[lab]\n",
        "    return scores\n",
        "\n",
        "  def predict(self,x):\n",
        "    probability = self.predict_proba(x)\n",
        "    return np.argmax(probability, axis = 1)\n",
        "    pass\n",
        "  \n",
        "\n",
        "  def accuracy(self,ypreds,y):\n",
        "    return np.mean(y==ypreds)*100\n",
        "\n",
        "\n",
        "  \n",
        " "
      ]
    },
    {
      "cell_type": "code",
      "execution_count": 74,
      "metadata": {
        "colab": {
          "base_uri": "https://localhost:8080/"
        },
        "id": "l_qO0Yp1c3Is",
        "outputId": "eef8cf36-f934-48e9-9bcf-4bffd14edbcb"
      },
      "outputs": [
        {
          "output_type": "execute_result",
          "data": {
            "text/plain": [
              "(array([[ 1.02275133,  1.04572584,  1.00413266],\n",
              "        [-0.98392793,  0.97138702, -0.92252973]]),\n",
              " array([[[ 0.84003779, -0.3843979 , -0.05412644],\n",
              "         [-0.3843979 ,  1.60593247,  0.08878339],\n",
              "         [-0.05412644,  0.08878339,  0.03571483]],\n",
              " \n",
              "        [[ 0.78132385,  0.32954533,  0.12345307],\n",
              "         [ 0.32954533,  0.34452814, -0.07353813],\n",
              "         [ 0.12345307, -0.07353813,  1.60018851]]]),\n",
              " array([0.51, 0.49, 0.  ]))"
            ]
          },
          "metadata": {},
          "execution_count": 74
        }
      ],
      "source": [
        "model= GDA()\n",
        "model.fit(X_train,y_train)"
      ]
    },
    {
      "cell_type": "code",
      "execution_count": 75,
      "metadata": {
        "colab": {
          "base_uri": "https://localhost:8080/"
        },
        "id": "NKY1eojY1l4e",
        "outputId": "d28efebc-d45c-4dff-b8f5-2f2545b70a3a"
      },
      "outputs": [
        {
          "output_type": "execute_result",
          "data": {
            "text/plain": [
              "array([[2.07238787e-072, 6.81779258e-003],\n",
              "       [8.37656050e-023, 2.32429510e-003],\n",
              "       [2.27370427e-003, 2.96015780e-005],\n",
              "       [2.71270609e-094, 5.39277762e-003],\n",
              "       [3.50660206e-107, 3.89007180e-003],\n",
              "       [3.88577784e-055, 1.35150639e-002],\n",
              "       [3.16095634e-003, 1.79828389e-003],\n",
              "       [1.55405773e-014, 1.17784561e-002],\n",
              "       [4.72932885e-003, 1.23241262e-006],\n",
              "       [2.49393967e-006, 3.71284235e-003],\n",
              "       [2.43826489e-066, 1.43645871e-003],\n",
              "       [9.48735767e-018, 6.21219045e-003],\n",
              "       [3.38770586e-038, 1.35480388e-003],\n",
              "       [1.91879969e-018, 2.47433339e-003],\n",
              "       [4.53014885e-004, 2.26495961e-009],\n",
              "       [4.32769634e-072, 3.99189634e-003],\n",
              "       [7.24017638e-053, 6.92852823e-005],\n",
              "       [7.68580231e-059, 1.30950608e-002],\n",
              "       [5.20713030e-010, 3.28740700e-003],\n",
              "       [6.44980463e-063, 1.15347528e-002],\n",
              "       [2.73562087e-090, 2.05223243e-003],\n",
              "       [3.72154549e-003, 3.15386861e-004],\n",
              "       [1.97737272e-061, 8.76084331e-003],\n",
              "       [2.00855114e-029, 2.75403849e-003],\n",
              "       [2.45144242e-003, 3.99390570e-005],\n",
              "       [1.53787244e-059, 1.85458957e-003],\n",
              "       [1.22129708e-028, 1.30707414e-002],\n",
              "       [2.13039018e-003, 2.73801095e-007],\n",
              "       [7.59691413e-016, 6.03876822e-003],\n",
              "       [2.06074208e-003, 9.47975508e-004],\n",
              "       [1.46235444e-003, 1.38219952e-004],\n",
              "       [1.67020212e-189, 3.89599573e-004],\n",
              "       [4.04642411e-024, 1.35167941e-002],\n",
              "       [1.42136537e-040, 7.38752769e-003],\n",
              "       [7.92177218e-006, 1.24669452e-003],\n",
              "       [7.00842350e-005, 4.00198040e-006],\n",
              "       [6.52941197e-011, 4.36123491e-005],\n",
              "       [1.58160139e-031, 1.01427979e-002],\n",
              "       [9.76223861e-015, 9.97479757e-003],\n",
              "       [1.71847820e-061, 4.65107566e-003],\n",
              "       [3.84671925e-080, 6.97303094e-003],\n",
              "       [1.05699870e-003, 2.91130591e-004],\n",
              "       [1.26416759e-004, 5.42801201e-005],\n",
              "       [1.05062740e-094, 2.78438646e-003],\n",
              "       [2.05052593e-004, 6.50022640e-008],\n",
              "       [1.54010808e-004, 7.32386139e-011],\n",
              "       [1.08935427e-003, 1.39143080e-006],\n",
              "       [1.43844822e-003, 8.83483676e-006],\n",
              "       [2.94506887e-020, 2.23638311e-004],\n",
              "       [4.78733816e-003, 7.91598181e-004],\n",
              "       [7.06273246e-004, 1.04132768e-003],\n",
              "       [5.29479515e-003, 2.05336576e-006],\n",
              "       [2.77054007e-088, 7.72310469e-003],\n",
              "       [8.35353259e-004, 1.57407424e-005],\n",
              "       [5.61048166e-011, 3.73021395e-003],\n",
              "       [5.56366614e-003, 2.07148613e-005],\n",
              "       [1.10319792e-003, 1.57476740e-004],\n",
              "       [3.27340822e-007, 8.02561872e-003],\n",
              "       [1.43024093e-003, 1.81345844e-004],\n",
              "       [4.37607966e-003, 5.93086289e-005],\n",
              "       [7.94374300e-022, 2.46808841e-003],\n",
              "       [2.94150369e-003, 2.60896119e-003],\n",
              "       [3.14114865e-004, 7.89707413e-008],\n",
              "       [7.82462924e-004, 3.73173850e-011],\n",
              "       [2.78585323e-036, 2.74654529e-003],\n",
              "       [8.91170094e-004, 2.15116512e-010],\n",
              "       [1.72704563e-029, 9.97318287e-003],\n",
              "       [1.73557963e-028, 1.06058061e-002],\n",
              "       [2.34635903e-003, 9.04127809e-005],\n",
              "       [1.86065622e-004, 2.21226200e-015],\n",
              "       [2.73556054e-003, 3.49587924e-006],\n",
              "       [4.35409228e-003, 5.45437693e-005],\n",
              "       [2.49740689e-003, 7.93867597e-004],\n",
              "       [8.12283909e-014, 1.04304634e-002],\n",
              "       [9.00068529e-054, 1.08824394e-002],\n",
              "       [1.03507932e-079, 6.03405261e-003],\n",
              "       [9.57643039e-004, 1.95266858e-004],\n",
              "       [2.08083031e-003, 1.53418492e-004],\n",
              "       [1.33605500e-071, 7.62768221e-003],\n",
              "       [4.12629235e-003, 8.21419686e-004],\n",
              "       [2.04986308e-023, 2.90364558e-003],\n",
              "       [5.86197416e-020, 6.60712100e-004],\n",
              "       [4.97138619e-004, 2.89792641e-003],\n",
              "       [4.39893939e-004, 3.56552404e-013],\n",
              "       [9.76197409e-017, 1.26984873e-002],\n",
              "       [4.32842658e-075, 6.92475738e-003],\n",
              "       [1.88113828e-063, 1.04279664e-002],\n",
              "       [7.59565746e-028, 4.77538995e-003],\n",
              "       [8.19274750e-004, 4.40778423e-003],\n",
              "       [1.57705833e-012, 2.33460580e-004],\n",
              "       [1.54406136e-167, 3.45402424e-004],\n",
              "       [7.17781820e-006, 1.71744368e-003],\n",
              "       [9.88616902e-056, 1.23430412e-002],\n",
              "       [3.89954275e-005, 5.98126263e-017],\n",
              "       [4.51448296e-005, 1.62072783e-019],\n",
              "       [2.93869301e-003, 2.59576030e-004],\n",
              "       [4.64707440e-003, 8.37623628e-004],\n",
              "       [4.83672216e-004, 2.69452146e-013],\n",
              "       [4.35788388e-046, 9.75857571e-003],\n",
              "       [6.75963545e-004, 2.93523229e-007],\n",
              "       [1.75839124e-030, 1.15529163e-002],\n",
              "       [4.15007669e-004, 6.84561616e-007],\n",
              "       [6.90069941e-052, 4.96571090e-003],\n",
              "       [5.61362344e-004, 2.64597207e-007],\n",
              "       [2.63059977e-043, 7.87700464e-003],\n",
              "       [1.38765003e-003, 1.95262342e-005],\n",
              "       [1.40589465e-005, 2.67279838e-003],\n",
              "       [4.01512883e-004, 3.45071248e-007],\n",
              "       [3.61341166e-003, 1.08852569e-005],\n",
              "       [5.56473875e-097, 2.17125692e-003],\n",
              "       [1.76852586e-101, 3.63663336e-003],\n",
              "       [1.67294227e-010, 1.54542670e-004],\n",
              "       [8.21824060e-060, 4.28397193e-003],\n",
              "       [6.60101189e-038, 9.50502104e-003],\n",
              "       [2.30283591e-013, 1.08326999e-002],\n",
              "       [5.66504634e-003, 5.33500074e-004],\n",
              "       [1.47478466e-051, 7.51727475e-003],\n",
              "       [2.32224408e-003, 1.17900960e-004],\n",
              "       [3.71432818e-003, 7.57281829e-009],\n",
              "       [5.64881160e-008, 9.23181842e-003],\n",
              "       [4.30503020e-003, 8.81702216e-004],\n",
              "       [7.06761776e-004, 3.70546973e-006],\n",
              "       [3.05548385e-004, 1.89886356e-008],\n",
              "       [5.82254694e-160, 1.86387652e-003],\n",
              "       [3.28255464e-008, 4.60694588e-003],\n",
              "       [1.09219538e-007, 1.79476425e-003],\n",
              "       [2.86282792e-003, 1.40207177e-003],\n",
              "       [4.59873824e-193, 1.03431773e-004],\n",
              "       [3.01712594e-004, 2.19022849e-017],\n",
              "       [1.04674133e-033, 1.40242830e-002],\n",
              "       [1.43912563e-010, 9.55879875e-003],\n",
              "       [5.84250273e-005, 4.07917138e-003],\n",
              "       [1.19462562e-003, 1.51569463e-004],\n",
              "       [1.36199282e-003, 2.16638880e-015],\n",
              "       [1.36601505e-003, 1.81145864e-009],\n",
              "       [2.07337828e-041, 9.85127740e-003],\n",
              "       [8.55241324e-059, 7.11219871e-004],\n",
              "       [3.03829455e-003, 2.42392644e-008],\n",
              "       [4.39915174e-005, 1.66804921e-003],\n",
              "       [5.27869643e-012, 8.33203748e-004],\n",
              "       [2.83881218e-007, 8.10115467e-004],\n",
              "       [9.72160060e-013, 8.46370327e-003],\n",
              "       [1.32636446e-003, 1.00793592e-003],\n",
              "       [9.63900354e-036, 7.53018675e-004],\n",
              "       [3.80818909e-134, 3.52486604e-003],\n",
              "       [3.21707113e-004, 5.50041966e-003],\n",
              "       [3.94163584e-037, 3.17815744e-003],\n",
              "       [6.53145746e-005, 5.70781822e-003],\n",
              "       [1.63941248e-026, 2.94530451e-003],\n",
              "       [6.63006427e-006, 4.82567465e-003],\n",
              "       [1.81635312e-003, 6.85370828e-005],\n",
              "       [1.32815277e-004, 5.13189963e-003],\n",
              "       [1.78098854e-075, 6.47063824e-003],\n",
              "       [7.78210407e-020, 6.43039607e-003],\n",
              "       [5.48291967e-003, 3.48687101e-004],\n",
              "       [1.00909557e-146, 6.35569799e-004],\n",
              "       [8.55037733e-010, 3.63177265e-003],\n",
              "       [1.71810480e-021, 7.32265228e-003],\n",
              "       [2.95822565e-003, 6.77391191e-005],\n",
              "       [5.44620156e-003, 1.62595383e-005],\n",
              "       [4.30597760e-003, 1.56049284e-004],\n",
              "       [2.20156199e-004, 7.48730429e-022],\n",
              "       [1.86284409e-029, 3.91783888e-003],\n",
              "       [2.66649393e-003, 9.87967561e-006],\n",
              "       [9.19936780e-004, 6.41965431e-007],\n",
              "       [2.67387007e-003, 1.88095189e-010],\n",
              "       [1.11030462e-003, 1.16088332e-006],\n",
              "       [4.72258681e-003, 1.33651691e-003],\n",
              "       [2.15241950e-003, 7.11163923e-009],\n",
              "       [8.17202112e-032, 3.35120369e-003],\n",
              "       [1.78955331e-003, 3.22529901e-004],\n",
              "       [2.42114502e-064, 6.12668292e-003],\n",
              "       [6.53384303e-004, 1.20083848e-005],\n",
              "       [1.06087895e-004, 1.09129313e-011],\n",
              "       [1.79417919e-004, 2.49253760e-014],\n",
              "       [5.40315251e-036, 5.66212604e-003],\n",
              "       [3.48785688e-064, 3.48655068e-003],\n",
              "       [1.86976720e-004, 2.38501321e-004],\n",
              "       [2.84048120e-014, 8.42928967e-004],\n",
              "       [1.94434435e-034, 6.07795548e-003],\n",
              "       [1.24785641e-026, 2.31370388e-003],\n",
              "       [1.95518600e-005, 9.57769942e-023],\n",
              "       [1.52396998e-004, 9.11872369e-008],\n",
              "       [4.40042323e-036, 1.33587412e-002],\n",
              "       [1.01882208e-005, 5.78063664e-004],\n",
              "       [1.42986310e-026, 6.87066929e-003],\n",
              "       [3.38486545e-169, 1.20511447e-003],\n",
              "       [4.82367980e-071, 9.85495625e-003],\n",
              "       [3.36957158e-003, 5.57355078e-007],\n",
              "       [6.12839118e-004, 2.74118842e-006],\n",
              "       [9.01679808e-004, 4.45449414e-005],\n",
              "       [2.99763846e-078, 9.34600344e-003],\n",
              "       [1.57719591e-003, 3.90367144e-005],\n",
              "       [3.19381906e-041, 4.10888161e-003],\n",
              "       [3.27586637e-101, 1.00934876e-003],\n",
              "       [2.91283287e-003, 9.12317584e-005],\n",
              "       [9.93678326e-105, 3.72279270e-003],\n",
              "       [5.25549574e-026, 2.13799029e-003],\n",
              "       [1.48342526e-096, 3.05957772e-003],\n",
              "       [6.29898416e-005, 1.28559233e-025]])"
            ]
          },
          "metadata": {},
          "execution_count": 75
        }
      ],
      "source": [
        "yproba= model.predict_proba(X_test)\n",
        "yproba"
      ]
    },
    {
      "cell_type": "code",
      "execution_count": 76,
      "metadata": {
        "id": "D4clV6PK1UJK",
        "colab": {
          "base_uri": "https://localhost:8080/"
        },
        "outputId": "9c0b21f9-6426-452f-f2da-f64d23e8a3bc"
      },
      "outputs": [
        {
          "output_type": "execute_result",
          "data": {
            "text/plain": [
              "array([1, 1, 0, 1, 1, 1, 0, 1, 0, 1, 1, 1, 1, 1, 0, 1, 1, 1, 1, 1, 1, 0,\n",
              "       1, 1, 0, 1, 1, 0, 1, 0, 0, 1, 1, 1, 1, 0, 1, 1, 1, 1, 1, 0, 0, 1,\n",
              "       0, 0, 0, 0, 1, 0, 1, 0, 1, 0, 1, 0, 0, 1, 0, 0, 1, 0, 0, 0, 1, 0,\n",
              "       1, 1, 0, 0, 0, 0, 0, 1, 1, 1, 0, 0, 1, 0, 1, 1, 1, 0, 1, 1, 1, 1,\n",
              "       1, 1, 1, 1, 1, 0, 0, 0, 0, 0, 1, 0, 1, 0, 1, 0, 1, 0, 1, 0, 0, 1,\n",
              "       1, 1, 1, 1, 1, 0, 1, 0, 0, 1, 0, 0, 0, 1, 1, 1, 0, 1, 0, 1, 1, 1,\n",
              "       0, 0, 0, 1, 1, 0, 1, 1, 1, 1, 0, 1, 1, 1, 1, 1, 1, 1, 0, 1, 1, 1,\n",
              "       0, 1, 1, 1, 0, 0, 0, 0, 1, 0, 0, 0, 0, 0, 0, 1, 0, 1, 0, 0, 0, 1,\n",
              "       1, 1, 1, 1, 1, 0, 0, 1, 1, 1, 1, 1, 0, 0, 0, 1, 0, 1, 1, 0, 1, 1,\n",
              "       1, 0])"
            ]
          },
          "metadata": {},
          "execution_count": 76
        }
      ],
      "source": [
        "ypreds= model.predict(X_test)\n",
        "ypreds\n"
      ]
    },
    {
      "cell_type": "code",
      "execution_count": 77,
      "metadata": {
        "id": "QgG1xPUg1ULw",
        "colab": {
          "base_uri": "https://localhost:8080/"
        },
        "outputId": "9d6abe48-b7e1-4427-bd0f-f2f0f604fe6d"
      },
      "outputs": [
        {
          "output_type": "execute_result",
          "data": {
            "text/plain": [
              "96.0"
            ]
          },
          "metadata": {},
          "execution_count": 77
        }
      ],
      "source": [
        "model.accuracy(y_test, ypreds)"
      ]
    }
  ],
  "metadata": {
    "colab": {
      "provenance": []
    },
    "kernelspec": {
      "display_name": "Python 3",
      "name": "python3"
    },
    "language_info": {
      "name": "python"
    }
  },
  "nbformat": 4,
  "nbformat_minor": 0
}