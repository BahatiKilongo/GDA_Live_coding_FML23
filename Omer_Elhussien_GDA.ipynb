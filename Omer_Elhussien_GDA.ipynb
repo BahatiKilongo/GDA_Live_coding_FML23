{
  "nbformat": 4,
  "nbformat_minor": 0,
  "metadata": {
    "colab": {
      "provenance": []
    },
    "kernelspec": {
      "name": "python3",
      "display_name": "Python 3"
    },
    "language_info": {
      "name": "python"
    }
  },
  "cells": [
    {
      "cell_type": "markdown",
      "source": [
        "# GDA Implementation.\n",
        "\n",
        "Implement the Gaussian Discriminant Analysis (GDA) learning algorithm following the steps as discussed in class.\n",
        "\n",
        "INSTRUCTION: Rename your notebook as: <br>\n",
        "`firstName_LastName_Live_coding_GDA.ipynb`.\n",
        "\n",
        "Notes: \n",
        "* Do not use any built-in functions to complete a task;\n",
        "* Do not import additional libraries."
      ],
      "metadata": {
        "id": "g17Z46tmw2oZ"
      }
    },
    {
      "cell_type": "code",
      "execution_count": 172,
      "metadata": {
        "id": "aT5nlL-QTKwv"
      },
      "outputs": [],
      "source": [
        "import numpy as np\n",
        "import matplotlib.pyplot as plt\n",
        "from sklearn.datasets import make_classification"
      ]
    },
    {
      "cell_type": "code",
      "source": [
        "# Generate data\n",
        "def generate_data():\n",
        "  x, y = make_classification(n_samples= 1000, n_features=3, n_redundant=0, \n",
        "                           n_informative=3, random_state=1, \n",
        "                           n_clusters_per_class=1)\n",
        "  \n",
        "  return x,y\n",
        "\n",
        "x,y= generate_data() # get data\n",
        "print(x.shape, y.shape)"
      ],
      "metadata": {
        "colab": {
          "base_uri": "https://localhost:8080/"
        },
        "id": "_-lL4Yq9Tbzn",
        "outputId": "4433057b-0124-477f-eb60-1347e7039e9d"
      },
      "execution_count": 173,
      "outputs": [
        {
          "output_type": "stream",
          "name": "stdout",
          "text": [
            "(1000, 3) (1000,)\n"
          ]
        }
      ]
    },
    {
      "cell_type": "code",
      "source": [
        "np.random.seed(0)"
      ],
      "metadata": {
        "id": "aUOhIq9ghq1K"
      },
      "execution_count": 175,
      "outputs": []
    },
    {
      "cell_type": "code",
      "source": [
        "def split_data(x,y, train_size= 0.8):\n",
        "  \"\"\"\n",
        "  split_data(x,y, train_size= 0.8) accepts x, y, and train_size\n",
        "  It returns x,y splitted to train and test according to train_size\n",
        "  \"\"\"\n",
        "  # shuffle the data to randomize the train/test split\n",
        "  data_size=x.shape[0]\n",
        "  idx=np.random.permutation(data_size)\n",
        "  x=x[idx]\n",
        "  y=y[idx]\n",
        "  train_val=round(train_size*data_size)\n",
        "  x_train,y_train=x[0:train_val,:],y[0:train_val]\n",
        "  x_test,y_test=x[train_val:,:],y[train_val:]\n",
        "  return x_train,x_test,y_train,y_test\n"
      ],
      "metadata": {
        "id": "EUgiWLDhUAAK"
      },
      "execution_count": 176,
      "outputs": []
    },
    {
      "cell_type": "code",
      "source": [
        "X_train, X_test, y_train, y_test= split_data(x,y) # split your data into x_train, x_test, y_train, y_test\n",
        "print(X_train.shape, y_train.shape, X_test.shape, y_test.shape)"
      ],
      "metadata": {
        "colab": {
          "base_uri": "https://localhost:8080/"
        },
        "id": "Cr2Akm_A_FcJ",
        "outputId": "2f7a6a35-4c91-4d1e-de78-0fee71c0923e"
      },
      "execution_count": 177,
      "outputs": [
        {
          "output_type": "stream",
          "name": "stdout",
          "text": [
            "(800, 3) (800,) (200, 3) (200,)\n"
          ]
        }
      ]
    },
    {
      "cell_type": "code",
      "source": [
        "def covariance(x, mu):\n",
        "  # Easy way: cov= np.cov(x, rowvar=0) but do not use it. One can use it to assess his/her result.\n",
        "  m,d=x.shape\n",
        "  k=mu.shape[0]\n",
        "  resl_cov=np.zeros((k,d,d))\n",
        "  for cla_num in range(k):\n",
        "    for num_col1 in range(d):\n",
        "      for num_col2 in range(d):\n",
        "        resl_cov[cla_num][num_col1,num_col2]=(1/(m-1))*np.sum( (x[:,num_col1].reshape(-1,1)-mu[cla_num,num_col1])*(x[:,num_col2].reshape(-1,1)-mu[cla_num,num_col2])    )\n",
        "  return resl_cov"
      ],
      "metadata": {
        "id": "jpWE7Wem0jxC"
      },
      "execution_count": 178,
      "outputs": []
    },
    {
      "cell_type": "code",
      "source": [
        "mean1=np.mean(x,axis=0);mean1=mean1.reshape(1,-1)"
      ],
      "metadata": {
        "id": "3rLf6sjr2qG2"
      },
      "execution_count": 179,
      "outputs": []
    },
    {
      "cell_type": "code",
      "source": [
        "np.cov(x,rowvar=False)"
      ],
      "metadata": {
        "colab": {
          "base_uri": "https://localhost:8080/"
        },
        "id": "qoIesCSp0qgS",
        "outputId": "50d4bb83-2361-46e3-d2af-55bb42456de0"
      },
      "execution_count": 180,
      "outputs": [
        {
          "output_type": "execute_result",
          "data": {
            "text/plain": [
              "array([[1.84495325, 0.02790646, 1.00137533],\n",
              "       [0.02790646, 1.00170721, 0.05539176],\n",
              "       [1.00137533, 0.05539176, 1.74832   ]])"
            ]
          },
          "metadata": {},
          "execution_count": 180
        }
      ]
    },
    {
      "cell_type": "code",
      "source": [
        "covariance(x,mean1)"
      ],
      "metadata": {
        "colab": {
          "base_uri": "https://localhost:8080/"
        },
        "id": "NfvIQjEo7xCQ",
        "outputId": "d74a3996-de14-4152-ed68-7285c686aab9"
      },
      "execution_count": 181,
      "outputs": [
        {
          "output_type": "execute_result",
          "data": {
            "text/plain": [
              "array([[[1.84495325, 0.02790646, 1.00137533],\n",
              "        [0.02790646, 1.00170721, 0.05539176],\n",
              "        [1.00137533, 0.05539176, 1.74832   ]]])"
            ]
          },
          "metadata": {},
          "execution_count": 181
        }
      ]
    },
    {
      "cell_type": "code",
      "source": [
        "def multiv_gauss(x,mu,sigma):\n",
        "  x=x.reshape(1,-1)\n",
        "  d=mu.shape[0]\n",
        "  val_1=np.linalg.det(sigma)**0.5\n",
        "  val_2=(2*np.pi)**(d/2)\n",
        "  val_3=np.exp(-0.5*(x-mu)@np.linalg.inv(sigma)@(x-mu).T  )\n",
        "  z1=(1/(val_1*val_2) )*val_3\n",
        "  return z1.reshape(-1,1)"
      ],
      "metadata": {
        "id": "Qt_3y3TKD9wi"
      },
      "execution_count": 182,
      "outputs": []
    },
    {
      "cell_type": "code",
      "source": [],
      "metadata": {
        "id": "WHCAZE95_uST"
      },
      "execution_count": 147,
      "outputs": []
    },
    {
      "cell_type": "code",
      "source": [
        "class GDA:\n",
        "  def __init__(self):\n",
        "    ## set mu, phi and sigma to None\n",
        "    self.mu= None\n",
        "    self.sigma= None\n",
        "    self.phi= None\n",
        "    \n",
        "  def fit(self,x,y):\n",
        "    k=np.unique(y).shape[0] # Number of class.\n",
        "    d=x.shape[1]  # input dim\n",
        "    m= x.shape[0] # Number of examples.\n",
        "    \n",
        "    ## Initialize mu, phi and sigma\n",
        "    self.mu= np.zeros((k,d))#: kxd, i.e., each row contains an individual class mu.\n",
        "    self.sigma= np.zeros((k,d,d))#: kxdxd, i.e., each row contains an individual class sigma.\n",
        "    self.phi= np.zeros((k,1))# k-dimension\n",
        "    #label_valu=np.unique(y)\n",
        "\n",
        "    ## START THE LEARNING: estimate mu, phi and sigma.\n",
        "    for class_num in range(k):\n",
        "      ##Calculating Phi\n",
        "      self.phi[class_num,0]=y_train[y==class_num].shape[0]/y.shape[0]\n",
        "      idx=np.where(y==class_num)\n",
        "      ##Caculating mu\n",
        "      self.mu[class_num]=np.mean(x[idx],axis=0)\n",
        "      ##Caculating Sigma\n",
        "      self.sigma[class_num]=covariance(x, self.mu[class_num].reshape(1,-1))\n",
        "    \n",
        "    \n",
        "  def predict_proba(self,x):\n",
        "    # reshape or flatt x.\n",
        "    n=x.shape[0]\n",
        "    d= self.mu.shape[1]\n",
        "    k_class=self.mu.shape[0] # Number of classes we have in our case it's k = 2\n",
        "    det_sigma=0\n",
        "    y_pred=np.zeros((n,k_class))\n",
        "    for i in range(k_class):\n",
        "      det_sigma=np.linalg.det(self.sigma[i])**0.5\n",
        "      inv_sigma=np.linalg.inv(self.sigma[i])\n",
        "      for j in range(n):\n",
        "        val_2=(2*np.pi)**(d/2)\n",
        "        val_3=np.exp(-0.5*(x[j].reshape(1,-1)-self.mu[i].reshape(1,-1))@inv_sigma@(x[j].reshape(1,-1)-self.mu[i]).reshape(1,-1).T  )\n",
        "        z1=(1/(det_sigma*val_2) )*val_3\n",
        "        y_pred[j,i]=z1*self.phi[i]\n",
        "    return y_pred\n",
        "\n",
        "    ## START THE LEARNING: estimate mu, phi and sigma.\n",
        "\n",
        "  def predict(self,x):\n",
        "    y_pred=self.predict_proba(x)\n",
        "    y_res=np.argmax(y_pred,axis=1)\n",
        "    return y_res\n",
        "  \n",
        "  def accuracy(self, y, ypreds):\n",
        "    acc=np.mean(y==ypreds)*100\n",
        "    return acc"
      ],
      "metadata": {
        "id": "1ocKLDAfceF0"
      },
      "execution_count": 206,
      "outputs": []
    },
    {
      "cell_type": "code",
      "source": [
        "model= GDA()\n",
        "model.fit(X_train,y_train)"
      ],
      "metadata": {
        "id": "l_qO0Yp1c3Is"
      },
      "execution_count": 207,
      "outputs": []
    },
    {
      "cell_type": "code",
      "source": [
        "model.mu"
      ],
      "metadata": {
        "colab": {
          "base_uri": "https://localhost:8080/"
        },
        "id": "e5w5DD1pIlB_",
        "outputId": "b6307e2f-dc6c-439a-ccd5-7e2c740b4d80"
      },
      "execution_count": 208,
      "outputs": [
        {
          "output_type": "execute_result",
          "data": {
            "text/plain": [
              "array([[ 1.02275133,  1.04572584,  1.00413266],\n",
              "       [-0.98392793,  0.97138702, -0.92252973]])"
            ]
          },
          "metadata": {},
          "execution_count": 208
        }
      ]
    },
    {
      "cell_type": "code",
      "source": [
        "model.phi"
      ],
      "metadata": {
        "colab": {
          "base_uri": "https://localhost:8080/"
        },
        "id": "nNmZKncCIoHf",
        "outputId": "77f242ed-77d1-430c-a41f-72b26ed40273"
      },
      "execution_count": 209,
      "outputs": [
        {
          "output_type": "execute_result",
          "data": {
            "text/plain": [
              "array([[0.51],\n",
              "       [0.49]])"
            ]
          },
          "metadata": {},
          "execution_count": 209
        }
      ]
    },
    {
      "cell_type": "code",
      "source": [
        "model.sigma"
      ],
      "metadata": {
        "colab": {
          "base_uri": "https://localhost:8080/"
        },
        "id": "xz3z8VEPIqov",
        "outputId": "f5207660-6b9c-4b9f-bc8b-7767cc54db3d"
      },
      "execution_count": 210,
      "outputs": [
        {
          "output_type": "execute_result",
          "data": {
            "text/plain": [
              "array([[[2.78583678, 0.03864649, 1.92964772],\n",
              "        [0.03864649, 0.98935083, 0.07950682],\n",
              "        [1.92964772, 0.07950682, 2.62243381]],\n",
              "\n",
              "       [[2.86647281, 0.04163371, 2.00706837],\n",
              "        [0.04163371, 0.98946149, 0.08237492],\n",
              "        [2.00706837, 0.08237492, 2.69676728]]])"
            ]
          },
          "metadata": {},
          "execution_count": 210
        }
      ]
    },
    {
      "cell_type": "code",
      "source": [
        "yproba= model.predict_proba(X_test)\n",
        "yproba"
      ],
      "metadata": {
        "id": "NKY1eojY1l4e",
        "colab": {
          "base_uri": "https://localhost:8080/"
        },
        "outputId": "bc019b4c-37ba-4d74-c1ed-7438d5ba1358"
      },
      "execution_count": 211,
      "outputs": [
        {
          "output_type": "execute_result",
          "data": {
            "text/plain": [
              "array([[2.49750663e-03, 1.20875369e-02],\n",
              "       [9.26930267e-04, 3.11908708e-03],\n",
              "       [9.30518423e-03, 2.64038083e-03],\n",
              "       [1.71393978e-03, 7.39199929e-03],\n",
              "       [1.30131722e-03, 8.77613859e-03],\n",
              "       [4.95218359e-03, 1.45493142e-02],\n",
              "       [1.23035834e-02, 6.59724126e-03],\n",
              "       [7.22695457e-03, 1.16909529e-02],\n",
              "       [1.27122141e-02, 5.04758484e-03],\n",
              "       [2.31717523e-03, 3.15927745e-03],\n",
              "       [1.13657415e-03, 6.23686102e-03],\n",
              "       [1.06674704e-02, 1.10726942e-02],\n",
              "       [4.28448864e-03, 1.15375044e-02],\n",
              "       [7.65597737e-04, 2.19145615e-03],\n",
              "       [3.69590478e-04, 1.70507796e-04],\n",
              "       [1.37823207e-03, 3.03719737e-03],\n",
              "       [6.68637037e-05, 6.00993700e-04],\n",
              "       [4.57469926e-03, 1.37957920e-02],\n",
              "       [8.46249380e-04, 1.76366916e-03],\n",
              "       [3.97367514e-03, 1.38652238e-02],\n",
              "       [8.08404126e-04, 2.38170181e-03],\n",
              "       [1.27549862e-02, 4.71680456e-03],\n",
              "       [3.39172279e-03, 8.27430000e-03],\n",
              "       [9.35720105e-04, 3.45558281e-03],\n",
              "       [1.11547726e-02, 5.57220975e-03],\n",
              "       [3.40900796e-03, 8.67712849e-03],\n",
              "       [9.05600125e-03, 1.49643709e-02],\n",
              "       [9.47331818e-03, 3.87236822e-03],\n",
              "       [1.26722456e-02, 1.36677101e-02],\n",
              "       [7.03356277e-03, 4.87224965e-03],\n",
              "       [1.08251785e-02, 5.55912763e-03],\n",
              "       [1.94240590e-04, 2.77651504e-03],\n",
              "       [9.83329341e-03, 1.58088925e-02],\n",
              "       [5.32616528e-03, 1.37293865e-02],\n",
              "       [1.53721789e-03, 1.24871290e-03],\n",
              "       [1.11055863e-03, 1.08041222e-03],\n",
              "       [2.09818040e-06, 4.02100886e-06],\n",
              "       [4.57231293e-03, 1.26815590e-02],\n",
              "       [7.47386381e-03, 1.18931816e-02],\n",
              "       [2.43942885e-03, 5.36276682e-03],\n",
              "       [2.42472742e-03, 8.72403323e-03],\n",
              "       [7.08722534e-03, 3.29766181e-03],\n",
              "       [1.30318645e-02, 8.08212514e-03],\n",
              "       [5.06427943e-04, 1.27711128e-03],\n",
              "       [6.43294745e-04, 4.43417068e-04],\n",
              "       [1.54226623e-04, 1.37051481e-04],\n",
              "       [8.74701486e-03, 3.89087331e-03],\n",
              "       [2.84413831e-03, 9.91953879e-04],\n",
              "       [7.77457630e-04, 1.99858915e-03],\n",
              "       [1.35363701e-02, 5.98135038e-03],\n",
              "       [8.05565018e-03, 4.86938506e-03],\n",
              "       [1.39717614e-02, 5.31069187e-03],\n",
              "       [1.84796980e-03, 6.64549375e-03],\n",
              "       [4.55625311e-03, 3.27277225e-03],\n",
              "       [1.01187379e-03, 2.16636105e-03],\n",
              "       [1.63022764e-02, 6.28737042e-03],\n",
              "       [5.93331530e-03, 4.21230509e-03],\n",
              "       [5.73859382e-03, 7.30632562e-03],\n",
              "       [9.80015490e-03, 3.63916506e-03],\n",
              "       [1.37973495e-02, 6.65478501e-03],\n",
              "       [7.37598208e-03, 1.20336716e-02],\n",
              "       [1.36067924e-02, 8.38382025e-03],\n",
              "       [3.62063990e-03, 7.75428514e-04],\n",
              "       [2.74567175e-03, 1.37514729e-03],\n",
              "       [5.29521743e-03, 1.09945589e-02],\n",
              "       [5.31718208e-03, 2.04351621e-03],\n",
              "       [8.16021953e-03, 1.29143401e-02],\n",
              "       [5.63179967e-03, 1.30707734e-02],\n",
              "       [5.48315344e-03, 2.48564352e-03],\n",
              "       [1.19575992e-03, 2.44961213e-04],\n",
              "       [1.32796791e-02, 4.71302403e-03],\n",
              "       [1.65220198e-02, 7.07425979e-03],\n",
              "       [9.08035968e-03, 5.23477232e-03],\n",
              "       [5.36192408e-03, 9.25798735e-03],\n",
              "       [4.98565540e-03, 1.19654086e-02],\n",
              "       [2.42802215e-03, 1.05631002e-02],\n",
              "       [1.55579834e-02, 6.26316556e-03],\n",
              "       [7.98283931e-03, 2.91179392e-03],\n",
              "       [2.76169159e-03, 1.24014350e-02],\n",
              "       [1.47053901e-02, 7.45618902e-03],\n",
              "       [6.64567737e-03, 8.55768530e-03],\n",
              "       [2.43005420e-04, 9.18635860e-04],\n",
              "       [4.35213395e-03, 3.80845077e-03],\n",
              "       [7.27990543e-04, 3.96296300e-04],\n",
              "       [1.01428595e-02, 1.46443758e-02],\n",
              "       [2.34368996e-03, 6.99323992e-03],\n",
              "       [3.75671938e-03, 1.45177731e-02],\n",
              "       [4.43837061e-03, 1.15052402e-02],\n",
              "       [9.02901122e-03, 7.21202036e-03],\n",
              "       [4.54913862e-03, 2.35278353e-03],\n",
              "       [1.32068177e-04, 9.39478579e-04],\n",
              "       [4.79245379e-04, 5.80916830e-04],\n",
              "       [4.59654077e-03, 1.52019838e-02],\n",
              "       [7.73861313e-05, 5.40002419e-05],\n",
              "       [3.40477696e-04, 4.89055082e-05],\n",
              "       [6.48285096e-03, 3.42888072e-03],\n",
              "       [1.09840752e-02, 5.38162597e-03],\n",
              "       [2.20758299e-03, 9.02922946e-04],\n",
              "       [3.82536113e-03, 1.36126425e-02],\n",
              "       [1.22317203e-03, 6.52352429e-04],\n",
              "       [6.07734080e-03, 1.41186659e-02],\n",
              "       [1.55345971e-03, 1.04899568e-03],\n",
              "       [3.65277484e-03, 1.39715352e-02],\n",
              "       [5.27901097e-03, 2.56813444e-03],\n",
              "       [3.04191585e-03, 1.13683684e-02],\n",
              "       [3.43556118e-03, 1.92333280e-03],\n",
              "       [6.98641859e-03, 6.99152504e-03],\n",
              "       [1.05025599e-02, 4.39720121e-03],\n",
              "       [1.34558735e-02, 4.40641645e-03],\n",
              "       [3.77482921e-04, 9.18308796e-04],\n",
              "       [1.63852087e-03, 1.00634768e-02],\n",
              "       [7.79176007e-03, 8.22274790e-03],\n",
              "       [2.52290515e-03, 1.04254209e-02],\n",
              "       [4.31125427e-03, 1.34199832e-02],\n",
              "       [1.12714519e-02, 1.41141279e-02],\n",
              "       [1.57408927e-02, 6.74503202e-03],\n",
              "       [3.73424121e-03, 7.02002376e-03],\n",
              "       [1.66067040e-02, 5.76328991e-03],\n",
              "       [9.31921232e-03, 2.93010663e-03],\n",
              "       [7.92950590e-03, 9.58325012e-03],\n",
              "       [1.49512979e-02, 8.30220134e-03],\n",
              "       [4.98472966e-03, 1.20261564e-03],\n",
              "       [6.75159469e-04, 2.81897770e-04],\n",
              "       [2.96625500e-04, 2.34420569e-03],\n",
              "       [1.18164928e-02, 1.03460524e-02],\n",
              "       [4.20176016e-04, 8.18342553e-04],\n",
              "       [1.26034163e-02, 6.27380490e-03],\n",
              "       [6.02278288e-05, 5.52494994e-04],\n",
              "       [3.02714770e-04, 1.37177196e-04],\n",
              "       [6.08103833e-03, 1.51455385e-02],\n",
              "       [5.20464895e-03, 8.07251840e-03],\n",
              "       [2.17552573e-03, 2.57620458e-03],\n",
              "       [3.96069976e-03, 3.05232155e-03],\n",
              "       [1.50946768e-03, 5.17437363e-04],\n",
              "       [6.34467210e-03, 1.71007444e-03],\n",
              "       [6.79986618e-03, 1.36612165e-02],\n",
              "       [3.89089481e-04, 2.69812439e-03],\n",
              "       [1.01353267e-02, 2.83128602e-03],\n",
              "       [6.60340442e-03, 3.59968520e-03],\n",
              "       [1.35600157e-03, 7.34429450e-04],\n",
              "       [5.90527693e-03, 2.65946575e-03],\n",
              "       [1.02146159e-02, 1.26393922e-02],\n",
              "       [5.33653659e-03, 4.19813725e-03],\n",
              "       [1.95174987e-03, 1.77866792e-03],\n",
              "       [5.38856504e-04, 3.13238468e-03],\n",
              "       [9.45097814e-03, 8.01964704e-03],\n",
              "       [5.23421003e-03, 1.01787295e-02],\n",
              "       [1.13135797e-02, 9.71777986e-03],\n",
              "       [5.20936044e-03, 5.44008120e-03],\n",
              "       [2.93655597e-03, 3.89080174e-03],\n",
              "       [6.73235857e-03, 2.14489234e-03],\n",
              "       [7.24427815e-03, 6.89837851e-03],\n",
              "       [2.71855003e-03, 1.09253394e-02],\n",
              "       [2.37383345e-03, 6.09958711e-03],\n",
              "       [1.52873196e-02, 6.06968899e-03],\n",
              "       [4.81477354e-04, 4.02158843e-03],\n",
              "       [4.07574199e-03, 6.41964201e-03],\n",
              "       [1.00149081e-02, 1.15616864e-02],\n",
              "       [5.21622742e-03, 2.29328281e-03],\n",
              "       [1.62290621e-02, 5.87943329e-03],\n",
              "       [1.51574221e-02, 7.84659188e-03],\n",
              "       [3.04273226e-04, 6.98012915e-05],\n",
              "       [4.85342765e-03, 1.22405843e-02],\n",
              "       [1.11306798e-02, 6.00356510e-03],\n",
              "       [8.58425052e-03, 3.66727028e-03],\n",
              "       [6.63046282e-03, 1.85422625e-03],\n",
              "       [5.44267428e-03, 3.46700117e-03],\n",
              "       [1.46895786e-02, 7.88905760e-03],\n",
              "       [8.11581429e-03, 3.00072457e-03],\n",
              "       [1.64709103e-03, 5.51583748e-03],\n",
              "       [6.26419082e-03, 4.03717183e-03],\n",
              "       [3.27799410e-03, 9.43374366e-03],\n",
              "       [3.13868909e-03, 8.37178682e-04],\n",
              "       [3.19270382e-03, 9.29547524e-04],\n",
              "       [4.32617300e-04, 2.65624486e-04],\n",
              "       [4.61256213e-03, 1.34044968e-02],\n",
              "       [1.49726796e-03, 8.50396911e-03],\n",
              "       [6.23625037e-03, 3.86593474e-03],\n",
              "       [1.09961124e-02, 1.16801605e-02],\n",
              "       [2.68565949e-03, 9.24990881e-03],\n",
              "       [1.16737303e-03, 4.16826622e-03],\n",
              "       [8.59694673e-07, 4.86565383e-07],\n",
              "       [6.78056419e-03, 3.88129328e-03],\n",
              "       [5.74258015e-03, 1.52777893e-02],\n",
              "       [9.21225841e-03, 4.57384911e-03],\n",
              "       [3.69939907e-03, 1.00709100e-02],\n",
              "       [8.54950203e-05, 5.11033766e-04],\n",
              "       [2.91714720e-03, 8.36104352e-03],\n",
              "       [1.22663073e-02, 4.62891727e-03],\n",
              "       [6.15880898e-03, 1.35082479e-03],\n",
              "       [4.54316010e-03, 1.97007561e-03],\n",
              "       [2.59240237e-03, 8.73526769e-03],\n",
              "       [5.86919360e-03, 1.70129765e-03],\n",
              "       [3.51583922e-03, 4.88609128e-03],\n",
              "       [6.77310629e-04, 2.11308483e-03],\n",
              "       [5.09283678e-03, 2.65918697e-03],\n",
              "       [1.31806264e-03, 7.61629756e-03],\n",
              "       [4.23473251e-03, 9.16259896e-03],\n",
              "       [1.43562492e-03, 8.16154245e-03],\n",
              "       [8.81333458e-05, 2.41492120e-05]])"
            ]
          },
          "metadata": {},
          "execution_count": 211
        }
      ]
    },
    {
      "cell_type": "code",
      "source": [],
      "metadata": {
        "id": "k8JdS3Q9khdP"
      },
      "execution_count": 152,
      "outputs": []
    },
    {
      "cell_type": "code",
      "source": [
        "ypreds= model.predict(X_test)\n",
        "ypreds\n"
      ],
      "metadata": {
        "id": "D4clV6PK1UJK",
        "colab": {
          "base_uri": "https://localhost:8080/"
        },
        "outputId": "3df8bdec-af7f-4b8d-ec33-e7e3d4e4fa22"
      },
      "execution_count": 212,
      "outputs": [
        {
          "output_type": "execute_result",
          "data": {
            "text/plain": [
              "array([1, 1, 0, 1, 1, 1, 0, 1, 0, 1, 1, 1, 1, 1, 0, 1, 1, 1, 1, 1, 1, 0,\n",
              "       1, 1, 0, 1, 1, 0, 1, 0, 0, 1, 1, 1, 0, 0, 1, 1, 1, 1, 1, 0, 0, 1,\n",
              "       0, 0, 0, 0, 1, 0, 0, 0, 1, 0, 1, 0, 0, 1, 0, 0, 1, 0, 0, 0, 1, 0,\n",
              "       1, 1, 0, 0, 0, 0, 0, 1, 1, 1, 0, 0, 1, 0, 1, 1, 0, 0, 1, 1, 1, 1,\n",
              "       0, 0, 1, 1, 1, 0, 0, 0, 0, 0, 1, 0, 1, 0, 1, 0, 1, 0, 1, 0, 0, 1,\n",
              "       1, 1, 1, 1, 1, 0, 1, 0, 0, 1, 0, 0, 0, 1, 0, 1, 0, 1, 0, 1, 1, 1,\n",
              "       0, 0, 0, 1, 1, 0, 0, 0, 0, 1, 0, 0, 1, 0, 1, 0, 1, 1, 0, 0, 1, 1,\n",
              "       0, 1, 1, 1, 0, 0, 0, 0, 1, 0, 0, 0, 0, 0, 0, 1, 0, 1, 0, 0, 0, 1,\n",
              "       1, 0, 1, 1, 1, 0, 0, 1, 0, 1, 1, 1, 0, 0, 0, 1, 0, 1, 1, 0, 1, 1,\n",
              "       1, 0])"
            ]
          },
          "metadata": {},
          "execution_count": 212
        }
      ]
    },
    {
      "cell_type": "code",
      "source": [
        "model.accuracy(y_test, ypreds)"
      ],
      "metadata": {
        "id": "QgG1xPUg1ULw",
        "colab": {
          "base_uri": "https://localhost:8080/"
        },
        "outputId": "6d6a6a39-dda1-45d9-859b-4a4bd309ad67"
      },
      "execution_count": 213,
      "outputs": [
        {
          "output_type": "execute_result",
          "data": {
            "text/plain": [
              "94.5"
            ]
          },
          "metadata": {},
          "execution_count": 213
        }
      ]
    },
    {
      "cell_type": "code",
      "source": [],
      "metadata": {
        "id": "OpXYY-yj1UOj"
      },
      "execution_count": null,
      "outputs": []
    },
    {
      "cell_type": "code",
      "source": [],
      "metadata": {
        "id": "8cvRcUO2rtKo"
      },
      "execution_count": null,
      "outputs": []
    }
  ]
}