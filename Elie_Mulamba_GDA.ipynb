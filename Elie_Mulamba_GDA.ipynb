{
  "nbformat": 4,
  "nbformat_minor": 0,
  "metadata": {
    "colab": {
      "provenance": []
    },
    "kernelspec": {
      "name": "python3",
      "display_name": "Python 3"
    },
    "language_info": {
      "name": "python"
    }
  },
  "cells": [
    {
      "cell_type": "markdown",
      "source": [
        "# GDA Implementation.\n",
        "\n",
        "Implement the Gaussian Discriminant Analysis (GDA) learning algorithm following the steps as discussed in class.\n",
        "\n",
        "INSTRUCTION: Rename your notebook as: <br>\n",
        "`firstName_LastName_Live_coding_GDA.ipynb`.\n",
        "\n",
        "Notes: \n",
        "* Do not use any built-in functions to complete a task;\n",
        "* Do not import additional libraries."
      ],
      "metadata": {
        "id": "g17Z46tmw2oZ"
      }
    },
    {
      "cell_type": "code",
      "execution_count": 1,
      "metadata": {
        "id": "aT5nlL-QTKwv"
      },
      "outputs": [],
      "source": [
        "import numpy as np\n",
        "import matplotlib.pyplot as plt\n",
        "from sklearn.datasets import make_classification"
      ]
    },
    {
      "cell_type": "code",
      "source": [
        "# Generate data\n",
        "def generate_data():\n",
        "  x, y = make_classification(n_samples= 1000, n_features=3, n_redundant=0, \n",
        "                           n_informative=3, random_state=1, \n",
        "                           n_clusters_per_class=1)\n",
        "  \n",
        "  return x,y\n",
        "\n",
        "x,y= generate_data() # get data\n",
        "print(x.shape, y.shape)"
      ],
      "metadata": {
        "colab": {
          "base_uri": "https://localhost:8080/"
        },
        "id": "_-lL4Yq9Tbzn",
        "outputId": "9eb8586f-098e-4771-9929-62bf6f3a911f"
      },
      "execution_count": 46,
      "outputs": [
        {
          "output_type": "stream",
          "name": "stdout",
          "text": [
            "(1000, 3) (1000,)\n"
          ]
        }
      ]
    },
    {
      "cell_type": "code",
      "source": [
        "def split_data(x,y, train_size= 0.8):\n",
        "    # shuffle the data to randomize the train/test split\n",
        "    n=x.shape[0]\n",
        "    data=np.concatenate([x,y.reshape(-1,1)], axis=1)\n",
        "    np.random.shuffle(data)\n",
        "    X_train, X_test=data[:int(n*train_size),:-1], data[int(n*train_size):,:-1]\n",
        "    y_train, y_test=data[:int(n*train_size),-1], data[int(n*train_size):,-1]\n",
        "    \n",
        "    return X_train, X_test, y_train, y_test"
      ],
      "metadata": {
        "id": "EUgiWLDhUAAK"
      },
      "execution_count": 47,
      "outputs": []
    },
    {
      "cell_type": "code",
      "source": [
        "X_train, X_test, y_train, y_test= split_data(x,y,0.8) # split your data into x_train, x_test, y_train, y_test\n",
        "print(X_train.shape, y_train.shape, X_test.shape, y_test.shape)"
      ],
      "metadata": {
        "colab": {
          "base_uri": "https://localhost:8080/"
        },
        "id": "Cr2Akm_A_FcJ",
        "outputId": "6a26ed82-859a-4197-a555-3dcefe8b4419"
      },
      "execution_count": 48,
      "outputs": [
        {
          "output_type": "stream",
          "name": "stdout",
          "text": [
            "(800, 3) (800,) (200, 3) (200,)\n"
          ]
        }
      ]
    },
    {
      "cell_type": "code",
      "source": [
        "def covariance(x, mu):\n",
        "  n,d=x.shape\n",
        "  cov=np.zeros((d,d))\n",
        "  print(cov.shape)\n",
        "  # Easy way: cov= np.cov(x, rowvar=0) but do not use it. One can use it to assess his/her result.\n",
        "  for i in range(d):\n",
        "    for j in range(d):\n",
        "      cov[i,j]=np.sum((x[:,i]-mu[i])*(x[:,j]-mu[j]))/n-1\n",
        "  return cov"
      ],
      "metadata": {
        "id": "FrJ7GfXBHNxD"
      },
      "execution_count": 37,
      "outputs": []
    },
    {
      "cell_type": "code",
      "source": [
        "covariance(X_train, mu=np.mean(x, axis=0))"
      ],
      "metadata": {
        "colab": {
          "base_uri": "https://localhost:8080/"
        },
        "id": "R9AtIpJ43aZ2",
        "outputId": "b0050fb9-e295-42f4-f94e-02b732800c5f"
      },
      "execution_count": 38,
      "outputs": [
        {
          "output_type": "stream",
          "name": "stdout",
          "text": [
            "(3, 3)\n"
          ]
        },
        {
          "output_type": "execute_result",
          "data": {
            "text/plain": [
              "array([[ 0.84469322, -0.98336219, -0.01967872],\n",
              "       [-0.98336219,  0.03110933, -0.94072443],\n",
              "       [-0.01967872, -0.94072443,  0.68385262]])"
            ]
          },
          "metadata": {},
          "execution_count": 38
        }
      ]
    },
    {
      "cell_type": "code",
      "source": [
        "def covariance(x, mu):\n",
        "  n,d=x.shape\n",
        "  cov=np.zeros((d,d))\n",
        "  print(cov.shape)\n",
        "  # Easy way: cov= np.cov(x, rowvar=0) but do not use it. One can use it to assess his/her result.\n",
        "  for i in range(d):\n",
        "    for j in range(d):\n",
        "      for k in range(n):\n",
        "        cov[i,j]=np.sum((x[k,i]-mu[i])*(x[k,j]-mu[j]).T)/(n-1)\n",
        "  return cov"
      ],
      "metadata": {
        "id": "0TqIulEulMb8"
      },
      "execution_count": 39,
      "outputs": []
    },
    {
      "cell_type": "code",
      "source": [
        "covariance(X_train, mu=np.mean(x, axis=0))"
      ],
      "metadata": {
        "colab": {
          "base_uri": "https://localhost:8080/"
        },
        "id": "YQ5Rp1g7_sx4",
        "outputId": "ef55960f-95ce-440e-9ee9-0ead2394d0d8"
      },
      "execution_count": 41,
      "outputs": [
        {
          "output_type": "stream",
          "name": "stdout",
          "text": [
            "(3, 3)\n"
          ]
        },
        {
          "output_type": "execute_result",
          "data": {
            "text/plain": [
              "array([[0.00121085, 0.00116639, 0.00105858],\n",
              "       [0.00116639, 0.00112355, 0.00101971],\n",
              "       [0.00105858, 0.00101971, 0.00092546]])"
            ]
          },
          "metadata": {},
          "execution_count": 41
        }
      ]
    },
    {
      "cell_type": "code",
      "source": [
        "cov=np.cov(X_train, rowvar=0)"
      ],
      "metadata": {
        "id": "Sz6JJ-mqGxXm"
      },
      "execution_count": 43,
      "outputs": []
    },
    {
      "cell_type": "code",
      "source": [],
      "metadata": {
        "id": "OzrEagO48jzj"
      },
      "execution_count": 8,
      "outputs": []
    },
    {
      "cell_type": "code",
      "source": [
        "class GDA:\n",
        "  def __init__(self):\n",
        "    ## set mu, phi and sigma to None\n",
        "    self.mu=None\n",
        "    self.phi=None\n",
        "    self.sigma=None\n",
        "    \n",
        "  def fit(self,x,y):\n",
        "    k=  2 # Number of class.\n",
        "    d= x.shape[1]  # input dim\n",
        "    m= x.shape[0] # Number of examples.\n",
        "    \n",
        "    ## Initialize mu, phi and sigma\n",
        "    self.mu= np.zeros((k,d))#: kxd, i.e., each row contains an individual class mu.\n",
        "    self.sigma= np.zeros((k,d,d))#: kxdxd, i.e., each row contains an individual class sigma.\n",
        "    self.phi= np.zeros(d)# d-dimension\n",
        "\n",
        "    ## START THE LEARNING: estimate mu, phi and sigma.\n",
        "   \n",
        "    for idx in range(k): \n",
        "      self.phi[idx]=np.sum(x[idx==y])/m\n",
        "      self.mu[idx]=np.mean(x[idx==y], axis=0)\n",
        "      self.sigma[idx]=covariance(x[idx==y], self.mu[idx])\n",
        "    #print(self.phi)\n",
        "    #print(self.mu)\n",
        "    #print(self.sigma)\n",
        "\n",
        "  def predict_proba(self,x):\n",
        "    \n",
        "    # reshape or flatt x.\n",
        "    #x= np.reshape(-1,1)\n",
        "    d= x.shape[0]\n",
        "    k_class=self.mu.shape[0] # Number of classes we have in our case it's k = 2\n",
        "    proba=np.zeros((d,k_class))\n",
        "    \n",
        "    ## START THE LEARNING: estimate mu, phi and sigma.\n",
        "    for i in range(k_class):\n",
        "      sigma_det=np.linalg.det(self.sigma[i])\n",
        "      sigma_inv=np.linalg.inv(self.sigma[i])\n",
        "      for j in range(x.shape[0]):\n",
        "        t=1/(2*np.pi)**(d/2)*(sigma_det**0.5)\n",
        "        exp=np.exp(-0.5*((x[j]-self.mu[i]).T)@sigma_inv@(x[j]-self.mu[i]))\n",
        "        proba[j, i]= t*exp*self.phi[i]\n",
        "    #print(proba)\n",
        "    return proba\n",
        "  def predict(self,x):\n",
        "    y_hat=np.argmax(self.proba(x))\n",
        "\n",
        "    return y_hat\n",
        "  \n",
        "  def accuracy(self, y, ypreds):\n",
        "    return "
      ],
      "metadata": {
        "id": "1ocKLDAfceF0"
      },
      "execution_count": 92,
      "outputs": []
    },
    {
      "cell_type": "code",
      "source": [
        "model= GDA()\n",
        "model.fit(X_train,y_train)"
      ],
      "metadata": {
        "id": "l_qO0Yp1c3Is",
        "colab": {
          "base_uri": "https://localhost:8080/"
        },
        "outputId": "cdbeda8d-d706-4a3e-c77b-38543c381bfc"
      },
      "execution_count": 93,
      "outputs": [
        {
          "output_type": "stream",
          "name": "stdout",
          "text": [
            "(3, 3)\n",
            "(3, 3)\n"
          ]
        }
      ]
    },
    {
      "cell_type": "code",
      "source": [
        "yproba= model.predict_proba(X_test)\n",
        "yproba"
      ],
      "metadata": {
        "id": "NKY1eojY1l4e",
        "colab": {
          "base_uri": "https://localhost:8080/"
        },
        "outputId": "3a67d61e-71ea-4290-edaa-5df4fd0d3e40"
      },
      "execution_count": 94,
      "outputs": [
        {
          "output_type": "stream",
          "name": "stdout",
          "text": [
            "[[ inf -inf]\n",
            " [ inf -inf]\n",
            " [ inf -inf]\n",
            " [ inf -inf]\n",
            " [ inf -inf]\n",
            " [ inf -inf]\n",
            " [ inf -inf]\n",
            " [ inf -inf]\n",
            " [ inf -inf]\n",
            " [ inf -inf]\n",
            " [ inf -inf]\n",
            " [ inf -inf]\n",
            " [ inf -inf]\n",
            " [ inf -inf]\n",
            " [ inf -inf]\n",
            " [ inf -inf]\n",
            " [ inf -inf]\n",
            " [ inf -inf]\n",
            " [ inf -inf]\n",
            " [ inf -inf]\n",
            " [ inf -inf]\n",
            " [ inf -inf]\n",
            " [ inf -inf]\n",
            " [ inf -inf]\n",
            " [ inf -inf]\n",
            " [ inf -inf]\n",
            " [ inf -inf]\n",
            " [ inf -inf]\n",
            " [ inf -inf]\n",
            " [ inf -inf]\n",
            " [ inf -inf]\n",
            " [ inf -inf]\n",
            " [ inf -inf]\n",
            " [ inf -inf]\n",
            " [ inf -inf]\n",
            " [ inf -inf]\n",
            " [ inf -inf]\n",
            " [ inf -inf]\n",
            " [ inf -inf]\n",
            " [ inf -inf]\n",
            " [ inf -inf]\n",
            " [ inf -inf]\n",
            " [ inf -inf]\n",
            " [ inf -inf]\n",
            " [ inf -inf]\n",
            " [ inf -inf]\n",
            " [ inf -inf]\n",
            " [ inf -inf]\n",
            " [ inf -inf]\n",
            " [ inf -inf]\n",
            " [ inf -inf]\n",
            " [ inf -inf]\n",
            " [ inf -inf]\n",
            " [ inf -inf]\n",
            " [ inf -inf]\n",
            " [ inf -inf]\n",
            " [ inf -inf]\n",
            " [ inf -inf]\n",
            " [ inf -inf]\n",
            " [ inf -inf]\n",
            " [ inf -inf]\n",
            " [ inf -inf]\n",
            " [ inf -inf]\n",
            " [ inf -inf]\n",
            " [ inf -inf]\n",
            " [ inf -inf]\n",
            " [ inf -inf]\n",
            " [ inf -inf]\n",
            " [ inf -inf]\n",
            " [ inf -inf]\n",
            " [ inf -inf]\n",
            " [ inf -inf]\n",
            " [ inf -inf]\n",
            " [ inf -inf]\n",
            " [ inf -inf]\n",
            " [ inf -inf]\n",
            " [ inf -inf]\n",
            " [ inf -inf]\n",
            " [ inf -inf]\n",
            " [ inf -inf]\n",
            " [ inf -inf]\n",
            " [ inf -inf]\n",
            " [ inf -inf]\n",
            " [ inf -inf]\n",
            " [ inf -inf]\n",
            " [ inf -inf]\n",
            " [ inf -inf]\n",
            " [ inf -inf]\n",
            " [ inf -inf]\n",
            " [ inf -inf]\n",
            " [ inf -inf]\n",
            " [ inf -inf]\n",
            " [ inf -inf]\n",
            " [ inf -inf]\n",
            " [ inf -inf]\n",
            " [ inf -inf]\n",
            " [ inf -inf]\n",
            " [ inf -inf]\n",
            " [ inf -inf]\n",
            " [ inf -inf]\n",
            " [ inf -inf]\n",
            " [ inf -inf]\n",
            " [ inf -inf]\n",
            " [ inf -inf]\n",
            " [ inf -inf]\n",
            " [ inf -inf]\n",
            " [ inf -inf]\n",
            " [ inf -inf]\n",
            " [ inf -inf]\n",
            " [ inf -inf]\n",
            " [ inf -inf]\n",
            " [ inf -inf]\n",
            " [ inf -inf]\n",
            " [ inf -inf]\n",
            " [ inf -inf]\n",
            " [ inf -inf]\n",
            " [ inf -inf]\n",
            " [ inf -inf]\n",
            " [ inf -inf]\n",
            " [ inf -inf]\n",
            " [ inf -inf]\n",
            " [ inf -inf]\n",
            " [ inf -inf]\n",
            " [ inf -inf]\n",
            " [ inf -inf]\n",
            " [ inf -inf]\n",
            " [ inf -inf]\n",
            " [ inf -inf]\n",
            " [ inf -inf]\n",
            " [ inf -inf]\n",
            " [ inf -inf]\n",
            " [ inf -inf]\n",
            " [ inf -inf]\n",
            " [ inf -inf]\n",
            " [ inf -inf]\n",
            " [ inf -inf]\n",
            " [ inf -inf]\n",
            " [ inf -inf]\n",
            " [ inf -inf]\n",
            " [ inf -inf]\n",
            " [ inf -inf]\n",
            " [ inf -inf]\n",
            " [ inf -inf]\n",
            " [ inf -inf]\n",
            " [ inf -inf]\n",
            " [ inf -inf]\n",
            " [ inf -inf]\n",
            " [ inf -inf]\n",
            " [ inf -inf]\n",
            " [ inf -inf]\n",
            " [ inf -inf]\n",
            " [ inf -inf]\n",
            " [ inf -inf]\n",
            " [ inf -inf]\n",
            " [ inf -inf]\n",
            " [ inf -inf]\n",
            " [ inf -inf]\n",
            " [ inf -inf]\n",
            " [ inf -inf]\n",
            " [ inf -inf]\n",
            " [ inf -inf]\n",
            " [ inf -inf]\n",
            " [ inf -inf]\n",
            " [ inf -inf]\n",
            " [ inf -inf]\n",
            " [ inf -inf]\n",
            " [ inf -inf]\n",
            " [ inf -inf]\n",
            " [ inf -inf]\n",
            " [ inf -inf]\n",
            " [ inf -inf]\n",
            " [ inf -inf]\n",
            " [ inf -inf]\n",
            " [ inf -inf]\n",
            " [ inf -inf]\n",
            " [ inf -inf]\n",
            " [ inf -inf]\n",
            " [ inf -inf]\n",
            " [ inf -inf]\n",
            " [ inf -inf]\n",
            " [ inf -inf]\n",
            " [ inf -inf]\n",
            " [ inf -inf]\n",
            " [ inf -inf]\n",
            " [ inf -inf]\n",
            " [ inf -inf]\n",
            " [ inf -inf]\n",
            " [ inf -inf]\n",
            " [ inf -inf]\n",
            " [ inf -inf]\n",
            " [ inf -inf]\n",
            " [ inf -inf]\n",
            " [ inf -inf]\n",
            " [ inf -inf]\n",
            " [ inf -inf]\n",
            " [ inf -inf]\n",
            " [ inf -inf]\n",
            " [ inf -inf]\n",
            " [ inf -inf]\n",
            " [ inf -inf]]\n"
          ]
        },
        {
          "output_type": "stream",
          "name": "stderr",
          "text": [
            "<ipython-input-92-743f31353f6b>:42: RuntimeWarning: overflow encountered in exp\n",
            "  exp=np.exp(-0.5*((x[j]-self.mu[i]).T)@sigma_inv@(x[j]-self.mu[i]))\n"
          ]
        }
      ]
    },
    {
      "cell_type": "code",
      "source": [
        "ypreds= model.predict(X_test)\n",
        "ypreds"
      ],
      "metadata": {
        "id": "D4clV6PK1UJK"
      },
      "execution_count": 12,
      "outputs": []
    },
    {
      "cell_type": "code",
      "source": [
        "model.accuracy(y_test, ypreds)"
      ],
      "metadata": {
        "id": "QgG1xPUg1ULw"
      },
      "execution_count": 13,
      "outputs": []
    },
    {
      "cell_type": "code",
      "source": [],
      "metadata": {
        "id": "OpXYY-yj1UOj"
      },
      "execution_count": 13,
      "outputs": []
    },
    {
      "cell_type": "code",
      "source": [],
      "metadata": {
        "id": "8cvRcUO2rtKo"
      },
      "execution_count": 13,
      "outputs": []
    }
  ]
}