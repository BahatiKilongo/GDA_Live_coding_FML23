{
  "nbformat": 4,
  "nbformat_minor": 0,
  "metadata": {
    "colab": {
      "provenance": []
    },
    "kernelspec": {
      "name": "python3",
      "display_name": "Python 3"
    },
    "language_info": {
      "name": "python"
    }
  },
  "cells": [
    {
      "cell_type": "markdown",
      "source": [
        "# GDA Implementation.\n",
        "\n",
        "Implement the Gaussian Discriminant Analysis (GDA) learning algorithm following the steps as discussed in class.\n",
        "\n",
        "INSTRUCTION: Rename your notebook as: <br>\n",
        "`firstName_LastName_Live_coding_GDA.ipynb`.\n",
        "\n",
        "Notes: \n",
        "* Do not use any built-in functions to complete a task;\n",
        "* Do not import additional libraries."
      ],
      "metadata": {
        "id": "g17Z46tmw2oZ"
      }
    },
    {
      "cell_type": "code",
      "execution_count": 1,
      "metadata": {
        "id": "aT5nlL-QTKwv"
      },
      "outputs": [],
      "source": [
        "import numpy as np\n",
        "import matplotlib.pyplot as plt\n",
        "from sklearn.datasets import make_classification"
      ]
    },
    {
      "cell_type": "code",
      "source": [
        "# Generate data\n",
        "def generate_data():\n",
        "  x, y = make_classification(n_samples= 1000, n_features=3, n_redundant=0, \n",
        "                           n_informative=3, random_state=1, \n",
        "                           n_clusters_per_class=1)\n",
        "  \n",
        "  return x,y\n",
        "\n",
        "x,y=generate_data()# get data\n",
        "print(x.shape, y.shape)"
      ],
      "metadata": {
        "colab": {
          "base_uri": "https://localhost:8080/"
        },
        "id": "_-lL4Yq9Tbzn",
        "outputId": "c54c3d3f-52ec-4ccd-9703-9bc6213c5e3e"
      },
      "execution_count": 2,
      "outputs": [
        {
          "output_type": "stream",
          "name": "stdout",
          "text": [
            "(1000, 3) (1000,)\n"
          ]
        }
      ]
    },
    {
      "cell_type": "code",
      "source": [
        "def split_data(x,y, train_size= 0.8):\n",
        "    # shuffle the data to randomize the train/test split\n",
        "  \n",
        "  n=x.shape[0]\n",
        "\n",
        "  suffle=np.random.permutation(n) \n",
        "  x_suffle=x[suffle]\n",
        "  y_suffle=y[suffle]\n",
        "\n",
        "  x_train=x_suffle[:int(train_size*n)]\n",
        "\n",
        "  y_train=y_suffle[:int(train_size*n)]\n",
        "\n",
        "  x_test=x_suffle[int(train_size*n):]\n",
        "\n",
        "  y_test=y_suffle[int(train_size*n):]\n",
        "\n",
        "  return x_train,x_test,y_train,y_test"
      ],
      "metadata": {
        "id": "EUgiWLDhUAAK"
      },
      "execution_count": 3,
      "outputs": []
    },
    {
      "cell_type": "code",
      "source": [
        "X_train, X_test, y_train, y_test=split_data(x,y, train_size= 0.8) # split your data into x_train, x_test, y_train, y_test\n",
        "print(X_train.shape, y_train.shape, X_test.shape, y_test.shape)"
      ],
      "metadata": {
        "colab": {
          "base_uri": "https://localhost:8080/"
        },
        "id": "Cr2Akm_A_FcJ",
        "outputId": "ff8b284e-5b94-47a6-a211-0d2179bd66ce"
      },
      "execution_count": 4,
      "outputs": [
        {
          "output_type": "stream",
          "name": "stdout",
          "text": [
            "(800, 3) (800,) (200, 3) (200,)\n"
          ]
        }
      ]
    },
    {
      "cell_type": "code",
      "source": [
        "def covariance(x,mu):\n",
        "\n",
        "  # Easy way: cov= np.cov(x, rowvar=0) but do not use it. One can use it to assess his/her result.\n",
        "\n",
        "  n,d=x.shape\n",
        "\n",
        "  cov=np.zeros((d,d))\n",
        "\n",
        "  for i in range(d):\n",
        "\n",
        "    for j in range(d):\n",
        "\n",
        "      cov[i][j]=( np.sum( (x[:,i]-mu[i]) * (x[:,j]-mu[j]) ) )/(n-1)\n",
        "\n",
        "  return cov\n",
        "\n",
        "\n",
        "def mu_(x,y,k):\n",
        "    n,d=x.shape\n",
        "    indicator=0\n",
        "    x_sum=np.zeros(d)\n",
        "    for i in range(n):\n",
        "      if y[i]==k:\n",
        "        indicator+=1\n",
        "        x_sum+=x[i]\n",
        "    return x_sum/indicator\n",
        "\n",
        "\n",
        "def phi_(y,k):\n",
        "    n=y.shape[0]\n",
        "    indicator=0\n",
        "    for i in range(n):\n",
        "       if y[i]==k:\n",
        "        indicator+=1\n",
        "    return indicator/n\n",
        "\n",
        "\n",
        "def gaussien_density(x,mu,sigma):\n",
        "  #x=x.reshape(1,-x.shape[0])\n",
        "  #mu=mu.reshape(1,-mu.shape[0])\n",
        "  #d=x.shape[1]\n",
        "\n",
        "  d=x.shape[0]\n",
        "\n",
        "  const=(2*np.pi)**(d/2)\n",
        "\n",
        "  det=np.linalg.det(sigma)\n",
        "  \n",
        "  x_mean=x-mu\n",
        "\n",
        "  X=( x_mean.T@(np.linalg.inv(sigma)))@(x_mean)\n",
        "\n",
        "  return np.exp(-X/2)/((const)*(det**(1/2)))\n",
        "\n",
        "\n",
        "def bernoulli(phi,k):\n",
        "  return (phi**k)*((1-phi)**(1-k))\n",
        "\n",
        "\n",
        "\n"
      ],
      "metadata": {
        "id": "FrJ7GfXBHNxD"
      },
      "execution_count": 5,
      "outputs": []
    },
    {
      "cell_type": "code",
      "source": [
        "x1=np.array([[2,3],[1,2],[2,4],[0,2]])"
      ],
      "metadata": {
        "id": "1F4bGXBcsuk0"
      },
      "execution_count": 6,
      "outputs": []
    },
    {
      "cell_type": "code",
      "source": [
        "y1=np.array([[1],[0],[1],[0]])"
      ],
      "metadata": {
        "id": "iHQGRsW3uLPz"
      },
      "execution_count": 7,
      "outputs": []
    },
    {
      "cell_type": "code",
      "source": [
        "mu_x=mu_(x1,y1,0)\n",
        "mu_x"
      ],
      "metadata": {
        "colab": {
          "base_uri": "https://localhost:8080/"
        },
        "id": "lxmo2BZBuhKD",
        "outputId": "c0bd58b8-3595-4fcd-f72f-cb1ce37cce7f"
      },
      "execution_count": 8,
      "outputs": [
        {
          "output_type": "execute_result",
          "data": {
            "text/plain": [
              "array([0.5, 2. ])"
            ]
          },
          "metadata": {},
          "execution_count": 8
        }
      ]
    },
    {
      "cell_type": "code",
      "source": [
        "mu_y=mu_(x1,y1,1)\n",
        "mu_y"
      ],
      "metadata": {
        "colab": {
          "base_uri": "https://localhost:8080/"
        },
        "id": "MpPJIqSnu-VE",
        "outputId": "a5b9dc98-f200-4881-8521-b20991de1e56"
      },
      "execution_count": 9,
      "outputs": [
        {
          "output_type": "execute_result",
          "data": {
            "text/plain": [
              "array([2. , 3.5])"
            ]
          },
          "metadata": {},
          "execution_count": 9
        }
      ]
    },
    {
      "cell_type": "code",
      "source": [
        "a=np.array([[2,1],[4,5],[1,2],[3,4],[7,6]])\n",
        "b=np.array([[1],[1],[1],[1],[1]])\n",
        "mu=mu_(a,b,1)\n",
        "mu"
      ],
      "metadata": {
        "colab": {
          "base_uri": "https://localhost:8080/"
        },
        "id": "yraE9N3n4WDf",
        "outputId": "397693e4-117a-4257-8bc1-091eebe5fdf2"
      },
      "execution_count": 10,
      "outputs": [
        {
          "output_type": "execute_result",
          "data": {
            "text/plain": [
              "array([3.4, 3.6])"
            ]
          },
          "metadata": {},
          "execution_count": 10
        }
      ]
    },
    {
      "cell_type": "code",
      "source": [
        "np.cov(a,rowvar=0)"
      ],
      "metadata": {
        "colab": {
          "base_uri": "https://localhost:8080/"
        },
        "id": "mq_2MNT_7V4Y",
        "outputId": "c9ea5ec5-ffe9-4c72-9f50-53bbc7caa902"
      },
      "execution_count": 11,
      "outputs": [
        {
          "output_type": "execute_result",
          "data": {
            "text/plain": [
              "array([[5.3, 4.2],\n",
              "       [4.2, 4.3]])"
            ]
          },
          "metadata": {},
          "execution_count": 11
        }
      ]
    },
    {
      "cell_type": "code",
      "source": [
        "covariance(a,a.mean(0))"
      ],
      "metadata": {
        "colab": {
          "base_uri": "https://localhost:8080/"
        },
        "id": "e0aSuZmSwG9X",
        "outputId": "5e5f6cf5-e288-4bd8-fe81-e1737bb7a50c"
      },
      "execution_count": 12,
      "outputs": [
        {
          "output_type": "execute_result",
          "data": {
            "text/plain": [
              "array([[5.3, 4.2],\n",
              "       [4.2, 4.3]])"
            ]
          },
          "metadata": {},
          "execution_count": 12
        }
      ]
    },
    {
      "cell_type": "code",
      "source": [
        "np.cov(x,rowvar=0)"
      ],
      "metadata": {
        "colab": {
          "base_uri": "https://localhost:8080/"
        },
        "id": "a6vrs_Ce8mjQ",
        "outputId": "053297d5-64af-4aa8-8cc0-360e3fd1a154"
      },
      "execution_count": 13,
      "outputs": [
        {
          "output_type": "execute_result",
          "data": {
            "text/plain": [
              "array([[1.84495325, 0.02790646, 1.00137533],\n",
              "       [0.02790646, 1.00170721, 0.05539176],\n",
              "       [1.00137533, 0.05539176, 1.74832   ]])"
            ]
          },
          "metadata": {},
          "execution_count": 13
        }
      ]
    },
    {
      "cell_type": "code",
      "source": [
        "covariance(x,x.mean(0))"
      ],
      "metadata": {
        "colab": {
          "base_uri": "https://localhost:8080/"
        },
        "id": "YKYYKFUP8p4S",
        "outputId": "9b392224-6560-4981-9b94-8054212b4f92"
      },
      "execution_count": 14,
      "outputs": [
        {
          "output_type": "execute_result",
          "data": {
            "text/plain": [
              "array([[1.84495325, 0.02790646, 1.00137533],\n",
              "       [0.02790646, 1.00170721, 0.05539176],\n",
              "       [1.00137533, 0.05539176, 1.74832   ]])"
            ]
          },
          "metadata": {},
          "execution_count": 14
        }
      ]
    },
    {
      "cell_type": "code",
      "source": [
        "class GDA:\n",
        "  def __init__(self):\n",
        "    ## set mu, phi and sigma to None\n",
        "    self.mu=None\n",
        "    self.sigma=None\n",
        "    self.phi=None\n",
        "\n",
        "    \n",
        "  def fit(self,x,y):\n",
        "    k=2 # Number of class.\n",
        "    d=x.shape[1] # input dim\n",
        "    m= x.shape[0] # Number of examples.\n",
        "    \n",
        "    ## Initialize mu, phi and sigma\n",
        "    self.mu=np.zeros((k,d))#: kxd, i.e., each row contains an individual class mu.\n",
        "    self.sigma=np.zeros((k,d,d))#: kxdxd, i.e., each row contains an individual class sigma.\n",
        "    self.phi= np.zeros(k)# k-dimension\n",
        "\n",
        "    ## START THE LEARNING: estimate mu, phi and sigma.\n",
        "\n",
        "    for lab in range(k):\n",
        "\n",
        "      bool_=(lab==y)\n",
        "\n",
        "      self.phi[lab]=phi_(y,lab)\n",
        "\n",
        "      self.mu[lab]=mu_(x,y,lab)\n",
        "\n",
        "      self.sigma[lab]=covariance(x[bool_],self.mu[lab])\n",
        "\n",
        "\n",
        "  def predict_proba(self,x):\n",
        "    # reshape or flatt x.\n",
        "   # x= ...\n",
        "    d=x.shape[1]\n",
        "    k_class= self.mu.shape[0]# Number of classes we have in our case it's k = 2\n",
        "    \n",
        "    ## START THE LEARNING: estimate mu, phi and sigma.\n",
        "    proba=np.zeros((x.shape[0],k_class))\n",
        "\n",
        "    for lab in range(k_class):\n",
        "\n",
        "      for i in range(x.shape[0]):\n",
        "        \n",
        "        ###proba[i][lab]=gaussien_density(x[i],self.mu[lab],self.sigma[lab])*bernoulli(self.phi[lab],lab)\n",
        "\n",
        "        proba[i][lab]=gaussien_density(x[i],self.mu[lab],self.sigma[lab])*self.phi[lab]\n",
        "    \n",
        "    return proba\n",
        "\n",
        "\n",
        "  def predict(self,x):\n",
        "\n",
        "    proba=self.predict_proba(x)\n",
        "\n",
        "    y_pred=np.argmax(proba,axis=1)\n",
        "\n",
        "    #self.y_pred=y_pred\n",
        "\n",
        "    return y_pred\n",
        "  \n",
        "  \n",
        "  def accuracy(self, y, ypreds):\n",
        "    return np.mean(y==ypreds)*100\n",
        "\n"
      ],
      "metadata": {
        "id": "1ocKLDAfceF0"
      },
      "execution_count": 15,
      "outputs": []
    },
    {
      "cell_type": "code",
      "source": [],
      "metadata": {
        "id": "Ne-K_TP19zRd"
      },
      "execution_count": 15,
      "outputs": []
    },
    {
      "cell_type": "code",
      "source": [
        "model= GDA()\n",
        "model.fit(X_train,y_train)"
      ],
      "metadata": {
        "id": "l_qO0Yp1c3Is"
      },
      "execution_count": 16,
      "outputs": []
    },
    {
      "cell_type": "code",
      "source": [
        "model.phi"
      ],
      "metadata": {
        "colab": {
          "base_uri": "https://localhost:8080/"
        },
        "id": "uWTmP41uDgiw",
        "outputId": "ab0f5b8f-18e7-4b63-ad4e-df6a49254c81"
      },
      "execution_count": 17,
      "outputs": [
        {
          "output_type": "execute_result",
          "data": {
            "text/plain": [
              "array([0.50875, 0.49125])"
            ]
          },
          "metadata": {},
          "execution_count": 17
        }
      ]
    },
    {
      "cell_type": "code",
      "source": [
        "model.mu"
      ],
      "metadata": {
        "colab": {
          "base_uri": "https://localhost:8080/"
        },
        "id": "5ktGGQs_Djrb",
        "outputId": "0d004881-bc10-4aa2-a261-1930af290326"
      },
      "execution_count": 18,
      "outputs": [
        {
          "output_type": "execute_result",
          "data": {
            "text/plain": [
              "array([[ 1.00123741,  1.04149184,  1.00521082],\n",
              "       [-1.03088605,  0.93586606, -0.90658417]])"
            ]
          },
          "metadata": {},
          "execution_count": 18
        }
      ]
    },
    {
      "cell_type": "code",
      "source": [
        "model.sigma"
      ],
      "metadata": {
        "colab": {
          "base_uri": "https://localhost:8080/"
        },
        "id": "FEjfLoLIDjvA",
        "outputId": "b356cc47-b55d-41cf-9fb0-7c08e17d4492"
      },
      "execution_count": 19,
      "outputs": [
        {
          "output_type": "execute_result",
          "data": {
            "text/plain": [
              "array([[[ 0.86635589, -0.40775594, -0.06279293],\n",
              "        [-0.40775594,  1.69538858,  0.09364282],\n",
              "        [-0.06279293,  0.09364282,  0.03739212]],\n",
              "\n",
              "       [[ 0.82502947,  0.34636887,  0.14448122],\n",
              "        [ 0.34636887,  0.36220622, -0.08101061],\n",
              "        [ 0.14448122, -0.08101061,  1.55972549]]])"
            ]
          },
          "metadata": {},
          "execution_count": 19
        }
      ]
    },
    {
      "cell_type": "code",
      "source": [
        "#gaussien_density(X_train[0],model.mu[0],model.sigma[0])"
      ],
      "metadata": {
        "id": "Ty1rVB30j1P4"
      },
      "execution_count": 20,
      "outputs": []
    },
    {
      "cell_type": "code",
      "source": [
        "yproba= model.predict_proba(X_test)\n",
        "yproba"
      ],
      "metadata": {
        "id": "NKY1eojY1l4e",
        "colab": {
          "base_uri": "https://localhost:8080/"
        },
        "outputId": "cb8ac7ea-c98b-4626-b4ca-6ac5b2709ee3"
      },
      "execution_count": 21,
      "outputs": [
        {
          "output_type": "execute_result",
          "data": {
            "text/plain": [
              "array([[6.15700427e-027, 4.52697623e-002],\n",
              "       [1.26970047e-001, 3.23150203e-003],\n",
              "       [1.02813491e-133, 6.08766125e-003],\n",
              "       [5.67265337e-004, 1.52932347e-002],\n",
              "       [7.45479913e-222, 1.07425721e-005],\n",
              "       [3.75403159e-002, 1.62623460e-005],\n",
              "       [4.22086723e-016, 2.18838400e-002],\n",
              "       [1.58525091e-001, 3.19326135e-004],\n",
              "       [1.16782475e-058, 4.91958194e-002],\n",
              "       [2.66073970e-036, 4.01921685e-002],\n",
              "       [1.03254495e-001, 1.47712282e-004],\n",
              "       [3.26855125e-002, 8.63677293e-004],\n",
              "       [2.28455420e-087, 2.04008328e-002],\n",
              "       [6.82023233e-027, 5.12438165e-002],\n",
              "       [3.12110915e-006, 2.55113652e-003],\n",
              "       [1.88655184e-008, 3.29943707e-002],\n",
              "       [1.74750518e-015, 1.78349580e-002],\n",
              "       [5.60585691e-002, 1.73643043e-008],\n",
              "       [2.08803572e-012, 2.97301754e-002],\n",
              "       [4.33110147e-004, 1.50665839e-002],\n",
              "       [1.08504654e-082, 2.77267592e-002],\n",
              "       [2.84454807e-002, 1.76338663e-009],\n",
              "       [1.32270984e-001, 2.28364906e-003],\n",
              "       [5.80672577e-002, 1.74114384e-003],\n",
              "       [5.24400732e-108, 2.09294063e-002],\n",
              "       [1.23389211e-003, 2.22469226e-002],\n",
              "       [5.33851920e-003, 4.01998728e-007],\n",
              "       [1.50759111e-001, 2.46996285e-004],\n",
              "       [1.18420388e-002, 2.46674712e-006],\n",
              "       [6.19782695e-002, 8.89493604e-005],\n",
              "       [8.42552436e-020, 3.99617128e-002],\n",
              "       [5.13032517e-016, 3.35511031e-002],\n",
              "       [1.87096364e-008, 2.80464643e-002],\n",
              "       [4.34126376e-050, 2.14586509e-002],\n",
              "       [4.00872474e-094, 5.67819057e-003],\n",
              "       [3.50798202e-003, 1.76909319e-012],\n",
              "       [1.09257885e-027, 3.86974670e-002],\n",
              "       [1.03850283e-166, 3.06451833e-003],\n",
              "       [7.70523178e-004, 3.76528993e-003],\n",
              "       [3.52596131e-003, 3.04367636e-004],\n",
              "       [1.33851619e-001, 3.65931440e-003],\n",
              "       [3.13970058e-009, 6.23913816e-003],\n",
              "       [9.37328224e-002, 9.90594189e-003],\n",
              "       [3.89536441e-003, 2.33532332e-005],\n",
              "       [1.26889264e-091, 5.23377268e-003],\n",
              "       [4.44268643e-002, 1.64202839e-004],\n",
              "       [2.51853619e-002, 7.59445585e-006],\n",
              "       [9.36786049e-084, 2.39585049e-002],\n",
              "       [1.05401854e-001, 4.27769592e-005],\n",
              "       [4.74037548e-002, 5.27290659e-010],\n",
              "       [1.11313112e-001, 8.85056243e-007],\n",
              "       [8.97513794e-002, 3.14062875e-004],\n",
              "       [3.81434848e-033, 1.70245324e-002],\n",
              "       [1.99898757e-033, 3.06795536e-003],\n",
              "       [3.89518019e-002, 1.73380291e-008],\n",
              "       [4.08422042e-002, 8.00896581e-004],\n",
              "       [3.89628346e-002, 2.06944354e-009],\n",
              "       [3.77286982e-014, 3.44453246e-002],\n",
              "       [4.08370017e-004, 4.82841756e-006],\n",
              "       [2.83855203e-098, 3.69504202e-003],\n",
              "       [3.97660656e-002, 5.11174606e-004],\n",
              "       [6.10728801e-002, 3.93294129e-010],\n",
              "       [6.38408705e-019, 3.45614906e-002],\n",
              "       [1.15303185e-001, 3.69084000e-004],\n",
              "       [4.77939735e-041, 2.62514697e-002],\n",
              "       [2.40562603e-002, 1.37458919e-002],\n",
              "       [5.13636467e-129, 2.63101848e-003],\n",
              "       [2.15040409e-003, 2.86181148e-005],\n",
              "       [4.23732502e-111, 1.48120600e-002],\n",
              "       [4.26244983e-053, 4.41136578e-002],\n",
              "       [8.76935916e-017, 3.83629833e-002],\n",
              "       [2.83058649e-057, 7.74618185e-003],\n",
              "       [3.77729626e-002, 1.33386727e-005],\n",
              "       [4.27372134e-002, 4.18722788e-003],\n",
              "       [8.97619149e-058, 4.66987404e-002],\n",
              "       [5.03042863e-059, 3.37577458e-002],\n",
              "       [4.51607535e-053, 5.38661546e-002],\n",
              "       [1.43058850e-051, 6.95480353e-003],\n",
              "       [1.67247480e-032, 6.10774553e-002],\n",
              "       [1.43187647e-042, 2.17677015e-002],\n",
              "       [7.56297956e-002, 8.28809121e-003],\n",
              "       [8.21479795e-002, 1.04323022e-003],\n",
              "       [8.64273293e-003, 1.18769742e-004],\n",
              "       [2.02222418e-002, 8.18190021e-015],\n",
              "       [4.24069222e-002, 3.21951284e-004],\n",
              "       [2.47847771e-002, 9.67219365e-008],\n",
              "       [1.24066168e-013, 4.67035818e-002],\n",
              "       [1.99329412e-002, 2.80448787e-005],\n",
              "       [6.97950840e-032, 3.82981781e-002],\n",
              "       [3.76841610e-002, 3.65748468e-003],\n",
              "       [4.95933588e-003, 2.06620390e-011],\n",
              "       [1.04676543e-018, 3.24473552e-003],\n",
              "       [3.23532171e-028, 2.15717415e-002],\n",
              "       [1.17810395e-001, 2.93920165e-004],\n",
              "       [1.25981686e-002, 6.98250265e-005],\n",
              "       [8.13136200e-002, 2.51147272e-004],\n",
              "       [1.60814577e-003, 6.43080391e-003],\n",
              "       [1.16498781e-021, 1.13234856e-002],\n",
              "       [1.12521795e-021, 4.01801853e-002],\n",
              "       [1.92072132e-188, 3.62762033e-004],\n",
              "       [1.01137887e-048, 2.71237191e-002],\n",
              "       [1.89359169e-008, 3.77604417e-002],\n",
              "       [8.14813852e-006, 3.18500863e-002],\n",
              "       [5.39387355e-003, 1.14366538e-003],\n",
              "       [1.52493094e-001, 1.07426996e-003],\n",
              "       [2.46669505e-010, 2.73911015e-002],\n",
              "       [2.35141997e-002, 1.28075292e-014],\n",
              "       [8.26982920e-041, 2.64165623e-002],\n",
              "       [1.43517977e-001, 3.65187269e-003],\n",
              "       [1.43414166e-017, 5.26549050e-002],\n",
              "       [2.26571894e-002, 4.75492613e-003],\n",
              "       [1.05092564e-073, 3.35631104e-002],\n",
              "       [9.65322378e-003, 1.16318968e-016],\n",
              "       [4.99253417e-156, 7.06761443e-003],\n",
              "       [3.03372448e-055, 5.22103033e-002],\n",
              "       [5.66084742e-002, 2.71718106e-010],\n",
              "       [1.70395575e-004, 1.89917897e-002],\n",
              "       [2.17377006e-048, 3.07701970e-002],\n",
              "       [9.34010056e-009, 1.11613531e-002],\n",
              "       [2.17280960e-044, 4.17505846e-002],\n",
              "       [2.88773499e-011, 2.11976448e-002],\n",
              "       [1.46343459e-002, 2.87364354e-010],\n",
              "       [8.26048893e-093, 2.49978324e-003],\n",
              "       [1.16714888e-140, 8.59231878e-003],\n",
              "       [2.35582920e-077, 2.47614410e-002],\n",
              "       [5.75885333e-002, 5.05023279e-003],\n",
              "       [9.57991120e-002, 4.38226473e-004],\n",
              "       [6.90688036e-002, 9.81306556e-005],\n",
              "       [2.36430381e-002, 1.95162119e-003],\n",
              "       [7.35228453e-002, 1.33517757e-005],\n",
              "       [7.79014030e-007, 1.99254094e-002],\n",
              "       [7.92490868e-072, 3.43196470e-002],\n",
              "       [1.17208177e-008, 3.39525635e-002],\n",
              "       [2.46608342e-091, 2.87942329e-002],\n",
              "       [2.71655813e-029, 1.89922018e-002],\n",
              "       [2.06815230e-002, 1.13706285e-006],\n",
              "       [2.22644221e-128, 1.22775042e-002],\n",
              "       [5.40789996e-030, 4.25664693e-002],\n",
              "       [2.63234399e-168, 1.18238288e-003],\n",
              "       [8.50114439e-003, 6.64522652e-007],\n",
              "       [3.26211276e-002, 3.41019162e-005],\n",
              "       [1.20608020e-001, 5.94863038e-003],\n",
              "       [1.02238575e-048, 5.55482581e-002],\n",
              "       [4.64934986e-045, 4.24986889e-002],\n",
              "       [2.44075127e-014, 2.02906394e-003],\n",
              "       [4.10453742e-100, 1.91926052e-002],\n",
              "       [1.35971824e-027, 4.14214268e-002],\n",
              "       [1.61826546e-006, 1.20357076e-002],\n",
              "       [1.08349324e-002, 2.54251089e-007],\n",
              "       [5.53051164e-024, 1.99270822e-002],\n",
              "       [1.44575830e-024, 1.15347197e-002],\n",
              "       [2.57540737e-003, 9.83660076e-003],\n",
              "       [6.62208759e-002, 2.21317776e-003],\n",
              "       [5.85519413e-002, 7.79715287e-012],\n",
              "       [1.09291017e-001, 5.39708702e-005],\n",
              "       [1.93629905e-006, 7.88077791e-003],\n",
              "       [3.58761382e-002, 6.04876493e-004],\n",
              "       [1.51308173e-002, 1.25640599e-002],\n",
              "       [2.18041966e-013, 2.20222766e-002],\n",
              "       [4.41581878e-028, 1.34121124e-002],\n",
              "       [2.34896858e-002, 1.14518182e-008],\n",
              "       [2.55057311e-091, 1.01956123e-002],\n",
              "       [5.36631536e-003, 9.08474613e-004],\n",
              "       [9.17046426e-014, 4.07560921e-002],\n",
              "       [1.19039509e-026, 3.94217879e-002],\n",
              "       [8.47427788e-002, 3.55196539e-004],\n",
              "       [4.05465507e-002, 5.76833728e-004],\n",
              "       [9.51479915e-225, 6.93795399e-004],\n",
              "       [1.46544388e-017, 3.19831662e-002],\n",
              "       [2.66400834e-025, 1.06411464e-002],\n",
              "       [1.29605642e-001, 1.99401002e-004],\n",
              "       [1.35127267e-051, 4.26416259e-002],\n",
              "       [5.82952419e-002, 2.76359646e-004],\n",
              "       [2.69512275e-002, 9.35168238e-006],\n",
              "       [7.02123570e-002, 1.32522991e-002],\n",
              "       [9.21031213e-002, 3.33833265e-004],\n",
              "       [1.27289991e-001, 9.56202062e-006],\n",
              "       [3.35939408e-004, 2.39581130e-003],\n",
              "       [5.07725739e-003, 1.16843823e-005],\n",
              "       [3.51348380e-003, 1.26768198e-010],\n",
              "       [1.93736198e-003, 4.26721888e-020],\n",
              "       [5.44765919e-039, 1.58766860e-002],\n",
              "       [2.17952982e-004, 4.70785329e-003],\n",
              "       [3.22489777e-002, 8.77077188e-011],\n",
              "       [1.12233042e-001, 2.05138042e-005],\n",
              "       [8.70866280e-028, 1.85600559e-002],\n",
              "       [6.69113331e-066, 1.55565861e-002],\n",
              "       [1.21552455e-021, 1.65214808e-002],\n",
              "       [2.62857035e-024, 4.89328372e-002],\n",
              "       [3.10751207e-002, 1.07010391e-003],\n",
              "       [3.96562549e-002, 9.11798899e-005],\n",
              "       [1.06017935e-001, 2.34690024e-003],\n",
              "       [1.60512669e-007, 3.25744625e-002],\n",
              "       [6.40687923e-002, 1.11656928e-004],\n",
              "       [1.39542045e-001, 5.31290564e-005],\n",
              "       [1.03033973e-014, 3.19689533e-002],\n",
              "       [7.72851388e-002, 9.97590878e-010],\n",
              "       [1.48940432e-001, 1.18956641e-004],\n",
              "       [6.97610525e-080, 2.46589765e-002],\n",
              "       [2.37358861e-087, 2.66681428e-002]])"
            ]
          },
          "metadata": {},
          "execution_count": 21
        }
      ]
    },
    {
      "cell_type": "code",
      "source": [
        "ypreds= model.predict(X_test)\n",
        "ypreds\n"
      ],
      "metadata": {
        "id": "D4clV6PK1UJK",
        "colab": {
          "base_uri": "https://localhost:8080/"
        },
        "outputId": "b3cc3857-f6be-46c0-f104-ef67611b8a3d"
      },
      "execution_count": 22,
      "outputs": [
        {
          "output_type": "execute_result",
          "data": {
            "text/plain": [
              "array([1, 0, 1, 1, 1, 0, 1, 0, 1, 1, 0, 0, 1, 1, 1, 1, 1, 0, 1, 1, 1, 0,\n",
              "       0, 0, 1, 1, 0, 0, 0, 0, 1, 1, 1, 1, 1, 0, 1, 1, 1, 0, 0, 1, 0, 0,\n",
              "       1, 0, 0, 1, 0, 0, 0, 0, 1, 1, 0, 0, 0, 1, 0, 1, 0, 0, 1, 0, 1, 0,\n",
              "       1, 0, 1, 1, 1, 1, 0, 0, 1, 1, 1, 1, 1, 1, 0, 0, 0, 0, 0, 0, 1, 0,\n",
              "       1, 0, 0, 1, 1, 0, 0, 0, 1, 1, 1, 1, 1, 1, 1, 0, 0, 1, 0, 1, 0, 1,\n",
              "       0, 1, 0, 1, 1, 0, 1, 1, 1, 1, 1, 0, 1, 1, 1, 0, 0, 0, 0, 0, 1, 1,\n",
              "       1, 1, 1, 0, 1, 1, 1, 0, 0, 0, 1, 1, 1, 1, 1, 1, 0, 1, 1, 1, 0, 0,\n",
              "       0, 1, 0, 0, 1, 1, 0, 1, 0, 1, 1, 0, 0, 1, 1, 1, 0, 1, 0, 0, 0, 0,\n",
              "       0, 1, 0, 0, 0, 1, 1, 0, 0, 1, 1, 1, 1, 0, 0, 0, 1, 0, 0, 1, 0, 0,\n",
              "       1, 1])"
            ]
          },
          "metadata": {},
          "execution_count": 22
        }
      ]
    },
    {
      "cell_type": "code",
      "source": [
        "model.accuracy(y_test, ypreds)"
      ],
      "metadata": {
        "id": "QgG1xPUg1ULw",
        "colab": {
          "base_uri": "https://localhost:8080/"
        },
        "outputId": "67f8cb7a-e729-4f36-b646-85b73a059ea0"
      },
      "execution_count": 23,
      "outputs": [
        {
          "output_type": "execute_result",
          "data": {
            "text/plain": [
              "98.5"
            ]
          },
          "metadata": {},
          "execution_count": 23
        }
      ]
    },
    {
      "cell_type": "code",
      "source": [],
      "metadata": {
        "id": "cTlvVmsQjIVN"
      },
      "execution_count": 23,
      "outputs": []
    }
  ]
}