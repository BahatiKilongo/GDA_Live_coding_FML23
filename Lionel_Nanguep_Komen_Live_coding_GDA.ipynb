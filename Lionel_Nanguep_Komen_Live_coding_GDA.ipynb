{
  "nbformat": 4,
  "nbformat_minor": 0,
  "metadata": {
    "colab": {
      "provenance": []
    },
    "kernelspec": {
      "name": "python3",
      "display_name": "Python 3"
    },
    "language_info": {
      "name": "python"
    }
  },
  "cells": [
    {
      "cell_type": "markdown",
      "source": [
        "# GDA Implementation.\n",
        "\n",
        "Implement the Gaussian Discriminant Analysis (GDA) learning algorithm following the steps as discussed in class.\n",
        "\n",
        "INSTRUCTION: Rename your notebook as: <br>\n",
        "`firstName_LastName_Live_coding_GDA.ipynb`.\n",
        "\n",
        "Notes: \n",
        "* Do not use any built-in functions to complete a task;\n",
        "* Do not import additional libraries."
      ],
      "metadata": {
        "id": "g17Z46tmw2oZ"
      }
    },
    {
      "cell_type": "code",
      "execution_count": 1,
      "metadata": {
        "id": "aT5nlL-QTKwv"
      },
      "outputs": [],
      "source": [
        "import numpy as np\n",
        "import matplotlib.pyplot as plt\n",
        "from sklearn.datasets import make_classification"
      ]
    },
    {
      "cell_type": "code",
      "source": [
        "# Generate data\n",
        "def generate_data():\n",
        "  x, y = make_classification(n_samples= 1000, n_features=3, n_redundant=0, \n",
        "                           n_informative=3, random_state=1, \n",
        "                           n_clusters_per_class=1)\n",
        "  \n",
        "  return x,y\n",
        "\n",
        "x,y= generate_data() # get data\n",
        "print(x.shape, y.shape)"
      ],
      "metadata": {
        "colab": {
          "base_uri": "https://localhost:8080/"
        },
        "id": "_-lL4Yq9Tbzn",
        "outputId": "d1a27560-d80a-4508-f5f5-721debc06bc9"
      },
      "execution_count": 2,
      "outputs": [
        {
          "output_type": "stream",
          "name": "stdout",
          "text": [
            "(1000, 3) (1000,)\n"
          ]
        }
      ]
    },
    {
      "cell_type": "code",
      "source": [
        "def split_data(x,y, train_size= 0.8):\n",
        "    # shuffle the data to randomize the train/test split\n",
        "  \n",
        "  n = int(len(x)*train_size)\n",
        "  indices = np.arange(len(x))\n",
        "  np.random.shuffle(indices)\n",
        "  train_idx = indices[: n]\n",
        "  test_idx = indices[n:]\n",
        "  x_train, y_train = x[train_idx], y[train_idx]\n",
        "  x_test, y_test = x[test_idx], y[test_idx]\n",
        "\n",
        "  return x_train, x_test, y_train, y_test\n"
      ],
      "metadata": {
        "id": "EUgiWLDhUAAK"
      },
      "execution_count": 3,
      "outputs": []
    },
    {
      "cell_type": "code",
      "source": [
        "X_train, X_test, y_train, y_test= split_data(x, y) # split your data into x_train, x_test, y_train, y_test\n",
        "print(X_train.shape, y_train.shape, X_test.shape, y_test.shape)"
      ],
      "metadata": {
        "colab": {
          "base_uri": "https://localhost:8080/"
        },
        "id": "Cr2Akm_A_FcJ",
        "outputId": "7f0c4500-d358-4d8b-c5b4-c4ca1d8212bc"
      },
      "execution_count": 4,
      "outputs": [
        {
          "output_type": "stream",
          "name": "stdout",
          "text": [
            "(800, 3) (800,) (200, 3) (200,)\n"
          ]
        }
      ]
    },
    {
      "cell_type": "code",
      "source": [
        "def covariance(x, mu):\n",
        "\n",
        "  # Easy way: cov= np.cov(x, rowvar=0) but do not use it. One can use it to assess his/her result.\n",
        "  sigma = np.zeros((x.shape[1], x.shape[1]))\n",
        "  for i in range(x.shape[1]):\n",
        "    for j in range(x.shape[1]):\n",
        "      s = 0\n",
        "      for d in x:\n",
        "        s += (d[i] - mu[i])*(d[j] - mu[j])\n",
        "      sigma[i, j] = (1/(len(x) - 1)) * s\n",
        "\n",
        "  return sigma\n"
      ],
      "metadata": {
        "id": "FrJ7GfXBHNxD"
      },
      "execution_count": 5,
      "outputs": []
    },
    {
      "cell_type": "code",
      "source": [
        "covariance(x, x.mean(axis=0))"
      ],
      "metadata": {
        "colab": {
          "base_uri": "https://localhost:8080/"
        },
        "id": "sytUaCpC5VeX",
        "outputId": "50201a66-6d87-4907-f6cc-a5330a5612bc"
      },
      "execution_count": 6,
      "outputs": [
        {
          "output_type": "execute_result",
          "data": {
            "text/plain": [
              "array([[1.84495325, 0.02790646, 1.00137533],\n",
              "       [0.02790646, 1.00170721, 0.05539176],\n",
              "       [1.00137533, 0.05539176, 1.74832   ]])"
            ]
          },
          "metadata": {},
          "execution_count": 6
        }
      ]
    },
    {
      "cell_type": "code",
      "source": [
        "np.cov(x, rowvar = False)"
      ],
      "metadata": {
        "colab": {
          "base_uri": "https://localhost:8080/"
        },
        "id": "Zp34HRg-1NAu",
        "outputId": "8a578062-6185-4948-d3c9-f66ed50fd44e"
      },
      "execution_count": 7,
      "outputs": [
        {
          "output_type": "execute_result",
          "data": {
            "text/plain": [
              "array([[1.84495325, 0.02790646, 1.00137533],\n",
              "       [0.02790646, 1.00170721, 0.05539176],\n",
              "       [1.00137533, 0.05539176, 1.74832   ]])"
            ]
          },
          "metadata": {},
          "execution_count": 7
        }
      ]
    },
    {
      "cell_type": "code",
      "source": [
        "class GDA:\n",
        "  def __init__(self):\n",
        "    ## set mu, phi and sigma to None\n",
        "    self.mu = None\n",
        "    self.phi = None\n",
        "    self.sigma = None\n",
        "    \n",
        "  def fit(self,x,y):\n",
        "    k = len(np.unique(y)) # Number of class.\n",
        "    d = x.shape[1]  # input dim\n",
        "    m= x.shape[0] # Number of examples.\n",
        "    \n",
        "    ## Initialize mu, phi and sigma\n",
        "    self.mu = np.zeros((k, d))#: kxd, i.e., each row contains an individual class mu.\n",
        "    self.sigma = np.zeros((k, d, d)) #: kxdxd, i.e., each row contains an individual class sigma.\n",
        "    self.phi= np.zeros(k) # d-dimension\n",
        "\n",
        "    ## START THE LEARNING: estimate mu, phi and sigma.\n",
        "    for i in range(k):\n",
        "      self.phi[i] = np.sum(y == i) / m\n",
        "      self.mu[i] = np.mean(x[y == i], axis = 0)\n",
        "      self.sigma[i] = covariance(x[y == i], self.mu[i])\n",
        "    \n",
        "\n",
        "\n",
        "  def predict_proba(self,x):\n",
        "    # reshape or flatt x.\n",
        "    #x = ...\n",
        "    d= x.shape[1]\n",
        "    k_class= self.mu.shape[0] # Number of classes we have in our case it's k = 2\n",
        "    det_cov = []\n",
        "    inv_cov = []\n",
        "    mat_prob = np.zeros((x.shape[0], k_class))\n",
        "    for lab in range(k_class):\n",
        "      detcov = np.linalg.det(self.sigma[lab])\n",
        "      det_cov.append(detcov)\n",
        "      invcov = np.linalg.inv(self.sigma[lab])\n",
        "      inv_cov.append(invcov)\n",
        "      for i in range(x.shape[0]):\n",
        "        mat_prob[i, lab] = 1/((2*np.pi)**(d/2)*(det_cov[lab])**(1/2)) * np.exp(-1/2*(x[i] - self.mu[lab]).T @ inv_cov[lab] @ (x[i] - self.mu[lab]))\n",
        "      \n",
        "    return mat_prob \n",
        "\n",
        "    \n",
        "    ## START THE LEARNING: estimate mu, phi and sigma.\n",
        "\n",
        "  def predict(self,x):\n",
        "    proba = self.predict_proba(x) * self.phi\n",
        "    return np.argmax(proba, axis = 1)\n",
        "\n",
        "  \n",
        "  def accuracy(self, y, ypreds):\n",
        "    acc = np.mean(y == ypreds)\n",
        "    return acc * 100"
      ],
      "metadata": {
        "id": "1ocKLDAfceF0"
      },
      "execution_count": 8,
      "outputs": []
    },
    {
      "cell_type": "code",
      "source": [
        "model= GDA()\n",
        "model.fit(X_train,y_train)"
      ],
      "metadata": {
        "id": "l_qO0Yp1c3Is"
      },
      "execution_count": 9,
      "outputs": []
    },
    {
      "cell_type": "code",
      "source": [
        "model.sigma.shape"
      ],
      "metadata": {
        "colab": {
          "base_uri": "https://localhost:8080/"
        },
        "id": "N9vLNgPy2KYn",
        "outputId": "e30e62ef-c153-48ed-f544-ae594b2200ed"
      },
      "execution_count": 10,
      "outputs": [
        {
          "output_type": "execute_result",
          "data": {
            "text/plain": [
              "(2, 3, 3)"
            ]
          },
          "metadata": {},
          "execution_count": 10
        }
      ]
    },
    {
      "cell_type": "code",
      "source": [
        "yproba= model.predict_proba(X_test)\n",
        "yproba"
      ],
      "metadata": {
        "id": "NKY1eojY1l4e",
        "colab": {
          "base_uri": "https://localhost:8080/"
        },
        "outputId": "fe4e4efe-aaf1-4238-9912-4a7816ea8ffe"
      },
      "execution_count": 11,
      "outputs": [
        {
          "output_type": "execute_result",
          "data": {
            "text/plain": [
              "array([[2.56718491e-001, 1.00251820e-005],\n",
              "       [5.69599324e-095, 1.87513024e-002],\n",
              "       [9.37119054e-055, 1.01814243e-001],\n",
              "       [2.24918208e-001, 2.96958029e-003],\n",
              "       [2.38540835e-028, 2.39823510e-002],\n",
              "       [1.71363438e-001, 1.39879290e-003],\n",
              "       [2.36628908e-001, 4.38018384e-004],\n",
              "       [1.46101828e-001, 7.57691612e-008],\n",
              "       [3.01593231e-011, 4.37916551e-002],\n",
              "       [1.96445852e-001, 1.94135510e-002],\n",
              "       [1.08281350e-001, 8.37080266e-003],\n",
              "       [2.56811244e-002, 2.51806064e-006],\n",
              "       [2.64276360e-052, 4.41357883e-002],\n",
              "       [5.68593767e-002, 7.89636040e-006],\n",
              "       [5.46367213e-051, 4.22277766e-002],\n",
              "       [2.09974784e-015, 6.46076100e-002],\n",
              "       [3.67347073e-043, 1.11895070e-001],\n",
              "       [8.57451535e-002, 9.46151846e-005],\n",
              "       [2.16005110e-002, 1.83342066e-017],\n",
              "       [4.89272163e-003, 1.74615854e-002],\n",
              "       [2.31468570e-001, 3.72808964e-006],\n",
              "       [1.34555234e-013, 5.71905316e-002],\n",
              "       [3.74139269e-034, 7.05437064e-002],\n",
              "       [4.85645730e-002, 3.51291921e-014],\n",
              "       [8.32131645e-002, 1.53050556e-002],\n",
              "       [2.23311619e-030, 8.53684420e-002],\n",
              "       [2.08169259e-001, 2.78575412e-003],\n",
              "       [1.24888668e-001, 2.51487868e-009],\n",
              "       [3.89421465e-002, 3.80635111e-005],\n",
              "       [2.59396402e-001, 7.09842532e-003],\n",
              "       [1.02870236e-001, 5.13261933e-004],\n",
              "       [6.30916376e-002, 8.89610744e-004],\n",
              "       [3.59914173e-002, 2.55098914e-009],\n",
              "       [6.68483156e-037, 7.16987557e-002],\n",
              "       [1.09497838e-002, 1.04124323e-005],\n",
              "       [1.23817680e-002, 1.61901427e-008],\n",
              "       [2.74423038e-001, 9.81029561e-006],\n",
              "       [1.05850029e-006, 4.31779560e-002],\n",
              "       [1.23411617e-001, 5.30160225e-010],\n",
              "       [3.63715503e-005, 2.63051832e-003],\n",
              "       [7.95122184e-002, 1.37653087e-008],\n",
              "       [1.10611242e-084, 5.33532110e-002],\n",
              "       [4.49758564e-028, 2.53927763e-002],\n",
              "       [8.22427352e-003, 9.20391875e-017],\n",
              "       [8.81955103e-002, 1.08727823e-004],\n",
              "       [1.17605448e-001, 1.15886403e-003],\n",
              "       [1.26532298e-012, 1.04119594e-003],\n",
              "       [6.16174830e-003, 1.16747509e-002],\n",
              "       [1.92069106e-002, 3.01069660e-007],\n",
              "       [8.71432537e-015, 7.53290242e-002],\n",
              "       [5.21527495e-166, 3.22129307e-003],\n",
              "       [1.65846881e-097, 5.72298650e-003],\n",
              "       [1.54548255e-001, 1.77823620e-003],\n",
              "       [8.06281337e-002, 7.34797711e-003],\n",
              "       [1.25934183e-025, 2.03105186e-002],\n",
              "       [1.00507071e-035, 1.22191528e-001],\n",
              "       [4.53333820e-011, 4.89826153e-003],\n",
              "       [1.46486305e-001, 5.71225946e-010],\n",
              "       [1.54667284e-001, 1.27160737e-002],\n",
              "       [5.53702775e-004, 2.06856901e-023],\n",
              "       [3.94345397e-002, 5.11316901e-009],\n",
              "       [2.98673939e-001, 4.88645842e-003],\n",
              "       [4.68951968e-002, 5.85574233e-009],\n",
              "       [4.46423829e-002, 1.11228478e-003],\n",
              "       [6.81070378e-095, 4.47060546e-002],\n",
              "       [1.89209548e-001, 1.62074202e-005],\n",
              "       [8.20635739e-002, 1.01144796e-003],\n",
              "       [6.38547122e-004, 9.32229212e-003],\n",
              "       [1.21571770e-035, 5.11902570e-002],\n",
              "       [3.23022250e-005, 6.85741804e-015],\n",
              "       [6.32302714e-026, 9.94254012e-002],\n",
              "       [1.52329134e-001, 3.63761383e-006],\n",
              "       [3.24634619e-002, 3.34291547e-007],\n",
              "       [6.88104815e-002, 4.02344459e-005],\n",
              "       [2.54930450e-046, 4.92503699e-002],\n",
              "       [4.86557984e-002, 5.63965356e-006],\n",
              "       [1.18336678e-001, 2.45357385e-002],\n",
              "       [3.18926578e-002, 1.16958156e-004],\n",
              "       [7.72065054e-076, 4.77066352e-002],\n",
              "       [2.92004153e-002, 2.22933160e-002],\n",
              "       [4.11836718e-002, 3.67812006e-002],\n",
              "       [2.21106327e-001, 3.73351922e-004],\n",
              "       [2.63588716e-001, 2.81443127e-006],\n",
              "       [1.66797887e-001, 6.46316491e-004],\n",
              "       [4.25525947e-002, 7.94177301e-003],\n",
              "       [1.71873196e-002, 3.13768679e-002],\n",
              "       [4.53609695e-002, 2.11246868e-005],\n",
              "       [2.33169263e-001, 7.00400875e-003],\n",
              "       [4.34279564e-002, 1.39121046e-004],\n",
              "       [9.17181440e-101, 3.16910805e-002],\n",
              "       [5.25755994e-002, 3.51518038e-016],\n",
              "       [8.05648734e-102, 4.41865353e-002],\n",
              "       [3.00034036e-022, 8.59592328e-002],\n",
              "       [2.17679163e-060, 2.70518546e-002],\n",
              "       [1.32493543e-001, 2.66796392e-002],\n",
              "       [2.02259136e-005, 7.01416354e-003],\n",
              "       [3.20157940e-050, 1.22326303e-002],\n",
              "       [1.65521651e-002, 6.47808054e-005],\n",
              "       [2.36447867e-008, 5.99137153e-002],\n",
              "       [9.26574403e-016, 2.92221455e-002],\n",
              "       [4.07978071e-025, 4.07704638e-002],\n",
              "       [2.00536181e-002, 2.32056948e-003],\n",
              "       [1.19920711e-026, 1.01837395e-001],\n",
              "       [1.49860453e-001, 1.82163546e-007],\n",
              "       [1.64722650e-001, 8.65606513e-004],\n",
              "       [3.13359975e-001, 2.48615086e-004],\n",
              "       [6.60339616e-002, 1.19858410e-008],\n",
              "       [4.87318480e-039, 8.62874313e-002],\n",
              "       [1.18758647e-001, 1.85389727e-002],\n",
              "       [1.17517454e-001, 8.40747246e-007],\n",
              "       [7.76866895e-019, 1.74425439e-003],\n",
              "       [6.98520874e-008, 7.19409565e-002],\n",
              "       [4.44706037e-002, 3.73649697e-008],\n",
              "       [8.94578245e-002, 6.35994444e-005],\n",
              "       [5.09236925e-002, 1.27269430e-009],\n",
              "       [1.17527710e-028, 4.61893245e-002],\n",
              "       [2.77497364e-052, 9.08712764e-002],\n",
              "       [1.16640243e-001, 3.36554675e-003],\n",
              "       [1.83897578e-001, 6.12424053e-008],\n",
              "       [8.18201581e-012, 1.49392953e-002],\n",
              "       [1.36787027e-001, 1.07110053e-004],\n",
              "       [7.53184102e-003, 4.62046010e-002],\n",
              "       [1.07524476e-001, 1.94465695e-008],\n",
              "       [1.40557986e-008, 2.38703780e-002],\n",
              "       [3.60216963e-014, 4.94731145e-002],\n",
              "       [9.93880839e-025, 2.58453420e-002],\n",
              "       [6.87086791e-005, 9.70100938e-003],\n",
              "       [2.84832322e-001, 3.32885306e-003],\n",
              "       [7.59814743e-003, 2.31730739e-006],\n",
              "       [1.13178818e-004, 2.88771611e-002],\n",
              "       [1.36486570e-001, 2.69086133e-002],\n",
              "       [6.48020738e-002, 1.10460527e-003],\n",
              "       [1.25966712e-001, 1.35259424e-010],\n",
              "       [1.51187263e-002, 8.74923001e-013],\n",
              "       [6.37200624e-035, 4.76112021e-002],\n",
              "       [1.56899517e-001, 2.81075969e-005],\n",
              "       [1.72505893e-003, 1.30294018e-003],\n",
              "       [6.50941868e-079, 2.78598446e-002],\n",
              "       [7.44348973e-035, 2.98014028e-002],\n",
              "       [1.27622518e-001, 4.80153528e-003],\n",
              "       [1.72204351e-076, 1.63378758e-002],\n",
              "       [1.00649122e-001, 9.28354886e-009],\n",
              "       [1.24116027e-064, 6.99543072e-002],\n",
              "       [2.58032501e-028, 3.27748174e-002],\n",
              "       [6.23944113e-002, 1.73765658e-004],\n",
              "       [1.98592960e-055, 4.53080418e-002],\n",
              "       [1.46675118e-024, 1.68754614e-002],\n",
              "       [3.22735864e-038, 1.07157412e-001],\n",
              "       [4.40399022e-002, 1.92206602e-004],\n",
              "       [1.68473396e-156, 1.37015160e-002],\n",
              "       [1.37470923e-001, 9.43370946e-004],\n",
              "       [1.76542327e-122, 2.03416117e-002],\n",
              "       [9.95994852e-003, 5.47296068e-011],\n",
              "       [1.71129622e-002, 8.97008466e-020],\n",
              "       [2.28853451e-001, 4.25581879e-006],\n",
              "       [1.27951635e-001, 1.48319420e-011],\n",
              "       [2.62377049e-131, 2.35264369e-002],\n",
              "       [3.66970689e-094, 6.12446109e-003],\n",
              "       [6.12105674e-003, 3.87927880e-002],\n",
              "       [5.86629581e-012, 1.75048364e-002],\n",
              "       [4.20522110e-002, 3.86526121e-005],\n",
              "       [2.53780937e-001, 7.63550111e-003],\n",
              "       [1.34875689e-001, 2.84870278e-004],\n",
              "       [2.09994034e-063, 5.51170044e-002],\n",
              "       [4.95444428e-015, 1.87140610e-002],\n",
              "       [3.02090309e-014, 3.09837351e-003],\n",
              "       [1.89276636e-013, 4.22818878e-002],\n",
              "       [8.78762105e-120, 3.70735959e-002],\n",
              "       [1.03511673e-008, 7.50870480e-002],\n",
              "       [5.84286804e-020, 9.71741204e-002],\n",
              "       [1.17133735e-001, 1.01491282e-003],\n",
              "       [4.44450960e-006, 1.50541525e-002],\n",
              "       [9.21128796e-017, 1.08926025e-002],\n",
              "       [1.97507617e-001, 1.45348120e-002],\n",
              "       [2.97920634e-001, 1.18241956e-003],\n",
              "       [1.29691469e-020, 1.12285206e-001],\n",
              "       [1.29633341e-009, 3.01834563e-002],\n",
              "       [2.82405905e-074, 5.57200251e-002],\n",
              "       [7.88014445e-028, 6.55171504e-002],\n",
              "       [3.41990085e-131, 5.96122183e-003],\n",
              "       [4.22942942e-040, 4.93388484e-002],\n",
              "       [5.55508582e-022, 1.12786090e-001],\n",
              "       [3.07481701e-002, 2.85277333e-005],\n",
              "       [4.54442349e-045, 8.34224305e-002],\n",
              "       [3.11325014e-003, 4.63340312e-002],\n",
              "       [3.92240011e-002, 2.52750401e-002],\n",
              "       [2.43529989e-069, 5.71277632e-002],\n",
              "       [2.16594100e-005, 4.04829761e-002],\n",
              "       [4.57343082e-063, 5.09473746e-002],\n",
              "       [9.80816548e-014, 6.25467491e-002],\n",
              "       [2.04088585e-106, 3.53011947e-002],\n",
              "       [5.06718481e-052, 9.27776628e-002],\n",
              "       [1.34557688e-070, 6.64502144e-002],\n",
              "       [7.49614811e-040, 7.69843094e-002],\n",
              "       [1.38195950e-001, 1.56693914e-003],\n",
              "       [8.22805894e-128, 2.24563701e-002],\n",
              "       [5.42756334e-007, 2.17223395e-002],\n",
              "       [4.90453421e-043, 4.76587373e-002],\n",
              "       [7.78889044e-055, 2.81351460e-002],\n",
              "       [2.80740988e-001, 2.99429270e-004]])"
            ]
          },
          "metadata": {},
          "execution_count": 11
        }
      ]
    },
    {
      "cell_type": "code",
      "source": [
        "ypreds= model.predict(X_test)\n",
        "ypreds\n"
      ],
      "metadata": {
        "id": "D4clV6PK1UJK",
        "colab": {
          "base_uri": "https://localhost:8080/"
        },
        "outputId": "062b5db9-9812-40d3-ca7d-51a65b6ec6bc"
      },
      "execution_count": 12,
      "outputs": [
        {
          "output_type": "execute_result",
          "data": {
            "text/plain": [
              "array([0, 1, 1, 0, 1, 0, 0, 0, 1, 0, 0, 0, 1, 0, 1, 1, 1, 0, 0, 1, 0, 1,\n",
              "       1, 0, 0, 1, 0, 0, 0, 0, 0, 0, 0, 1, 0, 0, 0, 1, 0, 1, 0, 1, 1, 0,\n",
              "       0, 0, 1, 1, 0, 1, 1, 1, 0, 0, 1, 1, 1, 0, 0, 0, 0, 0, 0, 0, 1, 0,\n",
              "       0, 1, 1, 0, 1, 0, 0, 0, 1, 0, 0, 0, 1, 0, 0, 0, 0, 0, 0, 1, 0, 0,\n",
              "       0, 1, 0, 1, 1, 1, 0, 1, 1, 0, 1, 1, 1, 0, 1, 0, 0, 0, 0, 1, 0, 0,\n",
              "       1, 1, 0, 0, 0, 1, 1, 0, 0, 1, 0, 1, 0, 1, 1, 1, 1, 0, 0, 1, 0, 0,\n",
              "       0, 0, 1, 0, 0, 1, 1, 0, 1, 0, 1, 1, 0, 1, 1, 1, 0, 1, 0, 1, 0, 0,\n",
              "       0, 0, 1, 1, 1, 1, 0, 0, 0, 1, 1, 1, 1, 1, 1, 1, 0, 1, 1, 0, 0, 1,\n",
              "       1, 1, 1, 1, 1, 1, 0, 1, 1, 0, 1, 1, 1, 1, 1, 1, 1, 1, 0, 1, 1, 1,\n",
              "       1, 0])"
            ]
          },
          "metadata": {},
          "execution_count": 12
        }
      ]
    },
    {
      "cell_type": "code",
      "source": [
        "model.accuracy(y_test, ypreds)"
      ],
      "metadata": {
        "id": "QgG1xPUg1ULw",
        "colab": {
          "base_uri": "https://localhost:8080/"
        },
        "outputId": "d532334b-8d43-4500-ea1e-0d732c041212"
      },
      "execution_count": 13,
      "outputs": [
        {
          "output_type": "execute_result",
          "data": {
            "text/plain": [
              "98.0"
            ]
          },
          "metadata": {},
          "execution_count": 13
        }
      ]
    },
    {
      "cell_type": "code",
      "source": [],
      "metadata": {
        "id": "OpXYY-yj1UOj"
      },
      "execution_count": null,
      "outputs": []
    },
    {
      "cell_type": "code",
      "source": [],
      "metadata": {
        "id": "8cvRcUO2rtKo"
      },
      "execution_count": null,
      "outputs": []
    }
  ]
}