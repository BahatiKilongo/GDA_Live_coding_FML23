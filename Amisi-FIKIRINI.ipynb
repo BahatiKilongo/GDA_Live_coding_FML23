{
  "cells": [
    {
      "cell_type": "markdown",
      "metadata": {
        "id": "g17Z46tmw2oZ"
      },
      "source": [
        "# GDA Implementation.\n",
        "\n",
        "Implement the Gaussian Discriminant Analysis (GDA) learning algorithm following the steps as discussed in class.\n",
        "\n",
        "INSTRUCTION: Rename your notebook as: <br>\n",
        "`firstName_LastName_Live_coding_GDA.ipynb`.\n",
        "\n",
        "Notes: \n",
        "* Do not use any built-in functions to complete a task;\n",
        "* Do not import additional libraries."
      ]
    },
    {
      "cell_type": "code",
      "execution_count": 287,
      "metadata": {
        "id": "aT5nlL-QTKwv"
      },
      "outputs": [],
      "source": [
        "import numpy as np\n",
        "import matplotlib.pyplot as plt\n",
        "from sklearn.datasets import make_classification"
      ]
    },
    {
      "cell_type": "code",
      "execution_count": 288,
      "metadata": {
        "colab": {
          "base_uri": "https://localhost:8080/"
        },
        "id": "_-lL4Yq9Tbzn",
        "outputId": "30937363-7f7e-4360-e123-b4cdb1ebe441"
      },
      "outputs": [
        {
          "name": "stdout",
          "output_type": "stream",
          "text": [
            "(1000, 3) (1000,)\n"
          ]
        }
      ],
      "source": [
        "# Generate data\n",
        "def generate_data():\n",
        "  x, y = make_classification(n_samples= 1000, n_features=3, n_redundant=0, \n",
        "                           n_informative=3, random_state=1, \n",
        "                           n_clusters_per_class=1)\n",
        "  \n",
        "  return x,y\n",
        "\n",
        "x,y= generate_data()\n",
        "print(x.shape, y.shape)"
      ]
    },
    {
      "cell_type": "code",
      "execution_count": 289,
      "metadata": {
        "id": "EUgiWLDhUAAK"
      },
      "outputs": [],
      "source": [
        "def split_data(x,y, train_size= 0.8):\n",
        "    # shuffle the data to randomize the train/test split\n",
        "    np.random.seed(0) # To demonstrate that if we use the same seed value twice, we will get the same random number twice\n",
        "  \n",
        "    n = int(len(x)*train_size)\n",
        "    indices = np.arange(len(x))\n",
        "    np.random.shuffle(indices)\n",
        "    train_idx = indices[: n]\n",
        "    test_idx = indices[n:]\n",
        "    X_train, y_train = x[train_idx], y[train_idx]\n",
        "    X_test, y_test = x[test_idx], y[test_idx]\n",
        "\n",
        "    return X_train, y_train, X_test, y_test\n"
      ]
    },
    {
      "cell_type": "code",
      "execution_count": 290,
      "metadata": {
        "colab": {
          "base_uri": "https://localhost:8080/"
        },
        "id": "Cr2Akm_A_FcJ",
        "outputId": "2b8f984d-f896-429f-8097-6fa9cba2d7dc"
      },
      "outputs": [
        {
          "name": "stdout",
          "output_type": "stream",
          "text": [
            "(800, 3) (800,) (200, 3) (200,)\n"
          ]
        }
      ],
      "source": [
        "X_train, y_train, X_test, y_test= split_data(x,y, train_size= 0.8)\n",
        "print(X_train.shape, y_train.shape, X_test.shape, y_test.shape)"
      ]
    },
    {
      "cell_type": "code",
      "execution_count": 291,
      "metadata": {
        "id": "FrJ7GfXBHNxD"
      },
      "outputs": [],
      "source": [
        "def covariance(x, mu):\n",
        "\n",
        "  # Easy way: cov= np.cov(x, rowvar=0) but do not use it. One can use it to assess his/her result.\n",
        "  pass\n",
        "  n, d = x.shape\n",
        "\n",
        "  sigma = np.zeros((x.shape[1], x.shape[1]))\n",
        "  size = x.shape[1]\n",
        "  for i in range(size):\n",
        "    for j in range(size):\n",
        "      sigma[i,j] = 1/(x.shape[0]-1) * np.sum((x[:,i] - mu) * (x[:,j] - mu))\n",
        "  return sigma\n"
      ]
    },
    {
      "cell_type": "code",
      "execution_count": 298,
      "metadata": {
        "id": "1ocKLDAfceF0"
      },
      "outputs": [],
      "source": [
        "class GDA:\n",
        "  def __init__(self):\n",
        "    ## set mu, phi and sigma to None\n",
        "    self.mu = None\n",
        "    self.phi = None\n",
        "    self.sigma = None\n",
        "    \n",
        "  def fit(self,x,y):\n",
        "    # k=... # Number of class.\n",
        "    k= 2\n",
        "    # d=...  # input dim\n",
        "    examples, dim = x.shape\n",
        "    d= dim\n",
        "    # m= ... # Number of examples.\n",
        "    m= examples\n",
        "    \n",
        "    ## Initialize mu, phi and sigma\n",
        "    # self.mu= ...#: kxd, i.e., each row contains an individual class mu.\n",
        "    self.mu= np.zeros((k,d))\n",
        "    # self.sigma= ...#: kxdxd, i.e., each row contains an individual class sigma.\n",
        "    self.sigma = np.zeros((k,d,d))\n",
        "    # self.phi= ...# d-dimension\n",
        "    self.phi= np.zeros((d,1))\n",
        "\n",
        "    ## START THE LEARNING: estimate mu, phi and sigma.\n",
        "\n",
        "    size = len(y)\n",
        "    for i in range(k):\n",
        "      self.mu[i] = np.sum(x[i==y]) * x[i] / np.sum(x[i==y])\n",
        "      self.phi[i] = 1/size * np.sum(x[i==y])\n",
        "      self.sigma[i] = covariance(x[i].reshape(-1,1), self.mu)\n",
        "\n",
        "\n",
        "  def predict_proba(self,x):\n",
        "    # reshape or flatt x.\n",
        "    # x = ...\n",
        "    x = x.reshape(-1,1)\n",
        "    # d = ...\n",
        "    d = self.mu.shape[0]\n",
        "    # k_class= ... # Number of classes we have in our case it's k = 2\n",
        "    k_class= 2\n",
        "    pi = 3.14\n",
        "\n",
        "    y_pred = np.zeros((x.shape[0], 1))\n",
        "    \n",
        "    # ## START THE LEARNING: estimate mu, phi and sigma.\n",
        "    for l in range(k_class):\n",
        "      y_pred[l] = ((1/(2*pi)**(d/2)*np.sqrt(np.linalg.det(self.sigma)) )*np.exp(-0.5*(x - self.mu[l])*np.linalg.inv(self.sigma)*(x-self.mu[l])))\n",
        "\n",
        "  def predict(self,x):\n",
        "    return x*self.phi\n",
        "  \n",
        "  def accuracy(self, y, ypreds):\n",
        "    return np.sum(y==ypreds) / len(y)"
      ]
    },
    {
      "cell_type": "code",
      "execution_count": 299,
      "metadata": {
        "id": "l_qO0Yp1c3Is"
      },
      "outputs": [],
      "source": [
        "model= GDA()\n",
        "model.fit(X_train,y_train)"
      ]
    },
    {
      "cell_type": "code",
      "execution_count": 300,
      "metadata": {
        "id": "NKY1eojY1l4e"
      },
      "outputs": [
        {
          "ename": "LinAlgError",
          "evalue": "Singular matrix",
          "output_type": "error",
          "traceback": [
            "\u001b[0;31m---------------------------------------------------------------------------\u001b[0m",
            "\u001b[0;31mLinAlgError\u001b[0m                               Traceback (most recent call last)",
            "Cell \u001b[0;32mIn[300], line 1\u001b[0m\n\u001b[0;32m----> 1\u001b[0m yproba\u001b[39m=\u001b[39m model\u001b[39m.\u001b[39;49mpredict_proba(X_test)\n\u001b[1;32m      2\u001b[0m yproba\n",
            "Cell \u001b[0;32mIn[298], line 48\u001b[0m, in \u001b[0;36mGDA.predict_proba\u001b[0;34m(self, x)\u001b[0m\n\u001b[1;32m     46\u001b[0m \u001b[39m# ## START THE LEARNING: estimate mu, phi and sigma.\u001b[39;00m\n\u001b[1;32m     47\u001b[0m \u001b[39mfor\u001b[39;00m l \u001b[39min\u001b[39;00m \u001b[39mrange\u001b[39m(k_class):\n\u001b[0;32m---> 48\u001b[0m   y_pred[l] \u001b[39m=\u001b[39m ((\u001b[39m1\u001b[39m\u001b[39m/\u001b[39m(\u001b[39m2\u001b[39m\u001b[39m*\u001b[39mpi)\u001b[39m*\u001b[39m\u001b[39m*\u001b[39m(d\u001b[39m/\u001b[39m\u001b[39m2\u001b[39m)\u001b[39m*\u001b[39mnp\u001b[39m.\u001b[39msqrt(np\u001b[39m.\u001b[39mlinalg\u001b[39m.\u001b[39mdet(\u001b[39mself\u001b[39m\u001b[39m.\u001b[39msigma)) )\u001b[39m*\u001b[39mnp\u001b[39m.\u001b[39mexp(\u001b[39m-\u001b[39m\u001b[39m0.5\u001b[39m\u001b[39m*\u001b[39m(x \u001b[39m-\u001b[39m \u001b[39mself\u001b[39m\u001b[39m.\u001b[39mmu[l])\u001b[39m*\u001b[39mnp\u001b[39m.\u001b[39;49mlinalg\u001b[39m.\u001b[39;49minv(\u001b[39mself\u001b[39;49m\u001b[39m.\u001b[39;49msigma)\u001b[39m*\u001b[39m(x\u001b[39m-\u001b[39m\u001b[39mself\u001b[39m\u001b[39m.\u001b[39mmu[l])))\n",
            "File \u001b[0;32m<__array_function__ internals>:200\u001b[0m, in \u001b[0;36minv\u001b[0;34m(*args, **kwargs)\u001b[0m\n",
            "File \u001b[0;32m~/.local/lib/python3.10/site-packages/numpy/linalg/linalg.py:538\u001b[0m, in \u001b[0;36minv\u001b[0;34m(a)\u001b[0m\n\u001b[1;32m    536\u001b[0m signature \u001b[39m=\u001b[39m \u001b[39m'\u001b[39m\u001b[39mD->D\u001b[39m\u001b[39m'\u001b[39m \u001b[39mif\u001b[39;00m isComplexType(t) \u001b[39melse\u001b[39;00m \u001b[39m'\u001b[39m\u001b[39md->d\u001b[39m\u001b[39m'\u001b[39m\n\u001b[1;32m    537\u001b[0m extobj \u001b[39m=\u001b[39m get_linalg_error_extobj(_raise_linalgerror_singular)\n\u001b[0;32m--> 538\u001b[0m ainv \u001b[39m=\u001b[39m _umath_linalg\u001b[39m.\u001b[39;49minv(a, signature\u001b[39m=\u001b[39;49msignature, extobj\u001b[39m=\u001b[39;49mextobj)\n\u001b[1;32m    539\u001b[0m \u001b[39mreturn\u001b[39;00m wrap(ainv\u001b[39m.\u001b[39mastype(result_t, copy\u001b[39m=\u001b[39m\u001b[39mFalse\u001b[39;00m))\n",
            "File \u001b[0;32m~/.local/lib/python3.10/site-packages/numpy/linalg/linalg.py:89\u001b[0m, in \u001b[0;36m_raise_linalgerror_singular\u001b[0;34m(err, flag)\u001b[0m\n\u001b[1;32m     88\u001b[0m \u001b[39mdef\u001b[39;00m \u001b[39m_raise_linalgerror_singular\u001b[39m(err, flag):\n\u001b[0;32m---> 89\u001b[0m     \u001b[39mraise\u001b[39;00m LinAlgError(\u001b[39m\"\u001b[39m\u001b[39mSingular matrix\u001b[39m\u001b[39m\"\u001b[39m)\n",
            "\u001b[0;31mLinAlgError\u001b[0m: Singular matrix"
          ]
        }
      ],
      "source": [
        "yproba= model.predict_proba(X_test)\n",
        "yproba"
      ]
    },
    {
      "cell_type": "code",
      "execution_count": 301,
      "metadata": {
        "id": "D4clV6PK1UJK"
      },
      "outputs": [
        {
          "ename": "ValueError",
          "evalue": "operands could not be broadcast together with shapes (200,3) (3,1) ",
          "output_type": "error",
          "traceback": [
            "\u001b[0;31m---------------------------------------------------------------------------\u001b[0m",
            "\u001b[0;31mValueError\u001b[0m                                Traceback (most recent call last)",
            "Cell \u001b[0;32mIn[301], line 1\u001b[0m\n\u001b[0;32m----> 1\u001b[0m ypreds\u001b[39m=\u001b[39m model\u001b[39m.\u001b[39;49mpredict(X_test)\n\u001b[1;32m      2\u001b[0m ypreds\n",
            "Cell \u001b[0;32mIn[298], line 51\u001b[0m, in \u001b[0;36mGDA.predict\u001b[0;34m(self, x)\u001b[0m\n\u001b[1;32m     50\u001b[0m \u001b[39mdef\u001b[39;00m \u001b[39mpredict\u001b[39m(\u001b[39mself\u001b[39m,x):\n\u001b[0;32m---> 51\u001b[0m   \u001b[39mreturn\u001b[39;00m x\u001b[39m*\u001b[39;49m\u001b[39mself\u001b[39;49m\u001b[39m.\u001b[39;49mphi\n",
            "\u001b[0;31mValueError\u001b[0m: operands could not be broadcast together with shapes (200,3) (3,1) "
          ]
        }
      ],
      "source": [
        "ypreds= model.predict(X_test)\n",
        "ypreds\n"
      ]
    },
    {
      "cell_type": "code",
      "execution_count": null,
      "metadata": {
        "id": "QgG1xPUg1ULw"
      },
      "outputs": [],
      "source": [
        "model.accuracy(y_test, ypreds)"
      ]
    },
    {
      "cell_type": "code",
      "execution_count": null,
      "metadata": {
        "id": "OpXYY-yj1UOj"
      },
      "outputs": [],
      "source": []
    },
    {
      "cell_type": "code",
      "execution_count": null,
      "metadata": {
        "id": "8cvRcUO2rtKo"
      },
      "outputs": [],
      "source": []
    }
  ],
  "metadata": {
    "colab": {
      "provenance": []
    },
    "kernelspec": {
      "display_name": "Python 3",
      "name": "python3"
    },
    "language_info": {
      "codemirror_mode": {
        "name": "ipython",
        "version": 3
      },
      "file_extension": ".py",
      "mimetype": "text/x-python",
      "name": "python",
      "nbconvert_exporter": "python",
      "pygments_lexer": "ipython3",
      "version": "3.10.6"
    }
  },
  "nbformat": 4,
  "nbformat_minor": 0
}
