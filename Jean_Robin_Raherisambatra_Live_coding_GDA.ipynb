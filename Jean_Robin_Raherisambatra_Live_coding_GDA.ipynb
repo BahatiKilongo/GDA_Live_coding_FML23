{
 "cells": [
  {
   "cell_type": "markdown",
   "metadata": {
    "id": "g17Z46tmw2oZ"
   },
   "source": [
    "# GDA Implementation.\n",
    "\n",
    "Implement the Gaussian Discriminant Analysis (GDA) learning algorithm following the steps as discussed in class.\n",
    "\n",
    "INSTRUCTION: Rename your notebook as: <br>\n",
    "`firstName_LastName_Live_coding_GDA.ipynb`.\n",
    "\n",
    "Notes: \n",
    "* Do not use any built-in functions to complete a task;\n",
    "* Do not import additional libraries."
   ]
  },
  {
   "cell_type": "code",
   "execution_count": 9,
   "metadata": {
    "id": "aT5nlL-QTKwv"
   },
   "outputs": [],
   "source": [
    "import numpy as np\n",
    "import matplotlib.pyplot as plt\n",
    "from sklearn.datasets import make_classification"
   ]
  },
  {
   "cell_type": "code",
   "execution_count": 10,
   "metadata": {
    "colab": {
     "base_uri": "https://localhost:8080/"
    },
    "id": "_-lL4Yq9Tbzn",
    "outputId": "30937363-7f7e-4360-e123-b4cdb1ebe441"
   },
   "outputs": [
    {
     "name": "stdout",
     "output_type": "stream",
     "text": [
      "(1000, 3) (1000,)\n"
     ]
    }
   ],
   "source": [
    "# Generate data\n",
    "def generate_data():\n",
    "  x, y = make_classification(n_samples= 1000, n_features=3, n_redundant=0, \n",
    "                           n_informative=3, random_state=1, \n",
    "                           n_clusters_per_class=1)\n",
    "  \n",
    "  return x,y\n",
    "\n",
    "x,y= generate_data()\n",
    "# get data\n",
    "print(x.shape, y.shape)"
   ]
  },
  {
   "cell_type": "code",
   "execution_count": 11,
   "metadata": {},
   "outputs": [
    {
     "data": {
      "text/plain": [
       "array([[-0.42600458,  0.3092346 ,  1.13238592],\n",
       "       [ 0.23750039,  0.85236655,  1.27032566],\n",
       "       [-1.50956177,  0.57932947, -0.58204952],\n",
       "       ...,\n",
       "       [ 0.38796174,  1.01606996, -1.499496  ],\n",
       "       [-0.74578403,  1.56454128, -1.05700466],\n",
       "       [ 1.08716336, -0.29150009,  0.98548405]])"
      ]
     },
     "execution_count": 11,
     "metadata": {},
     "output_type": "execute_result"
    }
   ],
   "source": [
    "x"
   ]
  },
  {
   "cell_type": "code",
   "execution_count": 12,
   "metadata": {
    "id": "EUgiWLDhUAAK"
   },
   "outputs": [],
   "source": [
    "def split_data(x,y, train_size= 0.8):\n",
    "    # shuffle the data to randomize the train/test split\n",
    "  \n",
    "    n = int(len(x)*train_size)\n",
    "    indices = np.arange(len(x))\n",
    "    np.random.shuffle(indices)\n",
    "    train_idx = indices[: n]\n",
    "    test_idx = indices[n:]\n",
    "    X_train, y_train = x[train_idx], y[train_idx]\n",
    "    X_test, y_test = x[test_idx], y[test_idx]\n",
    "    return X_train,X_test,y_train,y_test"
   ]
  },
  {
   "cell_type": "code",
   "execution_count": 13,
   "metadata": {
    "colab": {
     "base_uri": "https://localhost:8080/"
    },
    "id": "Cr2Akm_A_FcJ",
    "outputId": "2b8f984d-f896-429f-8097-6fa9cba2d7dc"
   },
   "outputs": [
    {
     "name": "stdout",
     "output_type": "stream",
     "text": [
      "(800, 3) (800,) (200, 3) (200,)\n"
     ]
    }
   ],
   "source": [
    "X_train, X_test, y_train, y_test= split_data(x,y, train_size=0.8) # split your data into x_train, x_test, y_train, y_test\n",
    "print(X_train.shape, y_train.shape, X_test.shape, y_test.shape)"
   ]
  },
  {
   "cell_type": "code",
   "execution_count": 14,
   "metadata": {},
   "outputs": [
    {
     "data": {
      "text/plain": [
       "array([0, 1])"
      ]
     },
     "execution_count": 14,
     "metadata": {},
     "output_type": "execute_result"
    }
   ],
   "source": [
    "#class\n",
    "np.unique(y)"
   ]
  },
  {
   "cell_type": "code",
   "execution_count": 15,
   "metadata": {},
   "outputs": [],
   "source": [
    "#   def compute_mu(x,y,k):\n",
    "#     d = x.shape[1]\n",
    "#     self.mu = np.zeros((k,d))\n",
    "#     for i in range(k):\n",
    "#         idx = np.where(y==i)\n",
    "#         x_trans = x[idx].T\n",
    "#         for j in range(d):\n",
    "#             self.mu[i,j]=np.mean(x_trans[j])\n",
    "#     return self.mu"
   ]
  },
  {
   "cell_type": "code",
   "execution_count": 16,
   "metadata": {},
   "outputs": [],
   "source": [
    "#   def compute_phi(self,x):\n",
    "#         d =x.shape[1]\n",
    "#         self.phi = np.zeros((d,1))\n",
    "#         x_trans =x.T\n",
    "#         for k in range(d):\n",
    "#             self.phi[k]=np.mean(x_trans[k])\n",
    "#         return self.phi"
   ]
  },
  {
   "cell_type": "code",
   "execution_count": 17,
   "metadata": {
    "id": "FrJ7GfXBHNxD"
   },
   "outputs": [],
   "source": [
    "def covariance(x, mu):\n",
    "    #mu.shape =(1,3) , x.shape =(m,3) for a single class\n",
    "    m,d = x.shape\n",
    "    sigma =np.zeros((d,d))\n",
    "    for i in range(d):\n",
    "        for j in range(d):\n",
    "            cv =np.zeros(m)\n",
    "            for k in range(m):\n",
    "                cv[k]=(x[k,i]-mu[i])*(x[k,j]-mu[j])\n",
    "            sigma[i,j]=np.mean(cv)\n",
    "    return sigma\n",
    "                \n",
    "\n",
    "  # Easy way: cov= np.cov(x, rowvar=0) but do not use it. One can use it to assess his/her result.\n"
   ]
  },
  {
   "cell_type": "code",
   "execution_count": null,
   "metadata": {},
   "outputs": [],
   "source": []
  },
  {
   "cell_type": "code",
   "execution_count": 18,
   "metadata": {},
   "outputs": [
    {
     "data": {
      "text/plain": [
       "array([[ 0.87166222, -0.37375578, -0.06166966],\n",
       "       [-0.37375578,  1.65431939,  0.09818823],\n",
       "       [-0.06166966,  0.09818823,  0.03808229]])"
      ]
     },
     "execution_count": 18,
     "metadata": {},
     "output_type": "execute_result"
    }
   ],
   "source": [
    "#print('x.mean_col = ',x.mean(0))\n",
    "#np.cov(x,x.mean(0))\n",
    "indexs = np.where(y==0)\n",
    "np.cov(x[indexs],rowvar=0)\n",
    "\n",
    "\n",
    "mu = np.zeros((2,3))\n",
    "for i in range(2):\n",
    "    idx = np.where(y==i)\n",
    "    x_trans = x[idx].T\n",
    "    for j in range(3):\n",
    "        mu[i,j]=np.mean(x_trans[j])\n",
    "# mu\n",
    "\n",
    "covariance(x[indexs], mu[0])"
   ]
  },
  {
   "cell_type": "code",
   "execution_count": 42,
   "metadata": {
    "id": "1ocKLDAfceF0"
   },
   "outputs": [],
   "source": [
    "class GDA:\n",
    "  def __init__(self):\n",
    "    ## set mu, phi and sigma to None\n",
    "    self.mu = None\n",
    "    self.phi = None\n",
    "    self.sigma = None\n",
    "\n",
    "  def fit(self,x,y):\n",
    "    k= len(np.unique(y)) # Number of class.\n",
    "    d=x.shape[1]  # input dim\n",
    "    m= x.shape[0] # Number of examples.\n",
    "    \n",
    "    ## Initialize mu, phi and sigma\n",
    "    self.mu=  np.zeros((k,d)) #: kxd, i.e., each row contains an individual class mu.\n",
    "    self.phi = np.zeros((k,d))\n",
    "    for i in range(k):\n",
    "        idx = np.where(y==i)\n",
    "        x_trans = x[idx].T\n",
    "        for j in range(d):\n",
    "            self.mu[i,j]=np.mean(x_trans[j])\n",
    "            self.phi[i,j]=np.sum(x_trans[j])/len(x)\n",
    "    #self.mu = compute_mu(x,y,k)\n",
    "            \n",
    "    self.sigma= np.zeros((k,d,d))#: kxdxd, i.e., each row contains an individual class sigma.\n",
    "    \n",
    "    for lab in range(k):\n",
    "        idx = np.where(y==lab)\n",
    "        self.sigma[lab] = covariance(x[idx],self.mu[lab])\n",
    "    \n",
    "#     self.phi= np.zeros((d))# d-dimension\n",
    "#     x_trans =x.T\n",
    "#     for k in range(d):\n",
    "#         self.phi[k]=np.mean(x_trans[k])\n",
    "#     self.phi = compute_phi(x)\n",
    "\n",
    "#     ## START THE LEARNING: estimate mu, phi and sigma.\n",
    "#     self.mu = compute_mu(x,y,k)\n",
    "    \n",
    "#     self.phi = compute_phi(x)\n",
    "    \n",
    "#     for s in range(k):\n",
    "#         idx = np.where(y==s)\n",
    "#         self.sigma[s] = covariance(x[idx],self.mu[s])\n",
    "    \n",
    "#     return self.mu,self.phi,self.sigma\n",
    "    print(f'mu = {self.mu}')\n",
    "    print(f'phi = {self.phi}')\n",
    "    print(f'sigma = {self.sigma}')\n",
    "    return\n",
    "    \n",
    "\n",
    "  def predict_proba(self,x):\n",
    "    # reshape or flatt x.\n",
    "    n,d= x.shape\n",
    "    k_class= 2 # Number of classes we have in our case it's k = 2\n",
    "    \n",
    "\n",
    "    ## START THE LEARNING: estimate mu, phi and sigma.\n",
    "    p = np.zeros((n,k_class))\n",
    "    for nn in range(n):\n",
    "        for i in range(k_class):\n",
    "#             p[i] = self.phi[i]\n",
    "            p[nn,i]=(1/((2*np.pi)**d/2)*(np.linalg.det(self.sigma[i])**0.5))*np.exp(-0.5*(x[nn]-self.mu[i]).T@np.linalg.inv(self.sigma[i])@(x[nn]-self.mu[i]))\n",
    "#     proba_xy = prob_x_y[0]*p[0]+prob_x_y[1]*p[1]\n",
    "\n",
    "    return p\n",
    "  \n",
    "  def predict(self,ypred):\n",
    "#     ypred = self.predict_proba(x)\n",
    "    return ypred.argmax(axis=1)\n",
    "    \n",
    "  \n",
    "  def accuracy(self, y, ypreds):\n",
    "        accur = np.mean(y==ypreds)*100\n",
    "        return accur\n",
    "    "
   ]
  },
  {
   "cell_type": "code",
   "execution_count": 43,
   "metadata": {
    "id": "l_qO0Yp1c3Is"
   },
   "outputs": [
    {
     "name": "stdout",
     "output_type": "stream",
     "text": [
      "mu = [[ 1.00788754  1.08264488  1.00336162]\n",
      " [-0.96821477  0.96936658 -0.94888478]]\n",
      "phi = [[ 0.51150293  0.54944228  0.50920602]\n",
      " [-0.47684577  0.47741304 -0.46732575]]\n",
      "sigma = [[[ 0.85571916 -0.36378955 -0.06289291]\n",
      "  [-0.36378955  1.52434025  0.09815525]\n",
      "  [-0.06289291  0.09815525  0.03958737]]\n",
      "\n",
      " [[ 0.80893271  0.34415912  0.11229443]\n",
      "  [ 0.34415912  0.35816188 -0.09239971]\n",
      "  [ 0.11229443 -0.09239971  1.5871251 ]]]\n",
      "[[4.51158856e-004 7.97260104e-009]\n",
      " [1.01504775e-003 3.02704269e-004]\n",
      " [1.07205165e-003 1.18190110e-006]\n",
      " [4.61795982e-004 4.79629336e-009]\n",
      " [6.00934498e-028 1.93436485e-003]\n",
      " [4.47145239e-036 9.89891576e-004]\n",
      " [3.87582620e-021 2.58741792e-003]\n",
      " [1.07586568e-033 1.59678389e-003]\n",
      " [7.03276508e-004 5.44274190e-004]\n",
      " [7.98822478e-033 3.71875760e-003]\n",
      " [7.13999990e-004 7.79295834e-007]\n",
      " [5.61049741e-004 4.84487991e-008]\n",
      " [1.24510237e-003 1.85578771e-004]\n",
      " [1.09990862e-004 1.91332961e-008]\n",
      " [2.13572418e-005 6.12216383e-004]\n",
      " [4.06412322e-035 3.50847261e-003]\n",
      " [1.78341462e-004 3.00796502e-016]\n",
      " [3.60251889e-004 2.07983503e-013]\n",
      " [7.72186162e-057 1.52979586e-003]\n",
      " [3.26765418e-017 1.05581841e-003]\n",
      " [8.10257951e-004 1.98237254e-007]\n",
      " [4.06339033e-122 1.50227541e-004]\n",
      " [6.28231060e-013 2.16951541e-003]\n",
      " [4.35054948e-031 1.25627172e-003]\n",
      " [2.29858567e-014 2.52317648e-003]\n",
      " [1.59270519e-004 9.00482897e-008]\n",
      " [1.19493263e-003 8.86223705e-005]\n",
      " [4.98166754e-005 7.77205296e-005]\n",
      " [4.35122846e-005 1.40062646e-003]\n",
      " [2.89088178e-004 4.42438146e-006]\n",
      " [1.12481298e-004 8.30412225e-004]\n",
      " [7.84288747e-004 1.46440181e-004]\n",
      " [1.62266455e-005 7.85810872e-016]\n",
      " [1.75411145e-004 2.72429375e-016]\n",
      " [1.01762843e-063 4.04890555e-004]\n",
      " [6.02058672e-068 2.20151771e-003]\n",
      " [7.38404723e-017 2.22406582e-003]\n",
      " [1.38352619e-003 6.94736029e-006]\n",
      " [4.97131072e-061 2.76793060e-003]\n",
      " [3.97683301e-018 2.48065051e-003]\n",
      " [6.80335563e-026 1.24335199e-003]\n",
      " [8.82720621e-073 2.13210798e-003]\n",
      " [2.01879475e-046 1.62055737e-003]\n",
      " [1.09274141e-008 1.11894415e-003]\n",
      " [9.30244754e-090 1.45341821e-004]\n",
      " [3.16480204e-037 2.15098823e-003]\n",
      " [1.17415434e-115 4.62565033e-004]\n",
      " [4.27396635e-004 1.08088695e-005]\n",
      " [9.54706411e-016 1.68207824e-003]\n",
      " [3.97506466e-006 6.48276978e-004]\n",
      " [8.95046494e-018 2.22112712e-003]\n",
      " [6.08697285e-057 2.31212607e-003]\n",
      " [2.18119154e-004 6.62117217e-009]\n",
      " [4.80734663e-004 2.25202876e-005]\n",
      " [2.14900473e-004 1.82226425e-009]\n",
      " [5.85536405e-053 2.84326173e-003]\n",
      " [3.13623941e-004 7.76458539e-006]\n",
      " [9.99685575e-004 7.49312509e-009]\n",
      " [6.56921322e-012 2.10361038e-003]\n",
      " [1.80855209e-183 4.34137217e-005]\n",
      " [1.11397905e-120 1.05163968e-003]\n",
      " [5.18183463e-068 2.69332454e-003]\n",
      " [1.42852450e-003 1.93608074e-004]\n",
      " [4.41158193e-004 1.36189693e-005]\n",
      " [7.52820839e-004 2.52485503e-007]\n",
      " [7.73231846e-004 2.30570679e-005]\n",
      " [5.60691946e-014 2.74961516e-003]\n",
      " [6.79464424e-056 1.18985580e-003]\n",
      " [9.76533604e-005 1.24744807e-012]\n",
      " [9.57070792e-070 1.18478538e-003]\n",
      " [1.23242768e-003 1.20455600e-005]\n",
      " [5.62624199e-012 2.07038417e-004]\n",
      " [1.85326779e-004 1.93870097e-014]\n",
      " [1.22485381e-018 3.55331540e-004]\n",
      " [3.34880391e-061 2.41551441e-003]\n",
      " [7.59386499e-028 2.87241490e-003]\n",
      " [8.96030653e-006 2.20206370e-021]\n",
      " [9.86013089e-025 2.81176003e-003]\n",
      " [5.32708494e-106 1.48796343e-003]\n",
      " [8.76258285e-006 4.31984093e-017]\n",
      " [2.26995210e-009 2.21988936e-003]\n",
      " [6.34153144e-004 4.62746550e-005]\n",
      " [5.74505557e-017 1.23532709e-003]\n",
      " [4.77067408e-042 2.09239626e-003]\n",
      " [2.71133204e-130 4.03391721e-004]\n",
      " [7.15195698e-004 5.48117635e-010]\n",
      " [9.03365135e-004 4.15402368e-007]\n",
      " [3.61507303e-004 3.68363449e-005]\n",
      " [3.07878382e-010 1.75241607e-004]\n",
      " [5.80953465e-004 8.23297607e-009]\n",
      " [1.33435235e-007 1.06598216e-003]\n",
      " [3.20474365e-005 1.68069320e-004]\n",
      " [2.64284690e-037 3.52146016e-004]\n",
      " [8.52283338e-005 1.20354924e-013]\n",
      " [4.36668978e-004 6.33236049e-004]\n",
      " [2.90785366e-045 2.63150132e-003]\n",
      " [3.38981226e-053 3.05233656e-003]\n",
      " [1.01916674e-003 2.54279793e-006]\n",
      " [5.74095225e-017 2.97917128e-003]\n",
      " [5.74523099e-040 3.10105488e-003]\n",
      " [2.02118218e-014 3.39090759e-005]\n",
      " [3.89556017e-004 9.84602603e-010]\n",
      " [9.48049608e-005 2.06052019e-013]\n",
      " [8.22451409e-022 2.50964961e-003]\n",
      " [3.27015172e-137 5.56908351e-004]\n",
      " [4.06908642e-006 2.99268750e-023]\n",
      " [2.40169472e-004 1.01054105e-012]\n",
      " [1.81602679e-057 1.17954014e-003]\n",
      " [4.07388522e-004 1.91239762e-005]\n",
      " [7.70846313e-049 1.62616213e-003]\n",
      " [6.47407640e-029 7.71352654e-004]\n",
      " [3.80681317e-048 6.26888294e-004]\n",
      " [8.88736675e-004 3.28554364e-009]\n",
      " [3.27222875e-010 8.90034423e-004]\n",
      " [3.53285574e-005 1.14786998e-003]\n",
      " [3.94882519e-071 1.67510618e-003]\n",
      " [1.00155918e-038 3.92916768e-003]\n",
      " [7.78974787e-004 6.31370486e-005]\n",
      " [3.58980075e-041 1.28097902e-003]\n",
      " [8.09646388e-010 1.28523340e-003]\n",
      " [5.38111379e-004 2.03636698e-004]\n",
      " [1.11246679e-003 2.33967753e-005]\n",
      " [1.04200143e-003 2.10908281e-007]\n",
      " [2.17166593e-004 3.14219982e-005]\n",
      " [1.05332517e-004 3.73073454e-006]\n",
      " [5.60779460e-004 1.69718295e-011]\n",
      " [2.86388890e-004 4.37684430e-007]\n",
      " [2.42571574e-004 3.41721262e-012]\n",
      " [9.14827779e-004 1.45909103e-006]\n",
      " [2.08139089e-060 3.08990285e-003]\n",
      " [8.15559494e-023 2.62390016e-003]\n",
      " [3.28452907e-004 7.93139032e-006]\n",
      " [3.04558794e-016 2.33604172e-003]\n",
      " [4.46789523e-004 6.97071656e-010]\n",
      " [5.25728838e-004 2.26549080e-004]\n",
      " [5.91168856e-052 5.09328837e-004]\n",
      " [2.07539553e-004 7.95095657e-004]\n",
      " [3.69675341e-035 1.46150714e-003]\n",
      " [7.62195507e-004 6.95019301e-004]\n",
      " [7.54534939e-004 2.18807855e-005]\n",
      " [4.07252616e-004 2.68785755e-006]\n",
      " [1.63307735e-005 4.16339318e-004]\n",
      " [1.80327234e-041 1.81595127e-003]\n",
      " [6.94078927e-154 2.81983151e-004]\n",
      " [8.99349111e-004 2.09071029e-005]\n",
      " [9.40934070e-014 3.07898530e-003]\n",
      " [1.26802675e-003 5.09834831e-007]\n",
      " [6.38086645e-038 9.70526235e-004]\n",
      " [5.67129815e-051 3.70196653e-003]\n",
      " [3.80830548e-004 4.32452612e-005]\n",
      " [2.39478260e-048 3.40499220e-003]\n",
      " [6.16065758e-005 6.69480389e-022]\n",
      " [3.68114111e-011 1.36624693e-005]\n",
      " [1.43990871e-131 5.99097556e-004]\n",
      " [8.40677461e-004 3.33704045e-005]\n",
      " [1.83166112e-004 4.68166475e-015]\n",
      " [2.96789873e-005 3.40467374e-006]\n",
      " [3.19263477e-051 2.93907971e-003]\n",
      " [4.95881827e-093 4.61735438e-004]\n",
      " [5.95277027e-004 3.08175720e-009]\n",
      " [5.57747711e-016 1.77680158e-003]\n",
      " [3.70625148e-005 6.07577228e-008]\n",
      " [8.31470146e-005 3.20807277e-006]\n",
      " [2.54924741e-025 2.07554969e-003]\n",
      " [1.86834008e-007 2.73478188e-004]\n",
      " [3.66393647e-008 2.18704415e-003]\n",
      " [1.26541364e-051 2.97610220e-003]\n",
      " [1.40331511e-004 6.36571239e-011]\n",
      " [3.64377731e-028 2.80257719e-003]\n",
      " [4.06050032e-005 5.61274184e-012]\n",
      " [5.55418461e-004 1.16145293e-004]\n",
      " [2.60415907e-086 5.93824385e-004]\n",
      " [2.62967595e-004 5.85706734e-005]\n",
      " [5.30827476e-004 4.16739368e-013]\n",
      " [7.78495857e-049 3.64100129e-003]\n",
      " [1.41663935e-004 1.01898282e-005]\n",
      " [5.06580020e-023 2.18402055e-003]\n",
      " [1.21405359e-003 3.70328774e-004]\n",
      " [1.11270196e-016 1.91146495e-003]\n",
      " [1.84778733e-017 1.42427450e-003]\n",
      " [4.50947781e-023 7.72465692e-004]\n",
      " [1.35432067e-004 4.16103361e-008]\n",
      " [3.34795128e-004 6.23388237e-008]\n",
      " [2.60402747e-059 8.87805456e-004]\n",
      " [1.36489201e-025 2.26526757e-003]\n",
      " [1.76147383e-004 9.35975157e-010]\n",
      " [3.56108357e-215 9.97613470e-007]\n",
      " [3.91489851e-004 9.68382990e-005]\n",
      " [1.80129855e-004 3.75436214e-013]\n",
      " [2.36164919e-102 1.03925944e-003]\n",
      " [6.11453472e-014 1.93496854e-003]\n",
      " [1.38516472e-036 5.49307059e-004]\n",
      " [1.61819154e-005 1.07826043e-003]\n",
      " [2.08435399e-004 3.84267234e-010]\n",
      " [2.94769059e-005 3.26270343e-004]\n",
      " [8.30872527e-004 1.30247461e-004]\n",
      " [1.29104820e-004 6.18087481e-006]\n",
      " [2.11290579e-008 7.39044851e-004]\n",
      " [1.40621897e-091 1.36657623e-003]\n",
      " [1.25399026e-005 9.48098797e-022]]\n"
     ]
    }
   ],
   "source": [
    "model= GDA()\n",
    "model.fit(X_train,y_train)\n",
    "print(model.predict_proba(X_test))"
   ]
  },
  {
   "cell_type": "code",
   "execution_count": 44,
   "metadata": {
    "id": "NKY1eojY1l4e"
   },
   "outputs": [
    {
     "name": "stdout",
     "output_type": "stream",
     "text": [
      "[0 0 0 0 1 1 1 1 0 1 0 0 0 0 1 1 0 0 1 1 0 1 1 1 1 0 0 1 1 0 1 0 0 0 1 1 1\n",
      " 0 1 1 1 1 1 1 1 1 1 0 1 1 1 1 0 0 0 1 0 0 1 1 1 1 0 0 0 0 1 1 0 1 0 1 0 1\n",
      " 1 1 0 1 1 0 1 0 1 1 1 0 0 0 1 0 1 1 1 0 1 1 1 0 1 1 1 0 0 1 1 0 0 1 0 1 1\n",
      " 1 0 1 1 1 1 0 1 1 0 0 0 0 0 0 0 0 0 1 1 0 1 0 0 1 1 1 0 0 0 1 1 1 0 1 0 1\n",
      " 1 0 1 0 1 1 0 0 0 1 1 0 1 0 0 1 1 1 1 0 1 0 0 1 0 0 1 0 1 0 1 1 1 0 0 1 1\n",
      " 0 1 0 0 1 1 1 1 0 1 0 0 1 1 0]\n"
     ]
    }
   ],
   "source": [
    "yproba= model.predict_proba(X_test)\n",
    "yproba\n",
    "pp = model.predict(yproba)\n",
    "print(pp)"
   ]
  },
  {
   "cell_type": "code",
   "execution_count": 45,
   "metadata": {
    "id": "D4clV6PK1UJK"
   },
   "outputs": [
    {
     "data": {
      "text/plain": [
       "array([0, 1, 0, 2, 1, 1, 1, 1, 1, 1, 0, 0, 1, 2, 2, 1, 0, 0, 1, 1, 0, 1,\n",
       "       1, 1, 1, 1, 1, 1, 1, 1, 1, 1, 1, 0, 1, 1, 1, 0, 1, 1, 1, 1, 1, 2,\n",
       "       1, 1, 1, 1, 1, 1, 1, 1, 1, 1, 0, 1, 1, 0, 1, 1, 1, 1, 1, 1, 2, 1,\n",
       "       1, 1, 2, 1, 0, 2, 0, 1, 1, 1, 2, 1, 1, 2, 1, 1, 1, 1, 1, 0, 0, 1,\n",
       "       2, 0, 1, 1, 1, 0, 2, 1, 1, 0, 1, 1, 2, 0, 2, 1, 1, 1, 0, 1, 1, 1,\n",
       "       1, 1, 0, 1, 1, 1, 1, 2, 1, 1, 1, 0, 0, 1, 2, 0, 2, 0, 2, 1, 1, 1,\n",
       "       1, 0, 1, 1, 1, 1, 1, 1, 1, 2, 1, 1, 0, 1, 0, 1, 1, 2, 1, 0, 2, 1,\n",
       "       1, 0, 2, 1, 1, 0, 1, 1, 2, 1, 2, 1, 1, 1, 1, 0, 1, 1, 2, 0, 1, 2,\n",
       "       1, 1, 1, 1, 1, 0, 1, 1, 1, 1, 1, 1, 2, 1, 1, 1, 2, 0, 2, 2, 2, 1,\n",
       "       1, 0])"
      ]
     },
     "execution_count": 45,
     "metadata": {},
     "output_type": "execute_result"
    }
   ],
   "source": [
    "ypreds= model.predict(X_test)\n",
    "ypreds\n"
   ]
  },
  {
   "cell_type": "code",
   "execution_count": 46,
   "metadata": {
    "id": "QgG1xPUg1ULw"
   },
   "outputs": [
    {
     "data": {
      "text/plain": [
       "67.5"
      ]
     },
     "execution_count": 46,
     "metadata": {},
     "output_type": "execute_result"
    }
   ],
   "source": [
    "model.accuracy(y_test, ypreds)"
   ]
  },
  {
   "cell_type": "code",
   "execution_count": null,
   "metadata": {
    "id": "OpXYY-yj1UOj"
   },
   "outputs": [],
   "source": []
  },
  {
   "cell_type": "code",
   "execution_count": null,
   "metadata": {
    "id": "8cvRcUO2rtKo"
   },
   "outputs": [],
   "source": []
  }
 ],
 "metadata": {
  "colab": {
   "provenance": []
  },
  "kernelspec": {
   "display_name": "Python 3 (ipykernel)",
   "language": "python",
   "name": "python3"
  },
  "language_info": {
   "codemirror_mode": {
    "name": "ipython",
    "version": 3
   },
   "file_extension": ".py",
   "mimetype": "text/x-python",
   "name": "python",
   "nbconvert_exporter": "python",
   "pygments_lexer": "ipython3",
   "version": "3.9.13"
  }
 },
 "nbformat": 4,
 "nbformat_minor": 1
}
