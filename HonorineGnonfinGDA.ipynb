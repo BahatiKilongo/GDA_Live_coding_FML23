{
  "nbformat": 4,
  "nbformat_minor": 0,
  "metadata": {
    "colab": {
      "provenance": []
    },
    "kernelspec": {
      "name": "python3",
      "display_name": "Python 3"
    },
    "language_info": {
      "name": "python"
    }
  },
  "cells": [
    {
      "cell_type": "markdown",
      "source": [
        "# GDA Implementation.\n",
        "\n",
        "Implement the Gaussian Discriminant Analysis (GDA) learning algorithm following the steps as discussed in class.\n",
        "\n",
        "INSTRUCTION: Rename your notebook as: <br>\n",
        "`firstName_LastName_Live_coding_GDA.ipynb`.\n",
        "\n",
        "Notes: \n",
        "* Do not use any built-in functions to complete a task;\n",
        "* Do not import additional libraries."
      ],
      "metadata": {
        "id": "g17Z46tmw2oZ"
      }
    },
    {
      "cell_type": "code",
      "execution_count": 18,
      "metadata": {
        "id": "aT5nlL-QTKwv"
      },
      "outputs": [],
      "source": [
        "import numpy as np\n",
        "import matplotlib.pyplot as plt\n",
        "from sklearn.datasets import make_classification"
      ]
    },
    {
      "cell_type": "code",
      "source": [
        "# Generate data\n",
        "def generate_data():\n",
        "  x, y = make_classification(n_samples= 1000, n_features=3, n_redundant=0, \n",
        "                           n_informative=3, random_state=1, \n",
        "                           n_clusters_per_class=1)\n",
        "  \n",
        "  return x,y\n",
        "\n",
        "x,y= generate_data() # get data\n",
        "print(x.shape, y.shape)"
      ],
      "metadata": {
        "colab": {
          "base_uri": "https://localhost:8080/"
        },
        "id": "_-lL4Yq9Tbzn",
        "outputId": "b6a11b16-e712-4672-f15d-86f80f6890f9"
      },
      "execution_count": 19,
      "outputs": [
        {
          "output_type": "stream",
          "name": "stdout",
          "text": [
            "(1000, 3) (1000,)\n"
          ]
        }
      ]
    },
    {
      "cell_type": "code",
      "source": [
        "def split_data(x,y, train_size= 0.8):\n",
        "    # shuffle the data to randomize the train/test split\n",
        "    n,d=x.shape\n",
        "    data=np.hstack((x,y.reshape(-1,1)))\n",
        "    idex=np.random.permutation(n)\n",
        "    data_shuffle=data[idex]\n",
        "    xtrain,ytrain=data_shuffle[:round(n*train_size),:-1],data_shuffle[:round(n*train_size),-1]\n",
        "    xtest,ytest=data_shuffle[round(n*train_size):,:-1],data_shuffle[round(n*train_size):,-1]\n",
        "    return xtrain,xtest,ytrain,ytest\n"
      ],
      "metadata": {
        "id": "EUgiWLDhUAAK"
      },
      "execution_count": 20,
      "outputs": []
    },
    {
      "cell_type": "code",
      "source": [
        "X_train, X_test, y_train, y_test= split_data(x,y,0.8) # split your data into x_train, x_test, y_train, y_test\n",
        "print(X_train.shape, y_train.shape, X_test.shape, y_test.shape)"
      ],
      "metadata": {
        "colab": {
          "base_uri": "https://localhost:8080/"
        },
        "id": "Cr2Akm_A_FcJ",
        "outputId": "4e62bd01-05b4-4530-d5fb-677f7db1f05a"
      },
      "execution_count": 21,
      "outputs": [
        {
          "output_type": "stream",
          "name": "stdout",
          "text": [
            "(800, 3) (800,) (200, 3) (200,)\n"
          ]
        }
      ]
    },
    {
      "cell_type": "code",
      "source": [
        "def covariance(x, mu):\n",
        "\n",
        "  # Easy way: cov= np.cov(x, rowvar=0) but do not use it. One can use it to assess his/her result.\n",
        "  n,d=x.shape\n",
        "  cov_matrix=np.zeros((d,d))\n",
        "  for i in range(d):\n",
        "    for j in range(d):\n",
        "      s=0\n",
        "      for k in range(n):\n",
        "        s+=(x[k,i]-mu[i])*(x[k,j]-mu[j])\n",
        "      cov_matrix[i,j]=s/(n-1)\n",
        "  return cov_matrix"
      ],
      "metadata": {
        "id": "FrJ7GfXBHNxD"
      },
      "execution_count": 22,
      "outputs": []
    },
    {
      "cell_type": "code",
      "source": [
        "covariance(x,x.mean(0))"
      ],
      "metadata": {
        "colab": {
          "base_uri": "https://localhost:8080/"
        },
        "id": "TZ3_I8pM3yCd",
        "outputId": "4247168f-f946-47cd-9a52-30e79911a69c"
      },
      "execution_count": 23,
      "outputs": [
        {
          "output_type": "execute_result",
          "data": {
            "text/plain": [
              "array([[1.84495325, 0.02790646, 1.00137533],\n",
              "       [0.02790646, 1.00170721, 0.05539176],\n",
              "       [1.00137533, 0.05539176, 1.74832   ]])"
            ]
          },
          "metadata": {},
          "execution_count": 23
        }
      ]
    },
    {
      "cell_type": "code",
      "source": [
        "np.cov(x,rowvar=0)"
      ],
      "metadata": {
        "colab": {
          "base_uri": "https://localhost:8080/"
        },
        "id": "BGDLFplG0qBN",
        "outputId": "3d94810f-64ea-4d68-f541-084e9f4059b9"
      },
      "execution_count": 24,
      "outputs": [
        {
          "output_type": "execute_result",
          "data": {
            "text/plain": [
              "array([[1.84495325, 0.02790646, 1.00137533],\n",
              "       [0.02790646, 1.00170721, 0.05539176],\n",
              "       [1.00137533, 0.05539176, 1.74832   ]])"
            ]
          },
          "metadata": {},
          "execution_count": 24
        }
      ]
    },
    {
      "cell_type": "code",
      "source": [
        "class GDA:\n",
        "  def __init__(self):\n",
        "    ## set mu, phi and sigma to None\n",
        "    self.mu=None\n",
        "    self.phi=None\n",
        "    self.sigma=None\n",
        "    \n",
        "  def fit(self,x,y):\n",
        "    k= len(np.unique(y)) # Number of class.\n",
        "    d= x.shape[1] # input dim\n",
        "    m= x.shape[0] # Number of examples.\n",
        "    \n",
        "    ## Initialize mu, phi and sigma\n",
        "    self.mu= np.zeros((k,d)) #: kxd, i.e., each row contains an individual class mu.\n",
        "    self.sigma=  np.zeros((k,d,d)) #: kxdxd, i.e., each row contains an individual class sigma.\n",
        "    self.phi= np.zeros((k,1)) # k-dimension\n",
        "\n",
        "    ## START THE LEARNING: estimate mu, phi and sigma.\n",
        "    for cl in range(k):\n",
        "      self.phi[cl]=np.mean(y==cl)\n",
        "      self.mu[cl]=np.mean(x[y==cl],axis=0)\n",
        "      self.sigma[cl]=covariance(x[y==cl],self.mu[cl])\n",
        "    # return self.phi,self.mu,self.sigma\n",
        "    \n",
        "\n",
        "  def predict_proba(self,x):\n",
        "    # reshape or flatt x.\n",
        "    # x= x.reshape(-x.shape[0],1)\n",
        "    d= x.shape[1]\n",
        "    n=x.shape[0]\n",
        "    k_class= len(self.mu) # Number of classes we have in our case it's k = 2\n",
        "    \n",
        "    ## START THE LEARNING: estimate mu, phi and sigma.\n",
        "    probas=np.zeros((n,k_class))\n",
        "    for cl in range(k_class):\n",
        "      det=np.linalg.det(self.sigma[cl])\n",
        "      inverse=np.linalg.inv(self.sigma[cl])\n",
        "      for i in range(n):\n",
        "        probas[i,cl]=((1/((2*np.pi)**(d/2))*det**0.5)*np.exp(-0.5*(x[i,:]-self.mu[cl]).T@inverse@(x[i,:]-self.mu[cl])))*self.phi[cl]\n",
        "    return probas\n",
        "\n",
        "  def predict(self,x):\n",
        "    probas=self.predict_proba(x)\n",
        "    ypred=np.argmax(probas,axis=1)\n",
        "    return ypred\n",
        "  \n",
        "  def accuracy(self, y, ypreds):\n",
        "    return np.mean(ypreds==y)*100"
      ],
      "metadata": {
        "id": "1ocKLDAfceF0"
      },
      "execution_count": 25,
      "outputs": []
    },
    {
      "cell_type": "code",
      "source": [
        "model= GDA()\n",
        "model.fit(X_train,y_train)"
      ],
      "metadata": {
        "id": "l_qO0Yp1c3Is"
      },
      "execution_count": 26,
      "outputs": []
    },
    {
      "cell_type": "code",
      "source": [
        "yproba= model.predict_proba(X_test)\n",
        "yproba"
      ],
      "metadata": {
        "id": "NKY1eojY1l4e"
      },
      "execution_count": null,
      "outputs": []
    },
    {
      "cell_type": "code",
      "source": [
        "ypreds= model.predict(X_test)\n",
        "ypreds\n"
      ],
      "metadata": {
        "id": "D4clV6PK1UJK"
      },
      "execution_count": null,
      "outputs": []
    },
    {
      "cell_type": "code",
      "source": [
        "model.accuracy(y_test, ypreds)"
      ],
      "metadata": {
        "id": "QgG1xPUg1ULw"
      },
      "execution_count": null,
      "outputs": []
    }
  ]
}