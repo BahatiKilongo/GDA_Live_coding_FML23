{
  "nbformat": 4,
  "nbformat_minor": 0,
  "metadata": {
    "colab": {
      "provenance": []
    },
    "kernelspec": {
      "name": "python3",
      "display_name": "Python 3"
    },
    "language_info": {
      "name": "python"
    }
  },
  "cells": [
    {
      "cell_type": "markdown",
      "source": [
        "# GDA Implementation.\n",
        "\n",
        "Implement the Gaussian Discriminant Analysis (GDA) learning algorithm following the steps as discussed in class.\n",
        "\n",
        "INSTRUCTION: Rename your notebook as: <br>\n",
        "`firstName_LastName_Live_coding_GDA.ipynb`.\n",
        "\n",
        "Notes: \n",
        "* Do not use any built-in functions to complete a task;\n",
        "* Do not import additional libraries."
      ],
      "metadata": {
        "id": "g17Z46tmw2oZ"
      }
    },
    {
      "cell_type": "code",
      "execution_count": 205,
      "metadata": {
        "id": "aT5nlL-QTKwv"
      },
      "outputs": [],
      "source": [
        "import numpy as np\n",
        "import matplotlib.pyplot as plt\n",
        "from sklearn.datasets import make_classification"
      ]
    },
    {
      "cell_type": "code",
      "source": [
        "# Generate data\n",
        "def generate_data():\n",
        "  x, y = make_classification(n_samples= 1000, n_features=3, n_redundant=0, \n",
        "                           n_informative=3, random_state=1, \n",
        "                           n_clusters_per_class=1)\n",
        "  \n",
        "  return x,y\n",
        "\n",
        "x,y= generate_data() # get data\n",
        "print(x.shape, y.shape)"
      ],
      "metadata": {
        "colab": {
          "base_uri": "https://localhost:8080/"
        },
        "id": "_-lL4Yq9Tbzn",
        "outputId": "0b69b7b9-a33c-4606-df6d-bbe79b1eb8b4"
      },
      "execution_count": 206,
      "outputs": [
        {
          "output_type": "stream",
          "name": "stdout",
          "text": [
            "(1000, 3) (1000,)\n"
          ]
        }
      ]
    },
    {
      "cell_type": "code",
      "source": [
        "def split_data(x,y, train_size= 0.8):\n",
        "    # shuffle the data to randomize the train/test split\n",
        "    indices=np.arange(x.shape[0])\n",
        "    idx=np.random.permutation(indices)\n",
        "    x=x[idx]\n",
        "    y=y[idx]\n",
        "    size=round(train_size*x.shape[0])\n",
        "    X_train=x[:size,:] \n",
        "    y_train=y[:size]\n",
        "    X_test=x[size:,:]\n",
        "    y_test=y[size:]\n",
        "\n",
        "    return X_train, X_test, y_train, y_test\n"
      ],
      "metadata": {
        "id": "EUgiWLDhUAAK"
      },
      "execution_count": 207,
      "outputs": []
    },
    {
      "cell_type": "code",
      "source": [
        "X_train, X_test, y_train, y_test= split_data(x,y, train_size= 0.8) # split your data into x_train, x_test, y_train, y_test\n",
        "print(X_train.shape, y_train.shape, X_test.shape, y_test.shape)"
      ],
      "metadata": {
        "colab": {
          "base_uri": "https://localhost:8080/"
        },
        "id": "Cr2Akm_A_FcJ",
        "outputId": "b5ef2b9b-f3b5-4570-c8e2-5bedd65f60b9"
      },
      "execution_count": 212,
      "outputs": [
        {
          "output_type": "stream",
          "name": "stdout",
          "text": [
            "(800, 3) (800,) (200, 3) (200,)\n"
          ]
        }
      ]
    },
    {
      "cell_type": "code",
      "source": [
        "def covariance(x,mu):\n",
        "  N,d=x.shape\n",
        "  K=mu.shape[0]\n",
        "  sigma=np.zeros((d,d))\n",
        "  for k in range(K):\n",
        "    for i in range (d):\n",
        "      for j in range(d):\n",
        "        sigma[i,j]=(1/(N-1))*np.sum((x[:,i]-mu[i])*(x[:,j]-mu[j]))\n",
        "  return sigma\n",
        "  # Easy way: cov= np.cov(x, rowvar=0) but do not use it. One can use it to assess his/her result.\n",
        "  "
      ],
      "metadata": {
        "id": "FrJ7GfXBHNxD"
      },
      "execution_count": 217,
      "outputs": []
    },
    {
      "cell_type": "code",
      "source": [
        "covariance(x,x.mean(axis=0))"
      ],
      "metadata": {
        "colab": {
          "base_uri": "https://localhost:8080/"
        },
        "id": "YdUN16RN2rNB",
        "outputId": "0963fd4a-0efc-4a2c-b628-0708cab676f4"
      },
      "execution_count": 193,
      "outputs": [
        {
          "output_type": "execute_result",
          "data": {
            "text/plain": [
              "array([[1.84495325, 0.02790646, 1.00137533],\n",
              "       [0.02790646, 1.00170721, 0.05539176],\n",
              "       [1.00137533, 0.05539176, 1.74832   ]])"
            ]
          },
          "metadata": {},
          "execution_count": 193
        }
      ]
    },
    {
      "cell_type": "code",
      "source": [
        "np.cov(x,rowvar=0)"
      ],
      "metadata": {
        "colab": {
          "base_uri": "https://localhost:8080/"
        },
        "id": "f4WRjsKU0QeM",
        "outputId": "b9183d03-8313-494b-eb88-72f7215e8dd4"
      },
      "execution_count": 194,
      "outputs": [
        {
          "output_type": "execute_result",
          "data": {
            "text/plain": [
              "array([[1.84495325, 0.02790646, 1.00137533],\n",
              "       [0.02790646, 1.00170721, 0.05539176],\n",
              "       [1.00137533, 0.05539176, 1.74832   ]])"
            ]
          },
          "metadata": {},
          "execution_count": 194
        }
      ]
    },
    {
      "cell_type": "code",
      "source": [
        "x.shape"
      ],
      "metadata": {
        "colab": {
          "base_uri": "https://localhost:8080/"
        },
        "id": "CfucQoTbCuII",
        "outputId": "9007eccd-fd89-4a00-ea71-95a5c6f702e3"
      },
      "execution_count": 47,
      "outputs": [
        {
          "output_type": "execute_result",
          "data": {
            "text/plain": [
              "(1000, 3)"
            ]
          },
          "metadata": {},
          "execution_count": 47
        }
      ]
    },
    {
      "cell_type": "code",
      "source": [
        "from math import pi\n",
        "class GDA:\n",
        "  def __init__(self):\n",
        "    ## set mu, phi and sigma to None\n",
        "    self.mu=None\n",
        "    self.phi=None\n",
        "    self.sigma=None\n",
        "    \n",
        "  def fit(self,x,y):\n",
        "    k=np.unique(y).shape[0] # Number of class.\n",
        "    d=x.shape[1]  # input dim\n",
        "    m= x.shape[0] # Number of examples.\n",
        "    \n",
        "    ## Initialize mu, phi and sigma\n",
        "    self.mu=np.zeros((k,d))#: kxd, i.e., each row contains an individual class mu.\n",
        "    self.sigma=np.zeros((k,d,d))#: kxdxd, i.e., each row contains an individual class sigma.\n",
        "    self.phi= np.zeros(k)# d-dimension\n",
        "\n",
        "    # let us compute phi\n",
        "    for label in range(k):\n",
        "      # choose the rows that belong to the k class\n",
        "      #let us compute phi for the class label \n",
        "      self.phi[label]=sum(label==y)/x.shape[0]\n",
        "      #let us compute mu for the class label\n",
        "      self.mu[label]= np.mean(x[label==y],axis=0)\n",
        "      #let us compute sigma for the class label\n",
        "      self.sigma[label]= covariance(x[label==y],self.mu[label])\n",
        "  \n",
        "    \n",
        "\n",
        "  def predict_proba(self,x):\n",
        "    # reshape or flatt x.\n",
        "    #x= x.flatten()\n",
        "    n=x.shape[0]\n",
        "    d= x.shape[1]\n",
        "    k_class= self.mu.shape[0] # Number of classes we have in our case it's k = 2\n",
        "    score=np.zeros((n,k_class))\n",
        "    \n",
        "    ## START THE LEARNING: estimate mu, phi and sigma.\n",
        "    for k in range (k_class):\n",
        "      sigma_det=np.linalg.det(self.sigma[k])**(1/2)\n",
        "      sigma_inv=np.linalg.inv(self.sigma[k])\n",
        "      # sigma_det=0\n",
        "      # sigma_inv=np.zeros((d,d))\n",
        "      coef=0\n",
        "      for i in range(n):\n",
        "        \n",
        "        coef=((2*pi)**(d/2))\n",
        "        exp_part=(1/2)*(x[i]-self.mu[k]).T@np.linalg.inv(self.sigma[k])@(x[i]-self.mu[k])\n",
        "        score[i,k]=1/(coef*sigma_det)*np.exp(-exp_part)*self.phi[k]\n",
        "    return score\n",
        "\n",
        "  def predict(self,x):\n",
        "    probas=self.predict_proba(x)\n",
        "    ypreds=np.argmax(probas, axis=1)  \n",
        "     \n",
        "    return ypreds\n",
        "  \n",
        "  def accuracy(self,y,ypreds):\n",
        "    return np.mean(y==ypreds)*100"
      ],
      "metadata": {
        "id": "1ocKLDAfceF0"
      },
      "execution_count": 233,
      "outputs": []
    },
    {
      "cell_type": "code",
      "source": [
        "model= GDA()\n",
        "model.fit(X_train,y_train)\n",
        "model.phi"
      ],
      "metadata": {
        "id": "l_qO0Yp1c3Is",
        "colab": {
          "base_uri": "https://localhost:8080/"
        },
        "outputId": "75528d42-b702-4c79-ca2c-f95f728d23f8"
      },
      "execution_count": 234,
      "outputs": [
        {
          "output_type": "execute_result",
          "data": {
            "text/plain": [
              "array([0.50125, 0.49875])"
            ]
          },
          "metadata": {},
          "execution_count": 234
        }
      ]
    },
    {
      "cell_type": "code",
      "source": [
        "yproba= model.predict_proba(X_test)\n",
        "yproba"
      ],
      "metadata": {
        "id": "NKY1eojY1l4e",
        "colab": {
          "base_uri": "https://localhost:8080/"
        },
        "outputId": "b1c24423-fd34-4fe6-b90b-5c9aa077ea78"
      },
      "execution_count": 235,
      "outputs": [
        {
          "output_type": "execute_result",
          "data": {
            "text/plain": [
              "array([[1.18981267e-001, 8.06893497e-007],\n",
              "       [2.54714210e-002, 7.20409621e-014],\n",
              "       [3.08928771e-048, 5.53461082e-002],\n",
              "       [2.37332585e-002, 6.78231391e-006],\n",
              "       [1.84111715e-003, 2.27925027e-002],\n",
              "       [6.64186459e-002, 1.05380396e-009],\n",
              "       [5.42921173e-041, 1.85008983e-002],\n",
              "       [3.67480573e-004, 1.30700586e-002],\n",
              "       [6.61155020e-057, 5.54467650e-002],\n",
              "       [2.86551590e-034, 2.46725392e-002],\n",
              "       [1.00123533e-002, 2.17803163e-002],\n",
              "       [1.70964805e-048, 2.85087445e-002],\n",
              "       [1.79641316e-166, 4.77360538e-003],\n",
              "       [7.92012067e-019, 1.00171644e-002],\n",
              "       [1.16401379e-001, 1.97853556e-004],\n",
              "       [1.44897473e-002, 2.01035116e-002],\n",
              "       [1.35116819e-001, 4.56987758e-006],\n",
              "       [2.08121780e-002, 9.16723615e-016],\n",
              "       [9.10238857e-002, 3.24007344e-009],\n",
              "       [3.60554434e-002, 3.03428337e-005],\n",
              "       [2.15754315e-036, 1.43501615e-002],\n",
              "       [2.31641097e-002, 2.94560281e-005],\n",
              "       [3.39777663e-009, 8.23387392e-003],\n",
              "       [3.36272506e-016, 2.49999448e-002],\n",
              "       [3.39905586e-002, 2.86010291e-007],\n",
              "       [3.93434377e-024, 8.99348738e-003],\n",
              "       [4.73451964e-003, 8.90067999e-004],\n",
              "       [9.03558376e-002, 5.06597055e-003],\n",
              "       [1.06790548e-002, 7.80936907e-018],\n",
              "       [3.81888447e-014, 3.44001230e-002],\n",
              "       [4.70554195e-036, 3.87703226e-002],\n",
              "       [3.52764358e-002, 4.79926720e-004],\n",
              "       [8.51750105e-003, 8.05378381e-006],\n",
              "       [5.92665856e-002, 6.65599806e-007],\n",
              "       [1.26611406e-227, 7.85882639e-004],\n",
              "       [9.50615635e-036, 3.22690916e-002],\n",
              "       [2.84545255e-012, 2.84125625e-002],\n",
              "       [8.20912236e-003, 3.73299835e-013],\n",
              "       [6.64202771e-002, 9.81677069e-003],\n",
              "       [8.61970654e-002, 4.90085311e-004],\n",
              "       [9.54516725e-002, 3.13183169e-004],\n",
              "       [3.49236643e-157, 7.59030745e-003],\n",
              "       [8.09547393e-003, 1.00722207e-002],\n",
              "       [5.07381345e-030, 2.10508207e-002],\n",
              "       [3.01062952e-040, 1.46638844e-002],\n",
              "       [1.97629311e-007, 3.43412072e-002],\n",
              "       [7.56274782e-017, 2.48895275e-002],\n",
              "       [8.13799856e-054, 4.47632632e-004],\n",
              "       [1.23248741e-037, 5.54648101e-002],\n",
              "       [1.33361150e-028, 4.26186687e-002],\n",
              "       [1.19834925e-057, 1.90180119e-002],\n",
              "       [8.34181468e-028, 1.66426283e-002],\n",
              "       [2.05897010e-057, 7.03238255e-003],\n",
              "       [8.20469051e-132, 1.01623973e-002],\n",
              "       [6.26881868e-025, 1.20527813e-002],\n",
              "       [7.73477756e-075, 8.45603746e-003],\n",
              "       [1.57961974e-063, 3.59229024e-002],\n",
              "       [8.04156381e-002, 3.41220373e-004],\n",
              "       [1.02070675e-001, 9.13469152e-003],\n",
              "       [3.61844889e-026, 2.06305617e-002],\n",
              "       [3.71199246e-004, 5.25179259e-003],\n",
              "       [2.62674214e-013, 2.04909361e-002],\n",
              "       [1.90483122e-048, 5.64969257e-003],\n",
              "       [3.80537173e-002, 7.20784553e-004],\n",
              "       [1.67815206e-013, 2.75288876e-002],\n",
              "       [3.90808076e-007, 1.07825763e-002],\n",
              "       [5.21084614e-043, 2.24446934e-002],\n",
              "       [7.31410284e-002, 7.05151883e-010],\n",
              "       [8.97432382e-015, 3.32570079e-002],\n",
              "       [2.48635177e-002, 1.62681597e-012],\n",
              "       [3.88281766e-058, 5.00497843e-002],\n",
              "       [3.76056491e-012, 4.50912678e-002],\n",
              "       [9.72378177e-002, 4.09174408e-003],\n",
              "       [9.32677658e-002, 3.19877313e-004],\n",
              "       [1.11623346e-001, 3.11854820e-003],\n",
              "       [1.40579412e-097, 2.51365667e-003],\n",
              "       [2.17568381e-003, 6.09845459e-015],\n",
              "       [1.15041699e-001, 1.78751179e-006],\n",
              "       [7.29029367e-028, 4.09797737e-002],\n",
              "       [7.98515011e-169, 3.13489411e-003],\n",
              "       [5.18389622e-026, 5.14329988e-002],\n",
              "       [3.81960928e-020, 4.04080565e-002],\n",
              "       [2.36858081e-119, 6.04882773e-003],\n",
              "       [2.10691180e-002, 5.90973907e-005],\n",
              "       [5.87828991e-002, 1.73231916e-003],\n",
              "       [1.74171060e-023, 5.65164644e-002],\n",
              "       [5.29953265e-002, 4.55329604e-004],\n",
              "       [8.71982248e-002, 6.87108456e-003],\n",
              "       [2.02127247e-073, 9.18669373e-003],\n",
              "       [1.32222321e-092, 5.18929464e-003],\n",
              "       [7.16456374e-002, 3.43556498e-008],\n",
              "       [2.78254030e-004, 2.31218054e-003],\n",
              "       [2.78323017e-003, 2.03217925e-005],\n",
              "       [5.46737835e-002, 6.10631334e-004],\n",
              "       [2.52106123e-002, 1.36982448e-002],\n",
              "       [4.55230214e-051, 5.82989696e-002],\n",
              "       [1.06485383e-001, 5.33085824e-008],\n",
              "       [1.31679412e-001, 1.79740437e-006],\n",
              "       [1.19398641e-001, 3.35523443e-003],\n",
              "       [1.05871009e-001, 4.16843475e-008],\n",
              "       [3.01506349e-083, 1.50691488e-002],\n",
              "       [2.13830874e-002, 4.02075196e-003],\n",
              "       [7.82117754e-002, 3.11157993e-009],\n",
              "       [3.94314599e-057, 3.30969219e-002],\n",
              "       [2.21893868e-008, 2.90320388e-003],\n",
              "       [3.79832429e-002, 9.85232010e-005],\n",
              "       [3.87878132e-004, 7.41268655e-003],\n",
              "       [6.22226321e-002, 1.18038068e-009],\n",
              "       [8.88727252e-083, 3.11097589e-002],\n",
              "       [3.43998210e-003, 3.53775329e-003],\n",
              "       [5.34117977e-002, 1.41145741e-003],\n",
              "       [6.23382630e-002, 4.70514258e-005],\n",
              "       [1.09979401e-001, 5.47477994e-008],\n",
              "       [7.79639332e-002, 3.41090616e-009],\n",
              "       [3.26386334e-134, 6.28631983e-003],\n",
              "       [7.20486215e-002, 6.49891767e-004],\n",
              "       [9.53614531e-007, 1.82416242e-002],\n",
              "       [6.50393901e-035, 1.38200477e-002],\n",
              "       [2.54490560e-018, 2.03009648e-002],\n",
              "       [7.97094514e-008, 3.78885398e-002],\n",
              "       [4.94467902e-002, 1.61461733e-012],\n",
              "       [2.86715829e-073, 2.71513240e-002],\n",
              "       [9.38962082e-105, 1.73240851e-002],\n",
              "       [1.12437336e-002, 5.69035970e-023],\n",
              "       [9.07924563e-002, 1.27577621e-005],\n",
              "       [2.62857654e-002, 1.62360143e-004],\n",
              "       [1.33801630e-001, 1.76115106e-003],\n",
              "       [1.30659106e-002, 1.51891711e-005],\n",
              "       [3.36889232e-020, 5.33429524e-003],\n",
              "       [7.80399620e-002, 3.23991431e-004],\n",
              "       [4.39160989e-057, 3.94577998e-002],\n",
              "       [3.13336831e-006, 1.27825428e-002],\n",
              "       [1.54534637e-001, 2.15037517e-004],\n",
              "       [6.67906125e-003, 1.85207620e-004],\n",
              "       [2.23363305e-010, 3.14788216e-003],\n",
              "       [5.45995330e-011, 9.50574079e-004],\n",
              "       [1.16953194e-033, 3.63889176e-002],\n",
              "       [6.02836064e-021, 1.00534233e-002],\n",
              "       [1.19034426e-001, 5.73278297e-004],\n",
              "       [2.28256855e-002, 9.60122605e-004],\n",
              "       [7.47525850e-003, 3.11977821e-010],\n",
              "       [1.76086407e-002, 1.02892049e-004],\n",
              "       [1.25973642e-001, 1.92231339e-003],\n",
              "       [6.05596588e-002, 5.52573443e-004],\n",
              "       [1.58507592e-126, 1.11492165e-002],\n",
              "       [3.76143879e-039, 2.69590736e-002],\n",
              "       [4.04279563e-006, 3.53191473e-002],\n",
              "       [1.52883525e-095, 6.26926503e-003],\n",
              "       [1.19162399e-002, 1.17924282e-002],\n",
              "       [1.44272380e-039, 3.98904239e-002],\n",
              "       [8.40061724e-002, 1.60671201e-003],\n",
              "       [4.48464920e-002, 2.86297553e-004],\n",
              "       [1.69367747e-002, 2.50907585e-005],\n",
              "       [5.52446295e-017, 3.98152111e-002],\n",
              "       [1.97581968e-008, 1.34735202e-002],\n",
              "       [5.13718654e-003, 2.79353339e-007],\n",
              "       [4.54978835e-002, 1.10878987e-007],\n",
              "       [2.92927853e-014, 2.39917502e-002],\n",
              "       [2.06280197e-004, 4.77436345e-004],\n",
              "       [2.88568253e-102, 1.57161712e-002],\n",
              "       [1.22510678e-005, 3.32766233e-002],\n",
              "       [7.62841963e-002, 8.38704344e-003],\n",
              "       [3.63082112e-041, 2.79473317e-002],\n",
              "       [2.20148283e-002, 2.00193326e-002],\n",
              "       [1.81619937e-056, 3.91221818e-003],\n",
              "       [7.91822860e-003, 1.11462200e-004],\n",
              "       [6.36411586e-040, 1.14658926e-002],\n",
              "       [1.22227653e-001, 4.09329730e-006],\n",
              "       [7.21363888e-051, 2.12088025e-002],\n",
              "       [5.27122835e-003, 1.65945873e-010],\n",
              "       [1.39668326e-001, 1.18541109e-003],\n",
              "       [7.55751813e-002, 1.50362198e-009],\n",
              "       [7.69295435e-002, 1.76667745e-005],\n",
              "       [6.27502325e-002, 6.00153580e-004],\n",
              "       [4.17265055e-002, 4.94191199e-010],\n",
              "       [5.43453453e-003, 1.47527351e-010],\n",
              "       [2.57635392e-002, 3.52095978e-006],\n",
              "       [6.97159967e-006, 2.66964214e-003],\n",
              "       [2.36610659e-002, 2.12253110e-006],\n",
              "       [8.82958564e-003, 8.17992252e-003],\n",
              "       [4.05182635e-002, 9.26974415e-005],\n",
              "       [2.01547061e-002, 8.35826221e-016],\n",
              "       [8.13118261e-054, 5.36020276e-002],\n",
              "       [1.38583356e-041, 6.27264417e-002],\n",
              "       [4.15351469e-002, 2.71618172e-005],\n",
              "       [4.66809587e-020, 9.87546176e-003],\n",
              "       [3.78346811e-125, 2.68430021e-003],\n",
              "       [9.99962088e-002, 1.93424648e-003],\n",
              "       [1.53928617e-002, 8.70761016e-007],\n",
              "       [2.04464195e-154, 5.33003062e-003],\n",
              "       [1.38590799e-001, 1.51169319e-004],\n",
              "       [8.17629397e-002, 2.69489746e-004],\n",
              "       [4.74655792e-038, 3.77527435e-002],\n",
              "       [4.09731358e-002, 3.10585191e-004],\n",
              "       [4.25541537e-004, 1.03295023e-002],\n",
              "       [4.35659799e-002, 1.02607634e-008],\n",
              "       [2.10911801e-020, 5.74777728e-002],\n",
              "       [6.76454851e-003, 5.79143229e-014],\n",
              "       [1.14869533e-189, 3.52959363e-004],\n",
              "       [7.95909194e-028, 1.24350871e-002]])"
            ]
          },
          "metadata": {},
          "execution_count": 235
        }
      ]
    },
    {
      "cell_type": "code",
      "source": [
        "ypreds= model.predict(X_test)\n",
        "ypreds\n"
      ],
      "metadata": {
        "id": "D4clV6PK1UJK",
        "colab": {
          "base_uri": "https://localhost:8080/"
        },
        "outputId": "eb72a70a-043b-4dd4-b1c6-d986d5d5b4e8"
      },
      "execution_count": 236,
      "outputs": [
        {
          "output_type": "execute_result",
          "data": {
            "text/plain": [
              "array([0, 0, 1, 0, 1, 0, 1, 1, 1, 1, 1, 1, 1, 1, 0, 1, 0, 0, 0, 0, 1, 0,\n",
              "       1, 1, 0, 1, 0, 0, 0, 1, 1, 0, 0, 0, 1, 1, 1, 0, 0, 0, 0, 1, 1, 1,\n",
              "       1, 1, 1, 1, 1, 1, 1, 1, 1, 1, 1, 1, 1, 0, 0, 1, 1, 1, 1, 0, 1, 1,\n",
              "       1, 0, 1, 0, 1, 1, 0, 0, 0, 1, 0, 0, 1, 1, 1, 1, 1, 0, 0, 1, 0, 0,\n",
              "       1, 1, 0, 1, 0, 0, 0, 1, 0, 0, 0, 0, 1, 0, 0, 1, 1, 0, 1, 0, 1, 1,\n",
              "       0, 0, 0, 0, 1, 0, 1, 1, 1, 1, 0, 1, 1, 0, 0, 0, 0, 0, 1, 0, 1, 1,\n",
              "       0, 0, 1, 1, 1, 1, 0, 0, 0, 0, 0, 0, 1, 1, 1, 1, 0, 1, 0, 0, 0, 1,\n",
              "       1, 0, 0, 1, 1, 1, 1, 0, 1, 0, 1, 0, 1, 0, 1, 0, 0, 0, 0, 0, 0, 0,\n",
              "       0, 1, 0, 0, 0, 0, 1, 1, 0, 1, 1, 0, 0, 1, 0, 0, 1, 0, 1, 0, 1, 0,\n",
              "       1, 1])"
            ]
          },
          "metadata": {},
          "execution_count": 236
        }
      ]
    },
    {
      "cell_type": "code",
      "source": [
        "model.accuracy(y_test, ypreds)"
      ],
      "metadata": {
        "id": "QgG1xPUg1ULw",
        "colab": {
          "base_uri": "https://localhost:8080/"
        },
        "outputId": "220c271f-694b-49ef-dc36-c30647fe1824"
      },
      "execution_count": 237,
      "outputs": [
        {
          "output_type": "execute_result",
          "data": {
            "text/plain": [
              "97.0"
            ]
          },
          "metadata": {},
          "execution_count": 237
        }
      ]
    },
    {
      "cell_type": "code",
      "source": [],
      "metadata": {
        "id": "OpXYY-yj1UOj"
      },
      "execution_count": null,
      "outputs": []
    },
    {
      "cell_type": "code",
      "source": [],
      "metadata": {
        "id": "8cvRcUO2rtKo"
      },
      "execution_count": null,
      "outputs": []
    }
  ]
}